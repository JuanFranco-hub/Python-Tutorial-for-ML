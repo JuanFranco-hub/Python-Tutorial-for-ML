{
  "nbformat": 4,
  "nbformat_minor": 0,
  "metadata": {
    "colab": {
      "provenance": []
    },
    "kernelspec": {
      "name": "python3",
      "display_name": "Python 3"
    },
    "language_info": {
      "name": "python"
    }
  },
  "cells": [
    {
      "cell_type": "markdown",
      "source": [
        "# Asignación 2: Estructuras de Control y Funciones en Python\n",
        "\n",
        "## Objetivos\n",
        "El objetivo de esta asignación es trabajar con estructuras de control y funciones en Python."
      ],
      "metadata": {
        "id": "OBv3_RfEurWI"
      }
    },
    {
      "cell_type": "markdown",
      "source": [
        "#### Instrucciones\n",
        "Para esta asignación, realizarás tu trabajo en un notebook de Jupyter. Puedes optar por trabajar en un entorno hospedado (por ejemplo, Colab) o en tu propia instalación local de Jupyter y Python. Debes usar Python 3.10 o superior para tu trabajo, pero Python 3.8 o versiones más recientes deberían funcionar. Para usar Tiger, utiliza las credenciales que recibiste. Si trabajas de forma remota, asegúrate de descargar el archivo `.ipynb` para entregarlo. Si decides trabajar localmente, Anaconda es la forma más fácil de instalar y gestionar Python. Si trabajas localmente, puedes iniciar Jupyter Lab desde la aplicación Navigator o desde la línea de comandos con `jupyter-lab`."
      ],
      "metadata": {
        "id": "O4JoQds9u34T"
      }
    },
    {
      "cell_type": "markdown",
      "source": [
        "En esta asignación, trabajaremos con el interés compuesto. Cuando tienes dinero en una cuenta de ahorros, generalmente ganas intereses sobre esos fondos. Sin embargo, ese interés puede calcularse mensualmente, anualmente, o en otros intervalos. Supón que te ofrecieran elegir entre dos cuentas de ahorros como regalo, con la regla de que solo podrías acceder al dinero en 20 años. La primera cuenta tiene actualmente $1,000 pero gana un 5% de interés, mientras que la segunda cuenta tiene actualmente $2,000 pero gana un 2% de interés. ¿Qué cuenta elegirías?"
      ],
      "metadata": {
        "id": "1l08Gh-Wu9LC"
      }
    },
    {
      "cell_type": "markdown",
      "source": [
        "### Parte 0. Nombre y Cedula (5 puntos)\n",
        "La primera celda de tu notebook debe ser una celda de Markdown con una línea para tu nombre y una línea para tu Cedula. Si deseas agregar otra información (el nombre de la asignación, una descripción de la asignación), puedes hacerlo después de esas dos líneas. Como nos estamos concentrando en el flujo de control y las funciones, **no utilices listas, otras colecciones o comprensiones** en esta asignación."
      ],
      "metadata": {
        "id": "_AxNjCPwvAWZ"
      }
    },
    {
      "cell_type": "code",
      "execution_count": null,
      "metadata": {
        "id": "jgqMB1McumkH"
      },
      "outputs": [],
      "source": []
    },
    {
      "cell_type": "markdown",
      "source": [
        "### Parte 1. La Función de Interés (10 puntos)\n",
        "Escribe una función `total_with_interest` que tome dos valores numéricos, la cantidad inicial de dinero y la tasa de interés anual, y calcule la cantidad de dinero después de un año. La fórmula es:\n",
        "\n",
        "$A = P(1 + r)$\n",
        "\n",
        "Donde:\n",
        "- `P` es la cantidad inicial,\n",
        "- `r` es la tasa de interés,\n",
        "- `T` es el total con interés.\n",
        "\n",
        "Prueba tu función con diferentes valores."
      ],
      "metadata": {
        "id": "G9WshbGSvH8J"
      }
    },
    {
      "cell_type": "code",
      "source": [],
      "metadata": {
        "id": "yqrKxZNtvvbz"
      },
      "execution_count": null,
      "outputs": []
    },
    {
      "cell_type": "markdown",
      "source": [
        "### Parte 2. Tiempo de Espera (10 puntos)\n",
        "Ahora, escribe una función `years_until_target` que tome los argumentos de la Parte 1 más un argumento adicional, `target`, que especifique la cantidad de dinero que te gustaría ahorrar. Calcula cuántos años tomará que los fondos crezcan hasta alcanzar esa cantidad, dado el monto inicial y la tasa de interés. Por ejemplo, si comienzas con \\$1,000 y lo pones en una cuenta que gana 1% (r = 0.01) de interés, tu función debe calcular que tomará 70 años alcanzar al menos \\$2,000.\n",
        "\n",
        "**Pistas**:\n",
        "- Considera usar un bucle `while`.\n",
        "- Asegúrate de usar el tipo correcto de comparación booleana."
      ],
      "metadata": {
        "id": "Z1ZhMcLQvv1a"
      }
    },
    {
      "cell_type": "code",
      "source": [],
      "metadata": {
        "id": "DokTp5qdvyZB"
      },
      "execution_count": null,
      "outputs": []
    },
    {
      "cell_type": "markdown",
      "source": [
        "### Parte 3. Comparando Escenarios (15 puntos)\n",
        "Ahora, dados dos escenarios diferentes:\n",
        "- (monto inicial `P1`, tasa de interés `r1`)\n",
        "- (monto inicial `P2`, tasa de interés `r2`),\n",
        "\n",
        "calcula:\n",
        "1. Si el menor de los dos montos iniciales (`P1` o `P2`) eventualmente superará al otro, y\n",
        "2. Cuántos años tomará para que eso ocurra.\n",
        "\n",
        "Si el menor de `P1` o `P2` nunca alcanzará al mayor, devuelve `float('inf')`. De lo contrario, devuelve el número de años que le tomará al valor inicialmente más pequeño superar al más grande. Tu función `years_to_catch` debe tomar cuatro argumentos: `P1`, `r1`, `P2`, y `r2`. Esto te ayudará a responder la pregunta descrita al inicio de la asignación. Por ejemplo, si `P1 = 1000`, `r1 = 0.05`, `P2 = 2000`, y `r2 = 0.02`, la función debe devolver 24. Sin embargo, si `r1 = 0.01` en lugar de 0.05, la función debe devolver `inf`.\n",
        "\n",
        "**Pistas**:\n",
        "- Asegúrate de que tu código no se quede atascado en un bucle infinito. Si lo hace, puedes interrumpir la ejecución usando el botón de parada en Jupyter.\n",
        "- Usa asignación simultánea para intercambiar las variables de los escenarios."
      ],
      "metadata": {
        "id": "c2hJ-voTwJsS"
      }
    },
    {
      "cell_type": "code",
      "source": [],
      "metadata": {
        "id": "Wuav6tdowKTi"
      },
      "execution_count": null,
      "outputs": []
    },
    {
      "cell_type": "markdown",
      "source": [
        "### Parte 4. Efecto del Número de Períodos de Capitalización (15 puntos)\n",
        "Muchos bancos capitalizan intereses mensualmente, lo que significa que calculan el interés al final de cada mes (12 veces al año) en lugar de hacerlo al final de cada año (una vez al año). Calcular este impacto requiere ajustar la función de interés para agregar el número de períodos. Con `n` períodos, nuestra ecuación cambia a:\n",
        "\n",
        "\n",
        "$T = P \\times \\left( 1 + \\frac{r}{n} \\right)^{n}$\n",
        "\n",
        "\n",
        "Ten en cuenta que esto solo calcula el interés de un año, por lo que necesitamos multiplicar iterativamente para obtener años adicionales. Dado un monto inicial `P`, escribe una tabla que muestre el efecto de la capitalización de interés para diferentes valores de `n` de 1 a 12 durante diez años. Redondea al centavo más cercano. Por ejemplo, si `P = 1000`, la tabla debe verse como:\n",
        "\n",
        "```\n",
        "1 : 1000 1050.0 1102.5 1157.62 1215.51 1276.28 1340.1 1407.1 1477.46 1551.33 1628.89\n",
        "2 : 1000 1050.62 1103.81 1159.69 1218.4 1280.08 1344.89 1412.97 1484.51 1559.66 1638.62\n",
        "...\n",
        "12 : 1000 1051.16 1104.94 1161.47 1220.9 1283.36 1349.02 1418.04 1490.59 1566.85 1647.01\n",
        "```\n",
        "\n",
        "**Pistas**:\n",
        "- Recuerda cómo funcionan los parámetros de `range` (qué números están incluidos). Consulta la documentación si es necesario.\n",
        "- El método `print` tiene un argumento opcional `end` que puede ser útil para mantener la salida en una sola línea.\n",
        "- Puedes usar el método `round` para limitar el número de decimales mostrados a 2."
      ],
      "metadata": {
        "id": "2-GWtBH8wL5B"
      }
    },
    {
      "cell_type": "code",
      "source": [],
      "metadata": {
        "id": "pUK9SjCjwV0z"
      },
      "execution_count": null,
      "outputs": []
    }
  ]
}