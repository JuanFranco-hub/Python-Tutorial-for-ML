{
  "nbformat": 4,
  "nbformat_minor": 0,
  "metadata": {
    "colab": {
      "provenance": [],
      "toc_visible": true
    },
    "kernelspec": {
      "name": "python3",
      "display_name": "Python 3"
    },
    "language_info": {
      "name": "python"
    }
  },
  "cells": [
    {
      "cell_type": "markdown",
      "source": [
        "# Sentencias de Control\n",
        "\n",
        "\n",
        "\n",
        "\n",
        "\n",
        "\n"
      ],
      "metadata": {
        "id": "jcA_UTWip8PW"
      }
    },
    {
      "cell_type": "markdown",
      "source": [
        "\n",
        "\n",
        "## Problema \\#1: [Saludo en el Banco](https://www.youtube.com/watch?v=IN6cJ_wGmsk)\n",
        "\n",
        "En la [temporada 7, episodio 24](https://en.wikipedia.org/wiki/The_Invitations) de [Seinfeld](https://en.wikipedia.org/wiki/Seinfeld), [Kramer](https://en.wikipedia.org/wiki/Cosmo_Kramer) visita un banco que promete dar \\$100 a cualquiera que no sea recibido con un \"hola\". En lugar de eso, Kramer es recibido con un \"hey\", lo cual insiste que no es un \"hola\", y por ello pide \\$100. El gerente del banco propone un compromiso: \"Recibiste un saludo que empieza con 'h', ¿qué te parece \\$20?\" Kramer acepta.\n",
        "\n",
        "Implementa un código que solicite al usuario un saludo. Si el saludo comienza con \"hello\", muestra \\$0. Si el saludo comienza con una \"h\" (pero no \"hello\"), muestra \\$20. De lo contrario, muestra \\$100. Ignora cualquier espacio en blanco al inicio del saludo del usuario y trata el saludo del usuario de manera insensible a mayúsculas."
      ],
      "metadata": {
        "id": "f5h2rXxbs5nl"
      }
    },
    {
      "cell_type": "code",
      "source": [
        "#Solución Problema 1\n"
      ],
      "metadata": {
        "id": "9ouuSCDAtBTP"
      },
      "execution_count": null,
      "outputs": []
    },
    {
      "cell_type": "markdown",
      "source": [
        "## Problema \\#2: Extensiones de Archivo\n",
        "\n",
        "Aunque Windows y macOS a veces los ocultan, la mayoría de los archivos tienen [extensiones de archivo](https://en.wikipedia.org/wiki/Filename_extension), un sufijo que comienza con un punto (`.`) al final de su nombre. Por ejemplo, los nombres de archivos para [GIFs](https://en.wikipedia.org/wiki/GIF) terminan en `.gif`, y los nombres de archivos para JPEGs terminan en `.jpg` o `.jpeg`. Cuando haces doble clic en un archivo para abrirlo, tu computadora usa su extensión de archivo para determinar qué programa lanzar.\n",
        "\n",
        "Los navegadores web, por el contrario, se basan en [tipos de medios](https://en.wikipedia.org/wiki/Media_type), anteriormente conocidos como tipos MIME, para determinar cómo mostrar archivos que viven en la web. Cuando descargas un archivo de un servidor web, ese servidor envía un [encabezado HTTP](https://en.wikipedia.org/wiki/List_of_HTTP_header_fields), junto con el archivo mismo, indicando el tipo de medio del archivo. Por ejemplo, el tipo de medio para un GIF es `image/gif`, y para un JPEG es `image/jpeg`. Para determinar el tipo de medio de un archivo, un servidor web típicamente mira la extensión del archivo, mapeando uno al otro.\n",
        "\n",
        "Consulta [developer.mozilla.org/en-US/docs/Web/HTTP/Basics_of_HTTP/MIME_types/Common_types](https://developer.mozilla.org/en-US/docs/Web/HTTP/Basics_of_HTTP/MIME_types/Common_types) para tipos comunes.\n",
        "\n",
        "Implementa un código que solicite al usuario el nombre de un archivo y luego muestre el tipo de medio de ese archivo si el nombre del archivo termina, insensible a mayúsculas, en cualquiera de estos sufijos:\n",
        "\n",
        "- .gif\n",
        "- .jpg\n",
        "- .jpeg\n",
        "- .png\n",
        "- .pdf\n",
        "- .txt\n",
        "- .zip"
      ],
      "metadata": {
        "id": "Ffvpohijs9aW"
      }
    },
    {
      "cell_type": "markdown",
      "source": [
        "Si el nombre del archivo empieza con otro sufijo o no tiene ningún sufijo, imprime `application/octet-stream`."
      ],
      "metadata": {
        "id": "BZcCo9CyvPop"
      }
    },
    {
      "cell_type": "code",
      "source": [
        "# Solución Problema 2"
      ],
      "metadata": {
        "id": "2To-nDFRs6Kx"
      },
      "execution_count": null,
      "outputs": []
    },
    {
      "cell_type": "markdown",
      "source": [
        "## Problema \\#3: Intérprete Matemático\n",
        "\n",
        "Python ya admite matemáticas, por lo que puedes escribir código para sumar, restar, multiplicar o dividir valores e incluso variables. Pero escribamos un programa que permita a los usuarios hacer matemáticas, incluso sin conocer Python.\n",
        "\n",
        "Implementa un código que solicite al usuario una expresión aritmética y luego calcule y muestre el resultado como un valor de punto flotante formateado a un decimal. Asume que la entrada del usuario estará formateada como `x y z`, con un espacio entre `x` y `y` y un espacio entre `y` y `z`, donde:\n",
        "\n",
        "- `x` es un entero\n",
        "- `y` es `+`, `-`, `*`, o `/`\n",
        "- `z` es un entero\n",
        "\n",
        "Por ejemplo, si el usuario ingresa `1 + 1`, tu programa debería mostrar `2.0`. Asume que, si `y` es `/`, entonces `z` no será 0."
      ],
      "metadata": {
        "id": "jojOF978s8fc"
      }
    },
    {
      "cell_type": "code",
      "source": [
        "# Solución Probelma 3"
      ],
      "metadata": {
        "id": "WGcFVOYHs7gJ"
      },
      "execution_count": null,
      "outputs": []
    },
    {
      "cell_type": "markdown",
      "source": [
        "## Problema \\#4: Hora de la Comida\n",
        "\n",
        "Supongamos que estás en un país donde es costumbre comer desayuno entre las 7:00 y las 8:00, almuerzo entre las 12:00 y las 13:00, y cena entre las 18:00 y las 19:00. ¿No sería genial tener un programa que pudiera decirte qué comer en cada momento?\n",
        "\n",
        "Implementa un programa que solicite al usuario una hora y muestre si es hora de `desayunar`, `almorzar` o `cenar`. Si no es hora de ninguna comida, no muestres nada en absoluto. Asume que la entrada del usuario estará formateada en hora militar como `#:##` o `##:##`. Y asume que el rango de tiempo de cada comida es inclusivo. Por ejemplo, sea las 7:00, 7:01, 7:59, o 8:00, o cualquier hora en medio, es hora de desayunar.\n",
        "\n",
        "Estructura tu programa según lo siguiente, donde `convert` es una función (que puede ser llamada por `main`) que convierte `time`, una `cadena` en formato de 24 horas, al número correspondiente de horas como un flotante. Por ejemplo, dada una hora como \"7:30\" (es decir, 7 horas y 30 minutos), `convert` debería retornar 7.5 (es decir, 7.5 horas).\n",
        "\n",
        "utiliza las funciones:\n",
        "```python\n",
        "def main():\n",
        "    ...\n",
        "\n",
        "\n",
        "def convert(time):\n",
        "    ...\n",
        "```"
      ],
      "metadata": {
        "id": "e_ZMqEryEXSX"
      }
    },
    {
      "cell_type": "code",
      "source": [
        "# Solución Problema 4\n"
      ],
      "metadata": {
        "id": "Tlja8ygLEWV6"
      },
      "execution_count": null,
      "outputs": []
    },
    {
      "cell_type": "markdown",
      "source": [
        "## Problema \\# 5: camelCase\n",
        "\n",
        "En algunos lenguajes, es común utilizar camel case (también conocido como \"mixed case\") para los nombres de variables cuando estos nombres comprenden múltiples palabras, de manera que la primera letra de la primera palabra es minúscula pero la primera letra de cada palabra subsiguiente es mayúscula. Por ejemplo, mientras que una variable para el nombre de un usuario podría llamarse `name`, una variable para el primer nombre de un usuario podría llamarse `firstName`, y una variable para el primer nombre preferido de un usuario (por ejemplo, apodo) podría llamarse `preferredFirstName`.\n",
        "\n",
        "Python, por el contrario, recomienda el uso de snake case, donde las palabras están separadas por guiones bajos (_), con todas las letras en minúscula. Por ejemplo, esas mismas variables se llamarían `name`, `first_name` y `preferred_first_name`, respectivamente, en Python.\n",
        "\n",
        "En un archivo llamado `camel.py`, implementa un programa que solicite al usuario el nombre de una variable en camel case y muestre el nombre correspondiente en snake case. Asume que la entrada del usuario estará de hecho en camel case.\n",
        "\n"
      ],
      "metadata": {
        "id": "x9s9o0sRJ9-Z"
      }
    },
    {
      "cell_type": "code",
      "source": [
        "# Solución Problema 5\n"
      ],
      "metadata": {
        "id": "0nhKTsjoJ-eM"
      },
      "execution_count": null,
      "outputs": []
    },
    {
      "cell_type": "markdown",
      "source": [
        "## Problema \\# 6: Máquina de Coca-Cola\n",
        "\n",
        "Supongamos que una máquina vende botellas de Coca-Cola por 50 centavos y solo acepta monedas en estas denominaciones: 25 centavos, 10 centavos y 5 centavos.\n",
        "\n",
        "En un archivo llamado `coke.py`, implementa un programa que solicite al usuario insertar una moneda, una a la vez, informando cada vez al usuario la cantidad adeudada. Una vez que el usuario haya ingresado al menos 50 centavos, muestra cuántos centavos de cambio se le deben al usuario. Asume que el usuario solo ingresará enteros e ignora cualquier entero que no sea una denominación aceptada.\n"
      ],
      "metadata": {
        "id": "cahiYIG0J9zF"
      }
    },
    {
      "cell_type": "code",
      "source": [
        "# Solución Problema 6\n"
      ],
      "metadata": {
        "id": "dNYl8Q5_J_D7"
      },
      "execution_count": null,
      "outputs": []
    },
    {
      "cell_type": "markdown",
      "source": [
        "## Problema \\# 7: Abreviando Textos\n",
        "\n",
        "Cuando se envían mensajes de texto o tweets, no es raro abreviar palabras para ahorrar tiempo o espacio, omitiendo vocales, tal como Twitter originalmente se llamaba \"twttr\". En un archivo llamado `twttr.py`, implementa un programa que solicite al usuario un texto y luego muestre ese mismo texto pero con todas las vocales (A, E, I, O y U) omitidas, ya sea que se ingresen en mayúsculas o minúsculas.\n",
        "\n"
      ],
      "metadata": {
        "id": "uLLvi7ySJ9mK"
      }
    },
    {
      "cell_type": "code",
      "source": [
        "# Solución Problema 7\n"
      ],
      "metadata": {
        "id": "R3dVlUHmJ_ju"
      },
      "execution_count": null,
      "outputs": []
    },
    {
      "cell_type": "markdown",
      "source": [
        "## Problema \\# 8: Información Nutricional\n",
        "\n",
        "La Administración de Alimentos y Medicamentos de EE. UU. (FDA) ofrece carteles [descargables/imprimibles](https://www.fda.gov/food/food-labeling-nutrition/nutrition-information-raw-fruits-vegetables-and-fish) que \"muestran información nutricional para las 20 frutas crudas más consumidas frecuentemente... en Estados Unidos. Las tiendas minoristas pueden descargar los carteles, imprimirlos, exhibirlos y/o distribuirlos a los consumidores en proximidad cercana a los alimentos relevantes en las tiendas\".\n",
        "\n",
        "Implementa un código que solicite a los consumidores usuarios ingresar una fruta (insensible a mayúsculas) y luego muestre el número de calorías en una porción de esa fruta, según el [cartel de frutas de la FDA](https://cs50.harvard.edu/python/2022/psets/2/nutrition/Nutrition-Information-for-Raw-Fruits---small-PDF-Poster.pdf), que también está [disponible en texto](https://www.fda.gov/food/food-labeling-nutrition/raw-fruits-poster-text-version-accessible-version). Aparte de la capitalización, asume que los usuarios ingresarán las frutas exactamente como se escriben en el cartel (por ejemplo, \"strawberries\", no \"strawberry\"). Ignora cualquier entrada que no sea una fruta.\n",
        "Este"
      ],
      "metadata": {
        "id": "-Ce4JEiQJ9ON"
      }
    },
    {
      "cell_type": "code",
      "source": [
        "# Solución Problema 8\n"
      ],
      "metadata": {
        "id": "6wZdFJRas0kZ"
      },
      "execution_count": null,
      "outputs": []
    }
  ]
}
