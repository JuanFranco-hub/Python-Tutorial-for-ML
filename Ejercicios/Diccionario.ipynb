{
  "cells": [
    {
      "cell_type": "markdown",
      "metadata": {
        "id": "yqwDV6igWAe4"
      },
      "source": [
        "# Instrucciones\n",
        "\n",
        "En esta asignación, trabajaremos con datos de Pokémon recopilados de fuentes en línea. En este caso, utilizaremos el [Conjunto de Datos Completo de Pokémon](https://www.kaggle.com/datasets/mariotormo/complete-pokemon-dataset-updated-090420) recogido por Mario Tormo Romero de fuentes en línea. En lugar de usar este conjunto de datos directamente, he creado un subconjunto de estos datos, que se pueden leer en una lista de diccionarios. Ese dato está ubicado aquí, y he creado una libreta de plantilla, que contiene una celda que descargará y leerá esos datos. Una vez cargados, los datos son una lista de diccionarios donde cada diccionario tiene diez pares clave-valor.\n",
        "\n",
        "\n"
      ]
    },
    {
      "cell_type": "markdown",
      "metadata": {
        "id": "q5nZdcRpWfY5"
      },
      "source": [
        "Esas claves y una breve descripción son:\n",
        "\n",
        "- `name`: el nombre\n",
        "- `generation`: la generación (1-8)\n",
        "- `species`: la especie del pokémon (por ejemplo, Pokémon Lagarto)\n",
        "- `primary_type`: el tipo primario (por ejemplo, Hierba, Fuego)\n",
        "- `hp`: puntos de golpe base\n",
        "- `height_m`: altura en metros\n",
        "- `weight_kg`: peso en kilogramos\n",
        "- `speed`: velocidad base\n",
        "- `attack`: ataque base\n",
        "- `defense`: defensa base"
      ]
    },
    {
      "cell_type": "markdown",
      "metadata": {
        "id": "RZomG2IHWhwY"
      },
      "source": [
        "Estarás respondiendo consultas y escribiendo funciones para ayudar a analizar estos datos. No se pueden usar bibliotecas externas incluyendo estadísticas, colecciones, o pandas para esta asignación."
      ]
    },
    {
      "cell_type": "code",
      "execution_count": 1,
      "metadata": {
        "id": "jGaw8-00W9QV"
      },
      "outputs": [],
      "source": [
        "# No modifiques esta celda, solo ejecútala para descargar y cargar el conjunto de datos\n",
        "\n",
        "import os\n",
        "import json\n",
        "from urllib.request import urlretrieve\n",
        "\n",
        "url = \"https://github.com/JuanFranco-hub/Python-Tutorial-for-ML/tree/main/Datos/pokemon.json\"\n",
        "local_fname = \"pokemon.json\"\n",
        "if not os.path.exists(local_fname):\n",
        "    urlretrieve(url, local_fname)\n",
        "\n",
        "data = json.load(open(local_fname))"
      ]
    },
    {
      "cell_type": "code",
      "execution_count": 2,
      "metadata": {
        "colab": {
          "base_uri": "https://localhost:8080/"
        },
        "id": "h6ujJM5IXAJf",
        "outputId": "91def02a-9386-49ce-9d36-81696268806d"
      },
      "outputs": [
        {
          "data": {
            "text/plain": [
              "{'name': 'Bulbasaur',\n",
              " 'generation': 1,\n",
              " 'species': 'Seed Pokémon',\n",
              " 'primary_type': 'Grass',\n",
              " 'hp': 45.0,\n",
              " 'height_m': 0.7,\n",
              " 'weight_kg': 6.9,\n",
              " 'speed': 45.0,\n",
              " 'attack': 49.0,\n",
              " 'defense': 49.0}"
            ]
          },
          "execution_count": 2,
          "metadata": {},
          "output_type": "execute_result"
        }
      ],
      "source": [
        "# Example code\n",
        "\n",
        "# the first dictionary in the data list\n",
        "data[0]"
      ]
    },
    {
      "cell_type": "markdown",
      "metadata": {
        "id": "ZHRpooNRWCyY"
      },
      "source": [
        "## 0. Nombre (5 pts)\n",
        "\n",
        "Nombre: [Tu nombre]"
      ]
    },
    {
      "cell_type": "markdown",
      "metadata": {
        "id": "aRuvtucGXseA"
      },
      "source": [
        "## 1. Máximos Puntos de Vida (10 pts)\n",
        "Escribe código para encontrar el nombre del primer Pokémon con el número máximo de puntos de vida base (hp). Recuerda que necesitarás iterar a través de cada elemento de la lista, y cada elemento es un diccionario que tiene varias claves incluyendo hp y nombre.\n"
      ]
    },
    {
      "cell_type": "code",
      "execution_count": null,
      "metadata": {
        "id": "Z0MXh2yOTn1U"
      },
      "outputs": [],
      "source": []
    },
    {
      "cell_type": "markdown",
      "metadata": {
        "id": "F_6m3ZNQV6dw"
      },
      "source": [
        "## 2. Conteos de Generación (10 pts)\n",
        "\n",
        "Escribe código para crear un nuevo diccionario `generation_counts` que almacene los conteos de cada generación en el dataset.\n"
      ]
    },
    {
      "cell_type": "code",
      "execution_count": null,
      "metadata": {
        "id": "DEidDdkqYNMh"
      },
      "outputs": [],
      "source": []
    },
    {
      "cell_type": "markdown",
      "metadata": {
        "id": "yH7HSUZNYP42"
      },
      "source": [
        "## 3. Pesos Medios por Tipo Primario (15 pts)\n",
        "\n",
        "Escribe código para crear un nuevo diccionario `primary_weights` que almacene el peso medio de todos los pokémon con el mismo tipo primario. Recuerda que el promedio es la suma de todos los valores dividida por el número de valores.\n",
        "\n",
        "### Sugerencias\n",
        "\n",
        "- Considera crear primero un diccionario que mapee el tipo primario a una lista de pesos, y luego calcula el promedio de cada lista.\n",
        "- Algunos pokémon tienen pesos desconocidos. En este caso, `weight_kg` se establece en None. Asegúrate de excluirlos de los cálculos del promedio.\n"
      ]
    },
    {
      "cell_type": "code",
      "execution_count": null,
      "metadata": {
        "id": "28ovDVXDYQ6P"
      },
      "outputs": [],
      "source": []
    },
    {
      "cell_type": "markdown",
      "metadata": {
        "id": "9HfdYux-YYYn"
      },
      "source": [
        "## 4. Filtrar por Puntos de Vida (15 pts)\n",
        "\n",
        "Escribe una función `filter_hp` que tome tres parámetros, `data`, `min_hp` y `max_hp`, y devuelve una lista ordenada de tuplas de aquellos pokémon cuyos puntos de vida base (hp) están dentro del rango `min_hp <= hp <= max_hp`. La primera entrada en cada tupla debe ser el número de puntos de vida del pokémon, y la segunda entrada es su nombre. Establece los valores predeterminados de los parámetros `min_hp` a 1 y `max_hp` a 255. El parámetro `data` se pasará el dataset (los datos globales). Por ejemplo, `filter_hp(data, 20, 25)` devolvería:\n",
        "\n",
        "\n",
        "```python\n",
        "[(20.0, 'Duskull'),\n",
        " (20.0, 'Feebas'),\n",
        " (20.0, 'Magikarp'),\n",
        " (20.0, 'Mime Jr.'),\n",
        " (20.0, 'Pichu'),\n",
        " (20.0, 'Shuckle'),\n",
        " (25.0, 'Abra'),\n",
        " (25.0, 'Blipbug'),\n",
        " (25.0, 'Magnemite'),\n",
        " (25.0, 'Wimpod')]\n",
        "```\n",
        "\n"
      ]
    },
    {
      "cell_type": "markdown",
      "metadata": {
        "id": "_qzgG7JYY1tN"
      },
      "source": [
        "### Sugerencias\n",
        "Recuerda que podemos ordenar los valores de una lista de dos maneras.\n",
        "Las tuplas se ordenarán primero comparando su primer elemento, luego el segundo elemento, y así sucesivamente."
      ]
    },
    {
      "cell_type": "code",
      "execution_count": null,
      "metadata": {
        "id": "6sJrkw_6Y28u"
      },
      "outputs": [],
      "source": []
    },
    {
      "cell_type": "markdown",
      "metadata": {
        "id": "oJK5LjBpY8Ri"
      },
      "source": [
        "## 5. Ataque y Defensa Medios por Generación (20 pts)\n",
        "Escribe código para crear una lista de diccionarios `gen_atk_def`, cada uno de los cuales almacena una generación y los valores medianos de ataque y defensa para esa generación. Cada diccionario debe tener la forma `{'generation': <int>, 'attack': <float>, 'defense': <float>}`. Recuerda que el valor mediano es el valor del medio. Para una lista ordenada de valores [1, 3, 14, 17, 21], el medio es 14; para [1, 3, 14, 17, 13, 21], es el promedio de los dos valores medios 14 y 17 = 15.5. Por ejemplo, la entrada en tu resultado para la generación 1 debería ser `{'generation': 1, 'attack': 75.0, 'defense': 66.0}`.\n",
        "\n",
        "\n"
      ]
    },
    {
      "cell_type": "markdown",
      "metadata": {
        "id": "u3CsLufqY_Rv"
      },
      "source": [
        "### Sugerencias\n",
        "- La necesidad de promediar los valores medios se determina según si la lista tiene una longitud par o impar.\n",
        "- Asegúrate de ordenar la lista antes de acceder a los valores medios por índice.\n",
        "- Piensa en cómo debería funcionar ese cálculo de índice; `//` puede ser útil."
      ]
    },
    {
      "cell_type": "code",
      "execution_count": null,
      "metadata": {
        "id": "PGPm7SGEZCXq"
      },
      "outputs": [],
      "source": []
    },
    {
      "cell_type": "markdown",
      "metadata": {
        "id": "PgLRH2NcZNHv"
      },
      "source": [
        "\n",
        "### Crédito Extra(5 pts)\n",
        "En la Parte 1, hay dos Pokémon con los puntos de vida máximos. Encuentra ambos sin iterar más de una vez por la lista de datos. (No sabes cuál es el valor máximo hasta el final.)\n"
      ]
    },
    {
      "cell_type": "code",
      "execution_count": null,
      "metadata": {
        "id": "A1LW-oSlZPCQ"
      },
      "outputs": [],
      "source": []
    }
  ],
  "metadata": {
    "colab": {
      "provenance": []
    },
    "kernelspec": {
      "display_name": "Python 3",
      "name": "python3"
    },
    "language_info": {
      "codemirror_mode": {
        "name": "ipython",
        "version": 3
      },
      "file_extension": ".py",
      "mimetype": "text/x-python",
      "name": "python",
      "nbconvert_exporter": "python",
      "pygments_lexer": "ipython3",
      "version": "3.12.5"
    }
  },
  "nbformat": 4,
  "nbformat_minor": 0
}
