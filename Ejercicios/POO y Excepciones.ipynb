{
  "cells": [
    {
      "cell_type": "markdown",
      "metadata": {
        "id": "gf_6OP-9vJ_z"
      },
      "source": [
        "# POO y Exepciones"
      ]
    },
    {
      "cell_type": "markdown",
      "metadata": {
        "id": "j_Qxgzt5vZPq"
      },
      "source": [
        "## Objetivos\n",
        "El objetivo de esta tarea es trabajar con programación orientada a objetos y excepciones en Python."
      ]
    },
    {
      "cell_type": "markdown",
      "metadata": {
        "id": "WXnSm1nNM6k0"
      },
      "source": [
        "Instrucciones Trabajarás en Python para esta asignación. Puedes elegir trabajar en este proyecto en un entorno alojado (por ejemplo, tiger) o en tu propia instalación local de Jupyter y Python. Deberías usar Python 3.12 para tu trabajo, pero otras versiones recientes también deberían funcionar. Si eliges trabajar localmente, Anaconda es la forma más fácil de instalar y gestionar Python. Si trabajas localmente, puedes iniciar Jupyter Lab desde la aplicación Navigator o vía línea de comandos como `jupyter-lab`."
      ]
    },
    {
      "cell_type": "markdown",
      "metadata": {
        "id": "uFX2KTjRM9NQ"
      },
      "source": [
        "En esta asignación, implementaremos una colección de clases que trabajan juntas para orquestar un mercado en línea. Habrá productos, incluyendo tanto comestibles como artículos para el hogar, el inventario y el carrito de compras de un cliente. Necesitarás probar tus clases para asegurarte de que funcionan correctamente.\n",
        "\n",
        "\n",
        "---\n",
        "\n"
      ]
    },
    {
      "cell_type": "markdown",
      "metadata": {
        "id": "7Bu4LPwtNE3Y"
      },
      "source": [
        "**0. Nombre y Z-ID (5 pts):** La primera celda de tu cuaderno debe ser una celda de Markdown con una línea para tu nombre y una línea para tu Z-ID. Si deseas agregar otra información (el nombre de la asignación, una descripción de la asignación), puedes hacerlo después de estas dos líneas."
      ]
    },
    {
      "cell_type": "code",
      "execution_count": null,
      "metadata": {
        "id": "TM9G_nr0q4gm"
      },
      "outputs": [],
      "source": []
    },
    {
      "cell_type": "markdown",
      "metadata": {
        "id": "vavQK_TzNME7"
      },
      "source": [
        "**1. Clases de Producto (20 pts):** Crea cuatro clases relacionadas con los productos que venderá tu tienda en línea: `StoreItem`, `HouseholdItem`, `GroceryItem`, `BulkItem`. `StoreItem` es la clase base que tiene un nombre, sku y precio. El sku es un identificador único para cada artículo. `GroceryItem` hereda de `StoreItem` y tiene un campo nutrition que por defecto es un diccionario vacío, y `HouseholdItem` también es una subclase de `StoreItem` pero tiene un nombre de marca. `BulkItem` hereda de `GroceryItem` y añade un campo `unit` (lbs, kg, ml, oz). Agrega constructores y método(s) para soportar la impresión de cadenas legibles por humanos para estos artículos. Ten en cuenta que los artículos a granel deben mostrar sus unidades con las cadenas. Piensa en qué clase debes colocar el/los método(s). Por ejemplo:\n",
        "\n",
        "\n",
        "\n",
        "```python\n",
        "cereal = GroceryItem(\"Cheerios\", 38942, 3.99, {'calorías': 200, 'grasa': 0})\n",
        "bananas = BulkItem(\"Bananas\", 4011, 0.59, \"lb\")\n",
        "print(f\"Dos artículos: {cereal}, {bananas}\")\n",
        "\n",
        "```\n",
        "Imprime: \"Dos artículos: Cheerios (38942) @ 3.99, Bananas (4011) @ 0.59/lb\"\n",
        "\n",
        "\n"
      ]
    },
    {
      "cell_type": "markdown",
      "metadata": {
        "id": "i8A4CyJ6PGoJ"
      },
      "source": [
        "Pistas:\n",
        "\n",
        "* Aprovecha el constructor de la clase base. No reescribas lo que ya está haciendo.\n",
        "* Recuerda cuál de los [métodos dunder](https://www.geeksforgeeks.org/dunder-magic-methods-python/) debemos usar para cadenas legibles por humanos.\n",
        "* Puedes sobrescribir métodos en subclases.\n"
      ]
    },
    {
      "cell_type": "code",
      "execution_count": null,
      "metadata": {
        "id": "rGvpMta6OA6u"
      },
      "outputs": [],
      "source": []
    },
    {
      "cell_type": "markdown",
      "metadata": {
        "id": "V0mSgRDVq409"
      },
      "source": [
        "2. **Clase Inventario (20 pts):**\n",
        "Crea una clase `Inventory` que almacena tanto los artículos que la tienda ofrece como la cantidad de cada artículo que la tienda tiene en stock. Debe tener métodos `add_items` y `remove_items` que toman un objeto `StoreItem` y una cantidad, y agregan o eliminan, respectivamente, esa cantidad al inventario actual. Además, agrega un método `find_item` que toma un `sku` y devuelve el objeto `StoreItem` con ese `sku`. También debe tener un método `has_enough` que, dado un artículo y una cantidad, devuelve un booleano que indica si el inventario tiene más que esa cantidad. Finalmente, agrega un método que devuelve una cadena legible por humanos con todos los artículos en el inventario y sus cantidades.\n",
        "\n"
      ]
    },
    {
      "cell_type": "markdown",
      "metadata": {
        "id": "JtBTSeRCOfqG"
      },
      "source": [
        "**Pistas:**\n",
        "\n",
        "* Probablemente será útil poder referirse a los artículos y cantidades por sku, así que configura los objetos correctos para almacenar los datos.\n",
        "* Recuerda los métodos dunder al soportar operadores.\n",
        "* Utiliza los métodos en la Parte 1 para ayudar con el método dunder aquí."
      ]
    },
    {
      "cell_type": "code",
      "execution_count": null,
      "metadata": {
        "id": "RxtHxuKwPNax"
      },
      "outputs": [],
      "source": []
    },
    {
      "cell_type": "markdown",
      "metadata": {
        "id": "WRGFfYbNPN1S"
      },
      "source": [
        "3. **Clase Carrito de Compras (20 pts):**\n",
        "Crea una clase `ShoppingCart` que rastrea los artículos que un cliente desea comprar. Debe almacenar productos y la cantidad de cada artículo en el carrito. Debe tener métodos `add_items` y `remove_items` que toman un objeto `StoreItem` y una cantidad, y agregan o eliminan, respectivamente, esa cantidad al carrito actual. Además, agrega un método que devuelve una cadena legible por humanos con todos los artículos en el carrito y sus cantidades. Adicionalmente, añade soporte para los operadores `+=` y `-=` que añadirán o eliminarán una sola (1) unidad del artículo en el carrito. Finalmente, agrega un método `cost` que calcula el costo total de todos los artículos en el carrito. Importante: piensa en las similitudes entre las clases y si puedes usar conceptos de POO para minimizar tu trabajo para esta clase."
      ]
    },
    {
      "cell_type": "markdown",
      "metadata": {
        "id": "llh_oa4ePNpi"
      },
      "source": [
        "**Pistas:**\n",
        "\n",
        "* Encuentra los métodos dunder correctos para soportar la adición y sustracción incremental."
      ]
    },
    {
      "cell_type": "code",
      "execution_count": null,
      "metadata": {
        "id": "-rKKfIotPrV1"
      },
      "outputs": [],
      "source": []
    },
    {
      "cell_type": "markdown",
      "metadata": {
        "id": "-Vk0gEHaPqjN"
      },
      "source": [
        "4. **Clase Tienda (20 pts): **\n",
        "La clase `Store` hará un seguimiento tanto del inventario como de los clientes que están comprando. Para ello, tiene un método `get_cart` que devuelve un nuevo objeto ShoppingCart y lo registra. Define una variable de clase `max_carts` que por defecto es diez (10) como el número máximo de carritos en la tienda, y un método de clase `set_max_carts` que establece esta variable, lanzando una excepción si este valor no es un entero no negativo. El método `get_cart` debería lanzar una excepción si la tienda tiene demasiados carritos en uso. Además, escribe un método `checkout` que verifica el inventario para asegurarse de que el número de artículos que se están comprando en el carrito de compras están disponibles y luego deduce las cantidades seleccionadas en el carrito del inventario. Si no hay suficiente en el inventario, el método `checkout` debería lanzar una excepción indicando qué artículo(s) no están en stock. El método `checkout` debería devolver el costo de todos los artículos comprados y eliminar el carrito de la tienda."
      ]
    },
    {
      "cell_type": "markdown",
      "metadata": {
        "id": "HZf4fLPOQEdu"
      },
      "source": [
        "Pistas:\n",
        "\n",
        "* Recuerda dónde se definen las variables de clase.\n",
        "* Asegúrate de proporcionar un mensaje de error útil para cada excepción."
      ]
    },
    {
      "cell_type": "code",
      "execution_count": null,
      "metadata": {
        "id": "yEW7PR6oQJZe"
      },
      "outputs": [],
      "source": []
    }
  ],
  "metadata": {
    "colab": {
      "provenance": []
    },
    "kernelspec": {
      "display_name": "Python 3",
      "name": "python3"
    },
    "language_info": {
      "name": "python"
    }
  },
  "nbformat": 4,
  "nbformat_minor": 0
}
