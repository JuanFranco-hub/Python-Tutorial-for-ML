{
  "nbformat": 4,
  "nbformat_minor": 0,
  "metadata": {
    "colab": {
      "provenance": []
    },
    "kernelspec": {
      "name": "python3",
      "display_name": "Python 3"
    },
    "language_info": {
      "name": "python"
    }
  },
  "cells": [
    {
      "cell_type": "markdown",
      "source": [
        "# Familiarización con Python en Jupyter Notebooks\n",
        "\n",
        "## Objetivos\n",
        "El objetivo de esta asignación es familiarizarse con el uso de Python en Jupyter Notebooks.\n",
        "\n",
        "## Instrucciones\n",
        "Para esta asignación, realizarás tu trabajo en un notebook de Jupyter. Puedes optar por trabajar en un entorno hospedado (por ejemplo, Colab) o en tu propia instalación local de Jupyter y Python. Debes usar Python 3.12 para tu trabajo. (Es posible que versiones anteriores funcionen, pero tu código será evaluado con Python 3.12). Para usar Tiger, utiliza las credenciales que recibiste. Si trabajas de forma remota, asegúrate de descargar el archivo `.ipynb` para entregarlo. Si decides trabajar localmente, Anaconda o Miniforge son las formas más sencillas de instalar y gestionar Python. Si trabajas localmente, puedes iniciar Jupyter Lab desde la aplicación Navigator (Anaconda) o desde la línea de comandos con `jupyter-lab` o `jupyter lab`."
      ],
      "metadata": {
        "id": "Sqzf7lxTxyfU"
      }
    },
    {
      "cell_type": "markdown",
      "source": [
        "### Parte 0. Nombre y cedula (5 puntos)\n",
        "La primera celda de tu notebook debe ser una celda de Markdown con una línea para tu nombre y una línea para tu celdula. Si deseas agregar otra información (el nombre de la asignación, una descripción de la asignación), puedes hacerlo después de esas dos líneas."
      ],
      "metadata": {
        "id": "JFHEeUMwx46D"
      }
    },
    {
      "cell_type": "code",
      "execution_count": null,
      "metadata": {
        "id": "1CcHmbL1xY7W"
      },
      "outputs": [],
      "source": []
    },
    {
      "cell_type": "markdown",
      "source": [
        "### Parte 1. Hola, DeKalb (5 puntos)\n",
        "Escribe un código que imprima \"Hola, DeKalb\" pero dividido en dos líneas, como el siguiente formato:\n",
        "\n",
        "```\n",
        "Hola,  \n",
        "DeKalb\n",
        "```"
      ],
      "metadata": {
        "id": "ky_DiKs5x87J"
      }
    },
    {
      "cell_type": "code",
      "source": [],
      "metadata": {
        "id": "bGtiy3hKyDmK"
      },
      "execution_count": null,
      "outputs": []
    },
    {
      "cell_type": "markdown",
      "source": [
        "### Parte 2. Hola, <nombre> (5 puntos)\n",
        "Escribe un código que asigne tu nombre (una cadena) a una variable, y luego imprima \"Hola, <nombre>\", donde `<nombre>` proviene de la variable. De esta manera, si cambias el valor de la cadena asignada a la variable, la salida debe cambiar."
      ],
      "metadata": {
        "id": "QUbAZA4QyCpr"
      }
    },
    {
      "cell_type": "code",
      "source": [],
      "metadata": {
        "id": "2Mt2I_i-yJaZ"
      },
      "execution_count": null,
      "outputs": []
    },
    {
      "cell_type": "markdown",
      "source": [
        "### Parte 3. Cálculo de Anualidades (20 puntos)\n",
        "Una anualidad es un producto financiero donde añades o retiras la misma cantidad de dinero en cada período, por ejemplo, mensual o anual, y ganas una tasa de interés constante al final de cada período. En una anualidad ordinaria, el dinero se añade al final de cada período. Una cuenta bancaria con depósito directo es un ejemplo de anualidad ordinaria. En una anualidad vencida, el dinero se añade al comienzo del período. El alquiler es un ejemplo de anualidad vencida. El valor futuro de una anualidad es la cantidad de dinero que tendrás si añades una cantidad `c` por período, obtienes una tasa de interés `i`, y lo mantienes invertido durante `n` períodos. El valor presente de una anualidad es cuánto dinero necesitas tener hoy para recibir una cantidad `c` por período durante `n` períodos a una tasa de interés `i`. Por lo tanto:\n",
        "- `c` es el flujo de efectivo por período\n",
        "- `i` es la tasa de interés\n",
        "- `n` es el número de pagos"
      ],
      "metadata": {
        "id": "Lsxv0r59yJMC"
      }
    },
    {
      "cell_type": "markdown",
      "source": [
        "Escribe código que calcule las siguientes cuatro fórmulas relacionadas con anualidades. Primero, crea una celda que asigne los valores (`c`, `i`, `n`) a las variables `c`, `i`, y `n`. Luego, escribe cuatro celdas (una para cada parte) para calcular las fórmulas que se describen a continuación. Busca formas de hacer tu código eficiente. Asigna la salida de cada fórmula a su correspondiente variable (`fv_ordinary`, `pv_ordinary`, `fv_due`, y `pv_due`) y muestra el resultado de cada cálculo. Ten en cuenta que tus fórmulas deben usar las variables `c`, `i`, y `n`; esto te permitirá verificar otros valores de esas variables cambiándolos y ejecutando nuevamente las celdas con las fórmulas. Por ejemplo, podrías volver a la primera celda que asigna los valores y cambiar los valores a (`c`, `i`, `n`), y luego recomputar las siguientes cuatro celdas. Entrega tu código con los valores originales (`c`, `i`, `n`)."
      ],
      "metadata": {
        "id": "wHvKz3vryNjx"
      }
    },
    {
      "cell_type": "code",
      "source": [],
      "metadata": {
        "id": "Zz9h9Eq-yPPB"
      },
      "execution_count": null,
      "outputs": []
    },
    {
      "cell_type": "markdown",
      "source": [
        "- **3.a. Valor futuro de una anualidad ordinaria (5 puntos)**  \n",
        "  Calcula el valor futuro de una anualidad ordinaria utilizando la fórmula:\n",
        "\n",
        "  $\n",
        "  FV_{\\text{ordinario}} = c \\times \\frac{(1+i)^n - 1}{i}\n",
        "  $"
      ],
      "metadata": {
        "id": "v9G6D-McyMhp"
      }
    },
    {
      "cell_type": "code",
      "source": [],
      "metadata": {
        "id": "j95KVvaHyX1h"
      },
      "execution_count": null,
      "outputs": []
    },
    {
      "cell_type": "markdown",
      "source": [
        "- **3.b. Valor presente de una anualidad ordinaria (5 puntos)**  \n",
        "  Calcula el valor presente de una anualidad ordinaria utilizando la fórmula:\n",
        "\n",
        "  $\n",
        "  PV_{\\text{ordinario}} = c \\times \\frac{1 - (1+i)^{-n}}{i}\n",
        "  $"
      ],
      "metadata": {
        "id": "Rp3eseC8yYIS"
      }
    },
    {
      "cell_type": "code",
      "source": [],
      "metadata": {
        "id": "8V8VmcBFyanq"
      },
      "execution_count": null,
      "outputs": []
    },
    {
      "cell_type": "markdown",
      "source": [
        "- **3.c. Valor futuro de una anualidad vencida (5 puntos)**  \n",
        "  Calcula el valor futuro de una anualidad vencida utilizando la fórmula:\n",
        "\n",
        "  $\n",
        "  FV_{\\text{vencido}} = c \\times \\frac{(1+i)^n - 1}{i} \\times (1+i)\n",
        "  $"
      ],
      "metadata": {
        "id": "j5lBLlmvybEx"
      }
    },
    {
      "cell_type": "code",
      "source": [],
      "metadata": {
        "id": "JvR06Dn3ydFZ"
      },
      "execution_count": null,
      "outputs": []
    },
    {
      "cell_type": "markdown",
      "source": [
        "- **3.d. Valor presente de una anualidad vencida (5 puntos)**  \n",
        "  Calcula el valor presente de una anualidad vencida utilizando la fórmula:\n",
        "\n",
        "  $\n",
        "  PV_{\\text{vencido}} = c \\times \\frac{1 - (1+i)^{-n}}{i} \\times (1+i)\n",
        "  $"
      ],
      "metadata": {
        "id": "ZuhwtEbqydXC"
      }
    },
    {
      "cell_type": "code",
      "source": [],
      "metadata": {
        "id": "FKNUR94uyetZ"
      },
      "execution_count": null,
      "outputs": []
    },
    {
      "cell_type": "markdown",
      "source": [
        "#### Pistas\n",
        "- Recuerda la jerarquía de las operaciones matemáticas.\n",
        "- Puedes hacer las dos últimas partes de manera eficiente utilizando el principio de \"no te repitas\"."
      ],
      "metadata": {
        "id": "07z1hb-yyfKq"
      }
    }
  ]
}