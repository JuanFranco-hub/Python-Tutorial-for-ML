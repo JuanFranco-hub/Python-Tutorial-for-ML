{
  "cells": [
    {
      "cell_type": "markdown",
      "metadata": {
        "id": "uLqlqcJLXz6W"
      },
      "source": [
        "# Modulos y Paquetes"
      ]
    },
    {
      "cell_type": "markdown",
      "metadata": {
        "id": "EvJLgunBY1P9"
      },
      "source": [
        "## Objetivos\n",
        "El objetivo de esta tarea es trabajar con scripts y paquetes de Python en VScode."
      ]
    },
    {
      "cell_type": "markdown",
      "metadata": {
        "id": "S9HAfQHqZJPu"
      },
      "source": [
        "## Instrucciones\n",
        "\n",
        "Para esta tarea utilizaras su propia instalación local de Jupyter en VScode. Deberías usar Python 3.12 para tu trabajo, pero las versiones 3.9+ deberían funcionar para esta tarea. Anaconda es la forma más sencilla de instalar y administrar Python."
      ]
    },
    {
      "cell_type": "code",
      "execution_count": null,
      "metadata": {
        "id": "CtCN_AGn3x2i"
      },
      "outputs": [],
      "source": [
        "# No modifiques esta celda, solo ejecútala para descargar y cargar el conjunto de datos\n",
        "\n",
        "import os\n",
        "import json\n",
        "from urllib.request import urlretrieve\n",
        "\n",
        "url = \"https://github.com/JuanFranco-hub/Python-Tutorial-for-ML/tree/main/Datos/food-data-sample.json\"\n",
        "local_fname = \"food-data-sample.json\"\n",
        "if not os.path.exists(local_fname):\n",
        "    urlretrieve(url, local_fname)\n",
        "\n",
        "data = json.load(open(local_fname))\n"
      ]
    },
    {
      "cell_type": "markdown",
      "metadata": {
        "id": "IAkHXDAxI2sl"
      },
      "source": [
        "Una vez cargados, los datos son una lista de diccionarios donde cada diccionario tiene nueve pares clave-valor. Esas claves y una breve descripción son:"
      ]
    },
    {
      "cell_type": "markdown",
      "metadata": {
        "id": "FTqDniaBZ9l1"
      },
      "source": [
        "* `fdc_id`: un identificador único asignado por FoodData Central\n",
        "* `brand_owner`: la empresa que fabrica el producto\n",
        "* `brand_name`: una marca, si es diferente de la empresa\n",
        "* `description`: el nombre o descripción del producto\n",
        "* `branded_food_category`: la categoría del producto alimenticio\n",
        "* `ingredients`: una cadena de ingredientes separados por comas en el producto\n",
        "* `serving_size`: el tamaño de la porción del producto en las unidades especificadas por `serving_size_unit`\n",
        "* `nutrition`: una lista de diccionarios que contienen información nutricional; cada diccionario contiene las claves name, amounty unit_namesus valores asociados"
      ]
    },
    {
      "cell_type": "markdown",
      "metadata": {
        "id": "05L_BHFgBgZN"
      },
      "source": [
        "Escribirá 3 módulos de Python, los colocará en un paquete y escribirá un script para ayudar a analizar estos datos. Si bien no es necesario, puede resultarle útil crear un cuaderno donde pueda probar los módulos y programas. Puede utilizar otros módulos estándar de Python (por ejemplo, sys, collections) en esta asignación."
      ]
    },
    {
      "cell_type": "markdown",
      "metadata": {
        "id": "ti2L0_cgB9I9"
      },
      "source": [
        "## Entrega\n",
        "\n",
        "Debe enviar los archivos Python completos necesarios para esta asignación en Teams. El nombre del archivo zip debe ser nombre_apellido_p8.zip\n"
      ]
    },
    {
      "cell_type": "markdown",
      "metadata": {
        "id": "bR9B5-y3EDqA"
      },
      "source": [
        "## Detalles\n",
        "\n",
        "Asegúrese de seguir las instrucciones para recibir el crédito completo. Para probar su código, puede usar el %run comando mágico en el cuaderno. Por ejemplo,\n",
        "\n",
        "%run analyze_food.py"
      ]
    },
    {
      "cell_type": "markdown",
      "metadata": {
        "id": "94qlq0FrEQ4g"
      },
      "source": [
        "## 0. Nombre (5 puntos)\n",
        "\n",
        "Dado que estamos utilizando archivos Python (.py) para esta tarea, agregue la información de identificación al comienzo de su programa `analyze_trades.py` y al archivo `__init__.py`  de su paquete. Como mínimo, debería tener una línea para su nombre. Si desea agregar otra información (el nombre de la tarea, una descripción de la tarea), puede hacerlo después de esta línea."
      ]
    },
    {
      "cell_type": "markdown",
      "metadata": {
        "id": "T3oLs-xUFHbg"
      },
      "source": [
        "## 1. Paquete Food Data (50 pts)\n",
        "\n",
        "Cree tres nuevos módulos de Python, uno para leer el conjunto de datos, otro para filtrar artículos por `brand_name` y otro para comparar dos alimentos. Coloque los tres módulos (`util.py`, `find.py` y `compare.py`) en un paquete llamado `food_data`."
      ]
    },
    {
      "cell_type": "code",
      "execution_count": null,
      "metadata": {
        "id": "VHcM7GLkZ9M0"
      },
      "outputs": [],
      "source": []
    },
    {
      "cell_type": "markdown",
      "metadata": {
        "id": "3JbyyMKcOkM-"
      },
      "source": [
        "## 1a. Utilidades de datos (15 puntos)\n",
        "\n",
        "Cree un módulo `util.py` que tenga dos métodos: `download_data`, `get_data` y `parse_ingredients`.\n",
        "\n",
        "El método `download_data` debe descargar el archivo de datos [food-data-sample.json](https://faculty.cs.niu.edu/~dakoop/cs503-2022sp/a3/food-data-sample.json) y almacenarlo localmente. El método `get_data`  debe cargar los datos en una variable de módulo. Supongamos que el archivo de datos reside en el mismo directorio que `util.py`. Luego puede obtener su ruta absoluta a través de la variable `__file__`  del módulo mediante:"
      ]
    },
    {
      "cell_type": "code",
      "execution_count": null,
      "metadata": {
        "id": "ngsb6PcHPmD_"
      },
      "outputs": [],
      "source": [
        "import os\n",
        "fname = os.path.join(os.path.dirname(__file__),'food-data-sample.json')"
      ]
    },
    {
      "cell_type": "markdown",
      "metadata": {
        "id": "igtRj5lKPpDU"
      },
      "source": [
        "Utilice el módulo json para cargar los datos del archivo. El download_datamétodo debería descargar el archivo solo una vez ; de lo contrario, devolverá el nombre del archivo local. \\\\\n",
        "\n",
        "El método get_data  debe cargar y analizar el archivo desde el disco una vez; de lo contrario, devolverá los datos precargados. El método `parse_ingredients`  debe analizar la cadena de ingredientes en una lista de ingredientes dividiéndola por una coma. No se preocupe si esto no funciona perfectamente (por ejemplo, es posible que vea un ingrediente etiquetado como “LESS THAN 2% OF: SALT”)."
      ]
    },
    {
      "cell_type": "markdown",
      "metadata": {
        "id": "vy6KT_PgQouf"
      },
      "source": [
        "### Pistas\n",
        "\n",
        "* Inicialice la variable del módulo a un valor centinela para indicar cuándo no se han leído los datos.\n",
        "* Puede utilizar `%autoreload` para recargar automáticamente los módulos a medida que los edita. Sin embargo, tenga en cuenta que esto enmascarará los efectos de intentar no seguir recargando los datos. También puedes utilizar `importlib.reload` para hacer esto manualmente.\n"
      ]
    },
    {
      "cell_type": "markdown",
      "metadata": {
        "id": "vAbY7xSy0cOz"
      },
      "source": [
        "## 1b. Encontrar elementos (15 puntos)\n",
        "Cree un módulo `find.py`  que tenga dos funciones que tomen un parámetro, el propietario de la marca o la expresión de descripción, respectivamente, y devuelvan la lista de elementos de datos que coincidan. Utilice el método `get_data`  del módulo de datos para obtener los datos. El primer método, `get_by_brand` debería devolver una lista de los elementos filtrados por una **coincidencia exacta** , ignorando las mayúsculas y minúsculas de `brand_owner`.\n",
        "\n",
        "El segundo método, get_by_description debe tomar una cadena que busque en todas las descripciones de elementos aquellos que coincidan con la expresión dada. Las expresiones pueden contener caracteres literales pero también el carácter comodín (*), y ese carácter debe coincidir con cualquier número de caracteres. Puedes usar la biblioteca de expresiones regulares de Python (re) para manejar comodines, pero necesitarás cambiar cualquier instancia de * a .*. Su expresión regular debe ignorar mayúsculas y minúsculas. Por ejemplo, considere el resultado cuando busque `\"Quaker*Oat\"`:"
      ]
    },
    {
      "cell_type": "markdown",
      "metadata": {
        "id": "_G132Wau2Iup"
      },
      "source": [
        "\n",
        "\n",
        "```python\n",
        "[d['description'] for d in food_data.find.get_by_description(\"Quaker*Oat\")]\n",
        "```\n",
        "\n",
        "```\n",
        "['QUAKER, OAT BRAN, HOT CEREAL',\n",
        " 'QUAKER, OLD FASHIONED OATS',\n",
        " 'QUAKER, INSTANT OATMEAL, BANANA NUT',\n",
        " 'Quaker Oat Bran Hot Cereal 16 Ounce Box',\n",
        " 'Quaker Corn Crunch Toasted Corn & Oat Cereal 15 Ounce Paper Box']\n",
        "```"
      ]
    },
    {
      "cell_type": "markdown",
      "metadata": {
        "id": "_RMdtul0HPFH"
      },
      "source": [
        "### Consejos\n",
        "\n",
        "* Considere probar las funciones mediante código en un cuaderno. También puede hacer esto en los módulos mismos, pero recuerde asegurarse de que solo se ejecuten cuando el módulo se ejecute como un script.\n",
        "* Recuerde que Python tiene operadores de conjunto que ayudan a determinar qué elementos se comparten o en un conjunto y no en el otro."
      ]
    },
    {
      "cell_type": "markdown",
      "metadata": {
        "id": "Ld4mo0r5Hvc8"
      },
      "source": [
        "## 1d. Paquete\n",
        "Asegúrese de que los tres módulos de análisis estén en un solo paquete `food_data`. Agregue un archivo `__init__.py`  para completar. Puede contener documentación y la palabra clave pass."
      ]
    },
    {
      "cell_type": "markdown",
      "metadata": {
        "id": "nd4D6n6_Indw"
      },
      "source": [
        "# 2. Programas de línea de comandos\n",
        "\n",
        "Ahora, crearemos dos programas de línea de comandos que se ubicarán en los módulos `find.py` y `compare.py` que acabamos de crear. Estos programas de línea de comandos utilizarán las funciones pero producirán resultados más legibles. Ejecutaremos estos programas a través de `-m` la funcionalidad de Python. Por lo tanto, cada uno de find.py y compare.py debería poder utilizarse como módulo y como script. Utilícelo `__name__` para comprobar qué caso se está utilizando."
      ]
    },
    {
      "cell_type": "code",
      "execution_count": null,
      "metadata": {
        "id": "Vx2lGeAzTp4O"
      },
      "outputs": [],
      "source": []
    },
    {
      "cell_type": "markdown",
      "metadata": {
        "id": "nbpwZlhlTbG1"
      },
      "source": [
        "## 2a. food_data.find (15 puntos)\n",
        "En este módulo, crearemos un programa de línea de comandos que acepte dos indicadores, `-b` para get_by_brand búsquedas y `-d` para get_by_descriptionbúsquedas. Ambos tomarán una sola cadena como argumento final. Esa cadena debe pasarse a las funciones respectivas, pero el resultado debe mostrarse de una manera más concisa. Cada elemento de datos debe enumerarse como <fdc_id> <brand_owner> <description>. Asegúrese de tener una declaración de uso que se muestre cuando un usuario ingrese datos incorrectos. Debes probar tu script mediante el comando mágico de IPython `%run -m food_data.find ....` Algunos resultados de muestra:"
      ]
    },
    {
      "cell_type": "markdown",
      "metadata": {
        "id": "8m2U8WKYUng5"
      },
      "source": [
        "\n",
        "```python\n",
        "%run -m food_data.find\n",
        "```\n",
        "Usage: python -m food_data.find -b <brand> | -d <description>\n",
        "\n",
        "\n"
      ]
    },
    {
      "cell_type": "markdown",
      "metadata": {
        "id": "4MnGxdfYU9XO"
      },
      "source": [
        "```\n",
        "%run -m food_data.find -d \"Quaker*Oat\"\n",
        "```\n",
        "538773 The Quaker Oats Company QUAKER, OAT BRAN, HOT CEREAL\n",
        "539625 The Quaker Oats Company QUAKER, OLD FASHIONED OATS\n",
        "540325 The Quaker Oats Company QUAKER, INSTANT OATMEAL, BANANA NUT\n",
        "767774 QTG Quaker Oat Bran Hot Cereal 16 Ounce Box\n",
        "768340 QTG Quaker Corn Crunch Toasted Corn & Oat Cereal 15 Ounce Paper Box\n"
      ]
    },
    {
      "cell_type": "markdown",
      "metadata": {
        "id": "t64IH-cQVJYF"
      },
      "source": [
        "### Consejos\n",
        "* Asegúrese de utilizar la verificación para `__name__` ver si estamos ejecutando el módulo como un script."
      ]
    },
    {
      "cell_type": "code",
      "execution_count": null,
      "metadata": {
        "id": "DC8iF5a_XeoY"
      },
      "outputs": [],
      "source": []
    },
    {
      "cell_type": "markdown",
      "metadata": {
        "id": "dStA_kamXfEp"
      },
      "source": [
        "## 2b. food_data.compare (15 puntos)\n",
        "En este módulo, crearemos un programa de línea de comandos que acepte dos flags, `-n` para `diff_nutritiony` y `-i` y `diff_ingredients`. Ambos tomarán dos fdc_ids como números enteros y los pasarán a sus respectivas funciones. La salida de `diff_nutrition` debe mostrar el nombre de la métrica y luego un valor +/- para la cantidad (con dos decimales) seguido de la unidad.\n",
        "\n",
        "El resultado de `diff_ingredients` debe mostrar los ingredientes comunes con el prefijo de un espacio, los ingredientes del primer elemento con el prefijo a -y los ingredientes del segundo elemento con el prefijo a +. Puede probar su script mediante el comando mágico de IPython `%run -m food_data.compare ...`"
      ]
    },
    {
      "cell_type": "markdown",
      "metadata": {
        "id": "PanxSWlgZJRb"
      },
      "source": [
        "Algunos resultados de muestra:\n",
        "\n",
        "\\>\\>\\> `%run -m food_data.compare -n 345534 604974`\n",
        "\n",
        "Serving Size: +0.00 g\n",
        "Total Fat: -0.41 g\n",
        "Fiber: +0.00 g\n",
        "Calories: -12.00 kcal\n",
        "Protein: +0.00 g\n",
        "Sugar: -2.48 g\n",
        "Saturated Fat: +0.00 g\n",
        "Sodium: +137.00 mg\n",
        "Carbohydrates: -0.83 g\n",
        "\n",
        "\\>\\>\\> `%run -m food_data.compare -i 345534 604974`\n",
        "\n",
        "  Tomatoes\n",
        "  Tomato Juice\n",
        "  Citric Acid\n",
        "  Calcium Chloride\n",
        "- Less Than 2% of: Salt\n",
        "+ Natural Flavor\n",
        "+ Dried Onion\n",
        "+ Dried Garlic\n",
        "+ Salt\n",
        "+ Olive Oil\n",
        "+ Spices\n",
        "+ Soybean Oil"
      ]
    },
    {
      "cell_type": "markdown",
      "metadata": {
        "id": "ghsjn7U7fHux"
      },
      "source": [
        "### Consejos\n",
        "* Recuerde que todos los elementos `sys.argv` son **cadenas** y es posible que sea necesario convertirlos.\n",
        "* Considere la posibilidad de crear una función auxiliar para recuperar los elementos de datos a los que hacen referencia los dos fdc_ids.\n",
        "* Asegúrese de utilizar la verificación para `__name__` ver si estamos ejecutando el módulo como un script."
      ]
    },
    {
      "cell_type": "code",
      "execution_count": null,
      "metadata": {
        "id": "mlz3_zsp8SDc"
      },
      "outputs": [],
      "source": []
    },
    {
      "cell_type": "markdown",
      "metadata": {
        "id": "pYMaJKcC8aXD"
      },
      "source": [
        "## Puntos Extras (10 pts)\n",
        "\n",
        " Agregue una flag al método diff_nutrition  que indique si se deben escalar los detalles nutricionales de acuerdo con los tamaños de las porciones antes de calcular la diferencia, y modifique el código según sea necesario, manteniendo el comportamiento original si la flag está desactivada. Luego agregue un flag de línea de comando al programa de comparación para permitir a los usuarios activarlo o desactivarlo. Por ejemplo, si el artículo A tiene una porción de 200 g y el artículo B una porción de 100 g, y A tiene 4 g de azúcar y B tiene 2 g de azúcar, escalar B al mismo tamaño de porción de 200 g le daría 4 g de azúcar y la diferencia sería 0 g. Escale toda la información nutricional de esta manera antes de calcular las diferencias."
      ]
    },
    {
      "cell_type": "code",
      "execution_count": null,
      "metadata": {},
      "outputs": [],
      "source": []
    }
  ],
  "metadata": {
    "colab": {
      "provenance": []
    },
    "kernelspec": {
      "display_name": "Python 3",
      "name": "python3"
    },
    "language_info": {
      "name": "python"
    }
  },
  "nbformat": 4,
  "nbformat_minor": 0
}
