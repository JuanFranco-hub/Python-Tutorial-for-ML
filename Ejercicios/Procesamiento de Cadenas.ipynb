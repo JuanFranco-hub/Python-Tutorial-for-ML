{
  "cells": [
    {
      "cell_type": "markdown",
      "metadata": {
        "id": "ZfLpWkgJ5DzI"
      },
      "source": [
        "# Project Gutenberg"
      ]
    },
    {
      "cell_type": "markdown",
      "metadata": {
        "id": "K-x-sV4F5Dtu"
      },
      "source": [
        "En esta tarea, trabajaremos con textos de Project Gutenberg, que es una biblioteca de libros electrónicos que incluye una gran cantidad de literatura cuyos derechos de autor en EE. UU. han expirado. En esta tarea, procesarás estos archivos, contarás palabras y convertirás parte del texto. Usaremos textos en alemán para demostrar los beneficios de la codificación [Unicode](https://es.wikipedia.org/wiki/Unicode)."
      ]
    },
    {
      "cell_type": "markdown",
      "metadata": {
        "id": "wEew_rNd6HhF"
      },
      "source": [
        "Con ayuda de la plantilla para descargar los archivos dada una URL. Leerás estos datos, realizarás algunos cálculos y escribirás un nuevo archivo de salida en un formato similar."
      ]
    },
    {
      "cell_type": "markdown",
      "metadata": {
        "id": "-t0Db0r658KW"
      },
      "source": [
        "Plantilla para ayudar a descargar los archivos dada una URL"
      ]
    },
    {
      "cell_type": "code",
      "execution_count": null,
      "metadata": {
        "id": "CgK24KcD6aov"
      },
      "outputs": [],
      "source": [
        "# Plantilla\n",
        "import os\n",
        "from urllib.request import urlretrieve\n",
        "\n",
        "def download_text(url):\n",
        "    local_fname = os.path.basename(url)\n",
        "    if not os.path.exists(local_fname):\n",
        "        urlretrieve(url, local_fname)\n",
        "    return local_fname"
      ]
    },
    {
      "cell_type": "code",
      "execution_count": null,
      "metadata": {
        "id": "nLM65uq36fdP"
      },
      "outputs": [],
      "source": [
        "fname = download_text('https://www.gutenberg.org/files/17610/17610-8.txt')"
      ]
    },
    {
      "cell_type": "code",
      "execution_count": null,
      "metadata": {
        "colab": {
          "base_uri": "https://localhost:8080/",
          "height": 35
        },
        "id": "_GT-EyKE6g2H",
        "outputId": "5164987e-4138-40b8-8746-822b140115d1"
      },
      "outputs": [
        {
          "data": {
            "application/vnd.google.colaboratory.intrinsic+json": {
              "type": "string"
            },
            "text/plain": [
              "'17610-8.txt'"
            ]
          },
          "execution_count": 3,
          "metadata": {},
          "output_type": "execute_result"
        }
      ],
      "source": [
        "fname"
      ]
    },
    {
      "cell_type": "markdown",
      "metadata": {
        "id": "k9dcjzfk5DmQ"
      },
      "source": [
        "Trabajaremos con dos libros, el segundo de los cuales está escrito en dos partes. Sin embargo, escribe tu código de manera que se pueda adaptar para trabajar con otros textos también. Los textos son:\n",
        "\n",
        "\n",
        "\n",
        "\n",
        "\n",
        "\n",
        "*   Siddhartha, Hermann Hesse. \\\\\n",
        "https://www.gutenberg.org/cache/epub/2499/pg2499.txt\n",
        "*   Heidi, Johanna Spyri. \\\\\n",
        "Parte 1 (Heidis Lehr- und Wanderjahre): https://www.gutenberg.org/cache/epub/7500/pg7500.txt \\\\\n",
        "Parte 2 (Heidi kann brauchen, was es gelernt hat): https://www.gutenberg.org/cache/epub/7512/pg7512.txt\n",
        "\n",
        "\n",
        "\n",
        "\n",
        "\n",
        "\n"
      ]
    },
    {
      "cell_type": "markdown",
      "metadata": {
        "id": "FKiQ3FJ168hG"
      },
      "source": [
        "## 1. Leer Datos (10 pts)\n",
        "Utiliza la función download_text en la plantilla proporcionada para descargar archivos. Luego, escribe una función que, dado el nombre del archivo, abra el archivo local y lea el archivo descargado, devolviendo las líneas procesadas como una lista. Project Gutenberg incluye metadatos al principio del texto e información de licencia al final del texto. El texto real está contenido entre las líneas\n",
        "\n",
        "\n",
        "\n",
        "```\n",
        "*** START OF <THE|THIS> PROJECT GUTENBERG EBOOK <TITLE> ***\n",
        "\n",
        "y\n",
        "\n",
        "*** END OF <THE|THIS> PROJECT GUTENBERG EBOOK <TITLE> ***\n",
        "```\n",
        "donde `<THE|THIS>` indica que está presente la palabra `THE` o la palabra `THIS`, y <TITLE> es el nombre del libro. Lee (y descarta) líneas hasta que encuentres la etiqueta START. Luego, lee todas las líneas hasta, pero no incluyendo, la etiqueta END en una lista de cadenas. Elimina cualquier espacio en blanco inicial y final de las líneas. Necesitarás averiguar cómo encontrar las etiquetas START y END y qué líneas deben incluirse.\n",
        "\n"
      ]
    },
    {
      "cell_type": "markdown",
      "metadata": {
        "id": "klyqcGYe8XCH"
      },
      "source": [
        "### Pistas\n",
        "\n",
        "*   Puedes buscar las etiquetas utilizando una expresión regular, pero los métodos de cadena de Python también deberían funcionar.\n",
        "*   Si pasas un iterador a un bucle for, iterará a través de los elementos restantes.\n",
        "strip será útil para eliminar los espacios en blanco.\n",
        "\n"
      ]
    },
    {
      "cell_type": "code",
      "execution_count": null,
      "metadata": {
        "id": "x0CyJyAm7k5v"
      },
      "outputs": [],
      "source": []
    },
    {
      "cell_type": "markdown",
      "metadata": {
        "id": "Ag6usifg8qwP"
      },
      "source": [
        "## 2. Encuentra Caracteres No ASCII (10 pts)\n",
        "\n",
        "A continuación, escribe una función para recorrer la lista de líneas y encontrar el conjunto de todos los caracteres no ASCII en el texto. Ten en cuenta que puedes verificar si un carácter está en el subconjunto ASCII comprobando si su valor entero es menor que 128 (recuerda que ASCII mapeó los primeros 128 caracteres a los valores del 0 al 127). Devuelve este conjunto de caracteres no ASCII. Prueba tu función con los datos de uno de los libros."
      ]
    },
    {
      "cell_type": "markdown",
      "metadata": {
        "id": "CrLhWuEr862P"
      },
      "source": [
        "## Pistas\n",
        "\n",
        "*   Recuerda que necesitarás iterar a través de cada carácter.\n",
        "*   La función ord será útil para obtener el valor entero de un carácter.\n",
        "\n"
      ]
    },
    {
      "cell_type": "code",
      "execution_count": null,
      "metadata": {
        "id": "HK7cdBR38p-2"
      },
      "outputs": [],
      "source": []
    },
    {
      "cell_type": "markdown",
      "metadata": {
        "id": "cChscu9H9dGd"
      },
      "source": [
        "## 3. Convertir Diacríticos (15 pts)\n",
        "A continuación, escribe una función que cree una nueva versión del texto donde los diacríticos (vistos en el valor devuelto de la Parte 2) sean traducidos a no diacríticos que podrían guardarse en ASCII. Aquí, deseamos tener las siguientes traducciones (ä a ae, ö a oe, ü a ue, ß a ss) y variantes en mayúsculas (Ä a Ae, Ö a Oe y Ü a Ue). Utiliza una manera programática para hacer las variantes en mayúsculas usando las conversiones en minúsculas. Tu salida debe ser una nueva lista con las líneas de texto convertidas. No puedes usar una serie de declaraciones if o elif para esta tarea."
      ]
    },
    {
      "cell_type": "markdown",
      "metadata": {
        "id": "7SY-_Yg49kdO"
      },
      "source": [
        "### Pistas\n",
        "\n",
        "*   Considera usar un diccionario para mapear las conversiones.\n",
        "*   Recuerda para variación de mayúsculas/minúsculas que puedes fusionar dos diccionarios.\n",
        "*   Las comprensiones pueden ser útiles para aplicar las modificaciones a cada carácter.\n",
        "\n",
        "\n",
        "\n",
        "\n",
        "\n",
        "\n",
        "\n",
        "\n",
        "\n"
      ]
    },
    {
      "cell_type": "code",
      "execution_count": null,
      "metadata": {
        "id": "I0j-RM_V9w_t"
      },
      "outputs": [],
      "source": []
    },
    {
      "cell_type": "markdown",
      "metadata": {
        "id": "mAAcIlvp-WJ9"
      },
      "source": [
        "## 4. Calcular Frecuencias de Palabras (15 pts)\n",
        "A continuación, escribe una función que compute cuántas palabras aparecen infrecuentemente (<= 4 veces) o más frecuentemente (> 4 veces). Para hacer esto, primero elimina cualquier puntuación de las cadenas y luego divide cada línea en palabras individuales, convirtiéndolas todas a caracteres en minúsculas. Luego, calcula la frecuencia de cada palabra contando las ocurrencias de cada una. Recomiendo usar el `Counter` del módulo `collections` para hacer esto. Después, cuenta el número de palabras que aparecen raramente y más frecuentemente y devuelve ambos. Para asegurarte de que estás contando correctamente, para Heidi, Parte 1, el número de palabras infrecuentes es 8491 4786 y el número de palabras frecuentes es 1312 1101 . Dependiendo de cómo reemplaces la puntuación (eliminándola completamente versus reemplazándola con espacios) o si conviertes las líneas primero, también puedes ver 4699 y 1097, o 4768 y 1102, respectivamente."
      ]
    },
    {
      "cell_type": "markdown",
      "metadata": {
        "id": "pRTDyORR-V9W"
      },
      "source": [
        "### Pistas\n",
        "\n",
        "*   `string.punctuation` proporciona una cadena con marcas de puntuación comunes que deben eliminarse.\n",
        "*   La función `split` debería ayudar a dividir una línea en palabras.\n",
        "*   El método `update` de `Counter` será útil.\n",
        "*   Recuerda que Python te permite devolver múltiples valores separándolos con comas.\n",
        "\n"
      ]
    },
    {
      "cell_type": "code",
      "execution_count": null,
      "metadata": {
        "id": "9spk9xob-WUG"
      },
      "outputs": [],
      "source": []
    },
    {
      "cell_type": "markdown",
      "metadata": {
        "id": "SNuzF-wt_Qxm"
      },
      "source": [
        "## 5.Escribir Salida (20 pts)\n",
        "Escribe el texto convertido (de la Parte 3) en un archivo. Además, pon tu nombre al inicio del archivo como el convertidor, luego una línea que marque el inicio del texto (\\*\\*\\* START OF THE EBOOK \\*\\*\\*), el texto convertido y luego una línea que marque el final del texto (\\*\\*\\* END OF THE EBOOK \\*\\*\\*). Finalmente, utiliza tu función de la Parte 4 para calcular el número de palabras frecuentes e infrecuentes, y también calcula el número total de palabras únicas. Las estadísticas necesitan estar alineadas a la derecha, así que tu salida debería verse así: \\\\\n",
        "\n",
        "Desde Project Gutenberg (www.gutenberg.org)\n",
        "Convertido por: Iamma Huskie\n",
        "\n",
        "\n",
        "\n",
        "```\n",
        "*** START OF THE EBOOK ***\n",
        "\n",
        "...\n",
        "\n",
        "*** END OF THE EBOOK ***\n",
        "```\n",
        "Número de palabras infrecuentes: 4786:       4786 \\\\\n",
        "Número de palabras frecuentes:         1101 \\\\\n",
        "Total de palabras únicas:               5887 \\\\\n",
        "\n",
        "El nombre del archivo debe ser el nombre de archivo original con -converted añadido. Por ejemplo, pg7500-converted.txt."
      ]
    },
    {
      "cell_type": "markdown",
      "metadata": {
        "id": "DUMb8BXR_Qre"
      },
      "source": [
        "### Pistas\n",
        "\n",
        "\n",
        "*   Usa llamadas a la función `print` para escribir primero algunos datos a `stdout`, luego, cuando estés satisfecho de que el formato es correcto, escribe todos los datos en un archivo.\n",
        "*   Recuerda el argumento de palabra clave file para la función `print`.\n",
        "*   Usa una declaración `with` para asegurarte de que todos los datos se escriban en el archivo (o asegúrate de llamar a close).\n",
        "*   Recuerda pasar la bandera `w` a `open` para poder escribir en un archivo.\n",
        "*   Consulta el [Mini-Lenguaje de Especificación de Formato](https://docs.python.org/3/library/string.html#formatspec) para las diversas banderas.\n",
        "*   Puedes ver el contenido del archivo que escribiste en el cuaderno usando el comando `!cat`: \\\\\n",
        "`!cat pg7500-converted.txt`.\n",
        "\n"
      ]
    },
    {
      "cell_type": "code",
      "execution_count": null,
      "metadata": {
        "id": "5p7hELdy_Qiu"
      },
      "outputs": [],
      "source": []
    }
  ],
  "metadata": {
    "colab": {
      "provenance": []
    },
    "kernelspec": {
      "display_name": "Python 3",
      "name": "python3"
    },
    "language_info": {
      "name": "python"
    }
  },
  "nbformat": 4,
  "nbformat_minor": 0
}
