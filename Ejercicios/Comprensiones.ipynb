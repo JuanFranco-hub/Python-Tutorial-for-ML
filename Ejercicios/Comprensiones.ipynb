{
  "cells": [
    {
      "cell_type": "markdown",
      "metadata": {
        "id": "Am9TBOhpclnm"
      },
      "source": [
        "# Instrucciones\n",
        "En esta asignación trabajaremos con datos del Departamento de Transporte de Estados Unidos sobre[ Entradas por Cruces Fronterizos](https://data.bts.gov/Research-and-Statistics/Border-Crossing-Entry-Data/keg4-3bc2/data). Este conjunto de datos cuenta todo el tráfico que pasa por los puertos en las fronteras con Canadá y México. En lugar de usar este conjunto de datos directamente, he creado un subconjunto de estos datos, que se puede leer como una lista de diccionarios. Ese dato se encuentra [aquí](https://faculty.cs.niu.edu/~dakoop/cs503-2022fa/a3/border-crossing.json), pero no necesitas descargarlo. He creado una  celda que descargará y leerá esos datos.  "
      ]
    },
    {
      "cell_type": "markdown",
      "metadata": {
        "id": "LKUu6fjrdCAe"
      },
      "source": [
        "Una vez cargado, los datos son una lista de diccionarios donde cada diccionario tiene nueve pares clave-valor"
      ]
    },
    {
      "cell_type": "markdown",
      "metadata": {
        "id": "7pJvu8bGdZpp"
      },
      "source": [
        "Una vez cargado, los datos son una lista de diccionarios donde cada diccionario tiene nueve pares clave-valor. Esas claves y una breve descripción son:\n",
        "\n",
        "- **Port Name**: Nombre del puerto, a menudo asociado con su ubicación.\n",
        "- **State**: El estado en el que se encuentra el puerto.\n",
        "- **Port Code**: Un identificador numérico único para el puerto.\n",
        "- **Border**: El país cuya frontera es el puerto (Canadá o México).\n",
        "- **Date**: El mes y año cuando se recopiló el dato, como una cadena.\n",
        "- **Measure**: El tipo de medio de transporte/contenedor/persona que se cuenta.\n",
        "- **Value**: El valor de la medida para el mes especificado.\n"
      ]
    },
    {
      "cell_type": "markdown",
      "metadata": {
        "id": "MPqoplW-din2"
      },
      "source": [
        "Responderás consultas y escribirás funciones para ayudar a analizar estos datos. No puedes usar librerías externas incluyendo estadísticas, colecciones, datetime, o pandas para esta asignación."
      ]
    },
    {
      "cell_type": "code",
      "execution_count": null,
      "metadata": {
        "id": "mb6V2y9Jemdf"
      },
      "outputs": [],
      "source": [
        "# importa los datos\n",
        "import os\n",
        "import json\n",
        "from urllib.request import urlretrieve\n",
        "\n",
        "local_fname = 'border-crossing.json'\n",
        "url = \"https://github.com/JuanFranco-hub/Python-Tutorial-for-ML/tree/main/Datos/border-crossing.json\"\n",
        "if not os.path.exists(local_fname):\n",
        "    urlretrieve(url, local_fname)\n",
        "data = json.load(open(local_fname));"
      ]
    },
    {
      "cell_type": "code",
      "execution_count": null,
      "metadata": {
        "colab": {
          "base_uri": "https://localhost:8080/"
        },
        "id": "tUJxi5QKerOm",
        "outputId": "e75b5095-19d9-4911-ef17-d2ee3473d378"
      },
      "outputs": [
        {
          "data": {
            "text/plain": [
              "{'Port Name': 'Pinecreek',\n",
              " 'State': 'Minnesota',\n",
              " 'Port Code': 3425,\n",
              " 'Border': 'Canada',\n",
              " 'Date': 'Jul 2022',\n",
              " 'Measure': 'Trucks',\n",
              " 'Value': 6}"
            ]
          },
          "execution_count": 5,
          "metadata": {},
          "output_type": "execute_result"
        }
      ],
      "source": [
        "#imprime primer registro\n",
        "data[0]"
      ]
    },
    {
      "cell_type": "markdown",
      "metadata": {
        "id": "pDOpWFdjdn33"
      },
      "source": [
        "## 0. Nombre (5 pts)\n",
        "Nombre: [Tu nombre]\n"
      ]
    },
    {
      "cell_type": "markdown",
      "metadata": {
        "id": "xSRTMF6RdyNv"
      },
      "source": [
        "## 1. Tipos de Medida (5 pts)\n",
        "Encuentra todos los posibles valores para la medida en el conjunto de datos. ¡Lista cada tipo solo una vez!\n"
      ]
    },
    {
      "cell_type": "code",
      "execution_count": null,
      "metadata": {
        "id": "OoAGDVUacjVa"
      },
      "outputs": [],
      "source": []
    },
    {
      "cell_type": "markdown",
      "metadata": {
        "id": "DJAZXGzud0DH"
      },
      "source": [
        "## 2. Mayor Cruce Peatonal (10 pts)\n",
        "Escribe código para encontrar el puerto en el conjunto de datos con el mayor conteo mensual para **peatones**. Muestra el **Nombre del Puerto** y el **Estado** del puerto. Recuerda que necesitarás iterar a través de cada elemento de la lista, y cada elemento es un diccionario que tiene varias claves incluyendo `Measure` y `Value`.\n"
      ]
    },
    {
      "cell_type": "code",
      "execution_count": null,
      "metadata": {
        "id": "NcG2Rextd0iH"
      },
      "outputs": [],
      "source": []
    },
    {
      "cell_type": "markdown",
      "metadata": {
        "id": "g6zYvv6Id06_"
      },
      "source": [
        "## 3. Puertos por Estado\n",
        "### a. Nombre de Puerto Duplicado (10 pts)\n",
        "Hay dos puertos con el mismo  `Port Name`. ¿Cuál es el nombre del puerto, y cuáles son los dos estados y códigos de puerto que comparten este nombre?\n"
      ]
    },
    {
      "cell_type": "markdown",
      "metadata": {
        "id": "8OrR5xRRgC3g"
      },
      "source": [
        "### Pistas\n",
        "*   Compruebe qué atributo (o combinación de atributos) es único.\n",
        "*   ¿Cómo puedes encontrar un nombre que esté vinculado a más de uno de estos atributos únicos?\n",
        "\n"
      ]
    },
    {
      "cell_type": "code",
      "execution_count": null,
      "metadata": {
        "id": "JTeTFDO2d1O_"
      },
      "outputs": [],
      "source": []
    },
    {
      "cell_type": "markdown",
      "metadata": {
        "id": "DwUcHe0Od-sW"
      },
      "source": [
        "### b. Número de Puertos por Estado (15 pts)\n",
        "Escribe código para encontrar el número de puertos por estado. Nota que esto **no** es lo mismo que contar el número de entradas en el conjunto de datos para cada estado. Considera usar un proceso de dos pasos: primero, encontrar todos los puertos **únicos** con sus estados, y luego usar ese resultado para contar el número de puertos en cada estado.\n"
      ]
    },
    {
      "cell_type": "markdown",
      "metadata": {
        "id": "3Ysoq99mgc2g"
      },
      "source": [
        "### Pistas\n",
        "\n",
        "*   Para la primera parte, consulte la Parte 1, pero ahora debemos hacer esto para cada estado.\n",
        "*   El ejemplo de clase `count_letters` puede ser útil para la segunda parte."
      ]
    },
    {
      "cell_type": "code",
      "execution_count": null,
      "metadata": {
        "id": "IbWkPdSdd_Yf"
      },
      "outputs": [],
      "source": []
    },
    {
      "cell_type": "markdown",
      "metadata": {
        "id": "fCUkB6ITeBTZ"
      },
      "source": [
        "## 4. Reformatar los Datos (15 pts)\n",
        "El formato de los datos no es ideal para algunos tipos de preguntas, específicamente aquellas donde nos gustaría saber todas las cantidades para cada puerto durante un mes dado. Crea una nueva lista de diccionarios llamada `new_data` diccionario contenga las cinco claves que son iguales para cada entrada mensual ( `Port Name`,`State`, `Port Code`, `Border`, y `Date`) junto con sus valores, y luego agregue cada par cantidad-valor como un par clave-valor .\n"
      ]
    },
    {
      "cell_type": "markdown",
      "metadata": {
        "id": "TFc_Kp26FaET"
      },
      "source": [
        "Por ejemplo el diccionario para “Pinecreek” en“Jul 2022” deberia verse asi:\n",
        "\n",
        "\n",
        "\n",
        "```python\n",
        " {'Port Name': 'Pinecreek',\n",
        "  'State': 'Minnesota',\n",
        "  'Port Code': 3425,\n",
        "  'Border': 'Canada',\n",
        "  'Date': 'Jul 2022',\n",
        "  'Trucks': 6,\n",
        "  'Personal Vehicles': 155,\n",
        "  'Personal Vehicle Passengers': 273}\n",
        "```\n"
      ]
    },
    {
      "cell_type": "markdown",
      "metadata": {
        "id": "fXAS3w9nFdQu"
      },
      "source": [
        "Recuerda que el nombre del puerto no es unico (mira la parte 3a), ¿Como puedes realizar un seguimiento de los datos asosiados con cada par de puerto y mes?"
      ]
    },
    {
      "cell_type": "markdown",
      "metadata": {
        "id": "uvJ6Wk-Uhzud"
      },
      "source": [
        "### Pistas\n",
        "\n",
        "\n",
        "*   Solo quieres un diccionario por puerto-mes. ¿Cómo puedes mantener estos para poder actualizarlos según sea necesario?\n",
        "*   El operador de merge puede ser útil.\n",
        "*   Recuerda que tu `new_data` debería ser una lista de diccionarios, pero no necesitas crearla hasta el final del procesamiento.\n",
        "*   `.values()` puede ser útil, pero recuerda que devuelve una vista, no una lista.\n",
        "\n"
      ]
    },
    {
      "cell_type": "code",
      "execution_count": null,
      "metadata": {
        "id": "rc79hJzSeCS-"
      },
      "outputs": [],
      "source": []
    },
    {
      "cell_type": "markdown",
      "metadata": {
        "id": "GbYZDdY6jaId"
      },
      "source": [
        "## 5. Calcular y Añadir el Número Total de Personas (15 pts)\n",
        "Escribe código para actualizar la lista de diccionarios `new_data` creada en la Parte 4, añadiendo un par clave-valor llamado `Total People` cuyo valor sea la suma de los valores en ese puerto-mes que cuentan personas. Los campos que cuentan personas son:\n",
        "```python\n",
        "{'Bus Passengers', 'Pedestrians', 'Personal Vehicle Passengers', 'Train Passengers'}\n",
        "```"
      ]
    },
    {
      "cell_type": "markdown",
      "metadata": {
        "id": "bil4Lrs4jqFG"
      },
      "source": [
        "Ten en cuenta que cada puerto puede no tener uno (o ninguno) de estos campos. Por ejemplo, para el puerto \"San Ysidro\" en \"Jul 2022\", tenemos 24_371 pasajeros de autobús, 2_206_115 pasajeros de vehículo personal y 627_673 peatones, por lo que nuestros datos actualizados deberían verse así:\n",
        "\n",
        "\n",
        "\n",
        "```python\n",
        "{'Port Name': 'San Ysidro',\n",
        " 'State': 'California',\n",
        " 'Port Code': 2504,\n",
        " 'Border': 'Mexico',\n",
        " 'Date': 'Jul 2022',\n",
        " 'Bus Passengers': 24371,\n",
        " 'Personal Vehicles': 1328690,\n",
        " 'Personal Vehicle Passengers': 2206115,\n",
        " 'Buses': 969,\n",
        " 'Pedestrians': 627673,\n",
        " 'Total People': 2858159}\n",
        "```\n",
        "\n"
      ]
    },
    {
      "cell_type": "markdown",
      "metadata": {
        "id": "_v5Q3gmAjtnd"
      },
      "source": [
        "Asegúrate de que si un puerto tiene cero personas, todavía haya una entrada total con un valor de cero."
      ]
    },
    {
      "cell_type": "code",
      "execution_count": null,
      "metadata": {
        "id": "jzINkcWkj2uQ"
      },
      "outputs": [],
      "source": []
    }
  ],
  "metadata": {
    "colab": {
      "provenance": []
    },
    "kernelspec": {
      "display_name": "Python 3",
      "name": "python3"
    },
    "language_info": {
      "name": "python"
    }
  },
  "nbformat": 4,
  "nbformat_minor": 0
}
