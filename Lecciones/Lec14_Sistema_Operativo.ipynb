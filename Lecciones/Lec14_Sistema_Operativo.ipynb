{
  "nbformat": 4,
  "nbformat_minor": 0,
  "metadata": {
    "colab": {
      "provenance": [],
      "toc_visible": true
    },
    "kernelspec": {
      "name": "python3",
      "display_name": "Python 3"
    },
    "language_info": {
      "name": "python"
    }
  },
  "cells": [
    {
      "cell_type": "markdown",
      "source": [
        "# Integración con el Sistema Operativo (OS Integration)"
      ],
      "metadata": {
        "id": "croTv9Ttwl9G"
      }
    },
    {
      "cell_type": "markdown",
      "source": [
        "## Introducción\n",
        "La integración con el sistema operativo (OS Integration) es crucial para la creación de aplicaciones robustas y versátiles que interactúan directamente con los recursos y capacidades del sistema. Python ofrece una gama de módulos que permiten a los desarrolladores gestionar archivos, directorios, procesos y mucho más, de manera eficiente y, lo más importante, de manera multiplataforma (Linux, Mac, Windows). A continuación, exploraremos los fundamentos de esta integración, centrando nuestra atención en la manipulación del sistema de archivos y las operaciones relacionadas con directorios y archivos."
      ],
      "metadata": {
        "id": "Xy5al7PAwqrN"
      }
    },
    {
      "cell_type": "markdown",
      "source": [
        "## Objetivos de la Lección\n",
        "1. Comprender la importancia de la integración con el sistema operativo.\n",
        "2. Manipular archivos y directorios utilizando Python.\n",
        "3. Utilizar módulos especializados como os, shutil, y pathlib para operaciones avanzadas.\n",
        "4. Implementar soluciones multiplataforma que sean eficientes y escalables."
      ],
      "metadata": {
        "id": "it10CpPhwuwE"
      }
    },
    {
      "cell_type": "markdown",
      "source": [
        "## 1.Operaciones Básicas en el Sistema de Archivos\n",
        "El sistema de archivos es una parte integral de la integración con el sistema operativo. En Python, podemos gestionar archivos y directorios mediante varios módulos, cada uno con diferentes capacidades."
      ],
      "metadata": {
        "id": "ViGyybPzxFge"
      }
    },
    {
      "cell_type": "markdown",
      "source": [
        "## Listar Directorios\n",
        "\n",
        "#### **Método Tradicional**\n",
        "\n",
        "El método os.listdir() es el enfoque clásico para listar los archivos y directorios en una carpeta."
      ],
      "metadata": {
        "id": "SMV5aqeWxebu"
      }
    },
    {
      "cell_type": "code",
      "execution_count": null,
      "metadata": {
        "id": "LX83KRwHwJYC"
      },
      "outputs": [],
      "source": [
        "import os\n",
        "print(os.listdir('mi_directorio/'))"
      ]
    },
    {
      "cell_type": "markdown",
      "source": [
        "#### Método Moderno: `os.scandir()`\n",
        "El método os.scandir() es más eficiente que os.listdir() porque utiliza iteradores y devuelve objetos de tipo DirEntry, lo que reduce las llamadas al sistema."
      ],
      "metadata": {
        "id": "TEf3QiqlxpB1"
      }
    },
    {
      "cell_type": "code",
      "source": [
        "with os.scandir('mi_directorio/') as entradas:\n",
        "    for entrada in entradas:\n",
        "        print(entrada.name)"
      ],
      "metadata": {
        "id": "aC711lUrxw9e"
      },
      "execution_count": null,
      "outputs": []
    },
    {
      "cell_type": "markdown",
      "source": [
        "#### Método con `pathlib`\n",
        "`pathlib` es el enfoque orientado a objetos para manejar rutas de archivos."
      ],
      "metadata": {
        "id": "xmlGuuDgx0JF"
      }
    },
    {
      "cell_type": "code",
      "source": [
        "from pathlib import Path\n",
        "ruta = Path('mi_directorio/')\n",
        "for entrada in ruta.iterdir():\n",
        "    print(entrada.name)"
      ],
      "metadata": {
        "id": "E1TV8CXMxzgW"
      },
      "execution_count": null,
      "outputs": []
    },
    {
      "cell_type": "markdown",
      "source": [
        "## 2.Manipulación de Archivos y Directorios\n"
      ],
      "metadata": {
        "id": "_HSC5AhWyUkG"
      }
    },
    {
      "cell_type": "markdown",
      "source": [
        "### Comprobación de Tipos de Archivos\n",
        "Es importante saber si los elementos que estamos manejando son archivos o directorios. Para esto, utilizamos métodos como `isfile()` y `isdir()`."
      ],
      "metadata": {
        "id": "qN9DUiOwyZn2"
      }
    },
    {
      "cell_type": "code",
      "source": [
        "from pathlib import Path\n",
        "ruta_base = Path('mi_directorio/')\n",
        "for item in ruta_base.iterdir():\n",
        "    if item.is_file():\n",
        "        print(f'Archivo: {item.name}')\n",
        "    elif item.is_dir():\n",
        "        print(f'Directorio: {item.name}')"
      ],
      "metadata": {
        "id": "dd_qdRxpye21"
      },
      "execution_count": null,
      "outputs": []
    },
    {
      "cell_type": "markdown",
      "source": [
        "## 3.Creación y Eliminación de Directorios"
      ],
      "metadata": {
        "id": "FLr-8Kffygn2"
      }
    },
    {
      "cell_type": "markdown",
      "source": [
        "### 3.1. Creando Directorios\n",
        "Para crear un nuevo directorio, podemos usar `os.mkdir()` o `pathlib`.\n",
        "\n",
        "Usando `os.mkdir()`"
      ],
      "metadata": {
        "id": "hH2eNMljyyod"
      }
    },
    {
      "cell_type": "code",
      "source": [
        "import os\n",
        "os.mkdir('nuevo_directorio')"
      ],
      "metadata": {
        "id": "w0WHfj9ty6kV"
      },
      "execution_count": null,
      "outputs": []
    },
    {
      "cell_type": "markdown",
      "source": [
        "Usando `pathlib`\n",
        "Con `pathlib`, es posible crear directorios con un enfoque más intuitivo."
      ],
      "metadata": {
        "id": "CZt4L1V4y93N"
      }
    },
    {
      "cell_type": "code",
      "source": [
        "from pathlib import Path\n",
        "Path('nuevo_directorio').mkdir(parents=True, exist_ok=True)"
      ],
      "metadata": {
        "id": "m3sZc9t7zDWV"
      },
      "execution_count": null,
      "outputs": []
    },
    {
      "cell_type": "markdown",
      "source": [
        "### 3.2. Eliminación de Directorios\n",
        "La eliminación de directorios vacíos o con contenido se realiza utilizando `os.rmdir()` o `shutil.rmtree()`."
      ],
      "metadata": {
        "id": "LKeeZhI2zFk-"
      }
    },
    {
      "cell_type": "code",
      "source": [
        "# Eliminando un Directorio Vacío\n",
        "import os\n",
        "os.rmdir('directorio_vacío')"
      ],
      "metadata": {
        "id": "ZXWaB9tCzLc_"
      },
      "execution_count": null,
      "outputs": []
    },
    {
      "cell_type": "code",
      "source": [
        "# Eliminando un Directorio con Contenido\n",
        "import shutil\n",
        "shutil.rmtree('directorio_con_contenido')"
      ],
      "metadata": {
        "id": "D1RBbVywzLwn"
      },
      "execution_count": null,
      "outputs": []
    },
    {
      "cell_type": "markdown",
      "source": [
        "## 4.Copia y Movimiento de Archivos y Directorios"
      ],
      "metadata": {
        "id": "1h0EDT_izU5l"
      }
    },
    {
      "cell_type": "markdown",
      "source": [
        "### Copia de Archivos\n",
        "Podemos copiar archivos utilizando el módulo `shutil`."
      ],
      "metadata": {
        "id": "pRzLzHsgzXvA"
      }
    },
    {
      "cell_type": "code",
      "source": [
        "import shutil\n",
        "shutil.copy('archivo_origen.txt', 'directorio_destino/')"
      ],
      "metadata": {
        "id": "wanxmkVEzg5_"
      },
      "execution_count": null,
      "outputs": []
    },
    {
      "cell_type": "markdown",
      "source": [
        "Para preservar los metadatos del archivo durante la copia, utilizamos `shutil.copy2().`"
      ],
      "metadata": {
        "id": "SHP9JNGz0K2Z"
      }
    },
    {
      "cell_type": "markdown",
      "source": [
        "### Movimiento y Renombrado de Archivos\n",
        "El movimiento y renombrado de archivos se logra fácilmente con `shutil.move()` o `os.rename()`."
      ],
      "metadata": {
        "id": "kEtkOeVX0N7Z"
      }
    },
    {
      "cell_type": "code",
      "source": [
        "import shutil\n",
        "shutil.move('archivo.txt', 'directorio_destino/')"
      ],
      "metadata": {
        "id": "45_eOYHd0KL6"
      },
      "execution_count": null,
      "outputs": []
    },
    {
      "cell_type": "markdown",
      "source": [
        "## Compresión y Archivos Temporales"
      ],
      "metadata": {
        "id": "LoZlyOeR0d-L"
      }
    },
    {
      "cell_type": "markdown",
      "source": [
        "### Archivos Temporales\n",
        "El módulo `tempfile` nos permite trabajar con archivos temporales, que se eliminan automáticamente al cerrarse."
      ],
      "metadata": {
        "id": "lFcvIg9s0gTM"
      }
    },
    {
      "cell_type": "code",
      "source": [
        "from tempfile import TemporaryFile\n",
        "with TemporaryFile('w+t') as fp:\n",
        "    fp.write('Hola Mundo')\n",
        "    fp.seek(0)\n",
        "    print(fp.read())"
      ],
      "metadata": {
        "id": "gbUILk2a0kPT"
      },
      "execution_count": null,
      "outputs": []
    },
    {
      "cell_type": "markdown",
      "source": [
        "### Compresión y Archivos ZIP\n",
        "\n",
        "Para trabajar con archivos comprimidos, el módulo shutil ofrece una manera sencilla de crear y extraer archivos comprimidos."
      ],
      "metadata": {
        "id": "DUmbhWuC0rP8"
      }
    },
    {
      "cell_type": "code",
      "source": [
        "import shutil\n",
        "shutil.make_archive('backup', 'zip', 'directorio/')"
      ],
      "metadata": {
        "id": "ALsu6Ecw0v9M"
      },
      "execution_count": null,
      "outputs": []
    },
    {
      "cell_type": "markdown",
      "source": [
        "# Conclusión\n",
        "\n",
        "La integración con el sistema operativo en Python permite realizar operaciones complejas sobre archivos y directorios de manera eficiente. Esta lección ha cubierto los conceptos básicos de la manipulación del sistema de archivos, desde listar directorios hasta copiar, mover y eliminar archivos, con el objetivo de que puedas manejar estas tareas de manera eficiente en tus propios proyectos. Al utilizar módulos como os, shutil, y pathlib, puedes asegurarte de que tu código sea multiplataforma, escalable y fácil de mantener."
      ],
      "metadata": {
        "id": "SRJ7NnxW07z0"
      }
    }
  ]
}