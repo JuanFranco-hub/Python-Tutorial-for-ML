{
  "cells": [
    {
      "cell_type": "markdown",
      "metadata": {},
      "source": [
        "<a href=\"https://colab.research.google.com/github/JuanFranco-hub/Python-Tutorial-for-ML/blob/main/Lecciones/Lec11_Modulos_Paquetes.ipynb\" target=\"_parent\"><img src=\"https://colab.research.google.com/assets/colab-badge.svg\" alt=\"Open In Colab\"/></a> "
      ]
    },
    {
      "cell_type": "markdown",
      "metadata": {
        "id": "KW8HYdCp2dkC"
      },
      "source": [
        "# Importando módulos y paquetes en Python"
      ]
    },
    {
      "cell_type": "markdown",
      "metadata": {
        "id": "o7j9iIAI3Czq"
      },
      "source": [
        "En Python, podemos importar código de otros archivos para reutilizarlo en nuestros propios programas. Podemos importar tanto módulos como paquetes, que son colecciones organizadas de módulos.\n",
        "\n",
        "Un módulo es un archivo de Python que contiene definiciones de funciones, variables y clases que pueden ser utilizadas en otros programas. Un paquete es una carpeta que contiene uno o más módulos y un archivo init.py que indica que la carpeta es un paquete.\n",
        "\n",
        "Python permite importar varios tipos de módulos, incluyendo módulos separados de Python, bibliotecas de C escritas para ser utilizadas con Python, módulos integrados en el intérprete y módulos instalados por el usuario a través de herramientas como conda o pip."
      ]
    },
    {
      "cell_type": "markdown",
      "metadata": {
        "id": "xiSDDFDm3DKl"
      },
      "source": [
        "Para importar un módulo o paquete en Python, podemos usar la sintaxis \"import\", seguida del nombre del módulo o paquete que queremos importar. Por ejemplo, si queremos importar el módulo \"math\" de Python, podemos hacer lo siguiente:"
      ]
    },
    {
      "cell_type": "code",
      "execution_count": null,
      "metadata": {
        "id": "hsEeaqfO3Xd8"
      },
      "outputs": [],
      "source": [
        "import math"
      ]
    },
    {
      "cell_type": "markdown",
      "metadata": {
        "id": "URya8Edn3DhX"
      },
      "source": [
        "Después de importar el módulo, podemos usar sus definiciones en nuestro programa. Por ejemplo, podemos usar la función \"sqrt\" del módulo \"math\" para calcular la raíz cuadrada de un número:"
      ]
    },
    {
      "cell_type": "code",
      "execution_count": null,
      "metadata": {
        "id": "iSASLEtv0hwX"
      },
      "outputs": [],
      "source": [
        "import math\n",
        "\n",
        "x = 16\n",
        "\n",
        "raiz_cuadrada = math.sqrt(x)"
      ]
    },
    {
      "cell_type": "markdown",
      "metadata": {
        "id": "1K-4tW4A2cpm"
      },
      "source": [
        "## ¿Por qué utilizar módulos y paquetes en Python?"
      ]
    },
    {
      "cell_type": "markdown",
      "metadata": {
        "id": "oLlzd6fX3vx1"
      },
      "source": [
        "El uso de módulos y paquetes en Python tiene varios beneficios. Uno de los principales beneficios es la reutilización de código. Los módulos y paquetes permiten a los desarrolladores utilizar soluciones predefinidas para problemas comunes, lo que ahorra tiempo y esfuerzo en la escritura de código desde cero. Además, los módulos y paquetes fomentan la organización del código, lo que puede facilitar su mantenimiento.\n",
        "\n",
        "Además de la reutilización de código y la organización, los módulos y paquetes también pueden estandarizar interfaces y fomentar la robustez y el testing del código. Al proporcionar interfaces estandarizadas, los módulos y paquetes facilitan la colaboración entre desarrolladores y la interoperabilidad entre diferentes sistemas. También fomentan la escritura de código robusto al proporcionar una separación clara entre las distintas partes de un programa y al hacer más fácil la prueba y el mantenimiento del código.\n",
        "\n",
        "Es importante tener en cuenta que el uso de módulos y paquetes requiere tiempo y esfuerzo. No siempre es necesario crear un módulo o paquete para cada pequeña tarea que realizamos. Si vamos a utilizar una función o método solo una vez, no es necesario crear un módulo o paquete para ello. Sin embargo, si estamos utilizando los mismos métodos repetidamente en diferentes proyectos, entonces es una buena idea considerar la creación de un módulo o paquete para reutilizar el código y facilitar su mantenimiento."
      ]
    },
    {
      "cell_type": "markdown",
      "metadata": {
        "id": "jYaGZeT-34ol"
      },
      "source": [
        "## Importando módulos en Python: sintaxis y ejemplos\n",
        "\n",
        "En Python, hay varias formas de importar módulos. A continuación, describiré las diferentes sintaxis y ejemplos de cada una."
      ]
    },
    {
      "cell_type": "markdown",
      "metadata": {
        "id": "sLLRIUlQ4NrC"
      },
      "source": [
        "La forma más básica de importar un módulo es utilizar la sintaxis \"import\", seguida del nombre del módulo. Por ejemplo, para importar el módulo \"math\", podemos hacer lo siguiente:"
      ]
    },
    {
      "cell_type": "code",
      "execution_count": null,
      "metadata": {
        "id": "04GNLEtQ4RCb"
      },
      "outputs": [],
      "source": [
        "import math"
      ]
    },
    {
      "cell_type": "markdown",
      "metadata": {
        "id": "mu-7K32E7VR4"
      },
      "source": [
        "Después de importar el módulo, podemos utilizar sus definiciones de la siguiente manera:"
      ]
    },
    {
      "cell_type": "code",
      "execution_count": 3,
      "metadata": {
        "colab": {
          "base_uri": "https://localhost:8080/"
        },
        "id": "oABHGc8J7W8H",
        "outputId": "10500a63-62c7-417e-9574-22f63480d580"
      },
      "outputs": [
        {
          "name": "stdout",
          "output_type": "stream",
          "text": [
            "5.0\n"
          ]
        }
      ],
      "source": [
        "print(math.sqrt(25))"
      ]
    },
    {
      "cell_type": "markdown",
      "metadata": {
        "id": "WOXXCGj07fxQ"
      },
      "source": [
        "También podemos importar identificadores específicos de un módulo utilizando la sintaxis \"from `module` import `identifier`\". Por ejemplo, para importar solo la función \"sqrt\" del módulo \"math\", podemos hacer lo siguiente:"
      ]
    },
    {
      "cell_type": "code",
      "execution_count": 6,
      "metadata": {
        "id": "rPP6Cy-c7j9m"
      },
      "outputs": [],
      "source": [
        "from math import sqrt"
      ]
    },
    {
      "cell_type": "markdown",
      "metadata": {
        "id": "l1_XUUJh7nw6"
      },
      "source": [
        "Después de importar la función, podemos utilizarla de la siguiente manera:"
      ]
    },
    {
      "cell_type": "code",
      "execution_count": 7,
      "metadata": {
        "colab": {
          "base_uri": "https://localhost:8080/"
        },
        "id": "k9Zk9dC78Ex3",
        "outputId": "44cf8e27-a1e8-4666-ab4b-fc3747ef7d02"
      },
      "outputs": [
        {
          "name": "stdout",
          "output_type": "stream",
          "text": [
            "5.0\n"
          ]
        }
      ],
      "source": [
        "print(sqrt(25))"
      ]
    },
    {
      "cell_type": "markdown",
      "metadata": {
        "id": "02I5ulnU8XSr"
      },
      "source": [
        "También podemos utilizar la sintaxis \"from `<module>` import `<identifier>` as `<alias>`\" para darle un alias a un identificador importado. Por ejemplo:"
      ]
    },
    {
      "cell_type": "code",
      "execution_count": 8,
      "metadata": {
        "colab": {
          "base_uri": "https://localhost:8080/"
        },
        "id": "fQB6FWMZ8d2H",
        "outputId": "e6ed5d2c-b80a-433f-ff77-a2d33c62bac4"
      },
      "outputs": [
        {
          "name": "stdout",
          "output_type": "stream",
          "text": [
            "5.0\n"
          ]
        }
      ],
      "source": [
        "from math import sqrt as raiz_cuadrada\n",
        "\n",
        "print(raiz_cuadrada(25))"
      ]
    },
    {
      "cell_type": "markdown",
      "metadata": {
        "id": "t-TnX5zf8iCC"
      },
      "source": [
        "Es importante tener en cuenta que cuando utilizamos la sintaxis \"import\", necesitamos utilizar los nombres completos de las definiciones del módulo (por ejemplo, \"math.sqrt\" en lugar de simplemente \"sqrt\"). Si utilizamos la sintaxis \"from `<module>` import `<identifier>`\", podemos utilizar los nombres de identificadores directamente."
      ]
    },
    {
      "cell_type": "markdown",
      "metadata": {
        "id": "deGhuALU8z0V"
      },
      "source": [
        "##  Uso de código como módulo y ejecución condicional con name.\n",
        "\n",
        "En Python, podemos utilizar nuestro propio código como un módulo y ejecutarlo en otros programas. Sin embargo, cuando importamos un módulo, no queremos que se ejecute el código del módulo automáticamente. Para evitar esto, podemos utilizar una estructura condicional especial utilizando el valor de la variable name."
      ]
    },
    {
      "cell_type": "markdown",
      "metadata": {
        "id": "tblmhi3189Xq"
      },
      "source": [
        "Primero, podemos definir una función principal en nuestro módulo como sigue:\n",
        "\n",
        "\n",
        "\n",
        "```\n",
        "def main():\n",
        "    print(\"Ejecutando la función principal\")\n",
        "\n",
        "```\n",
        "Después, podemos llamar a esta función al final de nuestro archivo utilizando la sintaxis:\n",
        "\n",
        "\n",
        "\n",
        "```\n",
        "main()\n",
        "```\n",
        "\n",
        "Si importamos nuestro módulo en otro archivo, el código de la función principal se ejecutará automáticamente. Para evitar esto, podemos utilizar la variable name en nuestro archivo.\n",
        "\n",
        "Cuando un archivo es ejecutado directamente por Python, el valor de la variable name es \"main\". Por lo tanto, podemos utilizar esta información para asegurarnos de que el código de la función principal solo se ejecute si el archivo es ejecutado directamente.\n",
        "\n",
        "Podemos cambiar el final de nuestro archivo para que se vea así:\n",
        "\n",
        "\n",
        "\n",
        "```\n",
        "if __name__ == '__main__':\n",
        "    main()\n",
        "\n",
        "```\n",
        "\n",
        "Esto significa que solo se ejecutará la función principal si el archivo se ejecuta directamente. Si el archivo se importa como un módulo en otro programa, la función principal no se ejecutará automáticamente.\n",
        "\n",
        "Es importante tener en cuenta que la función principal solo se ejecutará si el archivo se ejecuta directamente. Si utilizamos el archivo como un módulo en otro programa y queremos utilizar la función principal, tendremos que llamarla explícitamente desde el otro programa.\n"
      ]
    },
    {
      "cell_type": "markdown",
      "metadata": {
        "id": "mBYgafZ29aKN"
      },
      "source": [
        "## Namespaces\n",
        "\n",
        "En Python, un namespace es básicamente un diccionario que contiene nombres y sus valores. Un namespace es utilizado por el intérprete para mantener un seguimiento de los nombres definidos en el programa."
      ]
    },
    {
      "cell_type": "markdown",
      "metadata": {
        "id": "NCqN9ZEt9kTe"
      },
      "source": [
        "Existen diferentes maneras de acceder a los namespaces. El namespace global se puede acceder mediante la función globals(). El namespace local se puede acceder mediante la función locals(). También existe un namespace especial llamado builtins que contiene los nombres definidos en el módulo builtins.\n",
        "\n",
        "Para examinar el contenido de un namespace, podemos utilizar la función dir(). Esta función nos devuelve una lista de los nombres definidos en el namespace.\n",
        "\n",
        "Cuando Python busca un nombre en el programa, primero busca en el namespace local, luego en el namespace del ámbito que lo encierra, después en el namespace global y finalmente en el namespace de los builtins.\n",
        "\n",
        "Si queremos acceder a nombres en scopes externos, podemos utilizar las declaraciones global (para acceder al namespace global) y nonlocal (para acceder al namespace del ámbito que lo encierra).\n",
        "\n",
        "En resumen, los namespaces son una parte fundamental de la estructura de Python y nos permiten mantener un seguimiento de los nombres definidos en nuestro programa. Con las funciones **globals()**, **locals()** y **dir()** podemos acceder y examinar los diferentes namespaces definidos. Además, las declaraciones global y nonlocal nos permiten acceder a los nombres definidos en scopes externos."
      ]
    },
    {
      "cell_type": "markdown",
      "metadata": {
        "id": "qhUr_BEb93Bt"
      },
      "source": [
        "## Wildcard imports en Python\n",
        "\n",
        "En Python, los wildcard imports nos permiten importar todos los nombres (no privados) de un módulo en nuestro namespace actual. Un ejemplo común de esto es el uso de la sentencia:\n",
        "\n",
        "`\"from math import *\"`\n",
        "\n",
        "que importa todos los nombres del módulo math."
      ]
    },
    {
      "cell_type": "markdown",
      "metadata": {
        "id": "i9rmSs1M-M9J"
      },
      "source": [
        "Sin embargo, es importante tener en cuenta que este tipo de importación debe ser evitado en la mayoría de los casos. Esto se debe a que puede resultar confuso saber qué nombres están disponibles en nuestro namespace actual y puede hacer que nuestro código sea difícil de leer y entender. Además, si importamos nombres de diferentes módulos o paquetes que tienen los mismos nombres, podemos causar problemas de conflicto de nombres."
      ]
    },
    {
      "cell_type": "markdown",
      "metadata": {
        "id": "glLVeUdd-NkB"
      },
      "source": [
        "En general, se recomienda evitar el uso de wildcard imports y en su lugar, importar solo los nombres que necesitamos de un módulo. Si estamos trabajando con un paquete y necesitamos exponer algunas de sus funciones en un módulo externo, podemos utilizar los wildcard imports para republicar la interfaz interna del paquete.\n",
        "\n",
        "\n",
        "\n"
      ]
    },
    {
      "cell_type": "markdown",
      "metadata": {
        "id": "bzQdNB_5DKb8"
      },
      "source": [
        "## Guías de importación en Python (según PEP 8)\n",
        "\n",
        "Existen algunas recomendaciones sobre cómo importar en Python, establecidas en la guía de estilo de Python (PEP 8). Algunas de estas recomendaciones son:"
      ]
    },
    {
      "cell_type": "markdown",
      "metadata": {
        "id": "IjmwGyUmDa4_"
      },
      "source": [
        "\n",
        "\n",
        "1.   Los imports deben estar en líneas separadas. Es decir, no es recomendable hacer imports en la misma línea separados por comas."
      ]
    },
    {
      "cell_type": "code",
      "execution_count": null,
      "metadata": {
        "id": "Bwu1AWPTFuP_"
      },
      "outputs": [],
      "source": [
        "# no escribas\n",
        "import sys, os"
      ]
    },
    {
      "cell_type": "code",
      "execution_count": null,
      "metadata": {
        "id": "4Ej46b5sFuwv"
      },
      "outputs": [],
      "source": [
        "# mejor escribe\n",
        "import sys\n",
        "import os"
      ]
    },
    {
      "cell_type": "markdown",
      "metadata": {
        "id": "zVVem_C4GFFz"
      },
      "source": [
        "\n",
        "2.   Cuando se importan múltiples nombres del mismo paquete, se recomienda hacerlo en la misma línea. Por ejemplo, si queremos importar los nombres Popen y PIPE del paquete subprocess, podemos hacerlo de la siguiente manera:"
      ]
    },
    {
      "cell_type": "code",
      "execution_count": null,
      "metadata": {
        "id": "PC2h61pRG_Ef"
      },
      "outputs": [],
      "source": [
        "from subprocess import Popen, PIPE"
      ]
    },
    {
      "cell_type": "markdown",
      "metadata": {
        "id": "3LRW_7PhHHBS"
      },
      "source": [
        "3.   Los imports deben estar al principio del archivo, antes de cualquier código. Además, se recomienda ordenar los imports en tres secciones: los imports estándar de Python, los imports de terceros y los imports locales.\n",
        "\n",
        "\n"
      ]
    },
    {
      "cell_type": "markdown",
      "metadata": {
        "id": "efTubk5XHGOL"
      },
      "source": [
        "4. Se debe evitar el uso de wildcard imports en la mayoría de los casos, ya que pueden hacer que nuestro código sea confuso y difícil de entender. En lugar de ello, se recomienda importar solo los nombres que necesitamos de un módulo o paquete."
      ]
    },
    {
      "cell_type": "markdown",
      "metadata": {
        "id": "oTxoPv5uHXUc"
      },
      "source": [
        "## Importaciones condicionales \n",
        "\n",
        "Las importaciones condicionales o dinámicas en Python se utilizan cuando se necesita importar un módulo de manera selectiva, es decir, dependiendo de ciertas condiciones que se deben cumplir en tiempo de ejecución. Es una práctica recomendada poner todas las importaciones al principio del archivo Python. Sin embargo, hay casos en los que necesitamos importar un módulo de manera condicional, como cuando se desea importar un módulo de una versión específica de Python."
      ]
    },
    {
      "cell_type": "markdown",
      "metadata": {
        "id": "aBwkjqZEJnl3"
      },
      "source": [
        "Un ejemplo de importación condicional sería el siguiente:"
      ]
    },
    {
      "cell_type": "code",
      "execution_count": null,
      "metadata": {
        "id": "6nsryYlPJsKd"
      },
      "outputs": [],
      "source": [
        "import sys\n",
        "\n",
        "if sys.version_info >= [3,7]:\n",
        "    from collections import OrderedDict\n",
        "else:\n",
        "    OrderedDict = dict"
      ]
    },
    {
      "cell_type": "markdown",
      "metadata": {
        "id": "lh0amq1GJ3zJ"
      },
      "source": [
        "En este ejemplo, se comprueba si la versión de Python en uso es superior o igual a 3.7. Si es así, se importa el módulo `OrderedDict` del paquete `collections`. De lo contrario, se asigna el tipo de diccionario estándar de Python `dict` a la variable OrderedDict."
      ]
    },
    {
      "cell_type": "markdown",
      "metadata": {
        "id": "RuyNSdaDLMkq"
      },
      "source": [
        "También es posible cargar un módulo dinámicamente utilizando el módulo importlib. Por ejemplo:"
      ]
    },
    {
      "cell_type": "code",
      "execution_count": null,
      "metadata": {
        "id": "aGpT9kDlLO-H"
      },
      "outputs": [],
      "source": [
        "import importlib\n",
        "importlib.import_module(\"collections\")"
      ]
    },
    {
      "cell_type": "markdown",
      "metadata": {
        "id": "euaOjsO8LTAn"
      },
      "source": [
        "Otra forma de cargar un módulo dinámicamente es utilizando el método `__import__`. Sin embargo, esta forma es menos recomendada y se utiliza con menos frecuencia en la programación de Python."
      ]
    },
    {
      "cell_type": "markdown",
      "metadata": {
        "id": "ZETp--4oMeda"
      },
      "source": [
        "## Importaciones absolutas y relativas en Python\n",
        "\n",
        "En Python, hay dos formas de importar módulos: importaciones absolutas y relativas. Ambas formas se utilizan para acceder a código en otros módulos y paquetes, pero hay algunas diferencias importantes entre ellas."
      ]
    },
    {
      "cell_type": "markdown",
      "metadata": {
        "id": "iH_zsJfdMnGu"
      },
      "source": [
        "Las importaciones absolutas son la forma más común de importar módulos en Python. Utilizan el nombre completo del módulo para acceder a él. Por ejemplo:\n",
        "\n",
        "\n",
        "\n",
        "```\n",
        "import foo.bar.submodule\n",
        "```\n",
        "Esta importación utiliza la ruta completa del módulo \"submodule\", que se encuentra dentro de los paquetes \"bar\" y \"foo\". Las importaciones absolutas son la forma recomendada de importar módulos en Python, ya que son más explícitas y menos propensas a causar errores.\n",
        "\n"
      ]
    },
    {
      "cell_type": "markdown",
      "metadata": {
        "id": "qQSsZYZPM75a"
      },
      "source": [
        "Las importaciones relativas, por otro lado, utilizan la estructura de directorios para acceder a módulos en paquetes locales. Las importaciones relativas utilizan un punto (.) para indicar la ubicación del módulo en relación con el módulo actual. Por ejemplo:\n",
        "\n",
        "`from .submodule import functioEsta importación se refiere al módulo \"submodule\", que se encuentra en el mismo directorio que el módulo actual. Las importaciones relativas son útiles en situaciones en las que se desea acceder a código en un paquete local sin especificar la ruta completa del paquete.\n",
        "\n",
        "Es importante tener en cuenta que las importaciones relativas solo funcionan en módulos que se encuentran dentro de un paquete. Si intentas utilizar una importación relativa en un módulo que no está en un paquete, se producirá un error.n_name`\n"
      ]
    },
    {
      "cell_type": "markdown",
      "metadata": {
        "id": "27_lxeVBWmP4"
      },
      "source": [
        "Para que se utiliza el archivo __main__.py?\n",
        "\n",
        "El archivo main.py se utiliza para definir el punto de entrada de un paquete de Python. Cuando se ejecuta un paquete, Python busca el archivo main.py dentro del paquete y lo ejecuta como el punto de entrada del paquete. Esto se puede hacer mediante el uso del comando \"python -m\" seguido del nombre del paquete.\n",
        "\n",
        "Por ejemplo, si tenemos un paquete llamado \"test_pkg\" con el siguiente árbol de archivos:\n",
        "\n",
        "\n",
        "\n",
        "```\n",
        "test_pkg/\n",
        "    __init__.py\n",
        "    module1.py\n",
        "    __main__.py\n",
        "\n",
        "```\n",
        "Podemos ejecutar el paquete utilizando el siguiente comando:\n",
        "\n",
        "\n",
        "\n",
        "```\n",
        "python -m test_pkg\n",
        "```\n",
        "Esto ejecutará el archivo main.py dentro del paquete test_pkg como el punto de entrada del paquete.\n"
      ]
    },
    {
      "cell_type": "markdown",
      "metadata": {
        "id": "FmM6AU_EXdDt"
      },
      "source": [
        "## ¿Dónde encuentro paquetes de python?\n",
        "\n",
        "Al trabajar en proyectos de Python, es probable que necesitemos utilizar paquetes o librerías de terceros para llevar a cabo algunas tareas específicas. Por ejemplo, podemos requerir una librería para procesamiento de imágenes, otra para cálculos matemáticos complejos, o incluso una para manejo de bases de datos. Es aquí donde entra en juego la instalación de paquetes en Python.\n",
        "\n",
        "Existen diferentes formas de instalar paquetes en Python, pero la más común es a través de PyPI (Python Package Index), que es el repositorio estándar de paquetes de Python. PyPI cuenta con una gran cantidad de paquetes disponibles para su descarga e instalación a través de la herramienta pip.\n",
        "\n",
        "Una de las ventajas de utilizar pip para la instalación de paquetes es que se encarga de resolver automáticamente las dependencias, lo que significa que si un paquete que estamos instalando requiere de otro para funcionar correctamente, pip se encargará de instalar ambas librerías. Además, podemos especificar la versión de un paquete que deseamos instalar, lo que es útil si necesitamos una versión específica de una librería para nuestro proyecto.\n",
        "\n"
      ]
    },
    {
      "cell_type": "markdown",
      "metadata": {
        "id": "5I57ECffX6Z7"
      },
      "source": [
        "Otro aspecto importante a tener en cuenta es que los paquetes en PyPI se distribuyen en dos formatos principales: source distribution (sdist) y binary distribution (wheel). La ventaja de las distribuciones binarias es que son más fáciles y rápidas de instalar, y por lo general son más estables."
      ]
    },
    {
      "cell_type": "markdown",
      "metadata": {
        "id": "g3kzYzPcX7Sl"
      },
      "source": [
        "Otra opción para la instalación de paquetes es utilizar Anaconda, que es un distribuidor de paquetes de Python (y otros lenguajes de programación). Anaconda cuenta con su propio gestor de paquetes llamado conda, que es similar a pip, pero es agnóstico al lenguaje de programación y puede manejar dependencias de paquetes que no son de Python. Además, Anaconda cuenta con diferentes canales de distribución, como el canal por defecto y conda-forge (liderado por la comunidad), lo que amplía aún más el número de paquetes disponibles para su instalación."
      ]
    },
    {
      "cell_type": "markdown",
      "metadata": {
        "id": "RcTarWvEYEqG"
      },
      "source": [
        "Aprender a instalar paquetes de Python es esencial para poder desarrollar proyectos más complejos y resolver tareas específicas en nuestro código de una manera más eficiente y efectiva."
      ]
    }
  ],
  "metadata": {
    "colab": {
      "provenance": []
    },
    "kernelspec": {
      "display_name": "Python 3",
      "name": "python3"
    },
    "language_info": {
      "name": "python"
    }
  },
  "nbformat": 4,
  "nbformat_minor": 0
}
