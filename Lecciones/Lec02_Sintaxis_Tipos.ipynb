{
  "nbformat": 4,
  "nbformat_minor": 0,
  "metadata": {
    "colab": {
      "provenance": []
    },
    "kernelspec": {
      "name": "python3",
      "display_name": "Python 3"
    },
    "language_info": {
      "name": "python"
    }
  },
  "cells": [
    {
      "cell_type": "markdown",
      "source": [
        "#Tutorial de Sintaxis y Tipos de Datos en Python\n",
        "\n",
        "La estructura y organización del código son fundamentales para escribir programas legibles y eficientes. La indentación es crucial en Python, ya que define la jerarquía del código y muestra la relación entre bloques de código. las asignaciones de variables, llamadas a funciones, bucles y condicionales estan relacionadas directamente con la declaración de elementos. Al estructurar el código, se pueden utilizar herramientas como PEP-8 las cuales te ayuden a tener orden y una buena escritura de código.\n",
        "\n",
        "---"
      ],
      "metadata": {
        "id": "-sBPO5DEDprH"
      }
    },
    {
      "cell_type": "markdown",
      "source": [
        "## Variables\n",
        "Las variables son lugares donde almacenamos información. Dependiendo del tipo de información que guardemos, la variable puede ser de un tipo específico. Estas variables pueden cambiar de información durante el transcurso del codigo.\n",
        "\n",
        "para usar una variable es necesario definirla, y es posible de dos maneras definir el tipo de variable en Python hay dos maneras:\n",
        "\n",
        "- De forma Automatica cuando se le asigna un valor\n",
        "\n",
        "- Declarandole un tipo de dato a la variable:"
      ],
      "metadata": {
        "id": "dHrwOJI1Dsof"
      }
    },
    {
      "cell_type": "markdown",
      "source": [
        "### Nombrar Variables\n",
        "Para nombrar variables podemos guiarnos de PEP-8, en donde debemos cumplir los siguietes requerimientos.\n",
        "\n",
        "- Las variables deben nombrarse como letra, palabra o palabras separadas por barra baja.\n",
        "\n",
        "- No pueden nombrarse variables como palabras reservadas\n",
        "- Declarar una variable por linea\n",
        "\n"
      ],
      "metadata": {
        "id": "QqI3cL4ZeCOe"
      }
    },
    {
      "cell_type": "code",
      "source": [
        "ent = 2\n",
        "tex = \"Hello world\""
      ],
      "metadata": {
        "id": "2rZSzlnbVsEX"
      },
      "execution_count": null,
      "outputs": []
    },
    {
      "cell_type": "markdown",
      "source": [
        "----\n",
        "## Tipos de Datos\n",
        "\n",
        "Los tipos de datos son los siguientes:\n",
        "\n",
        "|**Tipo**|**Definición**|**Ejemplo de dato**|**Ejemplo de declaración**|\n",
        "|----|-----------|-----------------|----------------------|\n",
        "|Número|Pueden ser enteros(int) o Reales (float)| 1,2,3 (int); 1.2, -3.4 (Float)|`ent = 2 , flo = -5.2`|\n",
        "|string|Texto|\"hello world\"| `tex = \"Hello world\"`|\n",
        "|Lista|colecciones ordenadas de datos(varios tipos)|1, 3.1, \"Hello\"|`my_list = [ 1, 3.1, \"hello\" ]`|\n",
        "|set|conjunto de datos únicos|{1,2,3}|`my_set = {1,2,3}`|\n",
        "|tuplas|similares a listas. no se pueden modificar después de crearlas|(1,2,3)|`my_set = {1,2,3}`|\n",
        "|Diccionario|Asocian claves (keys) con valores (values)|{\"nombre\": \"Ameth\", \"edad\": 21}|`my_dictionary = {\"nombre\": \"Ameth\", \"edad\": 21}`|\n",
        "|Booleanos|Representan valores binarios de verdadero o falso|true, false|`bol = True`|\n",
        "\n"
      ],
      "metadata": {
        "id": "nYXsQ4DwVn5s"
      }
    },
    {
      "cell_type": "markdown",
      "source": [
        "## Tipos de Salidas"
      ],
      "metadata": {
        "id": "EBAuipQeVf2_"
      }
    },
    {
      "cell_type": "markdown",
      "source": [
        "### 1. stdout (standard output)\n",
        "`stdout` (salida estándar) es el flujo de salida predeterminado donde un programa envía información general o resultados que no son errores. Este flujo es normalmente la consola o la terminal, pero puede redirigirse a archivos u otros flujos.\n",
        "\n",
        "* Ejemplo típico: el uso de `print()` en Python envía la información a `stdout`."
      ],
      "metadata": {
        "id": "_mtzu8GwD8tX"
      }
    },
    {
      "cell_type": "code",
      "source": [
        "print(\"Este es un mensaje de salida estándar (stdout)\")"
      ],
      "metadata": {
        "id": "aaW0FW42D9r2"
      },
      "execution_count": null,
      "outputs": []
    },
    {
      "cell_type": "markdown",
      "source": [
        "### 2. stderr (standard error)\n",
        "`stderr` (error estándar) es el flujo donde los programas envían mensajes de error. A diferencia de `stdout`, se usa específicamente para errores y advertencias. `stderr` es separado de `stdout` para que sea más fácil gestionar y redirigir errores sin mezclarlos con los resultados normales.\n",
        "\n",
        "* Ejemplo: podemos usar el módulo sys para enviar mensajes a `stderr`."
      ],
      "metadata": {
        "id": "y761SkajD_YX"
      }
    },
    {
      "cell_type": "code",
      "source": [
        "import sys\n",
        "\n",
        "print(\"Este es un mensaje de salida estándar (stdout)\")\n",
        "sys.stderr.write(\"Este es un mensaje de error (stderr)\\n\")"
      ],
      "metadata": {
        "id": "2khTfN0QD-f_",
        "outputId": "c068d0b8-68e8-4511-add8-00b67949b228",
        "colab": {
          "base_uri": "https://localhost:8080/"
        }
      },
      "execution_count": 1,
      "outputs": [
        {
          "output_type": "stream",
          "name": "stdout",
          "text": [
            "Este es un mensaje de salida estándar (stdout)\n"
          ]
        },
        {
          "output_type": "stream",
          "name": "stderr",
          "text": [
            "Este es un mensaje de error (stderr)\n"
          ]
        }
      ]
    },
    {
      "cell_type": "markdown",
      "source": [
        "### 3. display\n",
        "display se refiere a la salida visual en entornos interactivos como Jupyter Notebook, donde los resultados se muestran de manera más rica y visual. Por ejemplo, al usar pandas para mostrar un DataFrame o matplotlib para generar gráficos, los resultados aparecen en el formato \"display\" dentro de la interfaz gráfica del entorno.\n",
        "\n",
        "* Ejemplo en un Jupyter Notebook:"
      ],
      "metadata": {
        "id": "t9JO_soLD-U_"
      }
    },
    {
      "cell_type": "code",
      "source": [
        "import pandas as pd\n",
        "df = pd.DataFrame({\n",
        "    'Nombre': ['Juan', 'Ana'],\n",
        "    'Edad': [22, 30]\n",
        "})\n",
        "df"
      ],
      "metadata": {
        "id": "QaE7si2zD-I3",
        "outputId": "f50a5c3a-28c7-4d7b-c698-6ffbab9d4365",
        "colab": {
          "base_uri": "https://localhost:8080/",
          "height": 125
        }
      },
      "execution_count": 2,
      "outputs": [
        {
          "output_type": "execute_result",
          "data": {
            "text/plain": [
              "  Nombre  Edad\n",
              "0   Juan    22\n",
              "1    Ana    30"
            ],
            "text/html": [
              "\n",
              "  <div id=\"df-ac2fa1e2-f9c2-4a10-9023-fb246d9dd3fb\" class=\"colab-df-container\">\n",
              "    <div>\n",
              "<style scoped>\n",
              "    .dataframe tbody tr th:only-of-type {\n",
              "        vertical-align: middle;\n",
              "    }\n",
              "\n",
              "    .dataframe tbody tr th {\n",
              "        vertical-align: top;\n",
              "    }\n",
              "\n",
              "    .dataframe thead th {\n",
              "        text-align: right;\n",
              "    }\n",
              "</style>\n",
              "<table border=\"1\" class=\"dataframe\">\n",
              "  <thead>\n",
              "    <tr style=\"text-align: right;\">\n",
              "      <th></th>\n",
              "      <th>Nombre</th>\n",
              "      <th>Edad</th>\n",
              "    </tr>\n",
              "  </thead>\n",
              "  <tbody>\n",
              "    <tr>\n",
              "      <th>0</th>\n",
              "      <td>Juan</td>\n",
              "      <td>22</td>\n",
              "    </tr>\n",
              "    <tr>\n",
              "      <th>1</th>\n",
              "      <td>Ana</td>\n",
              "      <td>30</td>\n",
              "    </tr>\n",
              "  </tbody>\n",
              "</table>\n",
              "</div>\n",
              "    <div class=\"colab-df-buttons\">\n",
              "\n",
              "  <div class=\"colab-df-container\">\n",
              "    <button class=\"colab-df-convert\" onclick=\"convertToInteractive('df-ac2fa1e2-f9c2-4a10-9023-fb246d9dd3fb')\"\n",
              "            title=\"Convert this dataframe to an interactive table.\"\n",
              "            style=\"display:none;\">\n",
              "\n",
              "  <svg xmlns=\"http://www.w3.org/2000/svg\" height=\"24px\" viewBox=\"0 -960 960 960\">\n",
              "    <path d=\"M120-120v-720h720v720H120Zm60-500h600v-160H180v160Zm220 220h160v-160H400v160Zm0 220h160v-160H400v160ZM180-400h160v-160H180v160Zm440 0h160v-160H620v160ZM180-180h160v-160H180v160Zm440 0h160v-160H620v160Z\"/>\n",
              "  </svg>\n",
              "    </button>\n",
              "\n",
              "  <style>\n",
              "    .colab-df-container {\n",
              "      display:flex;\n",
              "      gap: 12px;\n",
              "    }\n",
              "\n",
              "    .colab-df-convert {\n",
              "      background-color: #E8F0FE;\n",
              "      border: none;\n",
              "      border-radius: 50%;\n",
              "      cursor: pointer;\n",
              "      display: none;\n",
              "      fill: #1967D2;\n",
              "      height: 32px;\n",
              "      padding: 0 0 0 0;\n",
              "      width: 32px;\n",
              "    }\n",
              "\n",
              "    .colab-df-convert:hover {\n",
              "      background-color: #E2EBFA;\n",
              "      box-shadow: 0px 1px 2px rgba(60, 64, 67, 0.3), 0px 1px 3px 1px rgba(60, 64, 67, 0.15);\n",
              "      fill: #174EA6;\n",
              "    }\n",
              "\n",
              "    .colab-df-buttons div {\n",
              "      margin-bottom: 4px;\n",
              "    }\n",
              "\n",
              "    [theme=dark] .colab-df-convert {\n",
              "      background-color: #3B4455;\n",
              "      fill: #D2E3FC;\n",
              "    }\n",
              "\n",
              "    [theme=dark] .colab-df-convert:hover {\n",
              "      background-color: #434B5C;\n",
              "      box-shadow: 0px 1px 3px 1px rgba(0, 0, 0, 0.15);\n",
              "      filter: drop-shadow(0px 1px 2px rgba(0, 0, 0, 0.3));\n",
              "      fill: #FFFFFF;\n",
              "    }\n",
              "  </style>\n",
              "\n",
              "    <script>\n",
              "      const buttonEl =\n",
              "        document.querySelector('#df-ac2fa1e2-f9c2-4a10-9023-fb246d9dd3fb button.colab-df-convert');\n",
              "      buttonEl.style.display =\n",
              "        google.colab.kernel.accessAllowed ? 'block' : 'none';\n",
              "\n",
              "      async function convertToInteractive(key) {\n",
              "        const element = document.querySelector('#df-ac2fa1e2-f9c2-4a10-9023-fb246d9dd3fb');\n",
              "        const dataTable =\n",
              "          await google.colab.kernel.invokeFunction('convertToInteractive',\n",
              "                                                    [key], {});\n",
              "        if (!dataTable) return;\n",
              "\n",
              "        const docLinkHtml = 'Like what you see? Visit the ' +\n",
              "          '<a target=\"_blank\" href=https://colab.research.google.com/notebooks/data_table.ipynb>data table notebook</a>'\n",
              "          + ' to learn more about interactive tables.';\n",
              "        element.innerHTML = '';\n",
              "        dataTable['output_type'] = 'display_data';\n",
              "        await google.colab.output.renderOutput(dataTable, element);\n",
              "        const docLink = document.createElement('div');\n",
              "        docLink.innerHTML = docLinkHtml;\n",
              "        element.appendChild(docLink);\n",
              "      }\n",
              "    </script>\n",
              "  </div>\n",
              "\n",
              "\n",
              "<div id=\"df-8f27c079-2bd6-457a-9991-a477d5057238\">\n",
              "  <button class=\"colab-df-quickchart\" onclick=\"quickchart('df-8f27c079-2bd6-457a-9991-a477d5057238')\"\n",
              "            title=\"Suggest charts\"\n",
              "            style=\"display:none;\">\n",
              "\n",
              "<svg xmlns=\"http://www.w3.org/2000/svg\" height=\"24px\"viewBox=\"0 0 24 24\"\n",
              "     width=\"24px\">\n",
              "    <g>\n",
              "        <path d=\"M19 3H5c-1.1 0-2 .9-2 2v14c0 1.1.9 2 2 2h14c1.1 0 2-.9 2-2V5c0-1.1-.9-2-2-2zM9 17H7v-7h2v7zm4 0h-2V7h2v10zm4 0h-2v-4h2v4z\"/>\n",
              "    </g>\n",
              "</svg>\n",
              "  </button>\n",
              "\n",
              "<style>\n",
              "  .colab-df-quickchart {\n",
              "      --bg-color: #E8F0FE;\n",
              "      --fill-color: #1967D2;\n",
              "      --hover-bg-color: #E2EBFA;\n",
              "      --hover-fill-color: #174EA6;\n",
              "      --disabled-fill-color: #AAA;\n",
              "      --disabled-bg-color: #DDD;\n",
              "  }\n",
              "\n",
              "  [theme=dark] .colab-df-quickchart {\n",
              "      --bg-color: #3B4455;\n",
              "      --fill-color: #D2E3FC;\n",
              "      --hover-bg-color: #434B5C;\n",
              "      --hover-fill-color: #FFFFFF;\n",
              "      --disabled-bg-color: #3B4455;\n",
              "      --disabled-fill-color: #666;\n",
              "  }\n",
              "\n",
              "  .colab-df-quickchart {\n",
              "    background-color: var(--bg-color);\n",
              "    border: none;\n",
              "    border-radius: 50%;\n",
              "    cursor: pointer;\n",
              "    display: none;\n",
              "    fill: var(--fill-color);\n",
              "    height: 32px;\n",
              "    padding: 0;\n",
              "    width: 32px;\n",
              "  }\n",
              "\n",
              "  .colab-df-quickchart:hover {\n",
              "    background-color: var(--hover-bg-color);\n",
              "    box-shadow: 0 1px 2px rgba(60, 64, 67, 0.3), 0 1px 3px 1px rgba(60, 64, 67, 0.15);\n",
              "    fill: var(--button-hover-fill-color);\n",
              "  }\n",
              "\n",
              "  .colab-df-quickchart-complete:disabled,\n",
              "  .colab-df-quickchart-complete:disabled:hover {\n",
              "    background-color: var(--disabled-bg-color);\n",
              "    fill: var(--disabled-fill-color);\n",
              "    box-shadow: none;\n",
              "  }\n",
              "\n",
              "  .colab-df-spinner {\n",
              "    border: 2px solid var(--fill-color);\n",
              "    border-color: transparent;\n",
              "    border-bottom-color: var(--fill-color);\n",
              "    animation:\n",
              "      spin 1s steps(1) infinite;\n",
              "  }\n",
              "\n",
              "  @keyframes spin {\n",
              "    0% {\n",
              "      border-color: transparent;\n",
              "      border-bottom-color: var(--fill-color);\n",
              "      border-left-color: var(--fill-color);\n",
              "    }\n",
              "    20% {\n",
              "      border-color: transparent;\n",
              "      border-left-color: var(--fill-color);\n",
              "      border-top-color: var(--fill-color);\n",
              "    }\n",
              "    30% {\n",
              "      border-color: transparent;\n",
              "      border-left-color: var(--fill-color);\n",
              "      border-top-color: var(--fill-color);\n",
              "      border-right-color: var(--fill-color);\n",
              "    }\n",
              "    40% {\n",
              "      border-color: transparent;\n",
              "      border-right-color: var(--fill-color);\n",
              "      border-top-color: var(--fill-color);\n",
              "    }\n",
              "    60% {\n",
              "      border-color: transparent;\n",
              "      border-right-color: var(--fill-color);\n",
              "    }\n",
              "    80% {\n",
              "      border-color: transparent;\n",
              "      border-right-color: var(--fill-color);\n",
              "      border-bottom-color: var(--fill-color);\n",
              "    }\n",
              "    90% {\n",
              "      border-color: transparent;\n",
              "      border-bottom-color: var(--fill-color);\n",
              "    }\n",
              "  }\n",
              "</style>\n",
              "\n",
              "  <script>\n",
              "    async function quickchart(key) {\n",
              "      const quickchartButtonEl =\n",
              "        document.querySelector('#' + key + ' button');\n",
              "      quickchartButtonEl.disabled = true;  // To prevent multiple clicks.\n",
              "      quickchartButtonEl.classList.add('colab-df-spinner');\n",
              "      try {\n",
              "        const charts = await google.colab.kernel.invokeFunction(\n",
              "            'suggestCharts', [key], {});\n",
              "      } catch (error) {\n",
              "        console.error('Error during call to suggestCharts:', error);\n",
              "      }\n",
              "      quickchartButtonEl.classList.remove('colab-df-spinner');\n",
              "      quickchartButtonEl.classList.add('colab-df-quickchart-complete');\n",
              "    }\n",
              "    (() => {\n",
              "      let quickchartButtonEl =\n",
              "        document.querySelector('#df-8f27c079-2bd6-457a-9991-a477d5057238 button');\n",
              "      quickchartButtonEl.style.display =\n",
              "        google.colab.kernel.accessAllowed ? 'block' : 'none';\n",
              "    })();\n",
              "  </script>\n",
              "</div>\n",
              "\n",
              "  <div id=\"id_b83dee48-a22d-403c-a00f-008078012304\">\n",
              "    <style>\n",
              "      .colab-df-generate {\n",
              "        background-color: #E8F0FE;\n",
              "        border: none;\n",
              "        border-radius: 50%;\n",
              "        cursor: pointer;\n",
              "        display: none;\n",
              "        fill: #1967D2;\n",
              "        height: 32px;\n",
              "        padding: 0 0 0 0;\n",
              "        width: 32px;\n",
              "      }\n",
              "\n",
              "      .colab-df-generate:hover {\n",
              "        background-color: #E2EBFA;\n",
              "        box-shadow: 0px 1px 2px rgba(60, 64, 67, 0.3), 0px 1px 3px 1px rgba(60, 64, 67, 0.15);\n",
              "        fill: #174EA6;\n",
              "      }\n",
              "\n",
              "      [theme=dark] .colab-df-generate {\n",
              "        background-color: #3B4455;\n",
              "        fill: #D2E3FC;\n",
              "      }\n",
              "\n",
              "      [theme=dark] .colab-df-generate:hover {\n",
              "        background-color: #434B5C;\n",
              "        box-shadow: 0px 1px 3px 1px rgba(0, 0, 0, 0.15);\n",
              "        filter: drop-shadow(0px 1px 2px rgba(0, 0, 0, 0.3));\n",
              "        fill: #FFFFFF;\n",
              "      }\n",
              "    </style>\n",
              "    <button class=\"colab-df-generate\" onclick=\"generateWithVariable('df')\"\n",
              "            title=\"Generate code using this dataframe.\"\n",
              "            style=\"display:none;\">\n",
              "\n",
              "  <svg xmlns=\"http://www.w3.org/2000/svg\" height=\"24px\"viewBox=\"0 0 24 24\"\n",
              "       width=\"24px\">\n",
              "    <path d=\"M7,19H8.4L18.45,9,17,7.55,7,17.6ZM5,21V16.75L18.45,3.32a2,2,0,0,1,2.83,0l1.4,1.43a1.91,1.91,0,0,1,.58,1.4,1.91,1.91,0,0,1-.58,1.4L9.25,21ZM18.45,9,17,7.55Zm-12,3A5.31,5.31,0,0,0,4.9,8.1,5.31,5.31,0,0,0,1,6.5,5.31,5.31,0,0,0,4.9,4.9,5.31,5.31,0,0,0,6.5,1,5.31,5.31,0,0,0,8.1,4.9,5.31,5.31,0,0,0,12,6.5,5.46,5.46,0,0,0,6.5,12Z\"/>\n",
              "  </svg>\n",
              "    </button>\n",
              "    <script>\n",
              "      (() => {\n",
              "      const buttonEl =\n",
              "        document.querySelector('#id_b83dee48-a22d-403c-a00f-008078012304 button.colab-df-generate');\n",
              "      buttonEl.style.display =\n",
              "        google.colab.kernel.accessAllowed ? 'block' : 'none';\n",
              "\n",
              "      buttonEl.onclick = () => {\n",
              "        google.colab.notebook.generateWithVariable('df');\n",
              "      }\n",
              "      })();\n",
              "    </script>\n",
              "  </div>\n",
              "\n",
              "    </div>\n",
              "  </div>\n"
            ],
            "application/vnd.google.colaboratory.intrinsic+json": {
              "type": "dataframe",
              "variable_name": "df",
              "summary": "{\n  \"name\": \"df\",\n  \"rows\": 2,\n  \"fields\": [\n    {\n      \"column\": \"Nombre\",\n      \"properties\": {\n        \"dtype\": \"string\",\n        \"num_unique_values\": 2,\n        \"samples\": [\n          \"Ana\",\n          \"Juan\"\n        ],\n        \"semantic_type\": \"\",\n        \"description\": \"\"\n      }\n    },\n    {\n      \"column\": \"Edad\",\n      \"properties\": {\n        \"dtype\": \"number\",\n        \"std\": 5,\n        \"min\": 22,\n        \"max\": 30,\n        \"num_unique_values\": 2,\n        \"samples\": [\n          30,\n          22\n        ],\n        \"semantic_type\": \"\",\n        \"description\": \"\"\n      }\n    }\n  ]\n}"
            }
          },
          "metadata": {},
          "execution_count": 2
        }
      ]
    },
    {
      "cell_type": "markdown",
      "source": [
        "### 4. output\n",
        "output generalmente se refiere a cualquier resultado producido por el programa que se devuelve como una función o valor. Este término se usa en un sentido más amplio, abarcando todos los resultados, ya sea que se muestren en la consola o que se pasen como valores.\n",
        "\n",
        "* Ejemplo de función que produce output:"
      ],
      "metadata": {
        "id": "V1_1z9jrD96P"
      }
    },
    {
      "cell_type": "code",
      "source": [
        "def suma(a, b):\n",
        "    return a + b\n",
        "\n",
        "resultado = suma(5, 10)\n",
        "print(f\"El resultado de la suma es: {resultado}\")"
      ],
      "metadata": {
        "colab": {
          "base_uri": "https://localhost:8080/"
        },
        "id": "XJOAgP9dVfZ6",
        "outputId": "a8166451-c032-4bd8-ef11-8a73a5f411a7"
      },
      "execution_count": 3,
      "outputs": [
        {
          "output_type": "stream",
          "name": "stdout",
          "text": [
            "El resultado de la suma es: 15\n"
          ]
        }
      ]
    },
    {
      "cell_type": "markdown",
      "source": [
        "---\n",
        "\n",
        "## Operadores\n",
        "Los operadores realizan funciones con variables. algunos de estos operadores son:\n",
        "\n",
        "| **Tipo de Operador** | **Operador** | **Descripción** |\n",
        "|----------------------|--------------|-----------------|\n",
        "| **Operadores de Asignación** | `=`| Asigna el valor de la derecha a la variable de la izquierda. |\n",
        "|                             | `+=` | Asigna la suma del valor de la derecha al valor de la izquierda. |\n",
        "|                             | `-=` | Asigna la resta del valor de la derecha al valor de la izquierda. |\n",
        "|                             | `*=` | Asigna el producto del valor de la derecha al valor de la izquierda. |\n",
        "|                             | `/=` | Asigna la división del valor de la izquierda por el valor de la derecha. |\n",
        "|                             | `%=` | Asigna el módulo (resto) del valor de la izquierda por el valor de la derecha. |"
      ],
      "metadata": {
        "id": "wnIWSJOGEbwZ"
      }
    },
    {
      "cell_type": "code",
      "source": [
        "x = 10  # Asigna el valor 10 a la variable x\n",
        "y += 5  # Incrementa el valor de y en 5 (es equivalente a y = y + 5)"
      ],
      "metadata": {
        "id": "CyXyygQGFh6f"
      },
      "execution_count": null,
      "outputs": []
    },
    {
      "cell_type": "markdown",
      "source": [
        "| **Tipo de Operador** | **Operador** | **Descripción** |\n",
        "|----------------------|--------------|-----------------|\n",
        "| **Operadores Aritméticos** | `+` | Realiza la adición entre los operandos. |\n",
        "|                            | `-` | Realiza la substracción entre los operandos. |\n",
        "|                            | `*` | Realiza la multiplicación entre los operandos. |\n",
        "|                            | `/` | Realiza la división entre los operandos. |\n",
        "|                            | `%` | Realiza el módulo (resto) entre los operandos. |\n",
        "|                            | `**` | Realiza la potencia de los operandos. |\n",
        "|                            | `//` | Realiza la división con resultado de número entero. |"
      ],
      "metadata": {
        "id": "qojOTQ8lEkKJ"
      }
    },
    {
      "cell_type": "code",
      "source": [
        "suma = a + b\n",
        "resta = a - b\n",
        "multiplicacion = a * b\n",
        "division = a / b\n",
        "modulo = a % b"
      ],
      "metadata": {
        "id": "e0ZHlGCJFjYe"
      },
      "execution_count": null,
      "outputs": []
    },
    {
      "cell_type": "markdown",
      "source": [
        "| **Tipo de Operador** | **Operador** | **Descripción** |\n",
        "|----------------------|--------------|-----------------|\n",
        "| **Operadores Relacionales** | `>` | Devuelve `True` si el operando de la izquierda es mayor que el operando de la derecha. |\n",
        "|                            | `<` | Devuelve `True` si el operando de la derecha es mayor que el operando de la izquierda. |\n",
        "|                            | `==` | Devuelve `True` si ambos operandos son iguales. |\n",
        "|                            | `>=` | Devuelve `True` si el operando de la izquierda es mayor o igual que el operando de la derecha. |\n",
        "|                            | `<=` | Devuelve `True` si el operando de la derecha es mayor o igual que el operando de la izquierda. |\n",
        "|                            | `!=` | Devuelve `True` si ambos operandos no son iguales. |"
      ],
      "metadata": {
        "id": "4qY_6eBlEn8B"
      }
    },
    {
      "cell_type": "code",
      "source": [
        "igual = a == b\n",
        "diferente = a != b\n",
        "mayor_que = a > b\n",
        "menor_o_igual = a <= b"
      ],
      "metadata": {
        "id": "STBjO0evFJ75"
      },
      "execution_count": null,
      "outputs": []
    },
    {
      "cell_type": "markdown",
      "source": [
        "| **Tipo de Operador** | **Operador** | **Descripción** |\n",
        "|----------------------|--------------|-----------------|\n",
        "| **Operadores Lógicos** | `and` | Devuelve `True` si ambas condiciones son verdaderas. |\n",
        "|                        | `or` | Devuelve `True` si al menos una de las condiciones es verdadera. |\n",
        "|                        | `not` | Niega una condición. |"
      ],
      "metadata": {
        "id": "wBX6K-G7Et0R"
      }
    },
    {
      "cell_type": "code",
      "source": [
        "and_resultado = condicion1 and condicion2\n",
        "or_resultado = condicion1 or condicion2\n",
        "not_resultado = not condicion"
      ],
      "metadata": {
        "id": "mJvXXLj7FHgJ"
      },
      "execution_count": null,
      "outputs": []
    },
    {
      "cell_type": "markdown",
      "source": [
        "| **Tipo de Operador** | **Operador** | **Descripción** |\n",
        "|----------------------|--------------|-----------------|\n",
        "| **Operadores Bitwise** | `&` | Realiza la operación AND bit a bit en los operandos. |\n",
        "|                        | `\\|` | Realiza la operación OR bit a bit en los operandos. |\n",
        "|                        | `^` | Realiza la operación XOR bit a bit en los operandos. |\n",
        "|                        | `~` | Realiza la operación NOT bit a bit. Invierte cada bit en el operando. |\n",
        "|                        | `<<` | Realiza un desplazamiento a la izquierda bit a bit. |\n",
        "|                        | `>>` | Realiza un desplazamiento a la derecha bit a bit. |"
      ],
      "metadata": {
        "id": "uslhqoJ0E0E5"
      }
    },
    {
      "cell_type": "code",
      "source": [
        "and_bitwise = a & b\n",
        "or_bitwise = a | b\n",
        "desplazamiento_izquierda = a << 2"
      ],
      "metadata": {
        "id": "xebQG7M0FEyS"
      },
      "execution_count": null,
      "outputs": []
    },
    {
      "cell_type": "markdown",
      "source": [
        "| **Tipo de Operador** | **Operador** | **Descripción** |\n",
        "|----------------------|--------------|-----------------|\n",
        "| **Operadores de Identidad** | `is` | Devuelve `True` si los operandos son el mismo objeto. |\n",
        "|                             | `is not` | Devuelve `True` si los operandos no son el mismo objeto. |\n",
        "| **Operadores de Membresía** | `in` | Devuelve `True` si el valor está presente en la secuencia. |\n",
        "|                             | `not in` | Devuelve `True` si el valor no está presente en la secuencia. |\n",
        "| **Operador Walrus** | `:=` | Permite asignar un valor a una variable como parte de una expresión. |"
      ],
      "metadata": {
        "id": "NxN6TcD7VNQ0"
      }
    },
    {
      "cell_type": "code",
      "source": [
        "# Operadores de Identidad\n",
        "es_igual = x is y\n",
        "\n",
        "# Operadores de Membresía\n",
        "esta_en_lista = x in [1, 2, 3]\n",
        "\n",
        "# Operadores Walrus\n",
        "while (linea := input(\"Ingresa una línea: \")) != \"fin\":\n",
        "    print(\"Has ingresado:\", linea)"
      ],
      "metadata": {
        "id": "zbq51PqOVNAU"
      },
      "execution_count": null,
      "outputs": []
    },
    {
      "cell_type": "markdown",
      "source": [
        "---\n",
        "\n",
        "## Comentarios\n",
        "los comentarios tienen 3 funciones importantes:\n",
        "- Documentar funciones, clases o módulos.\n",
        "- Explicar decisiones de diseño o algoritmos.\n",
        "- Dejar notas para futuras mejoras o correcciones.\n",
        "\n",
        "los comentarios son totalmente ignorados por el interprete y hay dos tipos, de línea y multilínea.\n",
        "Los comentarios comienzan con el símbolo # y pueden colocarse al final de la línea.\n",
        "\n",
        "triple comilla doble (\"\"\") para crear un comentario que abarque varias líneas"
      ],
      "metadata": {
        "id": "g3NvHVZbVHD_"
      }
    },
    {
      "cell_type": "code",
      "source": [
        "# Comentarios de linea\n",
        "\n",
        "\"\"\"\n",
        "Comentario\n",
        "en\n",
        "varias\n",
        "lineas\n",
        "\"\"\""
      ],
      "metadata": {
        "id": "Z7wXlqxqVDn6"
      },
      "execution_count": null,
      "outputs": []
    },
    {
      "cell_type": "markdown",
      "source": [
        "---\n",
        "\n",
        "## Asignación simultánea\n",
        "\n",
        "La asignación simultánea en Python es una técnica que permite asignar valores a múltiples variables en una sola línea de código. En lugar de asignar valores uno por uno.\n",
        "\n",
        "Esto permite acciones como las siguientes:\n",
        "\n",
        "- Asignación de Valores a Múltiples Variables\n",
        "\n",
        "- Intercambio de Valores entre Variables\n",
        "\n",
        "- Funciones que Retornan Múltiples Valores"
      ],
      "metadata": {
        "id": "gZWiG1HFU_Cs"
      }
    },
    {
      "cell_type": "code",
      "source": [
        "a, b = 10, 20\n",
        "print(\"a =\", a)\n",
        "print(\"b =\", b)"
      ],
      "metadata": {
        "id": "jBd1CzxNU6O_"
      },
      "execution_count": null,
      "outputs": []
    },
    {
      "cell_type": "code",
      "source": [
        "x, y = 5, 7\n",
        "x, y = y, x\n",
        "print(\"x =\", x)\n",
        "print(\"y =\", y)"
      ],
      "metadata": {
        "id": "__cxxyUpZJYz"
      },
      "execution_count": null,
      "outputs": []
    },
    {
      "cell_type": "code",
      "source": [
        "def obtener_coordenadas():\n",
        "    return 3, 4\n",
        "\n",
        "x, y = obtener_coordenadas()\n",
        "print(\"Coordenadas (x, y):\", x, y)"
      ],
      "metadata": {
        "id": "wLSQ3Yv2ZIZX"
      },
      "execution_count": null,
      "outputs": []
    },
    {
      "cell_type": "markdown",
      "source": [
        "---\n",
        "\n",
        "## Reglas de Nomenclatura y Convenciones\n",
        "\n",
        "\n",
        "| **Tipo de Notación** | **Descripción** |Uso| **Ejemplo** |\n",
        "|----------------------|-----------------|----|-------------|\n",
        "| **Camel Case**       | La primera letra está en mayúscula, excepto la primera palabra. El resto de letras en minúsculas.| clases| `contarPalabras` |\n",
        "| **Pascal Case**      | todas las palabras comienzan con mayúscula, el resto de letras en minúsculas.| clases| `ContarPalabras` |\n",
        "| **Snake Case**       | Separa las palabras con guiones bajos (`_`). Todas las letras están en minúsculas.|variables y funciones| `contar_elementos` |\n",
        "| **Kebab Case**       | Similar al Snake Case, pero utiliza guiones (`-`) en lugar de guiones bajos.|variables y métodos.| `contar-elementos` |\n",
        "\n",
        "\n",
        "los nombres de variables y métodos pueden tener un prefijo de guión bajo para indicar que son privados o protegidos.\n",
        "Privados: Comienzan con un solo guión bajo (_). Por ejemplo:\n",
        "\n",
        "    _my_private_variable.\n",
        "\n",
        "Protegidos: Comienzan con dos guiones bajos (__). Por ejemplo:  \n",
        "\n",
        "    __my_protected_method.\n",
        "\n"
      ],
      "metadata": {
        "id": "E7vysdiMUrkT"
      }
    },
    {
      "cell_type": "markdown",
      "source": [
        "## Palabras Reservadas"
      ],
      "metadata": {
        "id": "3_GT9ILvFztq"
      }
    },
    {
      "cell_type": "markdown",
      "source": [
        "Las palabras reservadas son palabras en Python que están específicamente reservadas para tareas específicas, lo que nos impide declarar variables o identificar objetos en nuestro código con ellas porque eso causaría errores de compilación.\n",
        "\n",
        "Aqui se encuentra un listado de palabras reservadas en el lenguaje:\n",
        "\n",
        "En python el listado de palabras reservadas es el siguiente:"
      ],
      "metadata": {
        "id": "XF3VU_4UF19q"
      }
    },
    {
      "cell_type": "code",
      "source": [
        "import keyword\n",
        "print(keyword.kwlist)"
      ],
      "metadata": {
        "id": "cIpozgCfF5o7",
        "outputId": "69ef73a1-6433-4865-fc28-7b0580631581",
        "colab": {
          "base_uri": "https://localhost:8080/"
        }
      },
      "execution_count": 4,
      "outputs": [
        {
          "output_type": "stream",
          "name": "stdout",
          "text": [
            "['False', 'None', 'True', 'and', 'as', 'assert', 'async', 'await', 'break', 'class', 'continue', 'def', 'del', 'elif', 'else', 'except', 'finally', 'for', 'from', 'global', 'if', 'import', 'in', 'is', 'lambda', 'nonlocal', 'not', 'or', 'pass', 'raise', 'return', 'try', 'while', 'with', 'yield']\n"
          ]
        }
      ]
    }
  ]
}