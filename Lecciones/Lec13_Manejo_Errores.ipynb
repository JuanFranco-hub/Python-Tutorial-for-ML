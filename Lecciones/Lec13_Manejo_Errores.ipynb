{
  "cells": [
    {
      "cell_type": "markdown",
      "metadata": {},
      "source": [
        "<a href=\"https://colab.research.google.com/github/JuanFranco-hub/Python-Tutorial-for-ML/blob/main/Lecciones/Lec13_Manejo_Errores.ipynb\" target=\"_parent\"><img src=\"https://colab.research.google.com/assets/colab-badge.svg\" alt=\"Open In Colab\"/></a> "
      ]
    },
    {
      "cell_type": "markdown",
      "metadata": {
        "id": "Ui7APXEKMOVP"
      },
      "source": [
        "# Manejo de Errores"
      ]
    },
    {
      "cell_type": "markdown",
      "metadata": {
        "id": "shDg6MWxNvml"
      },
      "source": [
        "## Testing\n",
        "El testing de software se puede comparar con la creación y validación de un prototipo de avión antes de su primer vuelo. Imagina que, al diseñar un avión, cada componente (como el motor, las alas, o los controles) debe ser probado por separado y luego en conjunto para asegurarse de que todo funcione de manera armónica y segura."
      ]
    },
    {
      "cell_type": "markdown",
      "metadata": {
        "id": "G1tNYlD9N_qt"
      },
      "source": [
        "### 1. Introducción al Manejo de Errores\n",
        "\n",
        "En Python, el manejo de errores es fundamental para desarrollar programas robustos y seguros. Puedes prevenir muchos errores mediante la verificación explícita en cada paso del código, como la división por cero o la validación de tipos de datos."
      ]
    },
    {
      "cell_type": "code",
      "execution_count": null,
      "metadata": {
        "id": "VL91ArgLNqBV"
      },
      "outputs": [],
      "source": [
        "# Ejemplo de verificación explícita\n",
        "def dividir(a, b):\n",
        "    if b == 0:\n",
        "        return \"Error: División por cero\"\n",
        "    else:\n",
        "        return a / b"
      ]
    },
    {
      "cell_type": "markdown",
      "metadata": {
        "id": "hQQEDEw8OK-d"
      },
      "source": [
        "### 2. Uso de Excepciones\n",
        "Las excepciones permiten separar el código de manejo de errores del código regular, haciendo tu programa más limpio y fácil de mantener."
      ]
    },
    {
      "cell_type": "code",
      "execution_count": null,
      "metadata": {
        "id": "_hw5vhTCL9aI"
      },
      "outputs": [],
      "source": [
        "# Ejemplo de manejo de excepciones\n",
        "try:\n",
        "    resultado = 10 / 0\n",
        "except ZeroDivisionError:\n",
        "  resultado = \"Infinito\""
      ]
    },
    {
      "cell_type": "markdown",
      "metadata": {
        "id": "TkunFKHBOQYt"
      },
      "source": [
        "### 3. Try-Except\n",
        "La estructura try-except es fundamental en Python para el manejo de errores esperados durante la ejecución de un programa."
      ]
    },
    {
      "cell_type": "code",
      "execution_count": null,
      "metadata": {
        "id": "rHF0xDaxOUOc"
      },
      "outputs": [],
      "source": [
        "try:\n",
        "    # Código que puede causar una excepción\n",
        "    print(1 / 0)\n",
        "except ZeroDivisionError as e:\n",
        "    # Manejo de la excepción específica\n",
        "    print(e)"
      ]
    },
    {
      "cell_type": "markdown",
      "metadata": {
        "id": "Rzbyi6scOXBt"
      },
      "source": [
        "### 4. Granularidad de las Excepciones\n",
        "Es importante capturar excepciones específicas para evitar ocultar errores de programación con excepciones generales."
      ]
    },
    {
      "cell_type": "code",
      "execution_count": null,
      "metadata": {
        "id": "Praoql1nOa50"
      },
      "outputs": [],
      "source": [
        "try:\n",
        "    # Posible error de división por cero\n",
        "    print(1 / 0)\n",
        "except ZeroDivisionError:\n",
        "    print(\"No se puede dividir por cero\")\n",
        "except Exception as e:\n",
        "    print(\"Error inesperado:\", e)"
      ]
    },
    {
      "cell_type": "markdown",
      "metadata": {
        "id": "eTr0rBfAOdK8"
      },
      "source": [
        "### 5. Excepciones Múltiples\n",
        "Puedes manejar múltiples tipos de excepciones usando una tupla de clases de excepción."
      ]
    },
    {
      "cell_type": "code",
      "execution_count": null,
      "metadata": {
        "id": "cDRxmg4FOfzE"
      },
      "outputs": [],
      "source": [
        "try:\n",
        "    # Código que puede lanzar múltiples excepciones\n",
        "    archivo = open(\"archivo_inexistente.txt\")\n",
        "    print(1 / 0)\n",
        "except (FileNotFoundError, ZeroDivisionError) as e:\n",
        "    print(\"Error encontrado:\", e)"
      ]
    },
    {
      "cell_type": "markdown",
      "metadata": {
        "id": "7XgQfJjoOmI9"
      },
      "source": [
        "### 6. La Cláusula else\n",
        "La cláusula else se ejecuta si no se produce ninguna excepción en el bloque try."
      ]
    },
    {
      "cell_type": "code",
      "execution_count": null,
      "metadata": {
        "id": "anPZaqAUOrNM"
      },
      "outputs": [],
      "source": [
        "try:\n",
        "    print(\"Hola\")\n",
        "except:\n",
        "    print(\"Se encontró una excepción\")\n",
        "else:\n",
        "    print(\"Todo bien, no se encontraron excepciones\")"
      ]
    },
    {
      "cell_type": "markdown",
      "metadata": {
        "id": "rPKVDcJjOt1c"
      },
      "source": [
        "### 7. La Cláusula finally\n",
        "La cláusula finally se ejecuta siempre, independientemente de si se ha producido una excepción o no."
      ]
    },
    {
      "cell_type": "code",
      "execution_count": null,
      "metadata": {
        "id": "378xKaIuOwzd"
      },
      "outputs": [],
      "source": [
        "try:\n",
        "    print(1 / 0)\n",
        "except ZeroDivisionError:\n",
        "    print(\"División por cero\")\n",
        "finally:\n",
        "    print(\"Este código se ejecuta siempre\")"
      ]
    },
    {
      "cell_type": "markdown",
      "metadata": {
        "id": "6KhfPRPcOz-l"
      },
      "source": [
        "### 8. Raising Exceptions\n",
        "Puedes lanzar excepciones manualmente usando la palabra clave raise para indicar un error."
      ]
    },
    {
      "cell_type": "code",
      "execution_count": null,
      "metadata": {
        "id": "qfx0hfhCO4Jc"
      },
      "outputs": [],
      "source": [
        "def mi_funcion(valor):\n",
        "    if valor < 0:\n",
        "        raise ValueError(\"El valor no puede ser negativo\")"
      ]
    },
    {
      "cell_type": "markdown",
      "metadata": {
        "id": "P76i9G0yO6oN"
      },
      "source": [
        "### 9. Asertaciones\n",
        "Las aserciones son una herramienta útil para verificar que una condición se cumpla durante el desarrollo. Si la condición es False, se lanza una excepción AssertionError."
      ]
    },
    {
      "cell_type": "code",
      "execution_count": null,
      "metadata": {
        "id": "0TVwd-GPO8Qm"
      },
      "outputs": [],
      "source": [
        "def sumar_positivos(a, b):\n",
        "    assert a > 0 and b > 0, \"Ambos números deben ser positivos\"\n",
        "    return a + b"
      ]
    },
    {
      "cell_type": "markdown",
      "metadata": {
        "id": "IDag4b12O_I1"
      },
      "source": [
        "### 10. Testing Unitario con `unittest`\n",
        "El módulo unittest de Python proporciona herramientas para construir tests unitarios, permitiéndote verificar el correcto funcionamiento de partes individuales de tu programa."
      ]
    },
    {
      "cell_type": "code",
      "execution_count": null,
      "metadata": {
        "id": "n6LCwSAPPF6d"
      },
      "outputs": [],
      "source": [
        "import unittest\n",
        "\n",
        "class PruebasDeSuma(unittest.TestCase):\n",
        "    def test_suma_positivos(self):\n",
        "        self.assertEqual(sumar_positivos(1, 2), 3)\n",
        "    def test_suma_negativos(self):\n",
        "        self.assertEqual(sumar_positivos(-1, -2), \"Ambos números deben ser positivos\")\n",
        "\n",
        "if __name__ == '__main__':\n",
        "    unittest.main()"
      ]
    },
    {
      "cell_type": "markdown",
      "metadata": {
        "id": "pvRf1Tv4PR9s"
      },
      "source": [
        "## Debugging\n",
        "\n"
      ]
    },
    {
      "cell_type": "markdown",
      "metadata": {
        "id": "_1EFYmXcQdDc"
      },
      "source": [
        "### 1. Introducción al Debugging\n",
        "Debugging es el proceso de identificar y corregir errores en un programa. En Python, hay varias herramientas y técnicas que puedes usar para depurar tu código, incluyendo la inserción de instrucciones print, el uso de la librería logging, y la utilización de depuradores como pdb.\n"
      ]
    },
    {
      "cell_type": "markdown",
      "metadata": {
        "id": "jb2nW56hPbm1"
      },
      "source": [
        "**Debugging**: Imagina que estás solucionando problemas en un circuito complejo que no funciona como debería. El debugging es como usar un multímetro para medir voltajes, corrientes, y resistencias en diferentes puntos del circuito para identificar y corregir la parte que está causando el problema."
      ]
    },
    {
      "cell_type": "markdown",
      "metadata": {
        "id": "0TpEECLBQj6k"
      },
      "source": [
        "### 2. Uso de Instrucciones print\n",
        "Las instrucciones print son la forma más básica de depuración. Te permiten ver el flujo del programa y entender cómo cambian los valores de las variables."
      ]
    },
    {
      "cell_type": "code",
      "execution_count": 4,
      "metadata": {
        "colab": {
          "base_uri": "https://localhost:8080/"
        },
        "id": "Spb5csTZQodF",
        "outputId": "a9da1f8c-8051-4473-a241-7581ff479734"
      },
      "outputs": [
        {
          "name": "stdout",
          "output_type": "stream",
          "text": [
            "sumar: a=3, b=4\n",
            "Resultado: 7\n"
          ]
        }
      ],
      "source": [
        "def sumar(a, b):\n",
        "    print(f\"sumar: a={a}, b={b}\")\n",
        "    return a + b\n",
        "\n",
        "resultado = sumar(3, 4)\n",
        "print(f\"Resultado: {resultado}\")"
      ]
    },
    {
      "cell_type": "markdown",
      "metadata": {
        "id": "4SOrdiCOQq19"
      },
      "source": [
        "### 3. Problemas con las Instrucciones `print`\n",
        "Aunque útiles, las instrucciones print pueden ser invasivas y pueden requerir una limpieza posterior para eliminarlas del código de producción. También pueden ser menos prácticas en programas grandes o complejos."
      ]
    },
    {
      "cell_type": "markdown",
      "metadata": {
        "id": "EJnoAtGXRHG1"
      },
      "source": [
        "Supongamos que estás desarrollando una función para calcular el factorial de un número. Durante la fase de desarrollo, decides utilizar instrucciones `print` para asegurarte de que cada paso intermedio se ejecuta correctamente:"
      ]
    },
    {
      "cell_type": "code",
      "execution_count": 3,
      "metadata": {
        "colab": {
          "base_uri": "https://localhost:8080/"
        },
        "id": "JH23xG8jRJSs",
        "outputId": "2671509e-b0ca-4370-f5a5-1010b1a97e1e"
      },
      "outputs": [
        {
          "name": "stdout",
          "output_type": "stream",
          "text": [
            "i=1, resultado parcial=1\n",
            "i=2, resultado parcial=2\n",
            "i=3, resultado parcial=6\n",
            "i=4, resultado parcial=24\n",
            "i=5, resultado parcial=120\n",
            "120\n"
          ]
        }
      ],
      "source": [
        "def factorial(n):\n",
        "    resultado = 1\n",
        "    for i in range(1, n + 1):\n",
        "        resultado *= i\n",
        "        print(f\"i={i}, resultado parcial={resultado}\")  # Instrucción print para depuración\n",
        "    return resultado\n",
        "\n",
        "print(factorial(5))"
      ]
    },
    {
      "cell_type": "markdown",
      "metadata": {
        "id": "lQ6PxieGRLkR"
      },
      "source": [
        "Este enfoque puede ayudarte temporalmente a entender cómo cambia el valor de `resultado` con cada iteración del bucle. Sin embargo, una vez que verificas que la función funciona correctamente, estas instrucciones `print` se vuelven innecesarias y pueden obstruir la salida del programa, especialmente si se utiliza en un contexto más amplio o dentro de una aplicación más grande."
      ]
    },
    {
      "cell_type": "markdown",
      "metadata": {
        "id": "21hRJMiYRVWl"
      },
      "source": [
        "Antes de desplegar o integrar esta función en un sistema de producción, querrías limpiar el código eliminando estas instrucciones `print`, para evitar llenar de mensajes de depuración la consola o los logs del sistema:"
      ]
    },
    {
      "cell_type": "code",
      "execution_count": 2,
      "metadata": {
        "colab": {
          "base_uri": "https://localhost:8080/"
        },
        "id": "icsgEDZcRZM-",
        "outputId": "9b77b296-b098-4243-c939-54d44143b147"
      },
      "outputs": [
        {
          "name": "stdout",
          "output_type": "stream",
          "text": [
            "120\n"
          ]
        }
      ],
      "source": [
        "def factorial(n):\n",
        "    resultado = 1\n",
        "    for i in range(1, n + 1):\n",
        "        resultado *= i\n",
        "    return resultado\n",
        "\n",
        "print(factorial(5))"
      ]
    },
    {
      "cell_type": "markdown",
      "metadata": {
        "id": "Kq0irtY2RnlV"
      },
      "source": [
        "### 4. Librería logging\n",
        "La librería logging ofrece una forma más flexible y configurable de depuración. Permite diferentes niveles de severidad y la salida a diferentes destinos, como archivos o la consola."
      ]
    },
    {
      "cell_type": "code",
      "execution_count": 1,
      "metadata": {
        "colab": {
          "base_uri": "https://localhost:8080/"
        },
        "id": "TQTXjSUvRtSd",
        "outputId": "d74292a4-102f-421d-b9bf-a34a82e46cb7"
      },
      "outputs": [
        {
          "name": "stderr",
          "output_type": "stream",
          "text": [
            "ERROR:root:Error: intento de división por cero.\n"
          ]
        }
      ],
      "source": [
        "import logging\n",
        "\n",
        "logging.basicConfig(level=logging.DEBUG)\n",
        "logging.debug(\"Este mensaje aparece solo durante la depuración.\")\n",
        "\n",
        "def dividir(a, b):\n",
        "    logging.debug(\"dividir: a=%d, b=%d\", a, b)\n",
        "    try:\n",
        "        return a / b\n",
        "    except ZeroDivisionError as e:\n",
        "        logging.error(\"Error: intento de división por cero.\")\n",
        "        return None\n",
        "\n",
        "resultado = dividir(10, 0)"
      ]
    },
    {
      "cell_type": "markdown",
      "metadata": {
        "id": "NQBSAvJtR9PE"
      },
      "source": [
        "### 5. Python Debugger (`pdb`)\n",
        "pdb es el depurador integrado de Python. Permite inspeccionar el estado del programa, establecer puntos de interrupción y avanzar paso a paso por el código.\n",
        "\n"
      ]
    },
    {
      "cell_type": "code",
      "execution_count": null,
      "metadata": {
        "id": "j858Ho9bR8mF"
      },
      "outputs": [],
      "source": [
        "import pdb\n",
        "\n",
        "def dividir(a, b):\n",
        "    pdb.set_trace()\n",
        "    return a / b\n",
        "\n",
        "resultado = dividir(10, 2)"
      ]
    },
    {
      "cell_type": "markdown",
      "metadata": {
        "id": "fNCeWriwScP7"
      },
      "source": [
        "### 6. Comandos Útiles de pdb\n",
        "p: Imprime el valor de una expresión.\n",
        "n: Ejecuta la próxima línea dentro de la misma función.\n",
        "s: Ejecuta la próxima línea, entrando en las llamadas a funciones.\n",
        "c: Continúa la ejecución hasta el próximo punto de interrupción.\n",
        "l: Lista el código fuente alrededor de la línea actual.\n",
        "q: Sale del depurador."
      ]
    },
    {
      "cell_type": "markdown",
      "metadata": {
        "id": "-BFilpc1Shfc"
      },
      "source": [
        "### 7. Extensiones para Debugging\n",
        "JupyterLab y VS code soporta debugging interactivo mediante extensiones. Esto permite depurar notebooks de una manera visual e interactiva."
      ]
    },
    {
      "cell_type": "markdown",
      "metadata": {
        "id": "PHSWhYJdSvn8"
      },
      "source": [
        "### 8. Consejos para un Debugging Efectivo\n",
        "Comienza por las áreas del código que cambiaste recientemente.\n",
        "Lee los mensajes de error y los rastreos de pila cuidadosamente.\n",
        "Usa pdb o la depuración en JupyterLab para inspeccionar el estado del programa y entender mejor el flujo de ejecución."
      ]
    },
    {
      "cell_type": "markdown",
      "metadata": {
        "id": "5TACe1nOS9mt"
      },
      "source": [
        "## ¿Cómo testear el código?"
      ]
    },
    {
      "cell_type": "markdown",
      "metadata": {
        "id": "y-Yq0NHpUO08"
      },
      "source": [
        "## Introducción a las Pruebas de Código\n",
        "Probar tu código es esencial para asegurar que se comporta como esperas en diferentes escenarios. En Python, hay varias formas de realizar pruebas, desde simples instrucciones if y aserciones hasta pruebas unitarias y de integración más sofisticadas."
      ]
    },
    {
      "cell_type": "markdown",
      "metadata": {
        "id": "rI_eZvaLUR3N"
      },
      "source": [
        "### 1. Pruebas con Instrucciones `if`\n",
        "Una forma básica de probar tu código es utilizando instrucciones `if` para verificar condiciones y manejar posibles errores."
      ]
    },
    {
      "cell_type": "code",
      "execution_count": 7,
      "metadata": {
        "colab": {
          "base_uri": "https://localhost:8080/"
        },
        "id": "JF6G4wt8UXYZ",
        "outputId": "d20b4e67-4e02-4c98-ce12-7be8cb021068"
      },
      "outputs": [
        {
          "name": "stdout",
          "output_type": "stream",
          "text": [
            "Edad inválida\n"
          ]
        }
      ],
      "source": [
        "def validar_edad(edad):\n",
        "    if not isinstance(edad, int) or edad < 0:\n",
        "        return False\n",
        "    return True\n",
        "\n",
        "edad = -1\n",
        "if validar_edad(edad):\n",
        "    print(\"Edad válida\")\n",
        "else:\n",
        "    print(\"Edad inválida\")"
      ]
    },
    {
      "cell_type": "markdown",
      "metadata": {
        "id": "3wy7eXVcUcHU"
      },
      "source": [
        "### 2. Aserciones\n",
        "Las aserciones son una herramienta más directa que te permite verificar si una condición es `True`, y si no, lanza una excepción `AssertionError`."
      ]
    },
    {
      "cell_type": "code",
      "execution_count": null,
      "metadata": {
        "id": "WhuMwrx4UiVc"
      },
      "outputs": [],
      "source": [
        "def sumar_positivos(a, b):\n",
        "    assert a > 0 and b > 0, \"Ambos números deben ser positivos\"\n",
        "    return a + b\n",
        "\n",
        "try:\n",
        "    resultado = sumar_positivos(1, -1)\n",
        "except AssertionError as error:\n",
        "    print(error)\n"
      ]
    },
    {
      "cell_type": "markdown",
      "metadata": {
        "id": "2qXmgzJQUlS7"
      },
      "source": [
        "3. Pruebas Unitarias con `unittest`\n",
        "Las pruebas unitarias te permiten escribir tests independientes para diferentes partes de tu programa. Python incluye el módulo unittest para facilitar este tipo de pruebas."
      ]
    },
    {
      "cell_type": "code",
      "execution_count": null,
      "metadata": {
        "id": "ppI-MUETUppT"
      },
      "outputs": [],
      "source": [
        "import unittest\n",
        "\n",
        "def sumar(a, b):\n",
        "    return a + b\n",
        "\n",
        "class TestSuma(unittest.TestCase):\n",
        "    def test_sumar_positivos(self):\n",
        "        self.assertEqual(sumar(1, 2), 3)\n",
        "\n",
        "    def test_sumar_negativos(self):\n",
        "        self.assertEqual(sumar(-1, -2), -3)\n",
        "\n",
        "if __name__ == \"__main__\":\n",
        "    unittest.main()"
      ]
    },
    {
      "cell_type": "markdown",
      "metadata": {
        "id": "A5WHktIXUsS8"
      },
      "source": [
        "### 4. `unittest` Avanzado\n",
        "El módulo unittest ofrece una variedad de aserciones más allá de assertEqual, como assertTrue, assertFalse, assertRaises, entre otros, para cubrir diferentes necesidades de pruebas."
      ]
    },
    {
      "cell_type": "code",
      "execution_count": null,
      "metadata": {
        "id": "1PR7JlcwUxyE"
      },
      "outputs": [],
      "source": [
        "class TestDivision(unittest.TestCase):\n",
        "    def test_division_normal(self):\n",
        "        self.assertEqual(dividir(4, 2), 2)\n",
        "\n",
        "    def test_division_por_cero(self):\n",
        "        with self.assertRaises(ZeroDivisionError):\n",
        "            dividir(1, 0)"
      ]
    },
    {
      "cell_type": "markdown",
      "metadata": {
        "id": "PKviVOhQVIiV"
      },
      "source": [
        "### 5. Pruebas de Integración\n",
        "Mientras que las pruebas unitarias se centran en partes específicas del código, las pruebas de integración evalúan cómo diferentes partes del programa trabajan juntas. Para pruebas de integración, a menudo se utilizan frameworks como `pytest` que ofrecen funcionalidades adicionales para manejar tests más complejos.\n",
        "Para más información: toca [aquí](https://www.headspin.io/blog/unit-integration-and-functional-testing-4-main-points-of-difference)"
      ]
    },
    {
      "cell_type": "markdown",
      "metadata": {
        "id": "GrQiQX7yV3NM"
      },
      "source": [
        "### 6. Consejos para Pruebas Efectivas\n",
        "* Escribe pruebas mientras desarrollas: No esperes hasta el final del desarrollo para comenzar a escribir pruebas.\n",
        "* Cubre casos de borde: Asegúrate de incluir pruebas para casos de borde y comportamientos inesperados.\n",
        "* Utiliza pruebas de regresión: Cada vez que arregles un bug, escribe una prueba que capture ese caso para evitar regresiones en el futuro.\n",
        "\n"
      ]
    },
    {
      "cell_type": "markdown",
      "metadata": {
        "id": "osCVJQ5vWEqM"
      },
      "source": [
        "# Conclusión\n",
        "Las pruebas son una parte esencial del desarrollo de software que ayuda a garantizar que tu código sea robusto y confiable. Al aplicar las técnicas adecuadas de pruebas, desde simples aserciones hasta pruebas unitarias y de integración, puedes mejorar significativamente la calidad de tus programas en Python. Recuerda que la clave está en la constancia y en desarrollar una mentalidad que priorice la calidad y la confiabilidad del código."
      ]
    }
  ],
  "metadata": {
    "colab": {
      "provenance": [],
      "toc_visible": true
    },
    "kernelspec": {
      "display_name": "Python 3",
      "name": "python3"
    },
    "language_info": {
      "name": "python"
    }
  },
  "nbformat": 4,
  "nbformat_minor": 0
}
