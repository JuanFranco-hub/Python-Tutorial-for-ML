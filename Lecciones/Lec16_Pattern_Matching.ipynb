{
  "nbformat": 4,
  "nbformat_minor": 0,
  "metadata": {
    "colab": {
      "provenance": []
    },
    "kernelspec": {
      "name": "python3",
      "display_name": "Python 3"
    },
    "language_info": {
      "name": "python"
    }
  },
  "cells": [
    {
      "cell_type": "markdown",
      "source": [
        "# Pattern Matching"
      ],
      "metadata": {
        "id": "NLjKpObpC23p"
      }
    },
    {
      "cell_type": "markdown",
      "source": [
        "### ¿Qué es Pattern Matching?\n",
        "\n",
        "**Pattern Matching** es una herramienta que nos permite analizar y extraer información de estructuras complejas como listas, diccionarios, y objetos, de manera eficiente. En lugar de usar múltiples condicionales (`if`, `elif`), el **Pattern Matching** simplifica el código.\n",
        "\n",
        "Imagina que tienes una lista con varios valores y quieres identificar ciertos patrones dentro de esa lista. Aquí es donde entra el **Pattern Matching**.\n"
      ],
      "metadata": {
        "id": "5zlls0G0CslO"
      }
    },
    {
      "cell_type": "markdown",
      "source": [
        "### Estructura básica de `match-case`\n",
        "\n",
        "La sintaxis de **Pattern Matching** se basa en el uso de `match` y `case`. Veamos un ejemplo básico:"
      ],
      "metadata": {
        "id": "RcOaWQ7YC76m"
      }
    },
    {
      "cell_type": "code",
      "execution_count": null,
      "metadata": {
        "id": "1Jv8U121ChnX"
      },
      "outputs": [],
      "source": [
        "def procesar_valor(valor):\n",
        "    match valor:\n",
        "        case 1:\n",
        "            print(\"Es un 1\")\n",
        "        case 2:\n",
        "            print(\"Es un 2\")\n",
        "        case _:\n",
        "            print(\"No es ni 1 ni 2\")"
      ]
    },
    {
      "cell_type": "markdown",
      "source": [
        "Este código evalúa el valor de la variable `valor` y ejecuta el bloque de código correspondiente. El símbolo `_` se utiliza como un \"comodín\" para capturar cualquier valor que no coincida con los patrones anteriores."
      ],
      "metadata": {
        "id": "SCO3s9SGC-oW"
      }
    },
    {
      "cell_type": "markdown",
      "source": [
        "### Aplicando patrones a estructuras\n",
        "\n",
        "Lo interesante del **Pattern Matching** es que no solo funciona con valores simples, sino también con estructuras más complejas como listas y diccionarios."
      ],
      "metadata": {
        "id": "P76CCeDGDBeG"
      }
    },
    {
      "cell_type": "code",
      "source": [
        "# Ejemplo con listas\n",
        "def procesar_lista(lista):\n",
        "    match lista:\n",
        "        case [1, 2, 3]:\n",
        "            print(\"Es una lista con los números 1, 2 y 3\")\n",
        "        case [1, 2, *resto]:\n",
        "            print(f\"Empieza con 1 y 2, y el resto es {resto}\")\n",
        "        case _:\n",
        "            print(\"No coincide con ningún patrón\")"
      ],
      "metadata": {
        "id": "RC-msvcoDEme"
      },
      "execution_count": null,
      "outputs": []
    },
    {
      "cell_type": "markdown",
      "source": [
        "En este caso, `*resto` captura todos los elementos de la lista que no forman parte del patrón inicial.\n"
      ],
      "metadata": {
        "id": "WWM3P40TDJEG"
      }
    },
    {
      "cell_type": "code",
      "source": [
        "# Ejemplo con diccionarios:\n",
        "def procesar_diccionario(diccionario):\n",
        "    match diccionario:\n",
        "        case {\"nombre\": nombre, \"edad\": edad}:\n",
        "            print(f\"Nombre: {nombre}, Edad: {edad}\")\n",
        "        case {\"nombre\": nombre}:\n",
        "            print(f\"Nombre: {nombre}, Edad desconocida\")\n",
        "        case _:\n",
        "            print(\"No coincide con ningún patrón\")"
      ],
      "metadata": {
        "id": "c5QDCfmmDLsO"
      },
      "execution_count": null,
      "outputs": []
    },
    {
      "cell_type": "markdown",
      "source": [
        "Aquí estamos extrayendo valores de un diccionario y asignándolos a variables si coinciden con el patrón.\n"
      ],
      "metadata": {
        "id": "iPZRPz4xDWkN"
      }
    },
    {
      "cell_type": "markdown",
      "source": [
        "### Patrones más avanzados\n",
        "\n",
        "A medida que te familiarices con el **Pattern Matching**, verás que es posible crear patrones aún más sofisticados, como los **patrones de secuencia**, **patrones de clase**, y el uso de **guarda**."
      ],
      "metadata": {
        "id": "AoVI2Sk5DYTH"
      }
    },
    {
      "cell_type": "code",
      "source": [
        "def procesar_comando(comando):\n",
        "    match comando.split():\n",
        "        case [\"ir\", direccion]:\n",
        "            print(f\"Vas hacia {direccion}\")\n",
        "        case [\"recoger\", objeto]:\n",
        "            print(f\"Recogiendo {objeto}\")\n",
        "        case _:\n",
        "            print(\"Comando no reconocido\")"
      ],
      "metadata": {
        "id": "zxfZo7F5DaCk"
      },
      "execution_count": null,
      "outputs": []
    },
    {
      "cell_type": "markdown",
      "source": [
        "Aquí estamos descomponiendo una cadena en una lista de palabras y utilizando **Pattern Matching** para reconocer comandos específicos."
      ],
      "metadata": {
        "id": "chNcyvFeDau0"
      }
    },
    {
      "cell_type": "markdown",
      "source": [
        "#### Patrones de clase:\n",
        "\n",
        "También puedes hacer coincidir patrones de clases personalizadas. Por ejemplo, si tienes una clase `Click`:"
      ],
      "metadata": {
        "id": "aY1ZRIR9DeAc"
      }
    },
    {
      "cell_type": "code",
      "source": [
        "class Click:\n",
        "    def __init__(self, x, y):\n",
        "        self.x = x\n",
        "        self.y = y\n",
        "\n",
        "def procesar_evento(evento):\n",
        "    match evento:\n",
        "        case Click(x, y):\n",
        "            print(f\"Click en las coordenadas ({x}, {y})\")"
      ],
      "metadata": {
        "id": "eI6eTNSSDiDU"
      },
      "execution_count": null,
      "outputs": []
    },
    {
      "cell_type": "markdown",
      "source": [
        "En este caso, estamos utilizando **Pattern Matching** para trabajar con instancias de clases y acceder a sus atributos."
      ],
      "metadata": {
        "id": "MuFx1OUWDlvr"
      }
    },
    {
      "cell_type": "markdown",
      "source": [
        "### Ventajas del Pattern Matching\n",
        "\n",
        "1. **Código más limpio y legible**: En lugar de múltiples `if-else`, puedes usar patrones más claros y directos.\n",
        "2. **Más eficiente**: Evalúa el patrón y ejecuta solo el bloque que coincida, sin necesidad de recorrer todas las condiciones.\n",
        "3. **Flexible**: Funciona con diferentes estructuras, como listas, diccionarios, y objetos."
      ],
      "metadata": {
        "id": "OLc--nzqDnuU"
      }
    },
    {
      "cell_type": "markdown",
      "source": [
        "### Conclusión\n",
        "\n",
        "El **Pattern Matching** en Python es una herramienta poderosa para escribir código más eficiente y legible, especialmente cuando trabajas con estructuras de datos complejas. Te recomiendo que empieces con ejemplos simples, como los que hemos visto, y luego vayas explorando casos más avanzados.\n",
        "\n",
        "Espero que esta lección te haya dado una comprensión clara de cómo funciona el **Pattern Matching** y te inspire a usarlo en tus propios proyectos."
      ],
      "metadata": {
        "id": "bAmbv4WoDpRa"
      }
    }
  ]
}