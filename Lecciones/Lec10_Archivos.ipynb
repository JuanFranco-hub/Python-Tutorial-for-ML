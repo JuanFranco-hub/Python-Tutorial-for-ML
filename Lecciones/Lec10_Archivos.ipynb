{
  "cells": [
    {
      "cell_type": "markdown",
      "metadata": {},
      "source": [
        "<a href=\"https://colab.research.google.com/github/JuanFranco-hub/Python-Tutorial-for-ML/blob/main/Lecciones/Lec10_Archivos.ipynb\" target=\"_parent\"><img src=\"https://colab.research.google.com/assets/colab-badge.svg\" alt=\"Open In Colab\"/></a> "
      ]
    },
    {
      "cell_type": "markdown",
      "metadata": {
        "id": "TUKML2yqqG9w"
      },
      "source": [
        "# Archivos en Python\n",
        "\n",
        "En Python, los archivos son una secuencia de datos almacenados en un disco. Pueden contener cualquier tipo de información, como texto, imágenes, audio, etc. Los archivos se utilizan para leer y escribir datos persistentes en el disco, lo que significa que los datos no se pierden cuando el programa se cierra o se apaga el sistema."
      ]
    },
    {
      "cell_type": "markdown",
      "metadata": {
        "id": "uP0Sh_tirhUp"
      },
      "source": [
        "En Python, el carácter de nueva línea predeterminado es \\n, que es el carácter utilizado en sistemas Unix. Sin embargo, en otros sistemas operativos como Windows, el final de línea se marca con el carácter \\r\\n, y en sistemas más antiguos de Mac se usaba solo \\r. Al leer archivos en Python, el intérprete convierte automáticamente estos caracteres de fin de línea en \\n, independientemente del sistema operativo.\n"
      ]
    },
    {
      "cell_type": "markdown",
      "metadata": {
        "id": "y72Saqv9rhOO"
      },
      "source": [
        "Para trabajar con archivos en Python, se utiliza el método open(). Este método toma dos argumentos: el nombre del archivo y el modo en que se abrirá el archivo (lectura, escritura, etc.). Por ejemplo, para abrir un archivo en modo lectura:\n",
        "\n",
        "\n",
        "\n",
        "```\n",
        "file = open(\"archivo.txt\", \"r\")\n",
        "```\n",
        "\n"
      ]
    },
    {
      "cell_type": "markdown",
      "metadata": {
        "id": "LtD5WGTgr-Uv"
      },
      "source": [
        "Una vez que se abre el archivo, puedes leer su contenido utilizando los métodos read(), readline() o readlines(). Por ejemplo, para leer todo el contenido del archivo:\n",
        "\n",
        "\n",
        "\n",
        "```\n",
        "content = file.read()\n",
        "```\n",
        "\n"
      ]
    },
    {
      "cell_type": "markdown",
      "metadata": {
        "id": "a7TAujTVr-Lt"
      },
      "source": [
        "Una vez que hayas terminado de leer o escribir en el archivo, es importante cerrarlo para liberar los recursos. Puedes cerrar el archivo utilizando el método close():\n",
        "\n",
        "\n",
        "```\n",
        "file.close()\n",
        "```\n",
        "Es importante cerrar siempre el archivo después de usarlo, ya que de lo contrario se pueden perder datos o recursos valiosos.\n"
      ]
    },
    {
      "cell_type": "markdown",
      "metadata": {
        "id": "icLQbqcOr-DI"
      },
      "source": [
        "## Leyendo archivos en Python\n",
        "\n",
        "En Python, puedes abrir y leer archivos usando el método open(). Para abrir un archivo para leer, puedes llamar al método open() con el nombre del archivo que quieres leer como argumento. Por ejemplo, para abrir el archivo \"huck-finn.txt\", puedes hacer lo siguiente:"
      ]
    },
    {
      "cell_type": "code",
      "execution_count": null,
      "metadata": {
        "id": "WIy4hTV4sgCF"
      },
      "outputs": [],
      "source": [
        "f = open('huck-finn.txt')"
      ]
    },
    {
      "cell_type": "markdown",
      "metadata": {
        "id": "gtFArZ-UsiNG"
      },
      "source": [
        "De manera predeterminada, open() abre el archivo en modo de lectura ('r'). Si deseas ser explícito, puedes incluir una 'r' como segundo parámetro:"
      ]
    },
    {
      "cell_type": "code",
      "execution_count": null,
      "metadata": {
        "id": "UvmwP8LwsmGP"
      },
      "outputs": [],
      "source": [
        "f = open('huck-finn.txt', 'r')"
      ]
    },
    {
      "cell_type": "markdown",
      "metadata": {
        "id": "J0IoTTpRsrh0"
      },
      "source": [
        "Una vez que has abierto el archivo, puedes recorrerlo línea por línea. Puedes pensar en el archivo como una colección de líneas, y puedes iterar sobre ellas usando un bucle for. Por ejemplo, para imprimir todas las líneas que contienen la palabra 'Huckleberry', puedes hacer lo siguiente:"
      ]
    },
    {
      "cell_type": "code",
      "execution_count": null,
      "metadata": {
        "id": "ujZQp4uvsrAL"
      },
      "outputs": [],
      "source": [
        "f = open('huck-finn.txt', 'r')\n",
        "for line in f:\n",
        "    if 'Huckleberry' in line:\n",
        "        print(line.strip())"
      ]
    },
    {
      "cell_type": "markdown",
      "metadata": {
        "id": "HNWfobCjswxA"
      },
      "source": [
        "En este ejemplo, utilizamos line.strip() para eliminar cualquier espacio en blanco adicional, incluyendo el salto de línea al final de cada línea. También usamos print() para escribir cada línea en la consola."
      ]
    },
    {
      "cell_type": "markdown",
      "metadata": {
        "id": "nSXzF7JsszFH"
      },
      "source": [
        "Es importante cerrar el archivo cuando hayas terminado de leerlo. Puedes hacerlo llamando al método close() en el objeto de archivo. Por ejemplo:"
      ]
    },
    {
      "cell_type": "code",
      "execution_count": null,
      "metadata": {
        "id": "IUgp9Sjps2ep"
      },
      "outputs": [],
      "source": [
        "f.close()"
      ]
    },
    {
      "cell_type": "markdown",
      "metadata": {
        "id": "hwu8unYVs5MZ"
      },
      "source": [
        "Recuerda que siempre es importante cerrar tus archivos después de haberlos usado, ya que puede haber problemas de memoria si tienes demasiados archivos abiertos al mismo tiempo."
      ]
    },
    {
      "cell_type": "markdown",
      "metadata": {
        "id": "6K3-Ho2iv_r1"
      },
      "source": [
        "## Otros métodos para leer archivos\n",
        "\n",
        "Cuando se trabaja con archivos en Python, existen diferentes métodos para leer su contenido. Además de iterar sobre el archivo como una colección de líneas, se pueden usar los métodos read() y readlines().\n",
        "\n",
        "El método read() lee todo el contenido del archivo y lo devuelve como una cadena de texto. Si se proporciona un número como argumento, se leerán únicamente los primeros num caracteres del archivo.\n",
        "\n",
        "Por ejemplo, si queremos leer los primeros 100 caracteres del archivo 'huck-finn.txt', podemos usar el siguiente código:"
      ]
    },
    {
      "cell_type": "code",
      "execution_count": null,
      "metadata": {
        "id": "BwRVicbNwC3m"
      },
      "outputs": [],
      "source": [
        "with open('huck-finn.txt', encoding='utf-8-sig') as f:\n",
        "    first_100_chars = f.read(100)\n",
        "    print(first_100_chars)"
      ]
    },
    {
      "cell_type": "markdown",
      "metadata": {
        "id": "qk7_lIU7wHaD"
      },
      "source": [
        "El método readlines() lee todo el contenido del archivo y lo devuelve como una lista de cadenas, donde cada cadena es una línea del archivo. Este método es útil cuando se necesita acceder a líneas específicas del archivo.\n",
        "\n",
        "Por ejemplo, si queremos leer todas las líneas del archivo 'huck-finn.txt' y almacenarlas en una lista, podemos usar el siguiente código:"
      ]
    },
    {
      "cell_type": "code",
      "execution_count": null,
      "metadata": {
        "id": "XLV9xI6RwGpD"
      },
      "outputs": [],
      "source": [
        "with open('huck-finn.txt', encoding='utf-8-sig') as f:\n",
        "    lines = f.readlines()\n",
        "    print(lines)"
      ]
    },
    {
      "cell_type": "markdown",
      "metadata": {
        "id": "wAI0xWIlwMF7"
      },
      "source": [
        "Es importante recordar que tanto el método `read()` como el método `readlines()` leen todo el contenido del archivo en la memoria, lo que puede ser problemático si se trabaja con archivos muy grandes. En estos casos, es mejor iterar sobre el archivo línea por línea utilizando un bucle for."
      ]
    },
    {
      "cell_type": "markdown",
      "metadata": {
        "id": "DfcpuAy4tCy9"
      },
      "source": [
        "## Objetos de archivo estándar en Python\n",
        "\n",
        "Cuando Python comienza a ejecutar un programa, crea tres objetos de archivo estándar: sys.stdin, sys.stdout y sys.stderr. Estos objetos están asociados con los flujos de entrada estándar, salida estándar y error estándar del sistema, respectivamente.\n",
        "\n",
        "**sys.stdin**: se utiliza para la entrada de datos. Es el objeto que se utiliza por defecto para la entrada de datos en la línea de comandos. Por ejemplo, si utilizas la función input() en tu programa, Python utiliza sys.stdin para leer la entrada del usuario.\n",
        "\n",
        "**sys.stdout**: se utiliza para la salida de datos. Es el objeto que se utiliza por defecto para imprimir en la línea de comandos. Por ejemplo, si utilizas la función print() en tu programa, Python utiliza sys.stdout para imprimir los resultados.\n",
        "\n",
        "**sys.stderr**: se utiliza para imprimir los errores. Es el objeto que se utiliza por defecto para imprimir los errores en la línea de comandos. Por ejemplo, si ocurre un error en tu programa, Python utiliza sys.stderr para imprimir el mensaje de error."
      ]
    },
    {
      "cell_type": "markdown",
      "metadata": {
        "id": "eDcKiAVctIc2"
      },
      "source": [
        "En el notebook, sys.stdin no se utiliza mucho, pero si necesitas usarlo, puedes hacerlo utilizando la función get_input(). Por otro lado, la salida del programa se muestra en la salida estándar sys.stdout del notebook. Si se produce un error, el mensaje de error se muestra en la salida de error estándar sys.stderr del notebook y se muestra con un fondo rojo."
      ]
    },
    {
      "cell_type": "markdown",
      "metadata": {
        "id": "AkMd0MJ-ulG8"
      },
      "source": [
        "## Archivos y Jupyter\n",
        "\n",
        "Cuando trabajas con archivos en Jupyter, existen varias formas de ver y manipularlos. Aquí te presentamos algunos consejos:\n",
        "\n",
        "Para ver el contenido de un archivo, puedes hacer doble clic en él en el navegador de archivos. Esto lo abrirá en una nueva pestaña, donde puedes ver y editar el contenido del archivo manualmente.\n",
        "\n",
        "Si quieres ver el contenido de un archivo como texto en una celda de notebook, es posible que debas hacer clic derecho en el archivo y elegir \"Copiar ruta\". Luego puedes usar la función open() para leer el archivo y mostrar su contenido, así:"
      ]
    },
    {
      "cell_type": "code",
      "execution_count": null,
      "metadata": {
        "id": "oY2TcjCAuoNP"
      },
      "outputs": [],
      "source": [
        "with open('/ruta/a/miarchivo.txt', 'r') as f:\n",
        "    print(f.read())"
      ]
    },
    {
      "cell_type": "markdown",
      "metadata": {
        "id": "AFvQ6795uwVk"
      },
      "source": [
        "Otra forma de ver el contenido de un archivo es mediante comandos de shell en una celda de notebook. El carácter ! al principio de una línea indica que se está llamando a un comando de shell. Aquí hay algunos comandos de shell útiles para trabajar con archivos:\n",
        "\n",
        "*   **!cat** <fname>: Imprime todo el contenido de <fname> en la consola.\n",
        "*   **!head** -n <num> <fname>: Imprime las primeras <num> líneas de <fname> en la consola.\n",
        "*   **!tail** -n <num> <fname>: Imprime las últimas <num> líneas de <fname> en la consola.\n",
        "\n",
        "Recuerda que estos comandos de shell pueden no funcionar exactamente de la misma manera en diferentes sistemas operativos."
      ]
    },
    {
      "cell_type": "markdown",
      "metadata": {
        "id": "c5WAYl4SxDGi"
      },
      "source": [
        "## Analizar Archivos\n",
        "\n",
        "La tarea de analizar archivos puede involucrar tratar con diferentes formatos de archivos y determinar información más significativa de los datos en ellos contenidos. Algunos de los formatos comunes incluyen archivos de texto (.txt), archivos de valores separados por comas (.csv) y archivos de notación de objetos de JavaScript (.json).\n",
        "\n",
        "Es posible utilizar bibliotecas en Python para manejar estos formatos. Por ejemplo, para trabajar con archivos .json, puede utilizar la biblioteca \"json\" integrada en Python. Para archivos .csv, puede utilizar la biblioteca \"csv\" también integrada en Python. Para manejar conjuntos de datos más grandes, puede utilizar la biblioteca \"pandas\".\n",
        "\n",
        "Es importante señalar que Python también tiene una biblioteca llamada \"pickle\" que se utiliza para serializar y deserializar objetos de Python. Sin embargo, su uso está limitado debido a las preocupaciones de seguridad y la posible falta de interoperabilidad entre diferentes versiones de Python."
      ]
    },
    {
      "cell_type": "markdown",
      "metadata": {
        "id": "kndA_xFvxdJe"
      },
      "source": [
        "## El formato de valores separados por comas (CSV)\n",
        "\n",
        "El formato CSV es un formato de archivo utilizado para almacenar datos en forma de tabla. Como su nombre indica, los valores se separan por comas y las nuevas líneas denotan los registros. El siguiente es un ejemplo de un archivo CSV:\n",
        "\n",
        "\n",
        "\n",
        "```\n",
        "a,b,c,d,mensaje\n",
        "1,2,3,4,hola\n",
        "5,6,7,8,mundo\n",
        "9,10,11,12,foo\n",
        "```\n",
        "\n",
        "Sin embargo, Python puede inferir el tipo de datos en cada columna a partir de los valores. Por ejemplo, si todos los valores en una columna son enteros, entonces Python puede tratar esa columna como enteros.\n",
        "\n",
        "A veces, un valor en una columna puede contener comas. En ese caso, se encierra ese valor entre comillas dobles."
      ]
    },
    {
      "cell_type": "markdown",
      "metadata": {
        "id": "Jw93NQ2PxpKt"
      },
      "source": [
        "Python tiene una biblioteca estándar llamada csv para leer y escribir archivos CSV. La biblioteca csv admite la lectura y escritura de archivos CSV con o sin encabezado y puede inferir el tipo de datos automáticamente. Aquí hay un ejemplo de cómo leer un archivo CSV en Python usando la biblioteca csv:"
      ]
    },
    {
      "cell_type": "code",
      "execution_count": null,
      "metadata": {
        "id": "_B1R4oc2xsIk"
      },
      "outputs": [],
      "source": [
        "import csv\n",
        "\n",
        "with open('datos.csv') as archivo:\n",
        "    lector = csv.reader(archivo)\n",
        "    for fila in lector:\n",
        "        print(fila)"
      ]
    },
    {
      "cell_type": "markdown",
      "metadata": {
        "id": "IyhGVpjqx7iS"
      },
      "source": [
        "## Escribiendo archivos en Python\n",
        "\n",
        "ítulo: Escribiendo archivos en Python\n",
        "\n",
        "Además de leer archivos, también puedes escribir archivos en Python. Para escribir en un archivo, primero debes abrir el archivo en modo escritura. En Python, puedes hacer esto utilizando el método open() con el parámetro \"w\" para indicar que el archivo se abrirá en modo escritura."
      ]
    },
    {
      "cell_type": "markdown",
      "metadata": {
        "id": "8_bNVehIyEVX"
      },
      "source": [
        "Una forma más segura y conveniente de trabajar con archivos es utilizar la instrucción with. La instrucción with asegura que el archivo se cierre correctamente después de su uso, incluso si ocurre una excepción en el proceso.\n",
        "\n",
        "\n",
        "\n",
        "```\n",
        "with open(\"mydata.txt\", \"w\") as outf:\n",
        "    outf.write(\"Este es un archivo de prueba.\\n\")\n",
        "    outf.write(\"Estamos escribiendo en el archivo.\\n\")\n",
        "\n",
        "```\n",
        "En este ejemplo, abrimos el archivo \"mydata.txt\" en modo escritura utilizando la instrucción `with`. Luego, escribimos dos líneas de texto en el archivo utilizando el método `write()`. La segunda línea incluye un carácter de nueva línea (\\n) para separar las líneas.\n"
      ]
    },
    {
      "cell_type": "markdown",
      "metadata": {
        "id": "9ERgtx0JyEra"
      },
      "source": [
        "También puedes utilizar la función print() para escribir en un archivo utilizando el parámetro file. Por ejemplo:\n",
        "\n",
        "```\n",
        "with open(\"mydata.txt\", \"w\") as outf:\n",
        "    print(\"Este es un archivo de prueba.\", file=outf)\n",
        "    print(\"Estamos escribiendo en el archivo.\", file=outf)\n",
        "```\n",
        "\n",
        "\n"
      ]
    },
    {
      "cell_type": "markdown",
      "metadata": {
        "id": "6BjXg86oyjXR"
      },
      "source": [
        "Este código produce el mismo resultado que el ejemplo anterior.\n",
        "\n",
        "Además de write() y print(), también puedes utilizar el método writelines() para escribir una lista de cadenas en un archivo:\n",
        "\n",
        "```\n",
        "with open(\"mydata.txt\", \"w\") as outf:\n",
        "    lines = [\"Este es un archivo de prueba.\\n\", \"Estamos escribiendo en el archivo.\\n\"]\n",
        "    outf.writelines(lines)\n",
        "```\n",
        "En este ejemplo, creamos una lista de dos cadenas y luego utilizamos el método writelines() para escribir las dos cadenas en el archivo.\n",
        "\n",
        "Recuerda siempre cerrar el archivo cuando hayas terminado de escribir. Si estás utilizando la instrucción with, no necesitas cerrar el archivo manualmente, ya que se cerrará automáticamente al salir del bloque with."
      ]
    },
    {
      "cell_type": "markdown",
      "metadata": {
        "id": "Z5ew_tT1y8sR"
      },
      "source": [
        "## Context Manager\n",
        "\n",
        "En Python, el \"with statement\" se usa con contextos. Un contexto es un objeto que define el comportamiento de entrada y salida en una porción específica de código. Los contextos son útiles para manejar recursos externos como archivos, sockets, bases de datos, etc."
      ]
    },
    {
      "cell_type": "markdown",
      "metadata": {
        "id": "6I_h6InYzAON"
      },
      "source": [
        "Un gestor de contexto tiene un método \"enter\" que se llama al comienzo del bloque de código, y un método \"exit\" que se llama al final. Estos métodos garantizan que los recursos se liberen de manera adecuada al finalizar el bloque de código, incluso si ocurre una excepción.\n",
        "\n"
      ]
    },
    {
      "cell_type": "markdown",
      "metadata": {
        "id": "WMwSq7KZzCOE"
      },
      "source": [
        "Un ejemplo práctico es cuando se abre un archivo. Es importante cerrar el archivo después de que se haya terminado de usar, de lo contrario, puede causar problemas de memoria y/o pérdida de datos. Al usar el gestor de contexto with, no se necesita preocuparse por cerrar el archivo manualmente.\n",
        "\n",
        "Por ejemplo, en lugar de escribir:"
      ]
    },
    {
      "cell_type": "code",
      "execution_count": null,
      "metadata": {
        "id": "3BAmvRhKzD9q"
      },
      "outputs": [],
      "source": [
        "outf = open('huck-finn-lines.txt','w')\n",
        "for i, line in enumerate(huckleberry):\n",
        "    outf.write(line)\n",
        "if i > 3:\n",
        "    raise Exception(\"Failure\")\n",
        "outf.close()\n"
      ]
    },
    {
      "cell_type": "markdown",
      "metadata": {
        "id": "pzf3CWkUzG2t"
      },
      "source": [
        "Podemos usar el gestor de contexto `with`:"
      ]
    },
    {
      "cell_type": "code",
      "execution_count": null,
      "metadata": {
        "id": "buZi1Pu_zKwU"
      },
      "outputs": [],
      "source": [
        "with open('huck-finn-lines.txt','w') as outf:\n",
        "    for i, line in enumerate(huckleberry):\n",
        "        outf.write(line)\n",
        "    if i > 3:\n",
        "        raise Exception(\"Failure\")\n"
      ]
    },
    {
      "cell_type": "markdown",
      "metadata": {
        "id": "LJmY5V5zzNrs"
      },
      "source": [
        "Esto garantiza que el archivo se cierre correctamente al finalizar el bloque de código, incluso si ocurre una excepción en el proceso."
      ]
    },
    {
      "cell_type": "markdown",
      "metadata": {
        "id": "S99PLA4vzO4N"
      },
      "source": [
        "## Notación de Objetos de JavaScript (JSON)\n",
        "\n",
        "La Notación de Objetos de JavaScript, o JSON por sus siglas en inglés, es un formato ligero para intercambiar datos en la web. Está basado en un subconjunto de la sintaxis de JavaScript, pero es independiente del lenguaje, lo que significa que se puede utilizar con muchos lenguajes de programación, incluyendo Python."
      ]
    },
    {
      "cell_type": "markdown",
      "metadata": {
        "id": "PYdzrBVEz5-x"
      },
      "source": [
        "SON se parece mucho a los diccionarios y listas de Python, y se utiliza a menudo para transferir datos entre un servidor web y un cliente, o entre diferentes partes de una aplicación web. Aquí hay un ejemplo de un objeto JSON:\n",
        "\n",
        "\n",
        "\n",
        "```\n",
        "{\n",
        "\"name\": \"Wes\",\n",
        "\"places_lived\": [\"Estados Unidos\", \"España\", \"Alemania\"],\n",
        "\"pet\": null,\n",
        "\"siblings\": [\n",
        "{\"name\": \"Scott\", \"age\": 25, \"pet\": \"Zuko\"},\n",
        "{\"name\": \"Katie\", \"age\": 33, \"pet\": \"Cisco\"}\n",
        "]\n",
        "}\n",
        "```\n",
        "En JSON, un valor puede ser una cadena, una matriz, un diccionario, un número, un booleano o null. Sin embargo, a diferencia de Python, JSON solo admite literales, lo que significa que no puedes usar variables en JSON. Las claves del diccionario deben ser cadenas, y todos los valores de cadena deben estar entre comillas. Las comillas también ayudan a diferenciar los valores de cadena o numéricos.\n",
        "\n"
      ]
    },
    {
      "cell_type": "markdown",
      "metadata": {
        "id": "D5IUTT0L0EPK"
      },
      "source": [
        "Para trabajar con datos JSON en Python, puedes utilizar el módulo json incorporado, que te permite codificar y decodificar datos JSON. Aquí hay un ejemplo de decodificar datos JSON desde una cadena:"
      ]
    },
    {
      "cell_type": "code",
      "execution_count": null,
      "metadata": {
        "id": "TgvLZBC3zNO-"
      },
      "outputs": [],
      "source": [
        "import json\n",
        "\n",
        "json_str = '{\"name\": \"Wes\", \"age\": 25}'\n",
        "data = json.loads(json_str)\n",
        "\n",
        "print(data['name']) # Wes\n",
        "print(data['age']) # 25"
      ]
    },
    {
      "cell_type": "markdown",
      "metadata": {
        "id": "sLpmBBLB0NbB"
      },
      "source": [
        "Y aquí hay un ejemplo de codificar un diccionario de Python como una cadena JSON:\n"
      ]
    },
    {
      "cell_type": "code",
      "execution_count": null,
      "metadata": {
        "id": "poNTv7fI0Tih"
      },
      "outputs": [],
      "source": [
        "import json\n",
        "\n",
        "data = {'name': 'Wes', 'age': 25}\n",
        "json_str = json.dumps(data)\n",
        "\n",
        "print(json_str) # {\"name\": \"Wes\", \"age\": 25}"
      ]
    }
  ],
  "metadata": {
    "colab": {
      "provenance": []
    },
    "kernelspec": {
      "display_name": "Python 3",
      "name": "python3"
    },
    "language_info": {
      "name": "python"
    }
  },
  "nbformat": 4,
  "nbformat_minor": 0
}
