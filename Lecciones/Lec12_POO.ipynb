{
  "cells": [
    {
      "cell_type": "markdown",
      "metadata": {},
      "source": [
        "<a href=\"https://colab.research.google.com/github/JuanFranco-hub/Python-Tutorial-for-ML/blob/main/Lecciones/Lec12_POO\" target=\"_parent\"><img src=\"https://colab.research.google.com/assets/colab-badge.svg\" alt=\"Open In Colab\"/></a> "
      ]
    },
    {
      "cell_type": "markdown",
      "metadata": {
        "id": "MGzhBq5F71iD"
      },
      "source": [
        "# Programación Orientada a Objetos"
      ]
    },
    {
      "cell_type": "markdown",
      "metadata": {
        "id": "pIyZHytZhP6S"
      },
      "source": [
        "## Conceptos Básicos de la Programación Orientada a Objetos (OOP)\n",
        "La programación orientada a objetos es un paradigma de programación que utiliza \"objetos\" para diseñar software. Estos objetos son una encapsulación de datos (atributos) y métodos (funciones) que operan sobre esos datos. Los principales conceptos de OOP incluyen:"
      ]
    },
    {
      "cell_type": "markdown",
      "metadata": {
        "id": "r0fq8DXrhU76"
      },
      "source": [
        "1. **Abstracción**: Simplificar complejos sistemas reales modelando clases apropiadas para el problema.\n",
        "2. **Encapsulación**: Ocultar detalles de implementación de las clases y mostrar solo las operaciones que el objeto puede realizar.\n",
        "3. **Herencia**: Capacidad de crear nuevas clases a partir de clases existentes.\n",
        "Polimorfismo: Capacidad de procesar objetos de manera diferente basado en su clase o tipo de datos.\n",
        "\n",
        "\n"
      ]
    },
    {
      "cell_type": "markdown",
      "metadata": {
        "id": "xmihSHl3hfCz"
      },
      "source": [
        "## Ejemplo de Implementación de OOP: Clase Vehicle\n",
        "Vamos a analizar el ejemplo de la clase Vehicle que menciona tu PDF:"
      ]
    },
    {
      "cell_type": "code",
      "execution_count": 1,
      "metadata": {
        "id": "7aDv8z55hISE"
      },
      "outputs": [],
      "source": [
        "class Vehicle:\n",
        "    def __init__(self, make, model, year, color):\n",
        "        self.make = make\n",
        "        self.model = model\n",
        "        self.year = year\n",
        "        self.color = color\n",
        "\n",
        "    def age(self):\n",
        "        return 2024 - self.year"
      ]
    },
    {
      "cell_type": "markdown",
      "metadata": {
        "id": "NQEK4UE9hqzj"
      },
      "source": [
        "## Descripción:\n",
        "\n",
        "* `Vehicle` es una clase que representa un vehículo con atributos como marca (`make`), modelo (`model`), año (`year`) y color (`color`).\n",
        "* `__init__` es el constructor de la clase, que inicializa los atributos del objeto cuando se crea una instancia de la clase.\n",
        "* `age` es un método de instancia que calcula la edad del vehículo basada en el año actual."
      ]
    },
    {
      "cell_type": "markdown",
      "metadata": {
        "id": "qw3px4c2kv_a"
      },
      "source": [
        "## Instanciación y Uso de la Clase Vehicle\n",
        "Para crear instancias de Vehicle y usar sus métodos, lo hacemos de la siguiente manera:"
      ]
    },
    {
      "cell_type": "code",
      "execution_count": null,
      "metadata": {
        "id": "ZBvPMpU0kgfj"
      },
      "outputs": [],
      "source": [
        "# Clases\n",
        "class Vehicle:\n",
        "    def __init__(self, make, model, year, color):\n",
        "        self.make = make\n",
        "        self.model = model\n",
        "        self.year = year\n",
        "        self.color = color\n",
        "\n",
        "    def age(self):\n",
        "        return 2024 - self.year"
      ]
    },
    {
      "cell_type": "code",
      "execution_count": null,
      "metadata": {
        "id": "f--NeyHlk2Db"
      },
      "outputs": [],
      "source": [
        "# Instancias\n",
        "car1 = Vehicle('Toyota', 'Camry', 2000, 'red')\n",
        "car2 = Vehicle('Dodge', 'Caravan', 2015, 'gray')"
      ]
    },
    {
      "cell_type": "markdown",
      "metadata": {
        "id": "sj10a6i9nWGK"
      },
      "source": [
        "## Constructor\n",
        "El Constructor en Python es un método especial que se llama automáticamente al crear un nuevo objeto de una clase. Este método está definido por `__init__`. Su principal función es inicializar los atributos del nuevo objeto."
      ]
    },
    {
      "cell_type": "code",
      "execution_count": 3,
      "metadata": {
        "id": "RIZhvR_JnhiS"
      },
      "outputs": [],
      "source": [
        "# Ejemplo del Constructor de la Clase Vehicle:\n",
        "def __init__(self, make, model, year, color):\n",
        "    self.make = make\n",
        "    self.model = model\n",
        "    self.year = year\n",
        "    self.color = color"
      ]
    },
    {
      "cell_type": "markdown",
      "metadata": {
        "id": "sgshD7qInnH6"
      },
      "source": [
        "### Explicación:\n",
        "\n",
        "*  `__init__` es el método constructor para la clase `Vehicle`.\n",
        "* `self` representa la instancia de la clase y es un\n",
        "* parámetro obligatorio en los métodos de instancia.\n",
        "* Los parámetros `make`, `model`, `year` y `color` se utilizan para recibir los valores que definirán las propiedades del objeto.\n",
        "* Estos valores se asignan a los atributos de instancia del objeto (`self.make`, `self.model`, `self.year`, `self.color`)."
      ]
    },
    {
      "cell_type": "markdown",
      "metadata": {
        "id": "4JPg3kfPoBAK"
      },
      "source": [
        "## Atributos de Instancia\n",
        "Los **Atributos de Instancia** son variables asociadas a un objeto específico. En Python, estos atributos se definen dentro del constructor y son accesibles en todos los métodos de la clase a través del prefijo `self`."
      ]
    },
    {
      "cell_type": "code",
      "execution_count": null,
      "metadata": {
        "id": "XEhajo8AoFUS"
      },
      "outputs": [],
      "source": [
        "# Ejemplo de Atributos de Instancia en la Clase Vehicle:\n",
        "self.make = make\n",
        "self.model = model\n",
        "self.year = year\n",
        "self.color = color"
      ]
    },
    {
      "cell_type": "markdown",
      "metadata": {
        "id": "iBdZb-3DoScC"
      },
      "source": [
        "### Explicación:\n",
        "\n",
        "* `self.make`, `self.model`, `self.year` y `self.color` son atributos de instancia.\n",
        "* Estos atributos se utilizan para almacenar información específica de cada objeto creado a partir de la clase `Vehicle`."
      ]
    },
    {
      "cell_type": "markdown",
      "metadata": {
        "id": "yLrjMRbiomFR"
      },
      "source": [
        "## Métodos de Instancia\n",
        "Los **Métodos de Instancia** son funciones definidas dentro de una clase que operan sobre los datos (atributos) de los objetos de esa clase."
      ]
    },
    {
      "cell_type": "code",
      "execution_count": null,
      "metadata": {
        "id": "kGcFw3E3oqXK"
      },
      "outputs": [],
      "source": [
        "# Ejemplo de Método de Instancia en la Clase Vehicle:\n",
        "def age(self):\n",
        "    return 2024 - self.year"
      ]
    },
    {
      "cell_type": "markdown",
      "metadata": {
        "id": "EjJtXJpzovbj"
      },
      "source": [
        "### Explicación:\n",
        "* `age` es un método de instancia que calcula la edad del vehículo basándose en el año actual (2024).\n",
        "* Utiliza el atributo de instancia `self.year` para determinar cuántos años han pasado desde el año de fabricación del vehículo.\n",
        "* Este método retorna el número de años, que es un cálculo entre el año actual y el año del vehículo."
      ]
    },
    {
      "cell_type": "markdown",
      "metadata": {
        "id": "aBdQYAuet0iC"
      },
      "source": [
        "## Creando y Usando Instancias\n",
        "Para crear una instancia de una clase en Python, simplemente llamas al constructor de la clase pasando los parámetros requeridos, menos self. Después de crear una instancia, puedes utilizar métodos de instancia para interactuar con los datos del objeto."
      ]
    },
    {
      "cell_type": "code",
      "execution_count": null,
      "metadata": {
        "id": "IGVn6HaDt4aa"
      },
      "outputs": [],
      "source": [
        "car1 = Vehicle('Honda', 'Accord', 2009, 'red')\n",
        "car1.age()  # Llama al método age para obtener la edad del vehículo.\n",
        "car1.set_age(20)  # Ajusta la edad del vehículo, lo que actualiza el año de fabricación."
      ]
    },
    {
      "cell_type": "markdown",
      "metadata": {
        "id": "pA9xmVRft8V6"
      },
      "source": [
        "## Visibilidad\n",
        "Python no impone estrictamente la privacidad de atributos o métodos como otros lenguajes (como C++ o Java), sino que utiliza convenciones:\n",
        "\n",
        "* Nombres con un guion bajo inicial (`_`) se consideran protegidos.\n",
        "* Nombres con dos guiones bajos iniciales (`__`) se \"manglan\" para hacer difícil su acceso desde fuera de la clase."
      ]
    },
    {
      "cell_type": "markdown",
      "metadata": {
        "id": "aNnzOVcayh15"
      },
      "source": [
        "## Métodos de Representación\n",
        "Python utiliza métodos especiales, llamados métodos \"dunder\" (double underscore), como `__str__` y `__repr__`, para definir cómo se representa un objeto en forma de cadena."
      ]
    },
    {
      "cell_type": "code",
      "execution_count": null,
      "metadata": {
        "id": "5e35ZWCFypui"
      },
      "outputs": [],
      "source": [
        "# Ejemplo\n",
        "class Vehicle:\n",
        "    def __str__(self):\n",
        "        return f'{self.year} {self.make} {self.model}'\n",
        "\n",
        "car1 = Vehicle('Honda', 'Accord', 2009, 'red')\n",
        "print(car1)  # Utiliza __str__ para obtener una representación legible."
      ]
    },
    {
      "cell_type": "markdown",
      "metadata": {
        "id": "M41Pm7JOy96I"
      },
      "source": [
        "## Otros Métodos Dunder\n",
        "Python permite definir comportamientos personalizados para operaciones estándar mediante métodos especiales, como `__eq__`, `__lt__`, `__getitem__`, entre otros."
      ]
    },
    {
      "cell_type": "markdown",
      "metadata": {
        "id": "04Nfhr9pzb7B"
      },
      "source": [
        "## Propiedades\n",
        "\n",
        "Las propiedades en Python son atributos gestionados por métodos, que se definen usando el decorador @property para el getter, y @property_name.setter para el setter."
      ]
    },
    {
      "cell_type": "code",
      "execution_count": 4,
      "metadata": {
        "id": "QCXJIHoyzHMp"
      },
      "outputs": [],
      "source": [
        "#Ejemplo:\n",
        "class Vehicle:\n",
        "    @property\n",
        "    def age(self):\n",
        "        return 2024 - self.year\n",
        "\n",
        "    @age.setter\n",
        "    def age(self, value):\n",
        "        self.year = 2024 - value"
      ]
    },
    {
      "cell_type": "markdown",
      "metadata": {
        "id": "clYcCyE8znEo"
      },
      "source": [
        "## Atributos de Clase\n",
        "Los atributos de clase son variables compartidas por todas las instancias de una clase."
      ]
    },
    {
      "cell_type": "code",
      "execution_count": null,
      "metadata": {
        "id": "O0ZAlQCYzo1A"
      },
      "outputs": [],
      "source": [
        "# Ejemplo:\n",
        "class Vehicle:\n",
        "    CURRENT_YEAR = 2024"
      ]
    },
    {
      "cell_type": "markdown",
      "metadata": {
        "id": "AmivXZ-rzz2J"
      },
      "source": [
        "## Métodos de Clase y Estáticos\n",
        "* **Métodos de clase**: definidos con el decorador `@classmethod`, reciben la clase como primer argumento (`cls`).\n",
        "* **Métodos estáticos**: definidos con el decorador `@staticmethod`, no reciben un argumento implícito."
      ]
    },
    {
      "cell_type": "markdown",
      "metadata": {
        "id": "0G4Ifhu40VdY"
      },
      "source": [
        "## Herencia\n",
        "La herencia permite definir una clase basada en otra clase, heredando sus métodos y atributos."
      ]
    },
    {
      "cell_type": "code",
      "execution_count": null,
      "metadata": {
        "id": "vtXdQNrK0Y3x"
      },
      "outputs": [],
      "source": [
        "# Ejemplo\n",
        "class Car(Vehicle):\n",
        "    def __init__(self, make, model, year, color, num_doors):\n",
        "        super().__init__(make, model, year, color)\n",
        "        self.num_doors = num_doors"
      ]
    },
    {
      "cell_type": "markdown",
      "metadata": {
        "id": "QINWTPPW0nRZ"
      },
      "source": [
        "## Subclase\n",
        "Una subclase es una clase que extiende o modifica la funcionalidad de una clase base (superclase)."
      ]
    },
    {
      "cell_type": "code",
      "execution_count": 5,
      "metadata": {
        "id": "L9ck0thN06Lf"
      },
      "outputs": [],
      "source": [
        "# Superclase: Vehicle\n",
        "class Vehicle:\n",
        "    def __init__(self, make, model, year):\n",
        "        self.make = make\n",
        "        self.model = model\n",
        "        self.year = year\n",
        "\n",
        "    def __str__(self):\n",
        "        return f\"{self.make} {self.model} {self.year}\"\n",
        "\n",
        "    def age(self):\n",
        "        return 2024 - self.year\n"
      ]
    },
    {
      "cell_type": "code",
      "execution_count": 7,
      "metadata": {
        "id": "vob--fBv07MJ"
      },
      "outputs": [],
      "source": [
        "# Subclase: Car\n",
        "class Car(Vehicle):\n",
        "    def __init__(self, make, model, year, num_doors):\n",
        "        super().__init__(make, model, year)\n",
        "        self.num_doors = num_doors\n",
        "\n",
        "    def __str__(self):\n",
        "        return f\"{super().__str__()} - {self.num_doors} doors\"\n",
        "\n",
        "    def car_specific_method(self):\n",
        "        return f\"This is a method specific to cars.\"\n"
      ]
    },
    {
      "cell_type": "markdown",
      "metadata": {
        "id": "9EXFnxgh1LXQ"
      },
      "source": [
        "## Convenciones de Atributos de Instancia en Python\n",
        "* **Públicos**: Sin guiones bajos, accesibles desde cualquier parte.\n",
        "* **Protegidos**: Un guion bajo (`_`), sugerido para uso interno de la clase y subclases.\n",
        "* **Privados**: Dos guiones bajos (`__`), para uso exclusivo dentro de la clase y son manglados para evitar su acceso directo."
      ]
    },
    {
      "cell_type": "markdown",
      "metadata": {
        "id": "l1ZKoWt41WaH"
      },
      "source": [
        "## Sobrecarga de Métodos\n",
        "Modificar el comportamiento de un método heredado se llama sobrecarga de métodos. Se utiliza super() para llamar al método de la clase base si es necesario."
      ]
    },
    {
      "cell_type": "code",
      "execution_count": null,
      "metadata": {
        "id": "C-MGe-bY1ZkY"
      },
      "outputs": [],
      "source": [
        "# Ejemplo\n",
        "class Square(Rectangle):\n",
        "    def set_height(self, height):\n",
        "        super().set_height(height)\n",
        "        self.width = height"
      ]
    },
    {
      "cell_type": "markdown",
      "metadata": {
        "id": "rJhCKDSb5V6J"
      },
      "source": [
        "## Creación y Uso de Instancias\n",
        "\n",
        "La creación de instancias en Python se realiza mediante el constructor de la clase, indicado por el método `__init__`. Este método inicializa los atributos del objeto con los valores proporcionados. Después de crear una instancia, puedes utilizar sus métodos para interactuar con sus datos o modificar su estado."
      ]
    },
    {
      "cell_type": "code",
      "execution_count": null,
      "metadata": {
        "id": "7roBZ5OV5eZx"
      },
      "outputs": [],
      "source": [
        "class Vehicle:\n",
        "    def __init__(self, make, model, year, color):\n",
        "        self.make = make\n",
        "        self.model = model\n",
        "        self.year = year\n",
        "        self.color = color\n",
        "\n",
        "    def age(self):\n",
        "        return 2024 - self.year"
      ]
    },
    {
      "cell_type": "code",
      "execution_count": null,
      "metadata": {
        "id": "7JyR7aGt5i-5"
      },
      "outputs": [],
      "source": [
        "# Creación de instancias\n",
        "car1 = Vehicle('Honda', 'Civic', 2010, 'blue')\n",
        "car2 = Vehicle('Ford', 'Fusion', 2012, 'white')"
      ]
    },
    {
      "cell_type": "code",
      "execution_count": null,
      "metadata": {
        "id": "wkhISYBV5i2o"
      },
      "outputs": [],
      "source": [
        "# Uso de métodos\n",
        "print(car1.age())  # Calcula la edad del car1\n",
        "print(car2.age())  # Calcula la edad del car2"
      ]
    },
    {
      "cell_type": "markdown",
      "metadata": {
        "id": "qBREawxK5p3p"
      },
      "source": [
        "## Visibilidad (Encapsulación)\n",
        "\n",
        "En Python, la encapsulación se maneja mediante convenciones de nomenclatura, dado que todos los atributos son públicos por defecto:\n",
        "\n",
        "* **Atributos con un guion bajo (_)**: se consideran protegidos y no deberían ser accesados directamente fuera de la clase o en subclases.\n",
        "* **Atributos con dos guiones bajos (__)**: Python aplica un manejo especial conocido como name mangling para hacerlos menos accesibles desde fuera de la clase."
      ]
    },
    {
      "cell_type": "code",
      "execution_count": null,
      "metadata": {
        "id": "iNDj0qpg51Cu"
      },
      "outputs": [],
      "source": [
        "# Ejemplo de encapsulación:\n",
        "class Vehicle:\n",
        "    def __init__(self, make, model, year):\n",
        "        self.make = make\n",
        "        self._model = model  # Protegido\n",
        "        self.__year = year  # Privado\n",
        "\n",
        "    def description(self):\n",
        "        return f\"{self.make} {self._model}, Year: {self.__year}\"\n",
        "\n",
        "car = Vehicle(\"Toyota\", \"Corolla\", 2019)\n",
        "print(car.description())\n",
        "# Intentar acceder a __year o _model desde fuera de la clase resultará en un AttributeError o no será recomendado"
      ]
    },
    {
      "cell_type": "code",
      "execution_count": 10,
      "metadata": {
        "id": "vQJy-f5g5-_3"
      },
      "outputs": [],
      "source": [
        "# Ejemplo de métodos de representación:\n",
        "class Vehicle:\n",
        "    def __init__(self, make, model, year):\n",
        "        self.make = make\n",
        "        self.model = model\n",
        "        self.year = year\n",
        "\n",
        "    def __str__(self):\n",
        "        return f\"{self.make} {self.model}\"\n",
        "\n",
        "    def __repr__(self):\n",
        "        return f\"Vehicle('{self.make}', '{self.model}', {self.year})\""
      ]
    },
    {
      "cell_type": "code",
      "execution_count": null,
      "metadata": {
        "id": "SHiINBdm6G2Y"
      },
      "outputs": [],
      "source": [
        "car = Vehicle(\"Ford\", \"Mustang\", 2022)\n",
        "print(str(car))  # Usará __str__\n",
        "print(repr(car))  # Usará __repr__"
      ]
    },
    {
      "cell_type": "markdown",
      "metadata": {
        "id": "XNg_E5CM6CT9"
      },
      "source": [
        "## Métodos de Clase y Estáticos\n",
        "\n",
        "* **Métodos de clase (@classmethod)**: reciben el objeto de la clase como primer argumento (usualmente denominado cls). Son útiles para operaciones que involucran la clase en sí y no instancias específicas.\n",
        "* **Métodos estáticos (@staticmethod)**: no reciben un objeto de clase o instancia como primer argumento. Son útiles cuando se desea realizar alguna funcionalidad que no depende del estado de la instancia o la clase."
      ]
    },
    {
      "cell_type": "code",
      "execution_count": null,
      "metadata": {
        "id": "8K90B6ut6YL3"
      },
      "outputs": [],
      "source": [
        "# Ejemplo de métodos de clase y estáticos:\n",
        "class Vehicle:\n",
        "    fleet_size = 0\n",
        "\n",
        "    def __init__(self, make, model):\n",
        "        self.make = make\n",
        "        self.model = model\n",
        "        Vehicle.fleet_size += 1\n",
        "\n",
        "    @classmethod\n",
        "    def get_fleet_size(cls):\n",
        "        return f\"Total vehicles: {cls.fleet_size}\"\n",
        "\n",
        "    @staticmethod\n",
        "    def is_motor_vehicle():\n",
        "        return True\n",
        "\n",
        "print(Vehicle.get_fleet_size())  # Llamada al método de clase\n",
        "print(Vehicle.is_motor_vehicle())  # Llamada al método estático\n"
      ]
    },
    {
      "cell_type": "markdown",
      "metadata": {
        "id": "aYqMjt-W6ikR"
      },
      "source": [
        "## Herencia y Subclases\n",
        "\n",
        "La herencia permite que una clase (subclase) herede características (atributos y métodos) de otra clase (superclase). Esto facilita la reutilización de código y la creación de jerarquías de clases más específicas y detalladas."
      ]
    },
    {
      "cell_type": "code",
      "execution_count": null,
      "metadata": {
        "id": "QybROMIa6utf"
      },
      "outputs": [],
      "source": [
        "# Ejemplo de herencia:\n",
        "class Vehicle:\n",
        "    def __init__(self, make, model, year):\n",
        "        self.make = make\n",
        "        self.model = model\n",
        "        self.year = year\n",
        "\n",
        "    def description(self):\n",
        "        return f\"{self.make} {self.model}, Year: {self.year}\"\n",
        "\n",
        "# Subclase que hereda de Vehicle\n",
        "class Car(Vehicle):\n",
        "    def __init__(self, make, model, year, doors):\n",
        "        super().__init__(make, model, year)\n",
        "        self.doors = doors\n",
        "\n",
        "    def car_details(self):\n",
        "        return f\"{self.description()}, Doors: {self.doors}\"\n",
        "\n",
        "# Creando una instancia de Car\n",
        "my_car = Car(\"Toyota\", \"Corolla\", 2020, 4)\n",
        "print(my_car.car_details())\n"
      ]
    },
    {
      "cell_type": "markdown",
      "metadata": {
        "id": "QI5RI51M61-F"
      },
      "source": [
        "### Sobrecarga de Métodos\n",
        "La sobrecarga de métodos se refiere a la capacidad de una subclase para ofrecer una implementación específica de un método que ya está definido en su superclase."
      ]
    },
    {
      "cell_type": "code",
      "execution_count": null,
      "metadata": {
        "id": "k9qcij056wX7"
      },
      "outputs": [],
      "source": [
        "# Ejemplo de sobrecarga de métodos:\n",
        "class Vehicle:\n",
        "    def start(self):\n",
        "        print(\"Vehicle engine started\")\n",
        "\n",
        "class ElectricVehicle(Vehicle):\n",
        "    def start(self):\n",
        "        print(\"Electric Vehicle engine started with no sound\")\n",
        "\n",
        "# Uso de la sobrecarga\n",
        "ev = ElectricVehicle()\n",
        "ev.start()  # Muestra \"Electric Vehicle engine started with no sound\", no \"Vehicle engine started\"\n"
      ]
    },
    {
      "cell_type": "markdown",
      "metadata": {
        "id": "IPL5cnSj6_NY"
      },
      "source": [
        "## Propiedades\n",
        "Las propiedades en Python proporcionan una manera de usar getters y setters en la programación orientada a objetos."
      ]
    },
    {
      "cell_type": "code",
      "execution_count": null,
      "metadata": {
        "id": "1BxUOihe6656"
      },
      "outputs": [],
      "source": [
        "#Ejemplo de propiedades:\n",
        "class Vehicle:\n",
        "    def __init__(self, year):\n",
        "        self._year = year\n",
        "\n",
        "    @property\n",
        "    def year(self):\n",
        "        return self._year\n",
        "\n",
        "    @year.setter\n",
        "    def year(self, value):\n",
        "        if value < 2000:\n",
        "            print(\"Year is too old, setting to 2000\")\n",
        "            self._year = 2000\n",
        "        else:\n",
        "            self._year = value"
      ]
    },
    {
      "cell_type": "code",
      "execution_count": null,
      "metadata": {
        "id": "mL9FhOtF7IU6"
      },
      "outputs": [],
      "source": [
        "car = Vehicle(1999)\n",
        "print(car.year)  # Accede a través de la propiedad, muestra \"Year is too old, setting to 2000\"\n",
        "car.year = 2021  # Cambia el año mediante el setter\n",
        "print(car.year)"
      ]
    },
    {
      "cell_type": "markdown",
      "metadata": {
        "id": "uwrYRcxY7MyJ"
      },
      "source": [
        "#Métodos de Clase y Métodos Estáticos\n",
        "**Métodos de clase** son aquellos métodos que tienen acceso a la clase a través del objeto `cls`, lo cual es útil para manejar estados globales de la clase. **Métodos estáticos**, por otro lado, no toman un parámetro `self` ni `cls` y son útiles para realizar funciones que no modifican el estado de la clase o la instancia."
      ]
    },
    {
      "cell_type": "code",
      "execution_count": 13,
      "metadata": {
        "id": "hqt299D-7azI"
      },
      "outputs": [],
      "source": [
        "#Ejemplo de métodos de clase y métodos estáticos:\n",
        "class Calculator:\n",
        "    @staticmethod\n",
        "    def add(x, y):\n",
        "        return x + y\n",
        "\n",
        "    @classmethod\n",
        "    def subtract(cls, x, y):\n",
        "        return x - y\n",
        "\n",
        "print(Calculator.add(5, 3))  # 8, no necesita instancia\n",
        "print(Calculator.subtract(10, 5))  # 5, tampoco necesita instancia"
      ]
    }
  ],
  "metadata": {
    "colab": {
      "provenance": []
    },
    "kernelspec": {
      "display_name": "Python 3",
      "name": "python3"
    },
    "language_info": {
      "name": "python"
    }
  },
  "nbformat": 4,
  "nbformat_minor": 0
}
