{
  "nbformat": 4,
  "nbformat_minor": 0,
  "metadata": {
    "colab": {
      "provenance": []
    },
    "kernelspec": {
      "name": "python3",
      "display_name": "Python 3"
    },
    "language_info": {
      "name": "python"
    }
  },
  "cells": [
    {
      "cell_type": "markdown",
      "source": [
        "### Introducción a los Arrays\n",
        "\n",
        "Un **array** es una estructura de datos que nos permite almacenar múltiples valores del mismo tipo en una única variable. En Python, los arrays no son nativos, pero podemos usarlos utilizando la biblioteca `NumPy`."
      ],
      "metadata": {
        "id": "f6dk5o9IY6g3"
      }
    },
    {
      "cell_type": "markdown",
      "source": [
        "#### Diferencias con otras estructuras:\n",
        "- **Listas**: En Python, las listas pueden contener elementos de diferentes tipos y su tamaño es dinámico (pueden crecer o disminuir).\n",
        "- **Tuplas**: Como las listas, pueden contener diferentes tipos, pero su tamaño es fijo y no pueden ser modificadas.\n",
        "- **Arrays**: Solo pueden contener un tipo de dato y, a menudo, tienen un tamaño fijo. Esto los hace más eficientes en términos de acceso y manipulación.\n",
        "\n",
        "Un array es útil cuando queremos trabajar con grandes cantidades de datos homogéneos, especialmente para cálculos numéricos.\n",
        "\n",
        "---"
      ],
      "metadata": {
        "id": "f8her5mBY8TP"
      }
    },
    {
      "cell_type": "markdown",
      "source": [
        "### Instalación de NumPy\n",
        "\n",
        "Antes de trabajar con arrays, necesitamos instalar la biblioteca `NumPy`, que es la más popular para el trabajo con arrays en Python. Para instalarla, ejecuta lo siguiente en tu terminal:\n",
        "\n",
        "```bash\n",
        "pip install numpy\n",
        "```\n",
        "\n",
        "---"
      ],
      "metadata": {
        "id": "7YYlOnekY-wH"
      }
    },
    {
      "cell_type": "markdown",
      "source": [
        "### Creación de Arrays\n",
        "\n",
        "Para crear un array con NumPy, primero tenemos que importar la biblioteca:"
      ],
      "metadata": {
        "id": "j5xKV7XtZDvM"
      }
    },
    {
      "cell_type": "code",
      "execution_count": 1,
      "metadata": {
        "id": "pYtWq7nkYrSN"
      },
      "outputs": [],
      "source": [
        "import numpy as np"
      ]
    },
    {
      "cell_type": "markdown",
      "source": [
        "#### Crear un array a partir de una lista\n",
        "\n",
        "Imagina que tienes una lista de números y quieres convertirla en un array:"
      ],
      "metadata": {
        "id": "r8IZfptMZPO2"
      }
    },
    {
      "cell_type": "code",
      "source": [
        "lista = [1, 2, 3, 4, 5]\n",
        "array = np.array(lista)\n",
        "print(array)"
      ],
      "metadata": {
        "colab": {
          "base_uri": "https://localhost:8080/"
        },
        "id": "Qf9_fzhIZQpl",
        "outputId": "1d24bf67-bf68-428b-fde6-6b5f725571e6"
      },
      "execution_count": 3,
      "outputs": [
        {
          "output_type": "stream",
          "name": "stdout",
          "text": [
            "[1 2 3 4 5]\n"
          ]
        }
      ]
    },
    {
      "cell_type": "markdown",
      "source": [
        "#### Crear arrays con valores predefinidos\n",
        "\n",
        "NumPy nos ofrece varias funciones útiles para crear arrays rápidamente con valores específicos:\n"
      ],
      "metadata": {
        "id": "bhugut4BZVX6"
      }
    },
    {
      "cell_type": "code",
      "source": [
        "# Zeros: Crea un array lleno de ceros.\n",
        "arr = np.zeros(5)\n",
        "print(arr)"
      ],
      "metadata": {
        "colab": {
          "base_uri": "https://localhost:8080/"
        },
        "id": "gPf9_QWZZWEa",
        "outputId": "88de2667-35e5-4796-b4cf-70bb9d36bcfc"
      },
      "execution_count": 2,
      "outputs": [
        {
          "output_type": "stream",
          "name": "stdout",
          "text": [
            "[0. 0. 0. 0. 0.]\n"
          ]
        }
      ]
    },
    {
      "cell_type": "code",
      "source": [
        "# Ones: Crea un array lleno de unos.\n",
        "arr = np.ones((3, 3))\n",
        "print(arr)"
      ],
      "metadata": {
        "colab": {
          "base_uri": "https://localhost:8080/"
        },
        "id": "l8OjSSuIZpN3",
        "outputId": "b6f427cf-7f4d-4cff-a3b2-8962d7d606ec"
      },
      "execution_count": 4,
      "outputs": [
        {
          "output_type": "stream",
          "name": "stdout",
          "text": [
            "[[1. 1. 1.]\n",
            " [1. 1. 1.]\n",
            " [1. 1. 1.]]\n"
          ]
        }
      ]
    },
    {
      "cell_type": "code",
      "source": [
        "# Range: Crea un array con un rango de valores.\n",
        "arr = np.arange(10)\n",
        "print(arr)"
      ],
      "metadata": {
        "colab": {
          "base_uri": "https://localhost:8080/"
        },
        "id": "u-NUiDpSZpHR",
        "outputId": "0560d717-f408-4353-f50e-38cde4a93787"
      },
      "execution_count": 5,
      "outputs": [
        {
          "output_type": "stream",
          "name": "stdout",
          "text": [
            "[0 1 2 3 4 5 6 7 8 9]\n"
          ]
        }
      ]
    },
    {
      "cell_type": "code",
      "source": [
        "# Linspace: Crea un array con números espaciados uniformemente.\n",
        "arr = np.linspace(0, 1, 5)\n",
        "print(arr)"
      ],
      "metadata": {
        "colab": {
          "base_uri": "https://localhost:8080/"
        },
        "id": "-w0IUmHIZpAp",
        "outputId": "a969645c-f625-4b98-d416-ae861a1ef14f"
      },
      "execution_count": 6,
      "outputs": [
        {
          "output_type": "stream",
          "name": "stdout",
          "text": [
            "[0.   0.25 0.5  0.75 1.  ]\n"
          ]
        }
      ]
    },
    {
      "cell_type": "markdown",
      "source": [
        "### Accediendo a Elementos de un Array\n",
        "\n",
        "El acceso a los elementos en un array es muy similar a cómo accedemos a los elementos en una lista."
      ],
      "metadata": {
        "id": "n5uUUPyQaCaE"
      }
    },
    {
      "cell_type": "code",
      "source": [
        "arr = np.array([10, 20, 30, 40, 50])\n",
        "print(arr[0])\n",
        "print(arr[-1])"
      ],
      "metadata": {
        "colab": {
          "base_uri": "https://localhost:8080/"
        },
        "id": "3jCsOyniZo2a",
        "outputId": "4cd80c17-88d2-408c-c566-73cd85a9ee76"
      },
      "execution_count": 7,
      "outputs": [
        {
          "output_type": "stream",
          "name": "stdout",
          "text": [
            "10\n",
            "50\n"
          ]
        }
      ]
    },
    {
      "cell_type": "markdown",
      "source": [
        "Para arrays multidimensionales, utilizamos índices separados por comas."
      ],
      "metadata": {
        "id": "6ebQeR1oaHiN"
      }
    },
    {
      "cell_type": "code",
      "source": [
        "arr2d = np.array([[1, 2, 3], [4, 5, 6], [7, 8, 9]])\n",
        "print(arr2d[0, 1])\n",
        "print(arr2d[2, 2])"
      ],
      "metadata": {
        "colab": {
          "base_uri": "https://localhost:8080/"
        },
        "id": "vA30FpQEaI62",
        "outputId": "63de0115-3ce0-4e7d-8f65-888498b3311a"
      },
      "execution_count": 8,
      "outputs": [
        {
          "output_type": "stream",
          "name": "stdout",
          "text": [
            "2\n",
            "9\n"
          ]
        }
      ]
    },
    {
      "cell_type": "markdown",
      "source": [
        "### Operaciones Básicas con Arrays\n",
        "\n",
        "Uno de los beneficios principales de los arrays es que nos permiten realizar operaciones matemáticas de manera muy eficiente:"
      ],
      "metadata": {
        "id": "SebRmmGwaNdE"
      }
    },
    {
      "cell_type": "markdown",
      "source": [
        "**Suma de arrays**: La suma se realiza elemento por elemento."
      ],
      "metadata": {
        "id": "rXT-XCNxakAy"
      }
    },
    {
      "cell_type": "code",
      "source": [
        "a = np.array([1, 2, 3])\n",
        "b = np.array([4, 5, 6])\n",
        "print(a + b)"
      ],
      "metadata": {
        "colab": {
          "base_uri": "https://localhost:8080/"
        },
        "id": "rquAV1UNaQxz",
        "outputId": "d89ed665-ffce-437f-9d31-8a52d167cc5c"
      },
      "execution_count": 9,
      "outputs": [
        {
          "output_type": "stream",
          "name": "stdout",
          "text": [
            "[5 7 9]\n"
          ]
        }
      ]
    },
    {
      "cell_type": "markdown",
      "source": [
        "**Multiplicación por un escalar**: Puedes multiplicar todos los elementos por un número."
      ],
      "metadata": {
        "id": "e5NcPiAcakTy"
      }
    },
    {
      "cell_type": "code",
      "source": [
        "print(a * 2)"
      ],
      "metadata": {
        "colab": {
          "base_uri": "https://localhost:8080/"
        },
        "id": "JSFKLJLraa5U",
        "outputId": "995028f3-1dc1-41a8-ccf4-53cd0cd42f6d"
      },
      "execution_count": 10,
      "outputs": [
        {
          "output_type": "stream",
          "name": "stdout",
          "text": [
            "[2 4 6]\n"
          ]
        }
      ]
    },
    {
      "cell_type": "markdown",
      "source": [
        "**Exponenciación**: También puedes elevar los elementos de un array a una potencia."
      ],
      "metadata": {
        "id": "mLhpEdqeak0K"
      }
    },
    {
      "cell_type": "code",
      "source": [
        "print(a ** 2)"
      ],
      "metadata": {
        "colab": {
          "base_uri": "https://localhost:8080/"
        },
        "id": "kHw9TESVaiTa",
        "outputId": "b227b773-00a7-4acf-ab53-4515ad9e46f9"
      },
      "execution_count": 11,
      "outputs": [
        {
          "output_type": "stream",
          "name": "stdout",
          "text": [
            "[1 4 9]\n"
          ]
        }
      ]
    },
    {
      "cell_type": "markdown",
      "source": [
        "### Beneficios de Usar Arrays en NumPy\n",
        "\n",
        "Los arrays de NumPy son más rápidos y eficientes que las listas regulares, especialmente cuando se realizan operaciones con grandes conjuntos de datos. NumPy está optimizado para realizar cálculos numéricos complejos y es ampliamente utilizado en **ciencia de datos**, **análisis numérico**, y **aprendizaje automático**."
      ],
      "metadata": {
        "id": "SB8STAPLa0yb"
      }
    },
    {
      "cell_type": "markdown",
      "source": [
        "### Slicing (Corte) de Arrays\n",
        "\n",
        "El **slicing** es una técnica muy útil que nos permite acceder a subconjuntos de un array. Esto es similar a cómo cortamos listas en Python, pero con arrays de NumPy también podemos hacer slicing en múltiples dimensiones."
      ],
      "metadata": {
        "id": "1LdRMJI8b1VN"
      }
    },
    {
      "cell_type": "markdown",
      "source": [
        "#### Slicing en Arrays Unidimensionales\n",
        "\n",
        "Con los arrays de una sola dimensión, el slicing funciona igual que con las listas. Usamos los índices para seleccionar una porción del array:"
      ],
      "metadata": {
        "id": "nge_n-8ob3ak"
      }
    },
    {
      "cell_type": "code",
      "source": [
        "arr = np.array([10, 20, 30, 40, 50, 60])\n",
        "\n",
        "# Seleccionar los elementos de la posición 2 a la 4\n",
        "sub_array = arr[2:5]\n",
        "print(sub_array)"
      ],
      "metadata": {
        "colab": {
          "base_uri": "https://localhost:8080/"
        },
        "id": "1JBziFTWb_r0",
        "outputId": "40529d39-ed4a-42c6-e5b2-1d5af03e040e"
      },
      "execution_count": 12,
      "outputs": [
        {
          "output_type": "stream",
          "name": "stdout",
          "text": [
            "[30 40 50]\n"
          ]
        }
      ]
    },
    {
      "cell_type": "markdown",
      "source": [
        "También podemos modificar elementos directamente mediante slicing:"
      ],
      "metadata": {
        "id": "ZBqLvXpGcIHW"
      }
    },
    {
      "cell_type": "code",
      "source": [
        "arr[2:5] = 100\n",
        "print(arr)"
      ],
      "metadata": {
        "colab": {
          "base_uri": "https://localhost:8080/"
        },
        "id": "TJSrX4XkcKRb",
        "outputId": "85a7b2d9-870a-42d5-a1a2-5e09bfdc9b82"
      },
      "execution_count": 13,
      "outputs": [
        {
          "output_type": "stream",
          "name": "stdout",
          "text": [
            "[ 10  20 100 100 100  60]\n"
          ]
        }
      ]
    },
    {
      "cell_type": "markdown",
      "source": [
        "#### Slicing en Arrays Multidimensionales\n",
        "\n",
        "Cuando trabajamos con arrays de más de una dimensión, podemos hacer slicing en cada dimensión usando comas para separar los índices.\n",
        "\n",
        "Imagina que tenemos una matriz 3x3:"
      ],
      "metadata": {
        "id": "-VizkurxcR_k"
      }
    },
    {
      "cell_type": "code",
      "source": [
        "arr2d = np.array([[1, 2, 3],\n",
        "                  [4, 5, 6],\n",
        "                  [7, 8, 9]])"
      ],
      "metadata": {
        "id": "GTCUKc1XcTWL"
      },
      "execution_count": 14,
      "outputs": []
    },
    {
      "cell_type": "code",
      "source": [
        "# Seleccionar la submatriz de las primeras dos filas y las primeras dos columnas\n",
        "sub_array = arr2d[:2, :2]\n",
        "print(sub_array)"
      ],
      "metadata": {
        "colab": {
          "base_uri": "https://localhost:8080/"
        },
        "id": "13b_-F2ccW3r",
        "outputId": "c80d9833-2c72-419a-83d6-9e457ac0e42f"
      },
      "execution_count": 15,
      "outputs": [
        {
          "output_type": "stream",
          "name": "stdout",
          "text": [
            "[[1 2]\n",
            " [4 5]]\n"
          ]
        }
      ]
    },
    {
      "cell_type": "markdown",
      "source": [
        "#### Combinación de Índices y Slices\n",
        "\n",
        "También es posible combinar la selección de un índice específico con slicing en otra dimensión:"
      ],
      "metadata": {
        "id": "LfNj1i7UcgQz"
      }
    },
    {
      "cell_type": "code",
      "source": [
        "# Seleccionamos la primera fila completa\n",
        "fila = arr2d[0, :]\n",
        "print(fila)  # Salida: [1 2 3]"
      ],
      "metadata": {
        "colab": {
          "base_uri": "https://localhost:8080/"
        },
        "id": "vfefLmmEch7D",
        "outputId": "2611c424-66e3-4208-9f92-0152aa4d810f"
      },
      "execution_count": 16,
      "outputs": [
        {
          "output_type": "stream",
          "name": "stdout",
          "text": [
            "[1 2 3]\n"
          ]
        }
      ]
    },
    {
      "cell_type": "code",
      "source": [
        "# Seleccionamos la primera columna completa\n",
        "columna = arr2d[:, 0]\n",
        "print(columna)  # Salida: [1 4 7]"
      ],
      "metadata": {
        "colab": {
          "base_uri": "https://localhost:8080/"
        },
        "id": "lz10pRxhckSa",
        "outputId": "414d35c3-72a5-469b-890a-2eccfd50c84b"
      },
      "execution_count": 17,
      "outputs": [
        {
          "output_type": "stream",
          "name": "stdout",
          "text": [
            "[1 4 7]\n"
          ]
        }
      ]
    },
    {
      "cell_type": "markdown",
      "source": [
        "### Mutabilidad y Vistas\n",
        "\n",
        "Cuando haces slicing en NumPy, no se crea una copia del array original. En su lugar, obtienes una **vista** del array, lo que significa que si modificas la vista, también estarás modificando el array original.\n"
      ],
      "metadata": {
        "id": "rUX2_r-wcp1J"
      }
    },
    {
      "cell_type": "code",
      "source": [
        "arr = np.array([1, 2, 3, 4, 5])\n",
        "sub_array = arr[1:4]\n",
        "sub_array[:] = 100\n",
        "print(arr)"
      ],
      "metadata": {
        "colab": {
          "base_uri": "https://localhost:8080/"
        },
        "id": "pcvtS3zLcrZj",
        "outputId": "b96e91ff-d648-4073-bd4c-c89448754b17"
      },
      "execution_count": 18,
      "outputs": [
        {
          "output_type": "stream",
          "name": "stdout",
          "text": [
            "[  1 100 100 100   5]\n"
          ]
        }
      ]
    },
    {
      "cell_type": "markdown",
      "source": [
        "Si no quieres que los cambios afecten el array original, puedes usar el método `copy()` para crear una copia independiente.\n"
      ],
      "metadata": {
        "id": "FMJ2A9RvcywR"
      }
    },
    {
      "cell_type": "code",
      "source": [
        "sub_array = arr[1:4].copy()\n",
        "sub_array[:] = 200\n",
        "print(arr)"
      ],
      "metadata": {
        "colab": {
          "base_uri": "https://localhost:8080/"
        },
        "id": "-vR4nh0pc15Y",
        "outputId": "9ae2c1c1-3e02-47d8-82ba-7c1678d2ab2c"
      },
      "execution_count": 19,
      "outputs": [
        {
          "output_type": "stream",
          "name": "stdout",
          "text": [
            "[  1 100 100 100   5]\n"
          ]
        }
      ]
    },
    {
      "cell_type": "markdown",
      "source": [
        "### Operaciones Avanzadas con Arrays\n",
        "\n",
        "Ahora que tenemos una buena comprensión de los conceptos básicos, vamos a explorar algunas operaciones más avanzadas que podemos hacer con arrays en NumPy.\n"
      ],
      "metadata": {
        "id": "Iz4y0v6yc7y5"
      }
    },
    {
      "cell_type": "markdown",
      "source": [
        "\n",
        "#### Operaciones Vectorizadas\n",
        "\n",
        "Una de las razones por las que NumPy es tan poderoso es que permite realizar operaciones sobre arrays completos sin necesidad de usar bucles. Esto se conoce como **operaciones vectorizadas** y es lo que hace que NumPy sea tan rápido."
      ],
      "metadata": {
        "id": "jbV6CM19c6lo"
      }
    },
    {
      "cell_type": "code",
      "source": [
        "# supongamos que queremos sumar dos arrays:\n",
        "a = np.array([1, 2, 3])\n",
        "b = np.array([4, 5, 6])\n",
        "\n",
        "# Suma elemento por elemento\n",
        "suma = a + b\n",
        "print(suma)"
      ],
      "metadata": {
        "colab": {
          "base_uri": "https://localhost:8080/"
        },
        "id": "WxS7Xknnc_lR",
        "outputId": "373bb64d-250c-44fb-b5e0-eb82ff167ce8"
      },
      "execution_count": 20,
      "outputs": [
        {
          "output_type": "stream",
          "name": "stdout",
          "text": [
            "[5 7 9]\n"
          ]
        }
      ]
    },
    {
      "cell_type": "markdown",
      "source": [
        "La ventaja de las operaciones vectorizadas es que son más rápidas y concisas que los bucles tradicionales."
      ],
      "metadata": {
        "id": "zKCtH2UudG9p"
      }
    },
    {
      "cell_type": "markdown",
      "source": [
        "#### Funciones Universales (ufuncs)\n",
        "\n",
        "NumPy tiene un conjunto de **funciones universales** que nos permiten realizar operaciones matemáticas directamente en arrays. Algunas de las funciones más comunes son:\n",
        "\n",
        "- `np.sqrt()`: Raíz cuadrada de cada elemento.\n",
        "- `np.exp()`: Exponencial de cada elemento.\n",
        "- `np.sin()`, `np.cos()`: Funciones trigonométricas.\n",
        "- `np.log()`: Logaritmo natural."
      ],
      "metadata": {
        "id": "FYdxzHaudJzo"
      }
    },
    {
      "cell_type": "code",
      "source": [
        "# Ejemplo:\n",
        "arr = np.array([1, 4, 9, 16])\n",
        "\n",
        "raiz_cuadrada = np.sqrt(arr)\n",
        "print(raiz_cuadrada)"
      ],
      "metadata": {
        "id": "ip7wr3-gdNgZ"
      },
      "execution_count": null,
      "outputs": []
    },
    {
      "cell_type": "markdown",
      "source": [
        "### Cambiar la Forma de un Array\n",
        "\n",
        "NumPy te permite cambiar la forma (dimensiones) de un array sin modificar sus datos, lo que es especialmente útil cuando trabajas con arrays multidimensionales."
      ],
      "metadata": {
        "id": "-JWK2p4QdMsy"
      }
    },
    {
      "cell_type": "markdown",
      "source": [
        "#### `reshape()`\n",
        "Con `reshape()`, podemos cambiar la forma de un array. Por ejemplo, convertir un array de 1D a 2D:"
      ],
      "metadata": {
        "id": "ia4PI8tNc_K_"
      }
    },
    {
      "cell_type": "code",
      "source": [
        "arr = np.arange(6)\n",
        "arr_2d = arr.reshape((2, 3))\n",
        "print(arr_2d)"
      ],
      "metadata": {
        "colab": {
          "base_uri": "https://localhost:8080/"
        },
        "id": "MGaQDl1IdZfR",
        "outputId": "70927d31-278f-4caa-a1d4-b73a3f8d2598"
      },
      "execution_count": 21,
      "outputs": [
        {
          "output_type": "stream",
          "name": "stdout",
          "text": [
            "[[0 1 2]\n",
            " [3 4 5]]\n"
          ]
        }
      ]
    },
    {
      "cell_type": "markdown",
      "source": [
        "#### `ravel()` y `flatten()`\n",
        "\n",
        "Si queremos aplanar un array multidimensional de vuelta a 1D, podemos usar `ravel()` o `flatten()`:\n",
        "\n",
        "- `ravel()` devuelve una vista del array original (sin copiar los datos).\n",
        "- `flatten()` crea una copia independiente del array."
      ],
      "metadata": {
        "id": "m4fEnJqJdlxP"
      }
    },
    {
      "cell_type": "code",
      "source": [
        "arr_2d = np.array([[1, 2, 3], [4, 5, 6]])\n",
        "arr_1d = arr_2d.ravel()\n",
        "print(arr_1d)"
      ],
      "metadata": {
        "colab": {
          "base_uri": "https://localhost:8080/"
        },
        "id": "g0I72pEedopo",
        "outputId": "b2e56335-ccec-445d-ba86-ee156d92766a"
      },
      "execution_count": 22,
      "outputs": [
        {
          "output_type": "stream",
          "name": "stdout",
          "text": [
            "[1 2 3 4 5 6]\n"
          ]
        }
      ]
    }
  ]
}