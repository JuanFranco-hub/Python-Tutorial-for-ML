{
  "nbformat": 4,
  "nbformat_minor": 0,
  "metadata": {
    "colab": {
      "provenance": []
    },
    "kernelspec": {
      "name": "python3",
      "display_name": "Python 3"
    },
    "language_info": {
      "name": "python"
    }
  },
  "cells": [
    {
      "cell_type": "markdown",
      "source": [
        "# Lección de Concurrencia en Python"
      ],
      "metadata": {
        "id": "ouqjmgKO-N-B"
      }
    },
    {
      "cell_type": "markdown",
      "source": [
        "## Introducción\n",
        "Imagina que tienes que realizar varias tareas al mismo tiempo en un proyecto Python: obtener datos de una API, procesar información y escribir resultados en un archivo. Hacer esto secuencialmente podría ser muy lento, pero con concurrencia puedes acelerar el proceso considerablemente."
      ],
      "metadata": {
        "id": "nx8qUHCo-QAQ"
      }
    },
    {
      "cell_type": "markdown",
      "source": [
        "**Concurrencia** es la capacidad de ejecutar múltiples tareas de manera que parezca simultáneo. En Python, hay tres principales formas de implementar concurrencia:\n",
        "\n",
        "1. **Multithreading** (Hilos)\n",
        "2. **Multiprocessing** (Multiprocesos)\n",
        "3. **Asyncio** (Programación asíncrona)\n",
        "Cada enfoque tiene sus propias características, ventajas y cuándo debes usarlas. Vamos a ver cada una detalladamente."
      ],
      "metadata": {
        "id": "FBU4ost9-SHx"
      }
    },
    {
      "cell_type": "markdown",
      "source": [],
      "metadata": {
        "id": "Sm8pXXq8-anJ"
      }
    },
    {
      "cell_type": "markdown",
      "source": [
        "## 1. Multithreading (Hilos)\n",
        "Los hilos permiten que diferentes partes de un programa se ejecuten al mismo tiempo dentro de un solo proceso. Aunque Python tiene un bloqueo global llamado **Global Interpreter Lock (GIL)** que limita la ejecución simultánea de código puro de Python, los hilos funcionan bien cuando se trata de **operaciones I/O-bound** (operaciones que dependen de entrada/salida)."
      ],
      "metadata": {
        "id": "pP5ah01a-a1J"
      }
    },
    {
      "cell_type": "markdown",
      "source": [
        "**Cuándo usarlo:**\n",
        "\n",
        "* Si tu código tiene muchas operaciones I/O (red, lectura de archivos).\n",
        "* Si tienes una interfaz gráfica (GUI) y quieres evitar que se congele mientras se ejecutan otras tareas."
      ],
      "metadata": {
        "id": "rJ5dzftn-m7h"
      }
    },
    {
      "cell_type": "code",
      "execution_count": null,
      "metadata": {
        "id": "FNofuI7i-HfB"
      },
      "outputs": [],
      "source": [
        "import threading\n",
        "\n",
        "def tarea(num):\n",
        "    print(f\"Ejecutando tarea {num}\")\n",
        "\n",
        "for i in range(5):\n",
        "    t = threading.Thread(target=tarea, args=(i,))\n",
        "    t.start()"
      ]
    },
    {
      "cell_type": "markdown",
      "source": [
        "Problemas comunes:\n",
        "\n",
        "* **Condiciones de carrera**: Dos hilos acceden a una variable al mismo tiempo, lo que puede causar resultados inesperados. Solución: usar locks."
      ],
      "metadata": {
        "id": "_4rq_NcM-syq"
      }
    },
    {
      "cell_type": "code",
      "source": [
        "import threading\n",
        "\n",
        "mi_lock = threading.Lock()\n",
        "\n",
        "def tarea_segura(num):\n",
        "    with mi_lock:\n",
        "        print(f\"Tarea segura {num}\")\n",
        "\n",
        "for i in range(5):\n",
        "    t = threading.Thread(target=tarea_segura, args=(i,))\n",
        "    t.start()"
      ],
      "metadata": {
        "id": "PQimAFOb-x3j"
      },
      "execution_count": null,
      "outputs": []
    },
    {
      "cell_type": "markdown",
      "source": [
        "## 2. Multiprocessing (Multiprocesos)\n",
        "El multiprocessing crea múltiples procesos que pueden ejecutarse en paralelo, permitiendo el uso de múltiples núcleos de una CPU. A diferencia de los hilos, los procesos no comparten memoria."
      ],
      "metadata": {
        "id": "2jLea99g-0gj"
      }
    },
    {
      "cell_type": "markdown",
      "source": [
        "**Cuándo usarlo:**\n",
        "\n",
        "* Si tu código es CPU-bound (requiere mucho poder de procesamiento).\n",
        "* Para aprovechar varios núcleos de la CPU."
      ],
      "metadata": {
        "id": "6fIhtJER-0SS"
      }
    },
    {
      "cell_type": "code",
      "source": [
        "import multiprocessing\n",
        "\n",
        "def procesar(num):\n",
        "    return num ** 2\n",
        "\n",
        "if __name__ == \"__main__\":\n",
        "    with multiprocessing.Pool() as pool:\n",
        "        resultados = pool.map(procesar, range(5))\n",
        "    print(resultados)"
      ],
      "metadata": {
        "id": "TQVA3m7_-7-i"
      },
      "execution_count": null,
      "outputs": []
    },
    {
      "cell_type": "markdown",
      "source": [
        "## 3. Asyncio (Programación Asíncrona)\n",
        "`asyncio` es ideal para manejar muchas tareas de I/O sin bloquear el programa. Se basa en el concepto de un loop de eventos que controla cuándo se ejecutan las tareas."
      ],
      "metadata": {
        "id": "IBf34iY0-_1B"
      }
    },
    {
      "cell_type": "markdown",
      "source": [
        "Cuándo usarlo:\n",
        "\n",
        "* Si tu programa realiza muchas llamadas a red o lectura de archivos.\n",
        "* Si la librería que estás usando soporta `asyncio` (por ejemplo, `aiohttp` para llamadas HTTP)."
      ],
      "metadata": {
        "id": "5gg_AxJB_CPY"
      }
    },
    {
      "cell_type": "code",
      "source": [
        "import asyncio\n",
        "\n",
        "async def tarea(num):\n",
        "    print(f\"Tarea {num} comenzada\")\n",
        "    await asyncio.sleep(2)\n",
        "    print(f\"Tarea {num} completada\")\n",
        "\n",
        "async def main():\n",
        "    await asyncio.gather(tarea(1), tarea(2), tarea(3))\n",
        "\n",
        "asyncio.run(main())"
      ],
      "metadata": {
        "id": "iR9AhRVz_FEp"
      },
      "execution_count": null,
      "outputs": []
    },
    {
      "cell_type": "markdown",
      "source": [
        "**Cuándo Usar Cada Uno:**\n",
        "* **Hilos**: Usa hilos cuando tu código sea I/O-bound y no necesite mucha computación intensiva.\n",
        "* **Multiprocesos**: Úsalos para tareas CPU-bound que pueden beneficiarse de múltiples núcleos.\n",
        "* **Asyncio**: Ideal para operaciones de I/O que requieren mucha espera, como llamadas de red."
      ],
      "metadata": {
        "id": "YeVXGz_7_PG3"
      }
    },
    {
      "cell_type": "markdown",
      "source": [
        "**Resumen Comparativo:**\n",
        "\n",
        "| Técnica           | Usar para                    | Ventaja Principal                           |\n",
        "|-------------------|------------------------------|---------------------------------------------|\n",
        "| Multithreading    | Tareas I/O-bound              | Simplicidad y bajo overhead                 |\n",
        "| Multiprocessing   | Tareas CPU-bound              | Uso de múltiples núcleos                    |\n",
        "| Asyncio           | Operaciones de I/O con espera | Menor overhead que los hilos                |\n",
        "\n",
        "---"
      ],
      "metadata": {
        "id": "s8CbnJRx_XB4"
      }
    },
    {
      "cell_type": "markdown",
      "source": [
        "# Conclusión\n",
        "La concurrencia en Python es una herramienta poderosa para optimizar la ejecución de tareas. Al comprender las diferencias entre multithreading, multiprocessing y asyncio, puedes elegir la mejor opción para tus necesidades. En resumen, si el trabajo implica muchas operaciones I/O, los hilos o asyncio serán la mejor opción. Si es intensivo en CPU, multiprocessing será tu aliado.\n",
        "\n",
        "Aprender a manejar la concurrencia de manera efectiva puede hacer que tu código no solo sea más rápido, sino también más eficiente. ¡Prueba los ejemplos y explora cómo cada técnica puede mejorar tus proyectos!"
      ],
      "metadata": {
        "id": "xBOzXthy_onP"
      }
    }
  ]
}