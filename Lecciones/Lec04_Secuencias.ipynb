{
  "cells": [
    {
      "cell_type": "markdown",
      "metadata": {},
      "source": [
        "<a href=\"https://colab.research.google.com/github/JuanFranco-hub/Python-Tutorial-for-ML/blob/main/Lecciones/Lec04_Secuencias.ipynb\" target=\"_parent\"><img src=\"https://colab.research.google.com/assets/colab-badge.svg\" alt=\"Open In Colab\"/></a> "
      ]
    },
    {
      "cell_type": "markdown",
      "metadata": {
        "id": "9jLS8zICIttq"
      },
      "source": [
        "# SECUENCIAS EN PYTHON\n",
        "\n"
      ]
    },
    {
      "cell_type": "markdown",
      "metadata": {
        "id": "-lM2qlgQJF7K"
      },
      "source": [
        "## 1. INTRODUCCION A LAS SECUENCIAS Y SU IMPORTANCIA EN PYTHON\n",
        "En Python, secuencia es el término genérico para un conjunto ordenado. Hay varios tipos de secuencias en Python, las  más importantes son:\n",
        "\n",
        "* **Las listas:** son el tipo de secuencia más versátil. Los elementos de una lista pueden ser cualquier objeto, y las listas son mutables, se pueden cambiar. Los elementos se pueden reasignar o eliminar, y se pueden insertar nuevos elementos.\n",
        "\n",
        "* **Las tuplas:** son como listas, pero son inmutables, no se pueden cambiar.\n",
        "\n",
        "* **Las cadenas:** son un tipo especial de secuencia que solo puede almacenar caracteres y tienen una notación especial.\n",
        "\n",
        "> En Python, los objetos pueden clasificarse como ***mutables o inmutables***, dependiendo de si su contenido puede o no ser modificado una vez que se ha creado el objeto. ***Los Objetos mutables*** son aquellos cuyo estado interno puede cambiarse después de su creación. ***Los Objetos inmutables*** son aquellos cuyo estado interno no puede cambiarse después de su creación.\n",
        "\n",
        "#### Las secuencias son estructuras ordenadas de datos y permiten el acceso a estos elementos mediante índices. Son fundamentales en Python debido a su versatilidad y utilidad permitiendo trabajar con grandes volumenes de dato de manera ordenada. Son una característica fundamental en el desarrollo de Python.\n"
      ]
    },
    {
      "cell_type": "markdown",
      "metadata": {
        "id": "IPOvUaQAOici"
      },
      "source": [
        "## 2. CLASIFICACION DE LAS SECUENCIAS"
      ]
    },
    {
      "cell_type": "markdown",
      "metadata": {
        "id": "2rQ-tkzsO1KO"
      },
      "source": [
        "### 2.1 LISTAS\n",
        "\n",
        "\n",
        "Una lista es una secuencia de valores. Los valores, en una lista, pueden ser de cualquier tipo. Los valores en una lista se llaman elementos o a veces ítems.\n",
        "Hay varias formas de crear una nueva lista; la más simple es encerrar los elementos entre corchetes cuadrados:\n"
      ]
    },
    {
      "cell_type": "code",
      "execution_count": null,
      "metadata": {
        "id": "bY4RbEseQNgL"
      },
      "outputs": [],
      "source": [
        "[10, 20, 30, 40]\n",
        "['rana crujiente', 'vejiga de carnero', 'vómito de alondra']"
      ]
    },
    {
      "cell_type": "markdown",
      "metadata": {
        "id": "u7oFSoFMQdWS"
      },
      "source": [
        "* El primer ejemplo es una lista de cuatro enteros.\n",
        "* El segundo es una lista de tres cadenas de texto.\n",
        "> Los elementos de una lista no tienen que ser del mismo tipo.\n",
        "\n",
        "La siguiente lista contiene una cadena de texto, un número decimal, un entero y otra lista:"
      ]
    },
    {
      "cell_type": "code",
      "execution_count": null,
      "metadata": {
        "id": "b6KH51z8Qwzj"
      },
      "outputs": [],
      "source": [
        "['spam', 2.0, 5, [10, 20]]"
      ]
    },
    {
      "cell_type": "markdown",
      "metadata": {
        "id": "WKp3E8dBQxm6"
      },
      "source": [
        "> Una lista dentro de otra lista se denomina anidada.\n",
        "\n",
        "> Una lista que no contiene elementos se llama lista vacía; puedes crear una con corchetes vacíos:\n"
      ]
    },
    {
      "cell_type": "code",
      "execution_count": null,
      "metadata": {
        "id": "Wm_uGIG8RIvC"
      },
      "outputs": [],
      "source": [
        "[]"
      ]
    },
    {
      "cell_type": "markdown",
      "metadata": {
        "id": "scghzAtpRJv6"
      },
      "source": [
        "> Puedes asignar valores de lista a variables."
      ]
    },
    {
      "cell_type": "code",
      "execution_count": null,
      "metadata": {
        "colab": {
          "base_uri": "https://localhost:8080/"
        },
        "id": "8G6X0b-NRRZq",
        "outputId": "d9f3b9cf-23ca-481c-c8e1-37e8b40bd4ec"
      },
      "outputs": [
        {
          "name": "stdout",
          "output_type": "stream",
          "text": [
            "['Cheddar', 'Edam', 'Gouda'] [17, 123] []\n"
          ]
        }
      ],
      "source": [
        "cheeses = ['Cheddar', 'Edam', 'Gouda']\n",
        "numbers = [17, 123]\n",
        "empty = []\n",
        "print(cheeses, numbers, empty)\n"
      ]
    },
    {
      "cell_type": "markdown",
      "metadata": {
        "id": "nYflvMI-RcCa"
      },
      "source": [
        "#### ***2.1.1 Listas Mutables***\n",
        "La sintaxis para acceder a los elementos de una lista es la misma que para acceder a los caracteres de una cadena de texto: el operador de corchetes. La expresión dentro de los corchetes especifica el índice. ***Recuerda que los índices comienzan en 0:***"
      ]
    },
    {
      "cell_type": "code",
      "execution_count": null,
      "metadata": {
        "colab": {
          "base_uri": "https://localhost:8080/"
        },
        "id": "umfRYZusSGH5",
        "outputId": "2c215d0a-bb45-487d-b2ec-1732be959c5d"
      },
      "outputs": [
        {
          "name": "stdout",
          "output_type": "stream",
          "text": [
            "Cheddar\n"
          ]
        }
      ],
      "source": [
        "print(cheeses[0])"
      ]
    },
    {
      "cell_type": "markdown",
      "metadata": {
        "id": "lky_D8d1SSwq"
      },
      "source": [
        "Las listas son mutables porque puedes **cambiar el orden de los elementos en una lista o reasignar un elemento en una lista**. Cuando el operador de corchetes *aparece en el lado izquierdo de una asignación*, identifica el elemento de la lista que se asignará."
      ]
    },
    {
      "cell_type": "code",
      "execution_count": null,
      "metadata": {
        "colab": {
          "base_uri": "https://localhost:8080/"
        },
        "id": "mI33R-EOSZ8C",
        "outputId": "982e7b45-a8c0-450b-8230-e6fc18eb9ad4"
      },
      "outputs": [
        {
          "name": "stdout",
          "output_type": "stream",
          "text": [
            "[17, 5]\n"
          ]
        }
      ],
      "source": [
        "numbers = [17, 123]\n",
        "numbers[1] = 5\n",
        "print(numbers)"
      ]
    },
    {
      "cell_type": "markdown",
      "metadata": {
        "id": "MvImZmSZStc6"
      },
      "source": [
        "Puedes pensar en una lista como una relación entre índices y elementos. Esta relación se llama un mapeo; cada índice \"se mapea\" a uno de los elementos.\n",
        "Los índices de lista funcionan de la misma manera que los índices de cadena:\n",
        "* Se puede usar cualquier expresión entera como un índice.\n",
        "* Si intentas leer o escribir un elemento que no existe, obtienes un      \n",
        "               IndexError\n",
        "* Si un índice tiene un valor negativo, cuenta hacia atrás desde el final de la lista.\n",
        "* El operador *in* también funciona en listas."
      ]
    },
    {
      "cell_type": "code",
      "execution_count": null,
      "metadata": {
        "colab": {
          "base_uri": "https://localhost:8080/"
        },
        "id": "KZ8SSYFpTkQD",
        "outputId": "1f4433ee-121e-4aa5-bc0c-7d485b8a4d0c"
      },
      "outputs": [
        {
          "data": {
            "text/plain": [
              "True"
            ]
          },
          "execution_count": 6,
          "metadata": {},
          "output_type": "execute_result"
        }
      ],
      "source": [
        "cheeses = ['Cheddar', 'Edam', 'Gouda']\n",
        "'Edam' in cheeses\n"
      ]
    },
    {
      "cell_type": "code",
      "execution_count": null,
      "metadata": {
        "colab": {
          "base_uri": "https://localhost:8080/"
        },
        "id": "Bdh9UiEgTs6q",
        "outputId": "f7b43752-5136-4d2c-e197-8fd0f4948247"
      },
      "outputs": [
        {
          "data": {
            "text/plain": [
              "False"
            ]
          },
          "execution_count": 7,
          "metadata": {},
          "output_type": "execute_result"
        }
      ],
      "source": [
        "cheeses = ['Cheddar', 'Edam', 'Gouda']\n",
        "'Brie' in cheeses"
      ]
    },
    {
      "cell_type": "markdown",
      "metadata": {
        "id": "aD6CkR2rT3Tb"
      },
      "source": [
        "#### ***2.1.2 Recorrer una Lista***\n",
        "La forma más común de recorrer los elementos de una lista es con un bucle for. La sintaxis es:"
      ]
    },
    {
      "cell_type": "code",
      "execution_count": null,
      "metadata": {
        "colab": {
          "base_uri": "https://localhost:8080/"
        },
        "id": "9OddYuu5UD-S",
        "outputId": "47000c66-329c-49e2-e344-71cdcfed72ba"
      },
      "outputs": [
        {
          "name": "stdout",
          "output_type": "stream",
          "text": [
            "Cheddar\n",
            "Edam\n",
            "Gouda\n"
          ]
        }
      ],
      "source": [
        "cheeses = ['Cheddar', 'Edam', 'Gouda']\n",
        "for cheese in cheeses:\n",
        "  print(cheese)\n"
      ]
    },
    {
      "cell_type": "markdown",
      "metadata": {
        "id": "9OcuyTtOUbfK"
      },
      "source": [
        "Recorrer las listas con un bucle for es util cuando solo es para leer los elementos. Pero si se quiere escribir o actualizar sobre un elemento, se necesita los indices. Se combina las funciones de **Range** y **Len**:\n"
      ]
    },
    {
      "cell_type": "code",
      "execution_count": null,
      "metadata": {
        "colab": {
          "base_uri": "https://localhost:8080/"
        },
        "id": "PC5aPNOlVJuJ",
        "outputId": "93e11aaa-3aec-4a50-9173-1103eb418241"
      },
      "outputs": [
        {
          "name": "stdout",
          "output_type": "stream",
          "text": [
            "[2, 4, 6, 8, 10]\n"
          ]
        }
      ],
      "source": [
        "numbers = [1, 2, 3, 4, 5]\n",
        "for i in range(len(numbers)):\n",
        "  numbers[i] = numbers[i] * 2\n",
        "print(numbers)"
      ]
    },
    {
      "cell_type": "markdown",
      "metadata": {
        "id": "vwdkeac9Vv2x"
      },
      "source": [
        "Este bucle recorre la lista y actualiza cada elemento. **len** devuelve el número de elementos en la lista. **range** devuelve una lista de índices desde 0 hasta n - 1, donde n es la longitud de la lista. En cada iteración del bucle, i obtiene el índice del siguiente elemento. La declaración de asignación en el cuerpo del bucle utiliza i para leer el valor antiguo del elemento y asignar el nuevo valor.\n",
        "\n",
        "\n",
        "> Un bucle for sobre una lista vacía nunca ejecuta el cuerpo:"
      ]
    },
    {
      "cell_type": "code",
      "execution_count": null,
      "metadata": {
        "id": "NR5hDsoJaPMS"
      },
      "outputs": [],
      "source": [
        "for x in empty:\n",
        "  print('This never happens.')\n"
      ]
    },
    {
      "cell_type": "markdown",
      "metadata": {
        "id": "dM_w6imxaThq"
      },
      "source": [
        "> Aunque una lista puede contener otra lista, la lista anidada todavía cuenta como un solo elemento."
      ]
    },
    {
      "cell_type": "code",
      "execution_count": null,
      "metadata": {
        "colab": {
          "base_uri": "https://localhost:8080/"
        },
        "id": "vEnLDdQPbI4z",
        "outputId": "5ece5a4d-e068-415a-c9a6-1bb1507eb7aa"
      },
      "outputs": [
        {
          "data": {
            "text/plain": [
              "4"
            ]
          },
          "execution_count": 20,
          "metadata": {},
          "output_type": "execute_result"
        }
      ],
      "source": [
        "Lista_anidada = ['spam', 1, ['Brie', 'Roquefort', 'Pol le Veq'], [1, 2, 3]]\n",
        "len(Lista_anidada)"
      ]
    },
    {
      "cell_type": "markdown",
      "metadata": {
        "id": "djCw40iebVVS"
      },
      "source": [
        "#### ***2.1.3 Operaciones con Listas***\n",
        "El operador + concatena listas:"
      ]
    },
    {
      "cell_type": "code",
      "execution_count": null,
      "metadata": {
        "colab": {
          "base_uri": "https://localhost:8080/"
        },
        "id": "WZHyiYDtbqkg",
        "outputId": "fae4e989-f93a-4e43-e310-b51727769422"
      },
      "outputs": [
        {
          "name": "stdout",
          "output_type": "stream",
          "text": [
            "[1, 2, 3, 4, 5, 6]\n"
          ]
        }
      ],
      "source": [
        "a = [1, 2, 3]\n",
        "b = [4, 5, 6]\n",
        "c = a + b\n",
        "print(c)"
      ]
    },
    {
      "cell_type": "markdown",
      "metadata": {
        "id": "OLZjBaqgbsoa"
      },
      "source": [
        "Del mismo modo, el operador * repite una lista un número dado de veces:"
      ]
    },
    {
      "cell_type": "code",
      "execution_count": null,
      "metadata": {
        "colab": {
          "base_uri": "https://localhost:8080/"
        },
        "id": "glmWrWPEbxdK",
        "outputId": "9879cc4e-6bae-46bf-e370-8703a697046b"
      },
      "outputs": [
        {
          "data": {
            "text/plain": [
              "[0, 0, 0, 0]"
            ]
          },
          "execution_count": 24,
          "metadata": {},
          "output_type": "execute_result"
        }
      ],
      "source": [
        "[0] * 4"
      ]
    },
    {
      "cell_type": "code",
      "execution_count": null,
      "metadata": {
        "colab": {
          "base_uri": "https://localhost:8080/"
        },
        "id": "XDnJXmL-b4aC",
        "outputId": "6f999251-7847-4dbc-f7aa-85b71017e4ba"
      },
      "outputs": [
        {
          "data": {
            "text/plain": [
              "[1, 2, 3, 1, 2, 3, 1, 2, 3]"
            ]
          },
          "execution_count": 23,
          "metadata": {},
          "output_type": "execute_result"
        }
      ],
      "source": [
        "[1, 2, 3] * 3"
      ]
    },
    {
      "cell_type": "markdown",
      "metadata": {
        "id": "Yq891PDTb6U4"
      },
      "source": [
        "#### ***2.1.4 Slices en Listas***\n",
        "Se puede a acceder a diferentes elementos dentro de una lista, sin tener que recorrer la lista completa.\n"
      ]
    },
    {
      "cell_type": "code",
      "execution_count": null,
      "metadata": {
        "colab": {
          "base_uri": "https://localhost:8080/"
        },
        "id": "uMBnKnQMdUfq",
        "outputId": "c3c4b81c-2852-4d83-ed9e-4bf4005811e7"
      },
      "outputs": [
        {
          "data": {
            "text/plain": [
              "['b', 'c']"
            ]
          },
          "execution_count": 28,
          "metadata": {},
          "output_type": "execute_result"
        }
      ],
      "source": [
        "t = ['a', 'b', 'c', 'd', 'e', 'f']\n",
        "t[1:3]"
      ]
    },
    {
      "cell_type": "code",
      "execution_count": null,
      "metadata": {
        "colab": {
          "base_uri": "https://localhost:8080/"
        },
        "id": "QH3Cu4FPdYMy",
        "outputId": "dc0b2bf3-defa-4c03-c9cf-f387feef8278"
      },
      "outputs": [
        {
          "data": {
            "text/plain": [
              "['a', 'b', 'c', 'd']"
            ]
          },
          "execution_count": 26,
          "metadata": {},
          "output_type": "execute_result"
        }
      ],
      "source": [
        "t = ['a', 'b', 'c', 'd', 'e', 'f']\n",
        "t[:4]"
      ]
    },
    {
      "cell_type": "code",
      "execution_count": null,
      "metadata": {
        "colab": {
          "base_uri": "https://localhost:8080/"
        },
        "id": "yVuw8ycNde1a",
        "outputId": "af81c447-ca49-46c0-fc34-bf98231c07c2"
      },
      "outputs": [
        {
          "data": {
            "text/plain": [
              "['d', 'e', 'f']"
            ]
          },
          "execution_count": 27,
          "metadata": {},
          "output_type": "execute_result"
        }
      ],
      "source": [
        "t = ['a', 'b', 'c', 'd', 'e', 'f']\n",
        "t[3:]"
      ]
    },
    {
      "cell_type": "markdown",
      "metadata": {
        "id": "sjSGpB4ydquo"
      },
      "source": [
        "  > Si omites el primer índice, comienza desde el principio.\n",
        "\n",
        "  > Si omites el segundo, va hasta el final.\n",
        "\n",
        "  > Si omites ambos, es una copia de toda la lista."
      ]
    },
    {
      "cell_type": "code",
      "execution_count": null,
      "metadata": {
        "id": "4MsppxgBeM8R"
      },
      "outputs": [],
      "source": [
        "t = ['a', 'b', 'c', 'd', 'e', 'f']\n",
        "t[:]"
      ]
    },
    {
      "cell_type": "markdown",
      "metadata": {
        "id": "kURDycwVefbC"
      },
      "source": [
        "Son listas son mutables, es útil hacer una copia antes de realizar operaciones que puedan modificar o alterar las listas.\n",
        "\n",
        "  >Un operador de slices en el lado izquierdo de una asignación puede actualizar varios elementos:"
      ]
    },
    {
      "cell_type": "code",
      "execution_count": null,
      "metadata": {
        "colab": {
          "base_uri": "https://localhost:8080/"
        },
        "id": "TEobV6tneP4q",
        "outputId": "ce0bc459-5e36-493a-afbd-dbcb566df7ef"
      },
      "outputs": [
        {
          "name": "stdout",
          "output_type": "stream",
          "text": [
            "['a', 'x', 'y', 'd', 'e', 'f']\n"
          ]
        }
      ],
      "source": [
        "t = ['a', 'b', 'c', 'd', 'e', 'f']\n",
        "t[1:3] = ['x', 'y']\n",
        "print(t)"
      ]
    },
    {
      "cell_type": "markdown",
      "metadata": {
        "id": "qJWVcwd5etKQ"
      },
      "source": [
        "#### ***2.1.5 Metodos en Listas***\n",
        "El método ***append*** permite añadir elementos a las listas.\n"
      ]
    },
    {
      "cell_type": "code",
      "execution_count": null,
      "metadata": {
        "id": "F6CxmmRGiXPJ"
      },
      "outputs": [],
      "source": [
        "t = ['a', 'b', 'c']\n",
        "t.append('d')\n",
        "print(t)"
      ]
    },
    {
      "cell_type": "markdown",
      "metadata": {
        "id": "J46Ey8y0iYG5"
      },
      "source": [
        "El método ***extend*** toma una lista como argumento y añade todos los elementos. En Python, un argumento se refiere a un valor que se pasa a una función cuando se llama."
      ]
    },
    {
      "cell_type": "code",
      "execution_count": null,
      "metadata": {
        "colab": {
          "base_uri": "https://localhost:8080/"
        },
        "id": "hIqYctnJit_a",
        "outputId": "1aa024ea-56b7-490c-f81d-ff7cc38d116c"
      },
      "outputs": [
        {
          "name": "stdout",
          "output_type": "stream",
          "text": [
            "['a', 'b', 'c', 'd', 'e']\n"
          ]
        }
      ],
      "source": [
        "t1 = ['a', 'b', 'c']\n",
        "t2 = ['d', 'e']\n",
        "t1.extend(t2)\n",
        "print(t1)"
      ]
    },
    {
      "cell_type": "markdown",
      "metadata": {
        "id": "N_82c1mteaM6"
      },
      "source": [
        "El método ***sort*** en Python ordena los elementos de una lista de menor a mayor, modificando la lista original."
      ]
    },
    {
      "cell_type": "code",
      "execution_count": null,
      "metadata": {
        "colab": {
          "base_uri": "https://localhost:8080/"
        },
        "id": "IcnDPoT5jIiK",
        "outputId": "7e4cba3d-a0ae-459a-e910-c49b35f60c06"
      },
      "outputs": [
        {
          "name": "stdout",
          "output_type": "stream",
          "text": [
            "['a', 'b', 'c', 'd', 'e']\n"
          ]
        }
      ],
      "source": [
        "t = ['d', 'c', 'e', 'b', 'a']\n",
        "t.sort()\n",
        "print(t)"
      ]
    },
    {
      "cell_type": "markdown",
      "metadata": {
        "id": "Q9KwiEH-5xDR"
      },
      "source": [
        "#### ***2.1.6 Eliminar elementos de una lista***\n",
        "Si conoces el índice del elemento que deseas, puedes usar ***pop***:\n"
      ]
    },
    {
      "cell_type": "code",
      "execution_count": null,
      "metadata": {
        "colab": {
          "base_uri": "https://localhost:8080/"
        },
        "id": "sDwQFupV7c4A",
        "outputId": "150ffc44-82f0-439b-93f8-12f57732e214"
      },
      "outputs": [
        {
          "name": "stdout",
          "output_type": "stream",
          "text": [
            "['a', 'c']\n",
            "b\n"
          ]
        }
      ],
      "source": [
        "t = ['a', 'b', 'c']\n",
        "x = t.pop(1)\n",
        "print(t)\n",
        "print(x)\n"
      ]
    },
    {
      "cell_type": "markdown",
      "metadata": {
        "id": "FwVQ1Avg8U8F"
      },
      "source": [
        "Pop modifica la lista y devuelve el elemento que fue eliminado. Si no proporcionas un índice, elimina y devuelve el último elemento.\n",
        "Si no necesitas el valor eliminado, puedes usar el operador ***del***:"
      ]
    },
    {
      "cell_type": "code",
      "execution_count": null,
      "metadata": {
        "colab": {
          "base_uri": "https://localhost:8080/"
        },
        "id": "rgmeFYQR8iVA",
        "outputId": "3cfa23b2-14c2-4eec-8133-56ee308e62ef"
      },
      "outputs": [
        {
          "name": "stdout",
          "output_type": "stream",
          "text": [
            "['a', 'c']\n"
          ]
        }
      ],
      "source": [
        "t = ['a', 'b', 'c']\n",
        "del t[1]\n",
        "print(t)\n"
      ]
    },
    {
      "cell_type": "markdown",
      "metadata": {
        "id": "xOh4hFrA9ntD"
      },
      "source": [
        "Si conoces el elemento que deseas eliminar (pero no el índice), puedes usar remove:"
      ]
    },
    {
      "cell_type": "code",
      "execution_count": null,
      "metadata": {
        "colab": {
          "base_uri": "https://localhost:8080/"
        },
        "id": "whLUqhqZ9o97",
        "outputId": "acc81423-84ce-4701-e3ed-44a3baa5ed7d"
      },
      "outputs": [
        {
          "name": "stdout",
          "output_type": "stream",
          "text": [
            "['a', 'c']\n"
          ]
        }
      ],
      "source": [
        "t = ['a', 'b', 'c']\n",
        "t.remove('b')\n",
        "print(t)"
      ]
    },
    {
      "cell_type": "markdown",
      "metadata": {
        "id": "kwzmCMBD-QOt"
      },
      "source": [
        "Para eliminar más de un elemento, puedes usar del con un índice de segmento:\n",
        "\n",
        ">El segmento selecciona todos los elementos hasta, pero no incluyendo, el segundo índice."
      ]
    },
    {
      "cell_type": "code",
      "execution_count": null,
      "metadata": {
        "colab": {
          "base_uri": "https://localhost:8080/"
        },
        "id": "5s12EF7C-syY",
        "outputId": "87010795-8d99-4890-ef9a-bf35b2df9cc6"
      },
      "outputs": [
        {
          "name": "stdout",
          "output_type": "stream",
          "text": [
            "['a', 'f']\n"
          ]
        }
      ],
      "source": [
        "t = ['a', 'b', 'c', 'd', 'e', 'f']\n",
        "del t[1:5]\n",
        "print(t)"
      ]
    },
    {
      "cell_type": "markdown",
      "metadata": {
        "id": "UBkT8FMe-1O9"
      },
      "source": [
        "#### ***2.1.7 Listas y Funciones***\n",
        "Se puede examinar una Lista mediante funciones, sin la necesidad de utilizar bucles.\n"
      ]
    },
    {
      "cell_type": "code",
      "execution_count": null,
      "metadata": {
        "colab": {
          "base_uri": "https://localhost:8080/"
        },
        "id": "Y6x1Absl_69L",
        "outputId": "fd849397-8433-41b9-8e7b-fad317683c88"
      },
      "outputs": [
        {
          "name": "stdout",
          "output_type": "stream",
          "text": [
            "6\n"
          ]
        }
      ],
      "source": [
        "nums = [3, 41, 12, 9, 74, 15]\n",
        "print(len(nums))"
      ]
    },
    {
      "cell_type": "code",
      "execution_count": null,
      "metadata": {
        "colab": {
          "base_uri": "https://localhost:8080/"
        },
        "id": "jM_pa-OwAGUH",
        "outputId": "6bff1b6a-4e6d-4aa3-9c93-c6e15696a77c"
      },
      "outputs": [
        {
          "name": "stdout",
          "output_type": "stream",
          "text": [
            "74\n"
          ]
        }
      ],
      "source": [
        "nums = [3, 41, 12, 9, 74, 15]\n",
        "print(max(nums))"
      ]
    },
    {
      "cell_type": "code",
      "execution_count": null,
      "metadata": {
        "colab": {
          "base_uri": "https://localhost:8080/"
        },
        "id": "Kfx6De9eAI8G",
        "outputId": "baa5ed77-1d2b-463d-f913-b43d498246c6"
      },
      "outputs": [
        {
          "name": "stdout",
          "output_type": "stream",
          "text": [
            "3\n"
          ]
        }
      ],
      "source": [
        "nums = [3, 41, 12, 9, 74, 15]\n",
        "print(min(nums))"
      ]
    },
    {
      "cell_type": "code",
      "execution_count": null,
      "metadata": {
        "colab": {
          "base_uri": "https://localhost:8080/"
        },
        "id": "c3YsmPL1AMXt",
        "outputId": "09e64f68-f4b5-4a62-8bd4-ef082c288506"
      },
      "outputs": [
        {
          "name": "stdout",
          "output_type": "stream",
          "text": [
            "154\n"
          ]
        }
      ],
      "source": [
        "nums = [3, 41, 12, 9, 74, 15]\n",
        "print(sum(nums))"
      ]
    },
    {
      "cell_type": "code",
      "execution_count": null,
      "metadata": {
        "colab": {
          "base_uri": "https://localhost:8080/"
        },
        "id": "Y9YMBSXrAQPI",
        "outputId": "8b303a3c-0ef4-4bfe-ba9f-81e66fef6a44"
      },
      "outputs": [
        {
          "name": "stdout",
          "output_type": "stream",
          "text": [
            "25.666666666666668\n"
          ]
        }
      ],
      "source": [
        "nums = [3, 41, 12, 9, 74, 15]\n",
        "print(sum(nums)/len(nums))"
      ]
    },
    {
      "cell_type": "markdown",
      "metadata": {
        "id": "k1_pa7a_AZTO"
      },
      "source": [
        "* La función ***sum()*** solo funciona cuando los elementos de la lista son **números**.\n",
        "\n",
        "* Las otras funciones ***(max(), len(), etc.)*** funcionan con listas de cadenas y otros tipos que se pueden comparar."
      ]
    },
    {
      "cell_type": "markdown",
      "metadata": {
        "id": "uSPWQp9cPYPq"
      },
      "source": [
        "### 2.2 TUPLAS  \n",
        "Las tuplas son secuencias inmutables, que generalmente se utilizan para almacenar colecciones de diferentes tipos de datos.\n",
        "\n",
        "Las tuplas se pueden construir de varias maneras:\n",
        "\n",
        "* Usando un par de paréntesis para denotar la tupla vacía: ()\n",
        "\n",
        "* Usar una coma final para una tupla singleton: (\"a\",)\n",
        "\n",
        "* Separar elementos con comas: (\"a\", \"b\", \"c\")\n",
        "\n",
        "* Usando el comando tuple() se utiliza para crear una nueva tupla o convertir otro iterable (como una lista, cadena de texto, conjunto, etc.) en una tupla.\n",
        "\n"
      ]
    },
    {
      "cell_type": "markdown",
      "metadata": {
        "id": "hIHJNOIVXQgF"
      },
      "source": [
        "#### ***2.2.1 Tuplas sin paréntesis***\n",
        "Según el caso, hay veces que se encuentran tuplas que no llevan paréntesis.Sintácticamente, una tupla es una lista de valores separados por comas:"
      ]
    },
    {
      "cell_type": "code",
      "execution_count": null,
      "metadata": {
        "id": "p68xMMptJ9T1"
      },
      "outputs": [],
      "source": [
        "t = 'a', 'b', 'c', 'd', 'e'"
      ]
    },
    {
      "cell_type": "code",
      "execution_count": null,
      "metadata": {
        "id": "_mdQKkA_H4Mw"
      },
      "outputs": [],
      "source": [
        "one_item_tuple = 'Papá Noel',\n",
        "\n",
        "three_wise_men = 'Melchor', 'Gaspar', 'Baltasar'\n",
        "\n",
        "tenerife_geoloc = 28.46824, -16.25462"
      ]
    },
    {
      "cell_type": "markdown",
      "metadata": {
        "id": "TlGQ3voJH7n5"
      },
      "source": [
        "#### ***2.2.2 Conversión de elementos en una Tupla***\n",
        "Para convertir otros tipos de datos en una tupla podemos usar la función tuple():"
      ]
    },
    {
      "cell_type": "code",
      "execution_count": null,
      "metadata": {
        "colab": {
          "base_uri": "https://localhost:8080/"
        },
        "id": "8_c6j4xMIP_J",
        "outputId": "0dfb07c4-4e16-4ac5-dfbd-9ec5c01d4bcf"
      },
      "outputs": [
        {
          "data": {
            "text/plain": [
              "('Agua', 'Aceite', 'Arroz')"
            ]
          },
          "execution_count": 23,
          "metadata": {},
          "output_type": "execute_result"
        }
      ],
      "source": [
        "shopping = ['Agua', 'Aceite', 'Arroz']\n",
        "tuple(shopping)"
      ]
    },
    {
      "cell_type": "code",
      "execution_count": null,
      "metadata": {
        "colab": {
          "base_uri": "https://localhost:8080/"
        },
        "id": "0pdzBtTJKlyF",
        "outputId": "07184092-0100-4fa4-a5e0-7cfc238948ba"
      },
      "outputs": [
        {
          "name": "stdout",
          "output_type": "stream",
          "text": [
            "('l', 'u', 'p', 'i', 'n', 's')\n"
          ]
        }
      ],
      "source": [
        "t = tuple('lupins')\n",
        "print(t)\n"
      ]
    },
    {
      "cell_type": "markdown",
      "metadata": {
        "id": "iH0WylfbIcT3"
      },
      "source": [
        "Esta conversión es válida para aquellos tipos de datos que sean iterables: cadenas de caracteres, listas, diccionarios, conjuntos, etc.\n",
        "> Un ejemplo que no funciona es intentar convertir un número en una tupla.\n",
        "\n",
        "El uso de la función tuple() sin argumentos equivale a crear una tupla vacía:"
      ]
    },
    {
      "cell_type": "code",
      "execution_count": null,
      "metadata": {
        "id": "R7SAiISxIm2T"
      },
      "outputs": [],
      "source": [
        "tuple()\n"
      ]
    },
    {
      "cell_type": "markdown",
      "metadata": {
        "id": "j8OeNcczJN9v"
      },
      "source": [
        "#### ***2.2.3 Leer los elementos en una Tupla***\n",
        "Se accede a los elementos de la tupla mediante su índice."
      ]
    },
    {
      "cell_type": "code",
      "execution_count": null,
      "metadata": {
        "colab": {
          "base_uri": "https://localhost:8080/"
        },
        "id": "HDmUvbwDJXsn",
        "outputId": "175c461d-3900-4882-8d48-2b7c9e62494c"
      },
      "outputs": [
        {
          "name": "stdout",
          "output_type": "stream",
          "text": [
            "a\n"
          ]
        }
      ],
      "source": [
        "tupla = (1, 'a', 3.14)\n",
        "elemento = tupla[1]\n",
        "print(elemento)"
      ]
    },
    {
      "cell_type": "markdown",
      "metadata": {
        "id": "HJpX-yleLEi-"
      },
      "source": [
        "#### ***2.2.4 Operador Slice***\n",
        "El operador slice selecciona un rango de elementos dentro de la tupla."
      ]
    },
    {
      "cell_type": "code",
      "execution_count": null,
      "metadata": {
        "colab": {
          "base_uri": "https://localhost:8080/"
        },
        "id": "iruqU9UrOzFh",
        "outputId": "034a40b8-5313-4494-86c6-97e4c20ee706"
      },
      "outputs": [
        {
          "name": "stdout",
          "output_type": "stream",
          "text": [
            "('b', 'c')\n"
          ]
        }
      ],
      "source": [
        "t = ('a', 'b', 'c', 'd', 'e')\n",
        "print(t[1:3])\n"
      ]
    },
    {
      "cell_type": "markdown",
      "metadata": {
        "id": "09H_DJvRPMpi"
      },
      "source": [
        "#### ***2.2.5 Modificar una Tupla***\n",
        "No es posible. Sin embargo, puedes reemplazarla por otra tupla que contenga los elementos que deseas."
      ]
    },
    {
      "cell_type": "code",
      "execution_count": null,
      "metadata": {
        "colab": {
          "base_uri": "https://localhost:8080/"
        },
        "id": "hJq4TID4PnfW",
        "outputId": "ed9e8b40-b32b-4f4b-c69c-bc6cc49f3126"
      },
      "outputs": [
        {
          "name": "stdout",
          "output_type": "stream",
          "text": [
            "('A', 'b', 'c', 'd', 'e')\n"
          ]
        }
      ],
      "source": [
        "t = ('a', 'b', 'c', 'd', 'e')\n",
        "t = ('A',) + t[1:]\n",
        "print(t)"
      ]
    },
    {
      "cell_type": "markdown",
      "metadata": {
        "id": "Kk-MCFE8P3Hs"
      },
      "source": [
        "#### ***2.2.6 Comparación de Tuplas***\n",
        "Los operadores de comparación funcionan con tuplas y otras secuencias en Python. El proceso de comparación comienza comparando el primer elemento de cada secuencia. Si son iguales, Python procede a comparar el siguiente elemento, y así sucesivamente, hasta encontrar elementos que difieren. Los elementos posteriores no se consideran (incluso si son realmente grandes). Esto significa que la comparación de tuplas (y otras secuencias) se realiza elemento por elemento, y la primera diferencia encontrada determina el resultado de la comparación."
      ]
    },
    {
      "cell_type": "code",
      "execution_count": null,
      "metadata": {
        "colab": {
          "base_uri": "https://localhost:8080/"
        },
        "id": "YMppqSKgQVPR",
        "outputId": "d77588db-f0b6-4970-cb1d-d1bfd64f2958"
      },
      "outputs": [
        {
          "data": {
            "text/plain": [
              "True"
            ]
          },
          "execution_count": 30,
          "metadata": {},
          "output_type": "execute_result"
        }
      ],
      "source": [
        "(0, 1, 2) < (0, 3, 4)"
      ]
    },
    {
      "cell_type": "code",
      "execution_count": null,
      "metadata": {
        "colab": {
          "base_uri": "https://localhost:8080/"
        },
        "id": "TlZLDPpdQbld",
        "outputId": "902b899e-7d1b-488c-b84a-bc6c5f4917e8"
      },
      "outputs": [
        {
          "data": {
            "text/plain": [
              "True"
            ]
          },
          "execution_count": 31,
          "metadata": {},
          "output_type": "execute_result"
        }
      ],
      "source": [
        "(0, 1, 2000000) < (0, 3, 4)"
      ]
    },
    {
      "cell_type": "markdown",
      "metadata": {
        "id": "mg2ndCU_Qt0y"
      },
      "source": [
        "#### ***2.2.7 Operaciones***\n",
        "\n",
        "* ***count()***: Retorna el número de veces que aparece un elemento en la tupla.\n",
        "* ***index()***: Retorna el índice de la primera aparición de un elemento en la tupla."
      ]
    },
    {
      "cell_type": "code",
      "execution_count": null,
      "metadata": {
        "colab": {
          "base_uri": "https://localhost:8080/"
        },
        "id": "3JyuWFXQRDFK",
        "outputId": "a324f2ff-1d47-40b9-ca20-ae5670067643"
      },
      "outputs": [
        {
          "name": "stdout",
          "output_type": "stream",
          "text": [
            "2\n",
            "3\n"
          ]
        }
      ],
      "source": [
        "tupla = (1, 2, 2, 3, 3, 3)\n",
        "print(tupla.count(2))\n",
        "print(tupla.index(3))"
      ]
    },
    {
      "cell_type": "markdown",
      "metadata": {
        "id": "JDEMPKixRLfV"
      },
      "source": [
        "#### ***2.2.8 Índices***\n",
        " Se puede acceder a los elementos de la tupla mediante índices positivos y negativos."
      ]
    },
    {
      "cell_type": "code",
      "execution_count": null,
      "metadata": {
        "id": "H60T2G3pRUMX"
      },
      "outputs": [],
      "source": [
        "tupla = (1, 2, 3, 4, 5)\n",
        "print(tupla[0])\n",
        "print(tupla[-1])"
      ]
    },
    {
      "cell_type": "markdown",
      "metadata": {
        "id": "R5PalRXkRZqA"
      },
      "source": [
        "#### ***2.2.9 Iteración***\n",
        " Se puede iterar sobre una tupla para acceder a sus elementos."
      ]
    },
    {
      "cell_type": "code",
      "execution_count": null,
      "metadata": {
        "colab": {
          "base_uri": "https://localhost:8080/"
        },
        "id": "R9o63ZOMRkPg",
        "outputId": "8a5739d0-cf6a-4b80-b23d-1be390f2d6e0"
      },
      "outputs": [
        {
          "name": "stdout",
          "output_type": "stream",
          "text": [
            "1\n",
            "a\n",
            "3.14\n"
          ]
        }
      ],
      "source": [
        "tupla = (1, 'a', 3.14)\n",
        "for elemento in tupla:\n",
        "    print(elemento)"
      ]
    },
    {
      "cell_type": "markdown",
      "metadata": {
        "id": "clT2Pqf1Pb6q"
      },
      "source": [
        "### 2.3 RANGE\n",
        "La secuencia range es una herramienta útil para generar secuencias de números enteros. Es ampliamente utilizada en bucles y otras estructuras de control.\n",
        "\n",
        "La secuencia range en Python tiene las siguientes características:\n",
        "\n",
        "* **Homogeneidad de datos**: genera secuencias de números enteros de manera uniforme.\n",
        "* **Inmutable**: no pueden ser modificadas después de su creación.\n",
        "\n",
        "#### ***2.3.1 Crear una secuencia Range***\n",
        "Para crear una secuencia Range, podemos utilizar la función range(). Esta función puede tomar uno, dos o tres argumentos para definir el inicio, el final y el paso de la secuencia."
      ]
    },
    {
      "cell_type": "code",
      "execution_count": null,
      "metadata": {
        "colab": {
          "base_uri": "https://localhost:8080/"
        },
        "id": "AJQ_ZwckZNun",
        "outputId": "e9414467-5cfe-4097-fd3a-3165d213ed59"
      },
      "outputs": [
        {
          "name": "stdout",
          "output_type": "stream",
          "text": [
            "[0, 1, 2, 3, 4, 5, 6, 7, 8, 9]\n"
          ]
        }
      ],
      "source": [
        "rango = range(10)\n",
        "print(list(rango))"
      ]
    },
    {
      "cell_type": "markdown",
      "metadata": {
        "id": "ipYgyNDVZTch"
      },
      "source": [
        "#### ***2.3.2 Leer elementos de una secuencia Range***\n",
        "Para acceder a los elementos de una secuencia Range se hace utilizando índices."
      ]
    },
    {
      "cell_type": "code",
      "execution_count": null,
      "metadata": {
        "colab": {
          "base_uri": "https://localhost:8080/"
        },
        "id": "PAl_cGukZdyE",
        "outputId": "614cd8ac-ac6e-4978-8736-b3460c16f583"
      },
      "outputs": [
        {
          "name": "stdout",
          "output_type": "stream",
          "text": [
            "7\n"
          ]
        }
      ],
      "source": [
        "rango = range(5, 10)\n",
        "print(rango[2])"
      ]
    },
    {
      "cell_type": "markdown",
      "metadata": {
        "id": "nlR3FmaxZgtQ"
      },
      "source": [
        "#### ***2.3.3 Slicing en secuencias Range***\n",
        "Es utilizado, el slicing, para obtener subsecuencias de una secuencia Range original."
      ]
    },
    {
      "cell_type": "code",
      "execution_count": null,
      "metadata": {
        "colab": {
          "base_uri": "https://localhost:8080/"
        },
        "id": "8fBFl6RXZ1ON",
        "outputId": "e6c0bf63-65fd-495c-f751-a7ca57ace6a3"
      },
      "outputs": [
        {
          "name": "stdout",
          "output_type": "stream",
          "text": [
            "[2, 3, 4]\n"
          ]
        }
      ],
      "source": [
        "rango = range(10)\n",
        "print(list(rango[2:5]))"
      ]
    },
    {
      "cell_type": "markdown",
      "metadata": {
        "id": "zDJ6E45VZ-S3"
      },
      "source": [
        "#### ***2.3.4 Operaciones***\n",
        "Se realizan operaciones comunes como la suma, resta y multiplicación con secuencias Range."
      ]
    },
    {
      "cell_type": "code",
      "execution_count": null,
      "metadata": {
        "colab": {
          "base_uri": "https://localhost:8080/"
        },
        "id": "vrBN4cP1aSch",
        "outputId": "d24deb95-a52c-4808-851c-d743ecf80eb3"
      },
      "outputs": [
        {
          "name": "stdout",
          "output_type": "stream",
          "text": [
            "[0, 1, 2, 3, 4, 5, 6, 7, 8, 9]\n"
          ]
        }
      ],
      "source": [
        "rango1 = list(range(5))\n",
        "rango2 = list(range(5, 10))\n",
        "rango_concatenado = rango1 + rango2\n",
        "print(rango_concatenado)"
      ]
    },
    {
      "cell_type": "markdown",
      "metadata": {
        "id": "rEGwP6uhPgDh"
      },
      "source": [
        "### 2.4 STRINGS\n",
        "Puedes asignar cadenas a variables e imprimirlas utilizando el comando print( ).\n",
        "\n",
        "\n"
      ]
    },
    {
      "cell_type": "code",
      "execution_count": null,
      "metadata": {
        "colab": {
          "base_uri": "https://localhost:8080/"
        },
        "id": "RUV0Cc1c9y1r",
        "outputId": "44f3d0fc-57c9-40c4-9ea0-352a3f5b1d02"
      },
      "outputs": [
        {
          "name": "stdout",
          "output_type": "stream",
          "text": [
            "abc\n",
            "abc\n",
            "abcdef\n"
          ]
        }
      ],
      "source": [
        "print('abc')\n",
        "x = 'abc'\n",
        "print(x)\n",
        "y = 'def'\n",
        "print(x + y)"
      ]
    },
    {
      "cell_type": "markdown",
      "metadata": {
        "id": "Q8UGCVBI-YqC"
      },
      "source": [
        "Puedes \"desempaquetar\" las letras de una cadena y asignarlas a variables, como se muestra aquí."
      ]
    },
    {
      "cell_type": "code",
      "execution_count": null,
      "metadata": {
        "colab": {
          "base_uri": "https://localhost:8080/"
        },
        "id": "2CilNjR5-dNs",
        "outputId": "e04f1308-8b0d-48d1-d444-50128dc5a31a"
      },
      "outputs": [
        {
          "name": "stdout",
          "output_type": "stream",
          "text": [
            "W o r l d\n"
          ]
        }
      ],
      "source": [
        "str = \"World\"\n",
        "x1,x2,x3,x4,x5 = str\n",
        "print(x1, x2, x3, x4, x5)"
      ]
    },
    {
      "cell_type": "markdown",
      "metadata": {
        "id": "bk0Jkm649uZt"
      },
      "source": [
        "Una cadena de texto es una secuencia de caracteres. Puedes acceder a los caracteres uno por uno con el operador de corchetes.\n",
        "\n",
        "\n"
      ]
    },
    {
      "cell_type": "code",
      "execution_count": null,
      "metadata": {
        "id": "2FU2RmMSSMCm"
      },
      "outputs": [],
      "source": [
        "fruit = 'banana'\n",
        "letter = fruit[1]"
      ]
    },
    {
      "cell_type": "markdown",
      "metadata": {
        "id": "KIO8_Hef_r7g"
      },
      "source": [
        "Se usa las funciones ljust(), rjust() y center() para posicionar una cadena de texto de manera que esté justificada a la izquierda, justificada a la derecha y centrada, respectivamente."
      ]
    },
    {
      "cell_type": "code",
      "execution_count": null,
      "metadata": {
        "colab": {
          "base_uri": "https://localhost:8080/"
        },
        "id": "Douui9Jw_wBm",
        "outputId": "d559cb04-5058-4fcc-f508-6f86a5836efd"
      },
      "outputs": [
        {
          "name": "stdout",
          "output_type": "stream",
          "text": [
            "this is a string\n",
            "                        this is a string\n",
            "            this is a string            \n"
          ]
        }
      ],
      "source": [
        "import string\n",
        "str1 = 'this is a string'\n",
        "print(str1.ljust(10))\n",
        "print(str1.rjust(40))\n",
        "print(str1.center(40))"
      ]
    },
    {
      "cell_type": "markdown",
      "metadata": {
        "id": "1j5s0CUNSRxu"
      },
      "source": [
        "#### ***2.4.1 Obtener la longitud de un String***\n",
        " Usando ***len***,es una función incorporada que devuelve el número de caracteres del string."
      ]
    },
    {
      "cell_type": "code",
      "execution_count": null,
      "metadata": {
        "colab": {
          "base_uri": "https://localhost:8080/"
        },
        "id": "uVg-9yHxTA4Y",
        "outputId": "8de1334c-f41f-4484-8d1c-148023ee21d9"
      },
      "outputs": [
        {
          "data": {
            "text/plain": [
              "6"
            ]
          },
          "execution_count": 37,
          "metadata": {},
          "output_type": "execute_result"
        }
      ],
      "source": [
        "fruit = 'banana'\n",
        "len(fruit)"
      ]
    },
    {
      "cell_type": "markdown",
      "metadata": {
        "id": "riC7KFSqTEhI"
      },
      "source": [
        "#### ***2.4.2 Bucles con String***\n",
        "Para procesar una cadena caracter por caracter es necesario utilizar bucles. A menudo, comienzan al principio, seleccionan cada carácter a su vez, hacen algo con él y continúan hasta el final.\n",
        "\n",
        "\n",
        "\n",
        "\n"
      ]
    },
    {
      "cell_type": "code",
      "execution_count": null,
      "metadata": {
        "colab": {
          "base_uri": "https://localhost:8080/"
        },
        "id": "EDwi8QXYT61w",
        "outputId": "df3a02c3-face-4123-d3c6-160ebe50b265"
      },
      "outputs": [
        {
          "name": "stdout",
          "output_type": "stream",
          "text": [
            "b\n",
            "a\n",
            "n\n",
            "a\n",
            "n\n",
            "a\n"
          ]
        }
      ],
      "source": [
        "fruit = 'banana'\n",
        "index = 0\n",
        "while index < len(fruit):\n",
        " letter = fruit[index]\n",
        " print(letter)\n",
        " index = index + 1\n"
      ]
    },
    {
      "cell_type": "code",
      "execution_count": null,
      "metadata": {
        "colab": {
          "base_uri": "https://localhost:8080/"
        },
        "id": "ztfsaH-KUG_B",
        "outputId": "2ac7a8ea-7f11-476e-ee87-595d3a9b9a5c"
      },
      "outputs": [
        {
          "name": "stdout",
          "output_type": "stream",
          "text": [
            "b\n",
            "a\n",
            "n\n",
            "a\n",
            "n\n",
            "a\n"
          ]
        }
      ],
      "source": [
        "fruit = 'banana'\n",
        "for char in fruit:\n",
        " print(char)"
      ]
    },
    {
      "cell_type": "markdown",
      "metadata": {
        "id": "RepFMw_YUTJP"
      },
      "source": [
        "#### ***2.4.3 Operador Slice con String***\n",
        "Un segmento de una cadena se llama un slice (rebanada). Seleccionar un slice es similar a seleccionar un carácter:\n",
        ">Puedes extraer subcadenas de una cadena"
      ]
    },
    {
      "cell_type": "code",
      "execution_count": null,
      "metadata": {
        "colab": {
          "base_uri": "https://localhost:8080/"
        },
        "id": "wzTRUo6B_Bz-",
        "outputId": "5f7439bb-6015-4270-efe7-ccd6ee735736"
      },
      "outputs": [
        {
          "name": "stdout",
          "output_type": "stream",
          "text": [
            "a\n",
            "f\n",
            "bc\n",
            "abf\n"
          ]
        }
      ],
      "source": [
        "x = \"abcdef\"\n",
        "print(x[0])\n",
        "print(x[-1])\n",
        "print(x[1:3])\n",
        "print(x[0:2] + x[5:])"
      ]
    },
    {
      "cell_type": "code",
      "execution_count": null,
      "metadata": {
        "colab": {
          "base_uri": "https://localhost:8080/"
        },
        "id": "XwB_I04YUf6S",
        "outputId": "54ccaee4-f603-4720-a7de-21035a173c01"
      },
      "outputs": [
        {
          "name": "stdout",
          "output_type": "stream",
          "text": [
            "Monty\n",
            "Python\n"
          ]
        }
      ],
      "source": [
        "s = 'Monty Python'\n",
        "print(s[0:5])\n",
        "\n",
        "print(s[6:12])"
      ]
    },
    {
      "cell_type": "code",
      "execution_count": null,
      "metadata": {
        "colab": {
          "base_uri": "https://localhost:8080/",
          "height": 35
        },
        "id": "amE2H_ubUttl",
        "outputId": "84c227a9-bb93-4883-a366-13d54eb3d03f"
      },
      "outputs": [
        {
          "data": {
            "application/vnd.google.colaboratory.intrinsic+json": {
              "type": "string"
            },
            "text/plain": [
              "'ban'"
            ]
          },
          "execution_count": 49,
          "metadata": {},
          "output_type": "execute_result"
        }
      ],
      "source": [
        "fruit = 'banana'\n",
        "fruit[:3]"
      ]
    },
    {
      "cell_type": "code",
      "execution_count": null,
      "metadata": {
        "colab": {
          "base_uri": "https://localhost:8080/",
          "height": 35
        },
        "id": "pRk_eFnIU6ag",
        "outputId": "6929a09b-5f0c-4bc1-c90a-f9012a7c062f"
      },
      "outputs": [
        {
          "data": {
            "application/vnd.google.colaboratory.intrinsic+json": {
              "type": "string"
            },
            "text/plain": [
              "'ana'"
            ]
          },
          "execution_count": 48,
          "metadata": {},
          "output_type": "execute_result"
        }
      ],
      "source": [
        "fruit = 'banana'\n",
        "fruit[3:]"
      ]
    },
    {
      "cell_type": "markdown",
      "metadata": {
        "id": "essJvNAhVCkC"
      },
      "source": [
        "#### ***2.4.4 Las cadenas de texto son inmutables***\n",
        "La intención de cambiar un carácter en una cadena genera un error dentro del interprete.\n",
        ">La opción que se tiene es crear una nueva cadena que sea una variación de la original."
      ]
    },
    {
      "cell_type": "code",
      "execution_count": null,
      "metadata": {
        "colab": {
          "base_uri": "https://localhost:8080/"
        },
        "id": "qI32N8tbV8td",
        "outputId": "af7e2e59-8bb6-4cab-a87a-b74b5e45b64e"
      },
      "outputs": [
        {
          "name": "stdout",
          "output_type": "stream",
          "text": [
            "Jello, world!\n"
          ]
        }
      ],
      "source": [
        "greeting = 'Hello, world!'\n",
        "new_greeting = 'J' + greeting[1:]\n",
        "print(new_greeting)"
      ]
    },
    {
      "cell_type": "markdown",
      "metadata": {
        "id": "kg8YlZTLUqLS"
      },
      "source": [
        "#### ***2.4.5 Ciclos y contadores***\n",
        "El siguiente programa cuenta el número de veces que aparece la letra \"a\" en una cadena:"
      ]
    },
    {
      "cell_type": "code",
      "execution_count": null,
      "metadata": {
        "colab": {
          "base_uri": "https://localhost:8080/"
        },
        "id": "A5eBg-K5WR_2",
        "outputId": "b056233b-572b-43d8-91c7-52357f5204ff"
      },
      "outputs": [
        {
          "name": "stdout",
          "output_type": "stream",
          "text": [
            "3\n"
          ]
        }
      ],
      "source": [
        "word = 'banana'\n",
        "count = 0\n",
        "for letter in word:\n",
        " if letter == 'a':\n",
        "  count = count + 1\n",
        "print(count)"
      ]
    },
    {
      "cell_type": "markdown",
      "metadata": {
        "id": "VhkZ9ppDWhk3"
      },
      "source": [
        "#### ***2.4.6 Operador in***\n",
        "La palabra reservada in es un operador booleano que toma dos cadenas y devuelve True si la primera aparece como subcadena en la segunda."
      ]
    },
    {
      "cell_type": "code",
      "execution_count": null,
      "metadata": {
        "colab": {
          "base_uri": "https://localhost:8080/"
        },
        "id": "0WxCDwUJWp-I",
        "outputId": "69ecf904-df20-4bbe-8b53-d8eadb4e4b4f"
      },
      "outputs": [
        {
          "data": {
            "text/plain": [
              "True"
            ]
          },
          "execution_count": 56,
          "metadata": {},
          "output_type": "execute_result"
        }
      ],
      "source": [
        "'a' in 'banana'"
      ]
    },
    {
      "cell_type": "code",
      "execution_count": null,
      "metadata": {
        "colab": {
          "base_uri": "https://localhost:8080/"
        },
        "id": "w7KesUiAWxYv",
        "outputId": "e8223b71-01ad-4d89-f8f4-0318392d90b0"
      },
      "outputs": [
        {
          "data": {
            "text/plain": [
              "False"
            ]
          },
          "execution_count": 57,
          "metadata": {},
          "output_type": "execute_result"
        }
      ],
      "source": [
        "'seed' in 'banana'"
      ]
    },
    {
      "cell_type": "markdown",
      "metadata": {
        "id": "cLWiFFj5XBnT"
      },
      "source": [
        "#### ***2.4.7 Operadores de comparación***\n",
        "Los operadores de comparación funcionan en cadenas. Para verificar si dos cadenas son iguales:"
      ]
    },
    {
      "cell_type": "code",
      "execution_count": null,
      "metadata": {
        "colab": {
          "base_uri": "https://localhost:8080/"
        },
        "id": "AsEzpAWqXMeq",
        "outputId": "f9852abe-d2d7-49a1-da8a-bfbc02cb0952"
      },
      "outputs": [
        {
          "name": "stdout",
          "output_type": "stream",
          "text": [
            "All right, bananas.\n"
          ]
        }
      ],
      "source": [
        "if word == 'banana':\n",
        " print('All right, bananas.')"
      ]
    },
    {
      "cell_type": "markdown",
      "metadata": {
        "id": "Gsl8C9qgXdXc"
      },
      "source": [
        "Operaciones de comparación son útiles para ordenar palabras en orden alfabético:"
      ]
    },
    {
      "cell_type": "code",
      "execution_count": null,
      "metadata": {
        "colab": {
          "base_uri": "https://localhost:8080/"
        },
        "id": "nL_9PS06XeE6",
        "outputId": "1ad786a8-3807-44a0-85fa-de0e330cf6fe"
      },
      "outputs": [
        {
          "name": "stdout",
          "output_type": "stream",
          "text": [
            "All right, bananas.\n"
          ]
        }
      ],
      "source": [
        "if word < 'banana':\n",
        " print('Your word,' + word + ', comes before banana.')\n",
        "elif word > 'banana':\n",
        " print('Your word,' + word + ', comes after banana.')\n",
        "else:\n",
        " print('All right, bananas.')"
      ]
    },
    {
      "cell_type": "markdown",
      "metadata": {
        "id": "gPtrIN-k8ySk"
      },
      "source": [
        "#### ***2.4.8 Concatenación de String***\n",
        "Utilizando el operador +"
      ]
    },
    {
      "cell_type": "code",
      "execution_count": null,
      "metadata": {
        "colab": {
          "base_uri": "https://localhost:8080/",
          "height": 35
        },
        "id": "2pny2Eet9Cv2",
        "outputId": "8d44132c-2609-4472-eb27-349fa81c8dca"
      },
      "outputs": [
        {
          "data": {
            "application/vnd.google.colaboratory.intrinsic+json": {
              "type": "string"
            },
            "text/plain": [
              "'ab'"
            ]
          },
          "execution_count": 4,
          "metadata": {},
          "output_type": "execute_result"
        }
      ],
      "source": [
        "'a' + 'b'"
      ]
    },
    {
      "cell_type": "markdown",
      "metadata": {
        "id": "eaCBGAsm9NXb"
      },
      "source": [
        "Para concatenar cadena iguales idénticas utilizar el operador *"
      ]
    },
    {
      "cell_type": "code",
      "execution_count": null,
      "metadata": {
        "colab": {
          "base_uri": "https://localhost:8080/",
          "height": 35
        },
        "id": "sHGuQGZA9cLY",
        "outputId": "7e4f5a6a-6812-4dd0-83d3-f2a7ebe4e8e8"
      },
      "outputs": [
        {
          "data": {
            "application/vnd.google.colaboratory.intrinsic+json": {
              "type": "string"
            },
            "text/plain": [
              "'aaa'"
            ]
          },
          "execution_count": 5,
          "metadata": {},
          "output_type": "execute_result"
        }
      ],
      "source": [
        "'a' * 3"
      ]
    },
    {
      "cell_type": "markdown",
      "metadata": {
        "id": "cZcIyS_G9fIV"
      },
      "source": [
        "#### ***2.4.9 Operadores utilizados con String***\n",
        "El operador ***char_types.py*** determina si una cadena contiene dígitos o caracteres."
      ]
    },
    {
      "cell_type": "code",
      "execution_count": null,
      "metadata": {
        "colab": {
          "base_uri": "https://localhost:8080/"
        },
        "id": "IN0GkspSAU98",
        "outputId": "943801d4-40fb-4ea2-f8c3-7ff1115d6bde"
      },
      "outputs": [
        {
          "name": "stdout",
          "output_type": "stream",
          "text": [
            "this is a digit: 4\n",
            "this is a digit: 4234\n",
            "this is alphabetic: b\n",
            "this is alphabetic: abc\n",
            "this is not pure alphabetic: a1b2c3\n",
            "capitalized first letter: A1B2C3\n"
          ]
        }
      ],
      "source": [
        "str1 = \"4\"\n",
        "str2 = \"4234\"\n",
        "str3 = \"b\"\n",
        "str4 = \"abc\"\n",
        "str5 = \"a1b2c3\"\n",
        "if(str1.isdigit()):\n",
        "  print(\"this is a digit:\",str1)\n",
        "if(str2.isdigit()):\n",
        "  print(\"this is a digit:\",str2)\n",
        "if(str3.isalpha()):\n",
        "  print(\"this is alphabetic:\",str3)\n",
        "if(str4.isalpha()):\n",
        "  print(\"this is alphabetic:\",str4)\n",
        "if(not str5.isalpha()):\n",
        "  print(\"this is not pure alphabetic:\",str5)\n",
        "print(\"capitalized first letter:\",str5.title())"
      ]
    },
    {
      "cell_type": "markdown",
      "metadata": {
        "id": "pbSZbfoSA7ur"
      },
      "source": [
        "***find_pos1.py***, la función find() es para buscar la concurrencia de una cadena en otra cadena."
      ]
    },
    {
      "cell_type": "code",
      "execution_count": null,
      "metadata": {
        "colab": {
          "base_uri": "https://localhost:8080/"
        },
        "id": "eOyRs3ofBI8F",
        "outputId": "d5a4e46c-2386-4149-f79e-433a200e6cc4"
      },
      "outputs": [
        {
          "name": "stdout",
          "output_type": "stream",
          "text": [
            "pos1= 27\n",
            "pos2= -1\n"
          ]
        }
      ],
      "source": [
        "item1 = 'abc'\n",
        "item2 = 'Abc'\n",
        "text = 'This is a text string with abc'\n",
        "pos1 = text.find(item1)\n",
        "pos2 = text.find(item2)\n",
        "print('pos1=',pos1)\n",
        "print('pos2=',pos2) # el -1 es que no existe coincidencia"
      ]
    },
    {
      "cell_type": "markdown",
      "metadata": {
        "id": "dBG1TTIKBtFr"
      },
      "source": [
        "***replace1.py***, muestra cómo reemplazar una cadena con otra cadena."
      ]
    },
    {
      "cell_type": "code",
      "execution_count": null,
      "metadata": {
        "colab": {
          "base_uri": "https://localhost:8080/"
        },
        "id": "V_GRc9WjB_MF",
        "outputId": "ae25eebf-f272-4446-e407-e9a9ec13afce"
      },
      "outputs": [
        {
          "name": "stdout",
          "output_type": "stream",
          "text": [
            "text: This is a text string with abc\n",
            "text: This was a text string with abc\n"
          ]
        }
      ],
      "source": [
        "text = 'This is a text string with abc'\n",
        "print('text:',text)\n",
        "text = text.replace('is a', 'was a')\n",
        "print('text:',text)"
      ]
    },
    {
      "cell_type": "markdown",
      "metadata": {
        "id": "tp5hGGgzCWic"
      },
      "source": [
        "Las funciones ***strip()***, ***lstrip()*** y ***rstrip()*** se utilizan para eliminar caracteres en una cadena de texto."
      ]
    },
    {
      "cell_type": "code",
      "execution_count": null,
      "metadata": {
        "colab": {
          "base_uri": "https://localhost:8080/"
        },
        "id": "3ewEPupBCbYQ",
        "outputId": "34076d79-54c3-4a6e-906c-b74d980b2027"
      },
      "outputs": [
        {
          "name": "stdout",
          "output_type": "stream",
          "text": [
            "text1: x    leading and trailing white space    y\n",
            "text2: x leading and trailing white space    y\n",
            "text3: x leading and trailing white space y\n"
          ]
        }
      ],
      "source": [
        "text = '   leading and trailing white space   '\n",
        "print('text1:','x',text,'y')\n",
        "text = text.lstrip()\n",
        "print('text2:','x',text,'y')\n",
        "text = text.rstrip()\n",
        "print('text3:','x',text,'y')"
      ]
    },
    {
      "cell_type": "markdown",
      "metadata": {
        "id": "9bFsSHj3PkyC"
      },
      "source": [
        "### 2.5 SET\n",
        "Un set es una colección desordenada y mutable de elementos únicos. Se pueden crear sets utilizando llaves {} o la función set()."
      ]
    },
    {
      "cell_type": "markdown",
      "metadata": {
        "id": "rBt2sHWnHpcr"
      },
      "source": [
        ">Los sets en Python tienen las siguientes características:\n",
        "\n",
        "* Datos heterogéneos: Un set puede contener elementos de diferentes tipos de datos.\n",
        "* Nesting (Anidamiento): Puedes tener sets dentro de otros sets.\n",
        "* Variantes mutables e inmutables: Los sets en Python son mutables, lo que significa que se pueden modificar después de su creación.\n",
        "* También hay variantes inmutables llamadas \"frozensets\"."
      ]
    },
    {
      "cell_type": "markdown",
      "metadata": {
        "id": "tYLiyhedH492"
      },
      "source": [
        "***Puedes crear un set vacío o con elementos utilizando llaves {} o la función set().***"
      ]
    },
    {
      "cell_type": "code",
      "execution_count": null,
      "metadata": {
        "id": "V6x0ZX75H894"
      },
      "outputs": [],
      "source": [
        "my_set = set()\n",
        "\n",
        "my_set = {1, 2, 3}"
      ]
    },
    {
      "cell_type": "markdown",
      "metadata": {
        "id": "UJUcXXxTIBhz"
      },
      "source": [
        "***Puedes acceder a los elementos de un set mediante iteración o comprobando la pertenencia de un elemento.***"
      ]
    },
    {
      "cell_type": "code",
      "execution_count": null,
      "metadata": {
        "colab": {
          "base_uri": "https://localhost:8080/"
        },
        "id": "oCD7wJgdII5_",
        "outputId": "4ea9eaa8-c52b-482e-c8eb-a38ae0b560ca"
      },
      "outputs": [
        {
          "name": "stdout",
          "output_type": "stream",
          "text": [
            "1\n",
            "2\n",
            "3\n",
            "El elemento 1 está en el set\n"
          ]
        }
      ],
      "source": [
        "for element in my_set:\n",
        "    print(element)\n",
        "\n",
        "if 1 in my_set:\n",
        "    print(\"El elemento 1 está en el set\")"
      ]
    },
    {
      "cell_type": "markdown",
      "metadata": {
        "id": "Z-yCycWrIOsx"
      },
      "source": [
        "***Puedes agregar elementos a un set utilizando el método add() o update().***"
      ]
    },
    {
      "cell_type": "code",
      "execution_count": null,
      "metadata": {
        "id": "ntwCLCyoISvw"
      },
      "outputs": [],
      "source": [
        "my_set.add(4)\n",
        "\n",
        "my_set.update({5, 6, 7})"
      ]
    },
    {
      "cell_type": "markdown",
      "metadata": {
        "id": "o8LJYrk0IY_4"
      },
      "source": [
        "***Puedes eliminar elementos de un set utilizando los métodos remove(), discard() o pop().***"
      ]
    },
    {
      "cell_type": "code",
      "execution_count": null,
      "metadata": {
        "id": "uJ5WQMHUIecI"
      },
      "outputs": [],
      "source": [
        "my_set.remove(3)\n",
        "\n",
        "my_set.discard(2)\n",
        "\n",
        "popped_element = my_set.pop()"
      ]
    },
    {
      "cell_type": "markdown",
      "metadata": {
        "id": "O8ZSMReNIoQf"
      },
      "source": [
        "***Operador Slicing***: Los sets no admiten operaciones de slicing porque no tienen un orden específico. Intentar realizar slicing en un set generará un error."
      ]
    },
    {
      "cell_type": "markdown",
      "metadata": {
        "id": "SWpFCJbOI8vh"
      },
      "source": [
        "***Operaciones***: Los sets admiten operaciones como unión, intersección y diferencia."
      ]
    },
    {
      "cell_type": "code",
      "execution_count": null,
      "metadata": {
        "colab": {
          "base_uri": "https://localhost:8080/"
        },
        "id": "h5HUP6CJJFmJ",
        "outputId": "6df89610-cb53-4edc-fcd3-7d20777ab346"
      },
      "outputs": [
        {
          "name": "stdout",
          "output_type": "stream",
          "text": [
            "Unión: {1, 2, 3, 4, 5, 6}\n",
            "Intersección: {3, 4}\n",
            "Diferencia: {1, 2}\n"
          ]
        }
      ],
      "source": [
        "set1 = {1, 2, 3, 4}\n",
        "set2 = {3, 4, 5, 6}\n",
        "\n",
        "union_set = set1.union(set2)\n",
        "print(\"Unión:\", union_set)\n",
        "\n",
        "intersection_set = set1.intersection(set2)\n",
        "print(\"Intersección:\", intersection_set)\n",
        "\n",
        "difference_set = set1.difference(set2)\n",
        "print(\"Diferencia:\", difference_set)"
      ]
    },
    {
      "cell_type": "markdown",
      "metadata": {
        "id": "GFNDRFK9JJVo"
      },
      "source": [
        "***Índices***: Los sets no admiten el acceso mediante índices porque no están ordenados."
      ]
    }
  ],
  "metadata": {
    "colab": {
      "provenance": []
    },
    "kernelspec": {
      "display_name": "Python 3",
      "name": "python3"
    },
    "language_info": {
      "name": "python"
    }
  },
  "nbformat": 4,
  "nbformat_minor": 0
}
