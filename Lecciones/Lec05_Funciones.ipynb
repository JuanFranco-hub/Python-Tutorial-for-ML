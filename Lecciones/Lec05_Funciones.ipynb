{
  "cells": [
    {
      "cell_type": "markdown",
      "metadata": {},
      "source": [
        "<a href=\"https://colab.research.google.com/github/JuanFranco-hub/Python-Tutorial-for-ML/blob/main/Lecciones/Lec05_Funciones.ipynb\" target=\"_parent\"><img src=\"https://colab.research.google.com/assets/colab-badge.svg\" alt=\"Open In Colab\"/></a> "
      ]
    },
    {
      "cell_type": "markdown",
      "metadata": {
        "id": "JqxLlTiMa8W-"
      },
      "source": [
        "# ***FUNCIONES***\n",
        "\n",
        "Las funciones son bloques de código reutilizables en todo el código que realizan tareas específicas. Las funciones permiten dividir grandes códigos en pedazos mas pequeños. Esto es de gran utilidad, ya que, ademas de permitir separar grandes códigos en bloques de tareas mas pequeñas, permite tener un código organizado y manejable.\n",
        "\n",
        "----\n",
        "## Definición de funciones\n",
        "\n",
        "La sintaxis para definir una función es la siguiente:\n",
        "```\n",
        "def <nombre_de_funcion>(parametros)\n",
        "    <acciones de la función>\n",
        "```\n",
        "la palabra reservadad `def` es la que permite la definición de la función.\n",
        "\n",
        "Algunas ***recomendaciones*** para los nombres de las funciones son los siguientes:\n",
        "- Usar una palabra o palabras minúsculas separadas por barra baja.\n",
        "- El nombre debe estar relacionado a la instrucción que realiza la función."
      ]
    },
    {
      "cell_type": "code",
      "execution_count": null,
      "metadata": {
        "colab": {
          "base_uri": "https://localhost:8080/"
        },
        "id": "WMoGAzG8hMMF",
        "outputId": "945b3bdd-52f1-4498-e2d8-f5da0bb69be5"
      },
      "outputs": [
        {
          "name": "stdout",
          "output_type": "stream",
          "text": [
            "hello world\n"
          ]
        }
      ],
      "source": [
        "def hello():\n",
        "    print(\"hello world\")\n",
        "\n",
        "hello()"
      ]
    },
    {
      "cell_type": "markdown",
      "metadata": {
        "id": "lgeY5UPIhnnw"
      },
      "source": [
        "\n",
        "## Parametros\n",
        "Dentro del parentesis se encuentran los ***parametros*** de la función.\n",
        "\n",
        "Estos parametros son nombres que se utilizan para referirse a los valores que se utilizan dentro de la función y pueden ser de cualquier tipo de dato. Estos parametros pueden tener nombres distintos a los argumentos cuanto se llama a la función\n"
      ]
    },
    {
      "cell_type": "code",
      "execution_count": null,
      "metadata": {
        "colab": {
          "base_uri": "https://localhost:8080/"
        },
        "id": "aqCD5ujkiMZY",
        "outputId": "bad6c0b8-ebb9-4b4b-d6d7-e8b6f68a79d2"
      },
      "outputs": [
        {
          "name": "stdout",
          "output_type": "stream",
          "text": [
            "hello word\n"
          ]
        }
      ],
      "source": [
        "x = \"hello word\"\n",
        "\n",
        "def hello(a):\n",
        "    print(a)\n",
        "\n",
        "hello(x)"
      ]
    },
    {
      "cell_type": "markdown",
      "metadata": {
        "id": "dEQK4EOPh0v3"
      },
      "source": [
        "---\n",
        "\n",
        "## Argumentos\n",
        "\n",
        "Los argumentos son los valores que se envian a la función al momeno de ser llamada.\n",
        "\n",
        "Estos argumentos pueden ser de 3 tipos:\n",
        "- Argumentos posicionales: los argumentos mantienen un orden relacionado a los parametros de la función, es decir, el primer argumento correspondera al primer parametro."
      ]
    },
    {
      "cell_type": "code",
      "execution_count": null,
      "metadata": {
        "colab": {
          "base_uri": "https://localhost:8080/"
        },
        "id": "VaI4ZKHrkLbS",
        "outputId": "c4292139-9965-497a-e616-30d5c7909f14"
      },
      "outputs": [
        {
          "name": "stdout",
          "output_type": "stream",
          "text": [
            "15\n"
          ]
        }
      ],
      "source": [
        "def multiplicar(num1, num2):\n",
        "    return num1 * num2\n",
        "\n",
        "numero1 = 5\n",
        "numero2 = 3\n",
        "resultado = multiplicar(numero1, numero2) #El numero1 correspondera al parametro num1\n",
        "\n",
        "print(resultado)"
      ]
    },
    {
      "cell_type": "markdown",
      "metadata": {
        "id": "P5ZT9fA4kz3u"
      },
      "source": [
        "- Argumentos por palabras clave:\n",
        "Estos argumentos pasan a la función identificandolos con su nombre, por lo que no importa el orden."
      ]
    },
    {
      "cell_type": "code",
      "execution_count": null,
      "metadata": {
        "colab": {
          "base_uri": "https://localhost:8080/"
        },
        "id": "YGnG_h61mUra",
        "outputId": "8df014d7-f384-426a-abae-767d5eef88a6"
      },
      "outputs": [
        {
          "name": "stdout",
          "output_type": "stream",
          "text": [
            "Ameth Valdespino\n"
          ]
        }
      ],
      "source": [
        "def nombre_apellido(nombre, apellido):\n",
        "    print(nombre, apellido)\n",
        "\n",
        "nombre_apellido(apellido=\"Franco\",nombre=\"Juan\")"
      ]
    },
    {
      "cell_type": "markdown",
      "metadata": {
        "id": "vp5qI21DoAPr"
      },
      "source": [
        "-  Argumentos por defecto: Alguno de los parametros tiene un valor predeterminado."
      ]
    },
    {
      "cell_type": "code",
      "execution_count": null,
      "metadata": {
        "colab": {
          "base_uri": "https://localhost:8080/"
        },
        "id": "4gMXWmzsoNiT",
        "outputId": "25c22eed-7f13-4cbd-9b8b-e3da52321b16"
      },
      "outputs": [
        {
          "name": "stdout",
          "output_type": "stream",
          "text": [
            "8\n"
          ]
        }
      ],
      "source": [
        "def mult(x, y=2):\n",
        "    result = x*y\n",
        "    print(result)\n",
        "\n",
        "mult(4)"
      ]
    },
    {
      "cell_type": "markdown",
      "metadata": {
        "id": "fFxKHcpqoz1R"
      },
      "source": [
        "---\n",
        "## Namespace\n",
        "El namespace  es un sistema que asigna un nombre único a cada objeto. En funciones se refiere en si las variables que se utilizan en las función estan definidas dentro o fuera de ellas. Si estas variables estan fuera de la función, seran globales, si no, seran locales. Cuando son locales solo existiran en la función."
      ]
    },
    {
      "cell_type": "code",
      "execution_count": null,
      "metadata": {
        "colab": {
          "base_uri": "https://localhost:8080/"
        },
        "id": "n6PlbIvxqTtk",
        "outputId": "6e1d25ca-a3e8-4d55-a780-bc31181d9f4a"
      },
      "outputs": [
        {
          "name": "stdout",
          "output_type": "stream",
          "text": [
            "El valor de count es: 1\n"
          ]
        }
      ],
      "source": [
        "count = 0 #Namespace Global\n",
        "\n",
        "def increment_count():\n",
        "    global count\n",
        "    count += 1\n",
        "\n",
        "increment_count()\n",
        "print(f\"El valor de count es: {count}\")"
      ]
    },
    {
      "cell_type": "code",
      "execution_count": 4,
      "metadata": {
        "colab": {
          "base_uri": "https://localhost:8080/"
        },
        "id": "G0fW63SIqTZr",
        "outputId": "156e6a7d-49f6-46d9-ea78-cf1ed1c66d28"
      },
      "outputs": [
        {
          "name": "stdout",
          "output_type": "stream",
          "text": [
            "Hola, Alice!\n"
          ]
        }
      ],
      "source": [
        "def greet(name): # namespace local\n",
        "    greeting = f\"Hola, {name}!\"\n",
        "    print(greeting)\n",
        "\n",
        "greet(\"Alice\")"
      ]
    },
    {
      "cell_type": "markdown",
      "metadata": {
        "id": "HYMFcOI3qyvL"
      },
      "source": [
        "----\n",
        "## Ámbito o scope\n",
        "\n",
        "El scope en Python se refiere a la región del código en la que una variable es accesible. Hay tres tipos principales de ámbito en Python:\n",
        "\n",
        "- Ámbito Local: Las variables definidas dentro de una función tienen un ámbito local. Solo son accesibles dentro de esa función."
      ]
    },
    {
      "cell_type": "code",
      "execution_count": null,
      "metadata": {
        "colab": {
          "base_uri": "https://localhost:8080/"
        },
        "id": "Aanq-dFkrQcF",
        "outputId": "5f643430-8c12-4c40-fecc-d0205e31ec8c"
      },
      "outputs": [
        {
          "name": "stdout",
          "output_type": "stream",
          "text": [
            "13\n"
          ]
        }
      ],
      "source": [
        "def suma(a, b):\n",
        "    resultado = a + b\n",
        "    return resultado\n",
        "\n",
        "print(suma(4, 9))"
      ]
    },
    {
      "cell_type": "markdown",
      "metadata": {
        "id": "6BQQNT6crKMM"
      },
      "source": [
        "- Ámbito Global: Las variables definidas fuera de todas las funciones tienen un ámbito global. Son accesibles en todo el programa."
      ]
    },
    {
      "cell_type": "code",
      "execution_count": null,
      "metadata": {
        "colab": {
          "base_uri": "https://localhost:8080/"
        },
        "id": "oFIUyB4OrQ38",
        "outputId": "7af8fa5a-637d-4e2e-b1fa-59b798db5565"
      },
      "outputs": [
        {
          "name": "stdout",
          "output_type": "stream",
          "text": [
            "Contador: 1\n"
          ]
        }
      ],
      "source": [
        "count = 0\n",
        "\n",
        "def incrementa_contador():\n",
        "    global count\n",
        "    count += 1\n",
        "\n",
        "incrementa_contador()\n",
        "print(f\"Contador: {count}\")"
      ]
    },
    {
      "cell_type": "markdown",
      "metadata": {
        "id": "YVxveKKnrKkc"
      },
      "source": [
        "- Ámbito Nonlocal: Se refiere al ámbito de una función que contiene otra función. Las variables no locales son aquellas que se definen en la función exterior y se utilizan en la función interior."
      ]
    },
    {
      "cell_type": "code",
      "execution_count": 3,
      "metadata": {
        "colab": {
          "base_uri": "https://localhost:8080/"
        },
        "id": "5Rs7O3NLrRa-",
        "outputId": "7b92d7fe-e33a-42e5-8ee8-43c4d9f05231"
      },
      "outputs": [
        {
          "name": "stdout",
          "output_type": "stream",
          "text": [
            "Valor de x en interior: 15\n",
            "Valor de x en exterior: 15\n"
          ]
        }
      ],
      "source": [
        "def exterior():\n",
        "    x = 10\n",
        "\n",
        "    def interior():\n",
        "        nonlocal x\n",
        "        x += 5\n",
        "        print(f\"Valor de x en interior: {x}\")\n",
        "\n",
        "    interior()\n",
        "    print(f\"Valor de x en exterior: {x}\")\n",
        "\n",
        "exterior()"
      ]
    },
    {
      "cell_type": "markdown",
      "metadata": {
        "id": "YVyGPKJOrqBE"
      },
      "source": [
        "---\n",
        "## Funciones locales\n",
        "\n",
        "Las funciones locales son aquellas definidas dentro de otras funciones. Se utilizan para evitar repetición lógica"
      ]
    },
    {
      "cell_type": "code",
      "execution_count": null,
      "metadata": {
        "colab": {
          "base_uri": "https://localhost:8080/"
        },
        "id": "K4qxmc_Utwos",
        "outputId": "eea2ebde-b831-4cdc-eccb-3e01e4bb664f"
      },
      "outputs": [
        {
          "name": "stdout",
          "output_type": "stream",
          "text": [
            "El promedio es: 20.0\n"
          ]
        }
      ],
      "source": [
        "def calcular_promedio(lista):\n",
        "    def suma_elementos():\n",
        "        return sum(lista)\n",
        "    def contar_elementos():\n",
        "        return len(lista)\n",
        "    return suma_elementos() / contar_elementos()\n",
        "\n",
        "valores = [10, 20, 30]\n",
        "promedio = calcular_promedio(valores)\n",
        "print(f\"El promedio es: {promedio}\")"
      ]
    },
    {
      "cell_type": "markdown",
      "metadata": {
        "id": "oy6JFBzHuLbE"
      },
      "source": [
        "## Funciones que retornan múltiples valores:\n",
        "\n",
        "Pueden devolver varios valores  utilizando tuplas, listas o diccionarios."
      ]
    },
    {
      "cell_type": "code",
      "execution_count": 2,
      "metadata": {
        "colab": {
          "base_uri": "https://localhost:8080/"
        },
        "id": "RVHmp77CufUl",
        "outputId": "bf1c1648-268a-421c-bb73-8dd2b777d95d"
      },
      "outputs": [
        {
          "name": "stdout",
          "output_type": "stream",
          "text": [
            "Latitud: 50.7148, Longitud: -51.024\n"
          ]
        }
      ],
      "source": [
        "def obtener_coordenadas():\n",
        "    latitud = 50.7148\n",
        "    longitud = -51.0240\n",
        "    return latitud, longitud\n",
        "\n",
        "lat, lon = obtener_coordenadas()\n",
        "print(f\"Latitud: {lat}, Longitud: {lon}\")"
      ]
    },
    {
      "cell_type": "markdown",
      "metadata": {
        "id": "cXhw1X4qLLxY"
      },
      "source": [
        "### Funciones Recursivas\n",
        "\n",
        "Son funciones que se llaman a sí mismas dentro de su propia definición. Son útiles para resolver problemas que pueden descomponerse en casos más pequeños del mismo problema"
      ]
    },
    {
      "cell_type": "code",
      "execution_count": 1,
      "metadata": {
        "colab": {
          "base_uri": "https://localhost:8080/"
        },
        "id": "ixWs5ZsZLHhE",
        "outputId": "0c809df6-a371-40ea-cc1f-88d5fc1242f2"
      },
      "outputs": [
        {
          "name": "stdout",
          "output_type": "stream",
          "text": [
            "120\n"
          ]
        }
      ],
      "source": [
        "def factorial(n):\n",
        "    if n == 0:\n",
        "        return 1\n",
        "    else:\n",
        "        return n * factorial(n - 1)\n",
        "\n",
        "# Llamada a la función factorial\n",
        "resultado = factorial(5)\n",
        "print(resultado)"
      ]
    },
    {
      "cell_type": "markdown",
      "metadata": {
        "id": "OvjxoaM4twEy"
      },
      "source": [
        "## Funciones dentro de funciones (anidadas)\n",
        "\n",
        "Las funciones que contienen otras funciones y permiten tener procesos dividos en subpartes."
      ]
    },
    {
      "cell_type": "code",
      "execution_count": null,
      "metadata": {
        "colab": {
          "base_uri": "https://localhost:8080/"
        },
        "id": "Lfan8yuBum1M",
        "outputId": "bcb2d074-8ab0-4097-8665-f629c3184fd0"
      },
      "outputs": [
        {
          "name": "stdout",
          "output_type": "stream",
          "text": [
            "Impuesto total: 8.0\n"
          ]
        }
      ],
      "source": [
        "def calcular_impuesto(total):\n",
        "    def tasa_estatal():\n",
        "        return total * 0.07\n",
        "    def tasa_local():\n",
        "        return total * 0.01\n",
        "    return tasa_estatal() + tasa_local()\n",
        "\n",
        "total_compra = 100\n",
        "impuesto_total = calcular_impuesto(total_compra)\n",
        "print(f\"Impuesto total: {impuesto_total}\")"
      ]
    },
    {
      "cell_type": "markdown",
      "metadata": {
        "id": "phKYi8HfvDkV"
      },
      "source": [
        "## Funciones Lambda\n",
        "\n",
        "Las funciones lambda son funciones anónimas de una sola línea generalmente usadas para realizar operaciones simples y concisas.\n",
        "\n"
      ]
    },
    {
      "cell_type": "code",
      "execution_count": null,
      "metadata": {
        "colab": {
          "base_uri": "https://localhost:8080/"
        },
        "id": "SiTIYcXvvXCm",
        "outputId": "b38916f7-d520-4806-8044-fda1b5621266"
      },
      "outputs": [
        {
          "name": "stdout",
          "output_type": "stream",
          "text": [
            "El cuadrado de 5 es: 25\n"
          ]
        }
      ],
      "source": [
        "cuadrado = lambda x: x ** 2\n",
        "resultado = cuadrado(5)\n",
        "print(f\"El cuadrado de 5 es: {resultado}\")"
      ]
    },
    {
      "cell_type": "markdown",
      "metadata": {
        "id": "FweLfN6MvqJn"
      },
      "source": [
        "## Manejo de errores:\n",
        "\n",
        "El manejo de errores se refiere a tomar en cuenta las diferentes posibilidades en que un código puede generar un error. Esto puede ocurrir tanto fuera como dentro de funciones, por ejemplo, en una operación matemática no definida. Una herramienta muy útil para estos casos son las palabras reservadas `try` y `except`"
      ]
    },
    {
      "cell_type": "code",
      "execution_count": null,
      "metadata": {
        "colab": {
          "base_uri": "https://localhost:8080/"
        },
        "id": "eJS0dA4vwDBD",
        "outputId": "ba1a6526-87d0-4280-dd8c-aa700c85e03b"
      },
      "outputs": [
        {
          "name": "stdout",
          "output_type": "stream",
          "text": [
            "No se puede dividir entre cero\n",
            "Resultado de la división: None\n"
          ]
        }
      ],
      "source": [
        "def dividir(a, b):\n",
        "    try:\n",
        "        resultado = a / b\n",
        "    except ZeroDivisionError:\n",
        "        print(\"No se puede dividir entre cero\")\n",
        "        resultado = None\n",
        "    return resultado\n",
        "\n",
        "numerador = 10\n",
        "denominador = 0\n",
        "resultado_division = dividir(numerador, denominador)\n",
        "print(f\"Resultado de la división: {resultado_division}\")"
      ]
    },
    {
      "cell_type": "markdown",
      "metadata": {
        "id": "0Wl6OHfbwp0l"
      },
      "source": [
        "## Conclusion\n",
        "\n",
        "Las funciones son herramientas primordiales que brindan orden y control de los códigos que estemos realizando. Son sencillas de usar y permiten la divión en partes de nuestro código para trabajarlo con mayor flexibilidad.\n",
        "\n",
        "`Suerte!!`"
      ]
    }
  ],
  "metadata": {
    "colab": {
      "provenance": [],
      "toc_visible": true
    },
    "kernelspec": {
      "display_name": "Python 3",
      "name": "python3"
    },
    "language_info": {
      "name": "python"
    }
  },
  "nbformat": 4,
  "nbformat_minor": 0
}
