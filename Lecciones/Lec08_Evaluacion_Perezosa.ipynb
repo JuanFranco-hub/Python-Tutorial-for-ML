{
  "cells": [
    {
      "cell_type": "markdown",
      "metadata": {},
      "source": [
        "<a href=\"https://colab.research.google.com/github/JuanFranco-hub/Python-Tutorial-for-ML/blob/main/Lecciones/Lec08_Evaluacion_Perezosa.ipynb\" target=\"_parent\"><img src=\"https://colab.research.google.com/assets/colab-badge.svg\" alt=\"Open In Colab\"/></a> "
      ]
    },
    {
      "cell_type": "markdown",
      "metadata": {
        "id": "sz5-tM9UWL7V"
      },
      "source": [
        "# ***Evaluación perezosa***\n",
        "\n",
        "La evaluación perezosa es una estrategia de programación que busca aumentar la eficiencia de un código y reducir su consumo en procesamiento y memoria.\n",
        "Esta estrategia consiste en posponer el cálculo de alguna expresión o funcion hasta que su valor sea estrictamente necesario, es decir, pospone el calculo de alguna parte del código para que solo se ejecute si es requerido.\n",
        "Esta estrategia es muy util ya que permite aumentar el rendimiendo y generar un menor consumo de memoria."
      ]
    },
    {
      "cell_type": "markdown",
      "metadata": {},
      "source": [
        "## **Generadores en Python**\n",
        "\n",
        "Los generadores en python realizan la tarea de aplicar una evaluación perezosa en tareas repetitivas, generando uno por uno los valores necesarios."
      ]
    },
    {
      "cell_type": "markdown",
      "metadata": {},
      "source": [
        "### *Generador de creación*\n",
        "Estos generadores son funciones que utilizan la palabra clase *Yield*, utilizar esta palabra clave produce que el generador denuelva cada valor solo cuando es requerido, envitando un consumo innecesario de memoria. Cuando se llama la funcion, no ejecuta su código inmediatamente. En su lugar, devuelve un objeto generador, que se puede iterar para producir valores de uno en uno."
      ]
    },
    {
      "cell_type": "code",
      "execution_count": null,
      "metadata": {
        "colab": {
          "base_uri": "https://localhost:8080/"
        },
        "id": "C0Bgm0-DWE0U",
        "outputId": "99fe58c7-77ec-44bf-af79-c60c5a2f1658"
      },
      "outputs": [
        {
          "name": "stdout",
          "output_type": "stream",
          "text": [
            "5\n",
            "4\n",
            "3\n",
            "2\n",
            "1\n"
          ]
        }
      ],
      "source": [
        "def countdown(n):\n",
        "    while n > 0:\n",
        "        yield n\n",
        "        n -= 1\n",
        "\n",
        "counter = countdown(5)\n",
        "for num in counter:\n",
        "    print(num)"
      ]
    },
    {
      "cell_type": "markdown",
      "metadata": {
        "id": "YnrxYWVQdN0Q"
      },
      "source": [
        "### *Expresiones generadoras*\n",
        "Estas expresiones son son similares a las comprensiones de listas, pero producen valores de forma perezosa.La comprensión de listas crea una lista completa en la memoria, mientras que la expresión generadora genera valores según sea necesario. En los siguientes códigos se puede ver la diferencia en el uso de memoria."
      ]
    },
    {
      "cell_type": "code",
      "execution_count": null,
      "metadata": {
        "colab": {
          "base_uri": "https://localhost:8080/"
        },
        "id": "ibOYw2L-eJEa",
        "outputId": "828a99b9-2562-469a-fbcc-c978099cbfee"
      },
      "outputs": [
        {
          "data": {
            "text/plain": [
              "8448728"
            ]
          },
          "execution_count": 12,
          "metadata": {},
          "output_type": "execute_result"
        }
      ],
      "source": [
        "import sys\n",
        "# List comprehension\n",
        "squared_list = [x ** 2 for x in range(1, 1000000)]\n",
        "sys.getsizeof(squared_list)\n"
      ]
    },
    {
      "cell_type": "code",
      "execution_count": null,
      "metadata": {
        "colab": {
          "base_uri": "https://localhost:8080/"
        },
        "id": "aCPJVMo8ener",
        "outputId": "d5605093-1e39-44d8-ae97-5ce06e951250"
      },
      "outputs": [
        {
          "data": {
            "text/plain": [
              "104"
            ]
          },
          "execution_count": 11,
          "metadata": {},
          "output_type": "execute_result"
        }
      ],
      "source": [
        "import sys\n",
        "# Generator expression\n",
        "squared_generator = (x ** 2 for x in range(1, 1000000))\n",
        "sys.getsizeof(squared_generator)"
      ]
    },
    {
      "cell_type": "markdown",
      "metadata": {
        "id": "1PSsMcNDfBV6"
      },
      "source": [
        "### *Secuencias infinitas Eficientes*\n",
        "\n",
        "Las secuencias infitinas suelen utilizar muchos recursos de memorias, lo que puede ser un problema en un codigo muy exigente. Los generadores permiten evitar estos problemas utilizando la palabra clave *yield*\n",
        "\n",
        "Un ejemplo de esto es el siguiente generador de la serie de Fibonacci\n",
        "\n"
      ]
    },
    {
      "cell_type": "code",
      "execution_count": null,
      "metadata": {
        "colab": {
          "base_uri": "https://localhost:8080/"
        },
        "id": "mtfMVZ78j7-7",
        "outputId": "07c1dd04-febb-446e-cced-1a0e783dc58b"
      },
      "outputs": [
        {
          "name": "stdout",
          "output_type": "stream",
          "text": [
            "0\n",
            "1\n",
            "1\n",
            "2\n",
            "3\n",
            "5\n",
            "8\n",
            "13\n",
            "21\n",
            "34\n"
          ]
        }
      ],
      "source": [
        "def fibonacci_generator():\n",
        "    a, b = 0, 1\n",
        "    while True:\n",
        "        yield a\n",
        "        a, b = b, a + b\n",
        "\n",
        "fib_sequence = fibonacci_generator()\n",
        "for _ in range(10):\n",
        "    print(next(fib_sequence))"
      ]
    },
    {
      "cell_type": "markdown",
      "metadata": {
        "id": "ruZCGmo8mFhT"
      },
      "source": [
        "### *Pipelining generator*\n",
        "\n",
        "Los generadores de canalización o pipeling en Python se refieren al proceso de encadenar varios generadores para crear una secuencia de pasos de procesamiento de datos. Esto permite un código eficiente y modular, ya que cada generador puede realizar una tarea específica y pasar los datos procesados al siguiente generador en la tubería.\n",
        "\n",
        "En este ejemplo, tenemos tres generadores: **numbers()**, **square()** y **filter_even()**. El generador **numbers()** produce números del 1 al 5. El generador **square()** toma una secuencia de números y produce sus cuadrados. El generador **filter_even()** filtra los números pares de la secuencia.\n",
        "\n",
        "Para crear la tubería, encadenamos los generadores pasando la salida de un generador como entrada al siguiente generador. En este caso, pasamos la salida de **numbers()** a **square()**, y luego pasamos la salida de **square()** a **filter_even()**."
      ]
    },
    {
      "cell_type": "code",
      "execution_count": null,
      "metadata": {
        "colab": {
          "base_uri": "https://localhost:8080/"
        },
        "id": "yt3iOBU-kGDE",
        "outputId": "87e0cdcf-cf01-48a0-f09c-7fb0a35c1bf3"
      },
      "outputs": [
        {
          "name": "stdout",
          "output_type": "stream",
          "text": [
            "4\n",
            "16\n"
          ]
        }
      ],
      "source": [
        "def numbers():\n",
        "    for i in range(1, 6):\n",
        "        yield i\n",
        "def square(nums):\n",
        "    for num in nums:\n",
        "        yield num ** 2\n",
        "def filter_even(nums):\n",
        "    for num in nums:\n",
        "        if num % 2 == 0:\n",
        "            yield num\n",
        "# Create a pipeline by chaining the generators\n",
        "pipeline = filter_even(square(numbers()))\n",
        "# Iterate over the pipeline and print the output\n",
        "for num in pipeline:\n",
        "    print(num)"
      ]
    },
    {
      "cell_type": "markdown",
      "metadata": {
        "id": "CT5JroGWnEgC"
      },
      "source": [
        "## **Conclusión**\n",
        "Como podemos ver, los generadores de código que utilizan la evaluación perezosa son de gran ayuda para mejor la eficiencia y el uso de memoria de nuestros códigos, ayudandonos a mejorar el tiempo de procesamiento y las capacidades generales de nuestros proyectos."
      ]
    }
  ],
  "metadata": {
    "colab": {
      "provenance": []
    },
    "kernelspec": {
      "display_name": "Python 3",
      "name": "python3"
    },
    "language_info": {
      "name": "python"
    }
  },
  "nbformat": 4,
  "nbformat_minor": 0
}
