{
  "cells": [
    {
      "cell_type": "markdown",
      "metadata": {},
      "source": [
        "<a href=\"https://colab.research.google.com/github/JuanFranco-hub/Python-Tutorial-for-ML/blob/main/Lecciones/Lec07_Comprensiones.ipynb\" target=\"_parent\"><img src=\"https://colab.research.google.com/assets/colab-badge.svg\" alt=\"Open In Colab\"/></a> "
      ]
    },
    {
      "cell_type": "markdown",
      "metadata": {
        "id": "TgM-NBRfuHg4"
      },
      "source": [
        "# **Compresiones**\n",
        "\n",
        "Las comprensiones en Python son una manera concisa y elegante de crear listas, sets y diccionarios a partir de secuencias o colecciones. Permiten escribir bucles for y condicionales de manera más compacta, haciendo que el código sea más legible y fácil de entender. Son especialmente útiles cuando se desea transformar, filtrar o mapear datos de una colección a otra.\n",
        "\n",
        "## compresiones de listas\n",
        "\n",
        "Una comprensión de listas es una forma de construir una nueva lista aplicando una expresión a cada elemento de una secuencia, como una lista, tupla o rango, opcionalmente filtrando elementos con una condición.\n",
        "\n",
        "su sintaxis es: `[nueva_elemento for elemento in secuencia if condición]`\n"
      ]
    },
    {
      "cell_type": "code",
      "execution_count": null,
      "metadata": {
        "colab": {
          "base_uri": "https://localhost:8080/"
        },
        "id": "ApuK_i7kwoAn",
        "outputId": "9fdd140f-6868-43a2-952b-3eae1343b6b3"
      },
      "outputs": [
        {
          "name": "stdout",
          "output_type": "stream",
          "text": [
            "[0, 2, 4, 6, 8]\n"
          ]
        }
      ],
      "source": [
        "#ejemplo de una comresión de listas\n",
        "nueva_lista = [x * 2 for x in range(5)]\n",
        "print(nueva_lista)"
      ]
    },
    {
      "cell_type": "code",
      "execution_count": null,
      "metadata": {
        "colab": {
          "base_uri": "https://localhost:8080/"
        },
        "id": "6w3jq0pZw3Yl",
        "outputId": "acc2049e-753b-4378-e755-cb5c7d5bb61d"
      },
      "outputs": [
        {
          "name": "stdout",
          "output_type": "stream",
          "text": [
            "[0, 2, 4, 6, 8]\n"
          ]
        }
      ],
      "source": [
        "#equivalente en ciclo for\n",
        "\n",
        "nueva_lista = []\n",
        "for x in range(5):\n",
        "    nueva_lista.append(x * 2)\n",
        "print(nueva_lista)\n"
      ]
    },
    {
      "cell_type": "markdown",
      "metadata": {
        "id": "cmm_ubcbxIFH"
      },
      "source": [
        "Un ejemplos de de estas puede ser supoer que tenemos una lista  de temperaturas en grados Celsius y deseas convertirlas a Fahrenheit"
      ]
    },
    {
      "cell_type": "code",
      "execution_count": null,
      "metadata": {
        "colab": {
          "base_uri": "https://localhost:8080/"
        },
        "id": "R_hK7ea-xbCW",
        "outputId": "c7ec2db8-7b71-4d0d-d6ec-3a2e5af08d92"
      },
      "outputs": [
        {
          "name": "stdout",
          "output_type": "stream",
          "text": [
            "[32.0, 50.0, 68.0, 86.0]\n"
          ]
        }
      ],
      "source": [
        "celsius = [0, 10, 20, 30]\n",
        "fahrenheit = [((9/5) * temp + 32) for temp in celsius]\n",
        "print(fahrenheit)"
      ]
    },
    {
      "cell_type": "markdown",
      "metadata": {
        "id": "YZoOGj-qxoIT"
      },
      "source": [
        "### compresiones anidas en listas\n",
        "\n",
        "Las comprensiones de listas pueden anidarse para trabajar con listas de listas. ejemplo:\n"
      ]
    },
    {
      "cell_type": "code",
      "execution_count": 2,
      "metadata": {
        "colab": {
          "base_uri": "https://localhost:8080/"
        },
        "id": "Ug_GN8tZyC2L",
        "outputId": "a217bb10-833d-4af1-f0d2-a33c31abc255"
      },
      "outputs": [
        {
          "name": "stdout",
          "output_type": "stream",
          "text": [
            "[[0, 0, 0], [0, 1, 2], [0, 2, 4]]\n"
          ]
        }
      ],
      "source": [
        "# Crear una lista anidada con el producto de fila y columna\n",
        "matriz_producto = [[fila * columna for columna in range(3)] for fila in range(3)]\n",
        "print(matriz_producto)"
      ]
    },
    {
      "cell_type": "markdown",
      "metadata": {
        "id": "qn7-LQXeyhrA"
      },
      "source": [
        "## Compresiones de sets\n",
        "\n",
        "Una comprensión de sets funciona de manera similar a la de listas, pero genera un set, que es una colección no ordenada y sin elementos duplicados.\n",
        "\n",
        "su sintaxis es: `{nueva_elemento for elemento in secuencia if condición}`\n",
        "\n"
      ]
    },
    {
      "cell_type": "code",
      "execution_count": null,
      "metadata": {
        "colab": {
          "base_uri": "https://localhost:8080/"
        },
        "id": "rDEgHdmd0i-0",
        "outputId": "9a45a844-9424-473a-99d7-0f053a1dc4ef"
      },
      "outputs": [
        {
          "name": "stdout",
          "output_type": "stream",
          "text": [
            "{0, 1, 64, 4, 36, 9, 16, 49, 81, 25}\n"
          ]
        }
      ],
      "source": [
        "# comprensión de sets\n",
        "nuevos_numeros = {x ** 2 for x in range(10)}\n",
        "print(nuevos_numeros)"
      ]
    },
    {
      "cell_type": "code",
      "execution_count": null,
      "metadata": {
        "colab": {
          "base_uri": "https://localhost:8080/"
        },
        "id": "rRylLhEC1E-C",
        "outputId": "2502568f-f3e4-4a37-f864-4d1ab34c1f17"
      },
      "outputs": [
        {
          "name": "stdout",
          "output_type": "stream",
          "text": [
            "{0, 1, 64, 4, 36, 9, 16, 49, 81, 25}\n"
          ]
        }
      ],
      "source": [
        "#equivalente en ciclo for\n",
        "nuevos_numeros = set()\n",
        "for x in range(10):\n",
        "    nuevos_numeros.add(x ** 2)\n",
        "print(nuevos_numeros)"
      ]
    },
    {
      "cell_type": "markdown",
      "metadata": {
        "id": "YWlk1rCN1csF"
      },
      "source": [
        "Como ejemplo de usao imaginemos que tenemos una lista de palabras y deseas encontrar el conjunto de longitudes únicas de esas palabras"
      ]
    },
    {
      "cell_type": "code",
      "execution_count": null,
      "metadata": {
        "colab": {
          "base_uri": "https://localhost:8080/"
        },
        "id": "L3PfwjD51nfr",
        "outputId": "529bd181-5478-4f4f-d0cf-f7a81bf9a425"
      },
      "outputs": [
        {
          "name": "stdout",
          "output_type": "stream",
          "text": [
            "{1, 3, 4, 6, 10}\n"
          ]
        }
      ],
      "source": [
        "palabras = [\"python\", \"java\", \"c\", \"javascript\", \"c++\"]\n",
        "longitudes = {len(palabra) for palabra in palabras}\n",
        "print(longitudes)\n"
      ]
    },
    {
      "cell_type": "markdown",
      "metadata": {
        "id": "4-CLEh8b1zFN"
      },
      "source": [
        "### Compresiones anidadas en sets\n",
        "\n",
        "Las comprensiones de sets también pueden anidarse, aunque es menos común. Ejemplo:\n"
      ]
    },
    {
      "cell_type": "code",
      "execution_count": null,
      "metadata": {
        "colab": {
          "base_uri": "https://localhost:8080/"
        },
        "id": "aEgnPP3y2RI5",
        "outputId": "fecf42d2-5de2-46fb-ca67-0fbf2d760cc5"
      },
      "outputs": [
        {
          "name": "stdout",
          "output_type": "stream",
          "text": [
            "{1, 2, 3, 4, 5, 6, 7, 8, 9}\n"
          ]
        }
      ],
      "source": [
        "set_matriz = [{1, 2, 3}, {4, 5, 6}, {7, 8, 9}]\n",
        "aplanado_set = {num for subconjunto in set_matriz for num in subconjunto}\n",
        "print(aplanado_set)\n"
      ]
    },
    {
      "cell_type": "markdown",
      "metadata": {
        "id": "Td-xGThN3MG5"
      },
      "source": [
        "## Compresiones de diccionarios\n",
        "\n",
        "Una comprensión de diccionarios permite crear un nuevo diccionario generando pares clave-valor a partir de una secuencia\n",
        "\n",
        "Su sintaxis es: `{clave: valor for elemento in secuencia if condición}`\n"
      ]
    },
    {
      "cell_type": "code",
      "execution_count": null,
      "metadata": {
        "colab": {
          "base_uri": "https://localhost:8080/"
        },
        "id": "u-r0vdpY3lw1",
        "outputId": "4b411814-adab-40b2-f82a-d72244075ab0"
      },
      "outputs": [
        {
          "name": "stdout",
          "output_type": "stream",
          "text": [
            "{0: 0, 1: 1, 2: 4, 3: 9, 4: 16}\n"
          ]
        }
      ],
      "source": [
        "#comprensión de diccionarios\n",
        "cuadrados = {x: x**2 for x in range(5)}\n",
        "print(cuadrados)"
      ]
    },
    {
      "cell_type": "code",
      "execution_count": null,
      "metadata": {
        "colab": {
          "base_uri": "https://localhost:8080/"
        },
        "id": "KN-QnqZX3txc",
        "outputId": "7355e031-669c-408f-efe8-3dbfcce90b04"
      },
      "outputs": [
        {
          "name": "stdout",
          "output_type": "stream",
          "text": [
            "{0: 0, 1: 1, 2: 4, 3: 9, 4: 16}\n"
          ]
        }
      ],
      "source": [
        "#equivalente en ciclo for\n",
        "numeros_cuadrados = {}\n",
        "for x in range(5):\n",
        "    numeros_cuadrados[x] = x ** 2\n",
        "print(numeros_cuadrados)"
      ]
    },
    {
      "cell_type": "markdown",
      "metadata": {
        "id": "qogQBmg64Kfc"
      },
      "source": [
        "Un ejemplo de usa sería suponer que tenemos una lista de frutas y sus precios, y deseas crear un diccionario con ellos"
      ]
    },
    {
      "cell_type": "code",
      "execution_count": null,
      "metadata": {
        "colab": {
          "base_uri": "https://localhost:8080/"
        },
        "id": "7M1X_MLQ4LnO",
        "outputId": "a45b824a-7518-4877-f86e-0750bcbbde41"
      },
      "outputs": [
        {
          "name": "stdout",
          "output_type": "stream",
          "text": [
            "{'manzana': 0.5, 'banana': 0.25, 'cereza': 0.75}\n"
          ]
        }
      ],
      "source": [
        "frutas = [\"manzana\", \"banana\", \"cereza\"]\n",
        "precios = [0.5, 0.25, 0.75]\n",
        "diccionario_frutas = {fruta: precio for fruta, precio in zip(frutas, precios)}\n",
        "print(diccionario_frutas)\n"
      ]
    },
    {
      "cell_type": "markdown",
      "metadata": {
        "id": "TZHmrNsX4Y4H"
      },
      "source": [
        "## Compresiones anidadas en diccionarios\n",
        "\n",
        "Las comprensiones de diccionarios también pueden anidarse para crear diccionarios más complejos. Ejemplo:"
      ]
    },
    {
      "cell_type": "code",
      "execution_count": null,
      "metadata": {
        "colab": {
          "base_uri": "https://localhost:8080/"
        },
        "id": "fJlsNdWn4sjq",
        "outputId": "0e58806f-1b1a-4948-a874-b0fb9cebf111"
      },
      "outputs": [
        {
          "name": "stdout",
          "output_type": "stream",
          "text": [
            "{0: {'cuadrado': 0, 'cubo': 0}, 1: {'cuadrado': 1, 'cubo': 1}, 2: {'cuadrado': 4, 'cubo': 8}}\n"
          ]
        }
      ],
      "source": [
        "numeros = range(3)\n",
        "diccionario_complejo = {x: {\"cuadrado\": x**2, \"cubo\": x**3} for x in numeros}\n",
        "print(diccionario_complejo)\n"
      ]
    },
    {
      "cell_type": "markdown",
      "metadata": {
        "id": "uFf8-R5C44Hl"
      },
      "source": [
        "## Conclusión\n",
        "\n",
        "Las compresiones son uno de los recursos mas simples y elegantes que existen en python, nos ayuda a escribir código mas limplio y eficiente."
      ]
    }
  ],
  "metadata": {
    "colab": {
      "provenance": []
    },
    "kernelspec": {
      "display_name": "Python 3",
      "name": "python3"
    },
    "language_info": {
      "name": "python"
    }
  },
  "nbformat": 4,
  "nbformat_minor": 0
}
