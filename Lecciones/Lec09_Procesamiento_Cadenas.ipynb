{
  "cells": [
    {
      "cell_type": "markdown",
      "metadata": {},
      "source": [
        "<a href=\"https://colab.research.google.com/github/JuanFranco-hub/Python-Tutorial-for-ML/blob/main/Lecciones/Lec09_Procesamiento_Cadenas.ipynb\" target=\"_parent\"><img src=\"https://colab.research.google.com/assets/colab-badge.svg\" alt=\"Open In Colab\"/></a> "
      ]
    },
    {
      "cell_type": "markdown",
      "metadata": {
        "id": "raYupgxKECao"
      },
      "source": [
        "# Procesamiento de Cadenas"
      ]
    },
    {
      "cell_type": "markdown",
      "metadata": {
        "id": "N6FiFr4oEa2p"
      },
      "source": [
        "## Introducción\n",
        "\n",
        "El manejo de cadenas de texto (strings) es una tarea fundamental en programación, especialmente en lenguajes como Python. En este chat hemos visto diferentes aspectos que debemos tener en cuenta para trabajar con strings de manera eficiente y efectiva. Desde cómo declarar y manipular strings, hasta cómo buscar y contar subcadenas y transformar el texto. También hemos visto cómo verificar la composición de los strings y cómo eliminar caracteres no deseados. Todo esto es esencial para cualquier programador, ya que trabajar con texto es una tarea común en muchos proyectos."
      ]
    },
    {
      "cell_type": "markdown",
      "metadata": {
        "id": "ptoS457qFP-g"
      },
      "source": [
        "# Uso Cadenas en Python\n"
      ]
    },
    {
      "cell_type": "markdown",
      "metadata": {
        "id": "oZ_1RBtDNLc5"
      },
      "source": [
        "### Longitud, búsqueda e iteración\n",
        "\n",
        "Podemos encontrar la longitud de un string utilizando la función len(). También podemos buscar un sub-string en un string utilizando el operador in. Además, podemos iterar sobre los caracteres de un string utilizando un loop for. Por ejemplo:\n",
        "\n"
      ]
    },
    {
      "cell_type": "code",
      "execution_count": 1,
      "metadata": {
        "colab": {
          "base_uri": "https://localhost:8080/"
        },
        "id": "aaGDzUWWmfW2",
        "outputId": "1038635a-f512-45d9-c1fd-093e050c9c3b"
      },
      "outputs": [
        {
          "name": "stdout",
          "output_type": "stream",
          "text": [
            "7\n"
          ]
        }
      ],
      "source": [
        "s = \"Huskies\"\n",
        "print(len(s)) "
      ]
    },
    {
      "cell_type": "code",
      "execution_count": 2,
      "metadata": {
        "colab": {
          "base_uri": "https://localhost:8080/"
        },
        "id": "HtTPJaelFYGH",
        "outputId": "7ae5058a-bd2d-4344-b823-4035850cc473"
      },
      "outputs": [
        {
          "name": "stdout",
          "output_type": "stream",
          "text": [
            "True\n"
          ]
        }
      ],
      "source": [
        "print(\"usk\" in s) "
      ]
    },
    {
      "cell_type": "code",
      "execution_count": 3,
      "metadata": {
        "colab": {
          "base_uri": "https://localhost:8080/"
        },
        "id": "nPsMqvIPFYAX",
        "outputId": "e267f29c-42a2-442e-bc1d-8fe9bb04cacf"
      },
      "outputs": [
        {
          "name": "stdout",
          "output_type": "stream",
          "text": [
            "['s', 's']\n"
          ]
        }
      ],
      "source": [
        "print([c for c in s if c == 's']) "
      ]
    },
    {
      "cell_type": "markdown",
      "metadata": {
        "id": "LkV6iLXYFpVB"
      },
      "source": [
        "### Indexación y rebanado (slicing)\n",
        "\n",
        "Podemos acceder a caracteres individuales dentro de un string utilizando su índice. Los índices en Python comienzan en 0 y se cuentan de izquierda a derecha. También podemos acceder a un rango de caracteres dentro de un string utilizando el rebanado (slicing) de strings. El rebanado se hace especificando un inicio y un final para el rango, separados por dos puntos. Por ejemplo:"
      ]
    },
    {
      "cell_type": "code",
      "execution_count": 4,
      "metadata": {
        "colab": {
          "base_uri": "https://localhost:8080/"
        },
        "id": "FneE7DGTFplH",
        "outputId": "ed9138b7-13e8-44e5-da52-e9c6e0bb9b1d"
      },
      "outputs": [
        {
          "name": "stdout",
          "output_type": "stream",
          "text": [
            "H\n"
          ]
        }
      ],
      "source": [
        "s = \"Huskies\"\n",
        "print(s[0]) "
      ]
    },
    {
      "cell_type": "code",
      "execution_count": 5,
      "metadata": {
        "colab": {
          "base_uri": "https://localhost:8080/"
        },
        "id": "jk7rllwsGfSZ",
        "outputId": "ce58e774-3d34-4675-8947-b3358d055e0a"
      },
      "outputs": [
        {
          "name": "stdout",
          "output_type": "stream",
          "text": [
            "uskies\n"
          ]
        }
      ],
      "source": [
        "print(s[1:]) "
      ]
    },
    {
      "cell_type": "markdown",
      "metadata": {
        "id": "fa2ltd33G56w"
      },
      "source": [
        "### Indexación y rebanado (slicing)\n",
        "\n",
        "Podemos acceder a caracteres individuales dentro de un string utilizando su índice. Los índices en Python comienzan en 0 y se cuentan de izquierda a derecha. También podemos acceder a un rango de caracteres dentro de un string utilizando el rebanado (slicing) de strings. El rebanado se hace especificando un inicio y un final para el rango, separados por dos puntos. Por ejemplo:\n",
        "\n"
      ]
    },
    {
      "cell_type": "code",
      "execution_count": 6,
      "metadata": {
        "colab": {
          "base_uri": "https://localhost:8080/"
        },
        "id": "L6ALktj5F4nZ",
        "outputId": "f584d1ce-bdc8-46bc-ac05-6150f9448d3d"
      },
      "outputs": [
        {
          "name": "stdout",
          "output_type": "stream",
          "text": [
            "Huskies at NIU\n"
          ]
        }
      ],
      "source": [
        "s = \"Huskies\"\n",
        "print(s + \" at NIU\") "
      ]
    },
    {
      "cell_type": "code",
      "execution_count": 7,
      "metadata": {
        "colab": {
          "base_uri": "https://localhost:8080/"
        },
        "id": "jYvqdMV-HKvR",
        "outputId": "936805db-1233-4e6c-f3fa-62c4c3c40543"
      },
      "outputs": [
        {
          "name": "stdout",
          "output_type": "stream",
          "text": [
            "HuskiesHuskies\n"
          ]
        }
      ],
      "source": [
        "print(s * 2) "
      ]
    },
    {
      "cell_type": "markdown",
      "metadata": {
        "id": "-pU4a0cnN9WZ"
      },
      "source": [
        "### Comillas y caracteres escapados\n",
        "\n",
        "Podemos utilizar tanto comillas simples como dobles para definir strings en Python. Además, podemos utilizar triples comillas dobles para definir strings que abarquen varias líneas. También podemos utilizar caracteres escapados como \\n para representar saltos de línea y \\t para representar tabulaciones. Por ejemplo:\n",
        "\n"
      ]
    },
    {
      "cell_type": "markdown",
      "metadata": {
        "id": "l9nc_d3YF1rg"
      },
      "source": [
        "Podemos crear cadenas de texto usando comillas simples o dobles:"
      ]
    },
    {
      "cell_type": "code",
      "execution_count": 8,
      "metadata": {
        "colab": {
          "base_uri": "https://localhost:8080/"
        },
        "id": "c2h8p9HWHc9S",
        "outputId": "3235aefd-baa7-4fb9-d2c8-cedecdf42a19"
      },
      "outputs": [
        {
          "name": "stdout",
          "output_type": "stream",
          "text": [
            "string1\n"
          ]
        }
      ],
      "source": [
        "s1 = 'string1'\n",
        "print(s1)"
      ]
    },
    {
      "cell_type": "code",
      "execution_count": 9,
      "metadata": {
        "colab": {
          "base_uri": "https://localhost:8080/"
        },
        "id": "ByOAy5gLOfPw",
        "outputId": "42b53749-c2ff-4283-ebaf-e27ac62dd213"
      },
      "outputs": [
        {
          "name": "stdout",
          "output_type": "stream",
          "text": [
            "string2\n"
          ]
        }
      ],
      "source": [
        "s2 = \"string2\"\n",
        "print(s2)"
      ]
    },
    {
      "cell_type": "markdown",
      "metadata": {
        "id": "MplLSZaOHhYR"
      },
      "source": [
        "También podemos usar triple comillas dobles para crear cadenas de texto que abarquen varias líneas:"
      ]
    },
    {
      "cell_type": "code",
      "execution_count": 10,
      "metadata": {
        "colab": {
          "base_uri": "https://localhost:8080/"
        },
        "id": "mqbzCxznHotZ",
        "outputId": "bdb20ced-feb2-4426-aace-0f37272251a1"
      },
      "outputs": [
        {
          "name": "stdout",
          "output_type": "stream",
          "text": [
            "Esta es una cadena de texto\n",
            "que abarca varias líneas\n"
          ]
        }
      ],
      "source": [
        "s3 = \"\"\"Esta es una cadena de texto\n",
        "que abarca varias líneas\"\"\"\n",
        "print(s3)"
      ]
    },
    {
      "cell_type": "markdown",
      "metadata": {
        "id": "EG7dW3oQHwKg"
      },
      "source": [
        "Finalmente, en las cadenas de texto podemos usar caracteres especiales escapados como **\\n** para indicar un salto de línea o **\\t** para un tabulador:"
      ]
    },
    {
      "cell_type": "code",
      "execution_count": 11,
      "metadata": {
        "colab": {
          "base_uri": "https://localhost:8080/"
        },
        "id": "nk7BWZ29Htiv",
        "outputId": "474e4e75-7d40-4d66-f6d5-7bb94c6b135e"
      },
      "outputs": [
        {
          "name": "stdout",
          "output_type": "stream",
          "text": [
            "Huskies\n"
          ]
        }
      ],
      "source": [
        "s4 = \"Una cadena de texto con\\nun salto de línea y un\\ttabulador.\"\n",
        "print(s)"
      ]
    },
    {
      "cell_type": "code",
      "execution_count": 12,
      "metadata": {
        "colab": {
          "base_uri": "https://localhost:8080/"
        },
        "id": "cJSE-5oeOWAQ",
        "outputId": "470f141b-65ce-47ae-edc9-9eed040f9278"
      },
      "outputs": [
        {
          "name": "stdout",
          "output_type": "stream",
          "text": [
            "Primera línea\n",
            "Segunda línea\n"
          ]
        }
      ],
      "source": [
        "s4 = \"Primera línea\\nSegunda línea\" \n",
        "print(s4)"
      ]
    },
    {
      "cell_type": "code",
      "execution_count": 13,
      "metadata": {
        "colab": {
          "base_uri": "https://localhost:8080/"
        },
        "id": "PYl_DbaWOV4Z",
        "outputId": "55812b95-a875-4b5a-8bc6-a9072afa877e"
      },
      "outputs": [
        {
          "name": "stdout",
          "output_type": "stream",
          "text": [
            "Nombre:\tJuan\n",
            "Edad:\t30\n"
          ]
        }
      ],
      "source": [
        "s5 = \"Nombre:\\tJuan\\nEdad:\\t30\"\n",
        "print(s5)"
      ]
    },
    {
      "cell_type": "markdown",
      "metadata": {
        "id": "2Jq3AmZtJQ9A"
      },
      "source": [
        "## Unicode and ASCII\n",
        "\n",
        "\n"
      ]
    },
    {
      "cell_type": "markdown",
      "metadata": {
        "id": "HPCq9HasMMro"
      },
      "source": [
        "### Sistemas conceptuales\n",
        "Tanto Unicode como ASCII son sistemas de codificación de caracteres. Un sistema de codificación de caracteres es una forma de representar caracteres de texto en una computadora. Cada caracter se representa por un número entero llamado código de carácter."
      ]
    },
    {
      "cell_type": "markdown",
      "metadata": {
        "id": "nKYgFB3RMQ-I"
      },
      "source": [
        "### ASCII\n",
        "\n",
        "ASCII (American Standard Code for Information Interchange) es un sistema de codificación de caracteres que fue desarrollado en los años 60. Fue uno de los primeros sistemas ampliamente utilizados y se basa en una tabla de 128 caracteres, cada uno representado por un número entero de 7 bits.La tabla ASCII incluye caracteres en inglés como letras mayúsculas y minúsculas, números, signos de puntuación y algunos caracteres especiales. Debido a que solo había 128 caracteres en la tabla, no se podían representar caracteres de otros idiomas."
      ]
    },
    {
      "cell_type": "markdown",
      "metadata": {
        "id": "r5Ccb-7oMQ3P"
      },
      "source": [
        "### Unicode\n",
        "Unicode es un sistema de codificación de caracteres moderno y más completo que ASCII. Fue desarrollado para abordar la limitación de ASCII de solo poder representar caracteres en inglés. Unicode puede representar más de 1 millón de caracteres de todos los idiomas del mundo, incluidos caracteres latinos, griegos, cirílicos, chinos, japoneses, coreanos, árabes y muchos más. Incluso incluye emojis y otros símbolos. \\\n",
        "\n",
        "Los caracteres Unicode se representan mediante un número hexadecimal de 4 o 5 dígitos, denominado \"punto de código\". Por ejemplo, la letra é se representa como U+00E9. Cada punto de código también tiene un nombre que describe el carácter correspondiente. El nombre del punto de código U+00E9 es \"LATIN SMALL LETTER E WITH ACUTE\"."
      ]
    },
    {
      "cell_type": "markdown",
      "metadata": {
        "id": "MPdC7G42MmtY"
      },
      "source": [
        "### Uso en Python\n",
        "\n",
        "Python es compatible con Unicode. Esto significa que podemos utilizar caracteres de cualquier idioma en nuestro código. Podemos escribir directamente caracteres Unicode en una cadena, o podemos representarlos mediante un código de escape Unicode. Un código de escape Unicode es una secuencia de caracteres que comienza con una barra invertida () seguida por una letra \"u\" y cuatro dígitos hexadecimales. Por ejemplo, \"\\u00E9\" representa la letra é."
      ]
    },
    {
      "cell_type": "code",
      "execution_count": 14,
      "metadata": {
        "colab": {
          "base_uri": "https://localhost:8080/"
        },
        "id": "qISNDOmTM1LA",
        "outputId": "7684acb8-d6d4-44ce-e8a3-e01b92accf8f"
      },
      "outputs": [
        {
          "name": "stdout",
          "output_type": "stream",
          "text": [
            "Hello, world! é\n"
          ]
        }
      ],
      "source": [
        "print(\"Hello, world! é\")"
      ]
    },
    {
      "cell_type": "code",
      "execution_count": 15,
      "metadata": {
        "colab": {
          "base_uri": "https://localhost:8080/"
        },
        "id": "L2jQFtKIM4Eh",
        "outputId": "76631099-7555-417b-fa9d-9fe469563bd1"
      },
      "outputs": [
        {
          "name": "stdout",
          "output_type": "stream",
          "text": [
            "é\n"
          ]
        }
      ],
      "source": [
        "print(\"\\u00E9\")"
      ]
    },
    {
      "cell_type": "markdown",
      "metadata": {
        "id": "lYkFsy7UKwNh"
      },
      "source": [
        "En Python, puedes escribir caracteres Unicode directamente en el código, como la letra **\"é\"**, o puedes usar su representación de código hexadecimal **\"\\u00e9\"**.  \\\n",
        "Aquí hay un ejemplo de cómo usar Unicode en Python:"
      ]
    },
    {
      "cell_type": "code",
      "execution_count": 16,
      "metadata": {
        "id": "rQ0-NqsSHuOo"
      },
      "outputs": [],
      "source": [
        "# Definir una cadena con un carácter Unicode\n",
        "s = \"La ville de Québec\""
      ]
    },
    {
      "cell_type": "code",
      "execution_count": 17,
      "metadata": {
        "colab": {
          "base_uri": "https://localhost:8080/"
        },
        "id": "NmC_KaOzLZUA",
        "outputId": "0a155b9d-cbf0-47d0-cb65-17ec7f4139ed"
      },
      "outputs": [
        {
          "name": "stdout",
          "output_type": "stream",
          "text": [
            "La ville de Québec\n"
          ]
        }
      ],
      "source": [
        "# Imprimir la cadena\n",
        "print(s)"
      ]
    },
    {
      "cell_type": "code",
      "execution_count": 18,
      "metadata": {
        "colab": {
          "base_uri": "https://localhost:8080/"
        },
        "id": "--4guRGBLZJQ",
        "outputId": "50fb6cca-dc3c-442e-9c39-261f0624abbc"
      },
      "outputs": [
        {
          "name": "stdout",
          "output_type": "stream",
          "text": [
            "b'La ville de Qu\\\\xe9bec'\n"
          ]
        }
      ],
      "source": [
        "# Imprimir la representación Unicode de la cadena\n",
        "print(s.encode('unicode_escape'))"
      ]
    },
    {
      "cell_type": "markdown",
      "metadata": {
        "id": "ntOSiLzpLiKP"
      },
      "source": [
        "En este ejemplo, definimos una cadena que contiene el carácter Unicode \"é\". Luego imprimimos la cadena y su representación Unicode usando el método encode con el argumento 'unicode_escape'."
      ]
    },
    {
      "cell_type": "markdown",
      "metadata": {
        "id": "UYNVgvZyQS7I"
      },
      "source": [
        "## Strings son objetos con métodos\n",
        "\n",
        "Los strings son objetos en Python y tienen una serie de métodos incorporados que podemos llamar para realizar diversas operaciones en ellos. Al igual que con otros objetos, podemos llamar a estos métodos en una cadena utilizando la sintaxis de punto."
      ]
    },
    {
      "cell_type": "markdown",
      "metadata": {
        "id": "ygdMcz7FQbDw"
      },
      "source": [
        "Llamando métodos en stringsPodemos llamar a los métodos de los objetos string usando la siguiente sintaxis:\n",
        "\n",
        "\n",
        "```\n",
        "cadena.metodo(argumentos)\n",
        "```\n",
        "\n"
      ]
    },
    {
      "cell_type": "markdown",
      "metadata": {
        "id": "L35JRDYDQkDw"
      },
      "source": [
        "### Ejemplo de métodos string\n",
        "\n",
        "A continuación, se muestra un ejemplo de cómo usar algunos métodos de strings:"
      ]
    },
    {
      "cell_type": "code",
      "execution_count": 19,
      "metadata": {
        "colab": {
          "base_uri": "https://localhost:8080/"
        },
        "id": "clffKs-tQlFi",
        "outputId": "2c4e1442-4ad1-4d06-a9d9-4858e9587978"
      },
      "outputs": [
        {
          "data": {
            "text/plain": [
              "7"
            ]
          },
          "execution_count": 19,
          "metadata": {},
          "output_type": "execute_result"
        }
      ],
      "source": [
        "s = \"Pepe Picapiedras pica piedras. Piedras pica Pepe Picapiedras.\"\n",
        "s.count('p')"
      ]
    },
    {
      "cell_type": "code",
      "execution_count": 20,
      "metadata": {
        "colab": {
          "base_uri": "https://localhost:8080/"
        },
        "id": "q2_qYM-RQ0aI",
        "outputId": "e980f96b-43ae-4cb7-d926-2ae9608438d8"
      },
      "outputs": [
        {
          "data": {
            "text/plain": [
              "7"
            ]
          },
          "execution_count": 20,
          "metadata": {},
          "output_type": "execute_result"
        }
      ],
      "source": [
        "\"Pepe Picapiedras pica piedras. Piedras pica Pepe Picapiedras.\".count('p')"
      ]
    },
    {
      "cell_type": "code",
      "execution_count": 21,
      "metadata": {
        "colab": {
          "base_uri": "https://localhost:8080/"
        },
        "id": "UUux7zinRiTJ",
        "outputId": "3ac1365c-85e6-4847-df7e-2f02c1593bfc"
      },
      "outputs": [
        {
          "data": {
            "text/plain": [
              "17"
            ]
          },
          "execution_count": 21,
          "metadata": {},
          "output_type": "execute_result"
        }
      ],
      "source": [
        "\"Pepe Picapiedras pica piedras. Piedras pica Pepe Picapiedras.\".find(\"pica\")"
      ]
    },
    {
      "cell_type": "markdown",
      "metadata": {
        "id": "iqMUYc8HR2d_"
      },
      "source": [
        "En este ejemplo, hemos creado una cadena `s` y luego llamado al método `count()` en ella para contar cuántas veces aparece la letra 'p' en la cadena. Luego, hemos usado una cadena literal para llamar al método `find()` y encontrar la primera ocurrencia de la subcadena \"pica\"."
      ]
    },
    {
      "cell_type": "markdown",
      "metadata": {
        "id": "hVcVPewvTsAa"
      },
      "source": [
        "## Encontrar y contar subcadenas\n",
        "\n",
        "Python proporciona una serie de funciones de cadena para encontrar y contar subcadenas en una cadena dada. Estas funciones son útiles cuando necesitamos buscar una subcadena específica dentro de una cadena o contar el número de veces que aparece una subcadena."
      ]
    },
    {
      "cell_type": "markdown",
      "metadata": {
        "id": "xoF9MpGjT59x"
      },
      "source": [
        "### Funciones de conteo de subcadenas\n",
        "\n",
        "Las funciones de conteo de subcadenas nos permiten contar el número de veces que una subcadena específica aparece en una cadena dada. Aquí hay un par de funciones de conteo de subcadenas útiles en Python:"
      ]
    },
    {
      "cell_type": "markdown",
      "metadata": {
        "id": "b4bdnX7nUFfx"
      },
      "source": [
        "*   `s.count(sub):` Devuelve el número de ocurrencias de `sub` en `s`.\n",
        "*   `sub in s:` Devuelve True si `sub` aparece al menos una vez en `s`."
      ]
    },
    {
      "cell_type": "markdown",
      "metadata": {
        "id": "LAzoUXJHUlLo"
      },
      "source": [
        "### Funciones de búsqueda de subcadenas\n",
        "\n",
        "Las funciones de búsqueda de subcadenas nos permiten encontrar la posición de una subcadena específica dentro de una cadena dada. Aquí hay un par de funciones de búsqueda de subcadenas útiles en Python:"
      ]
    },
    {
      "cell_type": "markdown",
      "metadata": {
        "id": "kLbtVRfKUqNw"
      },
      "source": [
        "\n",
        "\n",
        "*   `s.find(sub)`: Devuelve la posición de la primera ocurrencia de `sub` en `s`, o `-1` si `sub` no se encuentra en `s`.\n",
        "*   `s.rfind(sub):` Devuelve la posición de la última ocurrencia de `sub` en `s`, o `-1` si `sub` no se encuentra en `s`.\n"
      ]
    },
    {
      "cell_type": "markdown",
      "metadata": {
        "id": "iS5T_E34VKUr"
      },
      "source": [
        "Hay también funciones similares llamadas `s.index()` y `s.rindex()`, que funcionan de manera similar a `s.find()` y `s.rfind()`, respectivamente. La única diferencia es que `s.index()` y `s.rindex()` generan una excepción ValueError si `sub` no se encuentra en `s`."
      ]
    },
    {
      "cell_type": "markdown",
      "metadata": {
        "id": "ufytOKN8VZ3A"
      },
      "source": [
        "### Funciones de verificación de prefijo y sufijo\n",
        "\n",
        "Las funciones de verificación de prefijo y sufijo nos permiten verificar si una cadena comienza o termina con una subcadena específica. Aquí hay un par de funciones de verificación de prefijo y sufijo útiles en Python:"
      ]
    },
    {
      "cell_type": "markdown",
      "metadata": {
        "id": "QPMvOcRvViBQ"
      },
      "source": [
        "*   `s.startswith(sub)`: Devuelve `True` si `s` comienza con `sub`.\n",
        "*   `s.endswith(sub)`: Devuelve `True` si `s` termina con `sub`."
      ]
    },
    {
      "cell_type": "markdown",
      "metadata": {
        "id": "zBLq-9tfccrA"
      },
      "source": [
        "## Eliminando los espacios en Blanco al principio y al final de una cadena\n",
        "\n",
        "En Python, los strings son objetos y tienen muchos métodos integrados que se pueden utilizar para transformar, modificar y analizar cadenas de texto. Uno de los tipos comunes de transformaciones que se pueden realizar en cadenas de texto es la eliminación de caracteres no deseados en los bordes de la cadena, como los espacios en blanco."
      ]
    },
    {
      "cell_type": "markdown",
      "metadata": {
        "id": "L3_VqHcSeTkm"
      },
      "source": [
        "Python proporciona varios métodos para eliminar caracteres no deseados de los bordes de una cadena. Estos métodos incluyen:"
      ]
    },
    {
      "cell_type": "markdown",
      "metadata": {
        "id": "hlapnDdbeXBv"
      },
      "source": [
        "`s.strip()`: Este método devuelve una copia de la cadena `s` con todos los espacios en blanco eliminados del principio y del final de la cadena."
      ]
    },
    {
      "cell_type": "code",
      "execution_count": 22,
      "metadata": {
        "id": "cLiFq2igfPRI"
      },
      "outputs": [],
      "source": [
        "s = \"  Hello, world!  \""
      ]
    },
    {
      "cell_type": "code",
      "execution_count": 23,
      "metadata": {
        "colab": {
          "base_uri": "https://localhost:8080/"
        },
        "id": "jvu6nt1geYwG",
        "outputId": "4261070f-bcdf-4ba5-eb30-70d6f90ca949"
      },
      "outputs": [
        {
          "name": "stdout",
          "output_type": "stream",
          "text": [
            "Hello, world!\n"
          ]
        }
      ],
      "source": [
        "# Eliminar espacios en blanco del principio y del final de la cadena\n",
        "s_stripped = s.strip()\n",
        "print(s_stripped)"
      ]
    },
    {
      "cell_type": "markdown",
      "metadata": {
        "id": "0uuw6kpgeZOA"
      },
      "source": [
        "`s.lstrip()`: Este método devuelve una copia de la cadena `s` con todos los espacios en blanco eliminados del principio de la cadena."
      ]
    },
    {
      "cell_type": "code",
      "execution_count": 24,
      "metadata": {
        "colab": {
          "base_uri": "https://localhost:8080/"
        },
        "id": "epUnbHu0esJf",
        "outputId": "b399bb7c-f71a-4623-e93e-d8caa0eb35e7"
      },
      "outputs": [
        {
          "name": "stdout",
          "output_type": "stream",
          "text": [
            "Hello, world!  \n"
          ]
        }
      ],
      "source": [
        "# Eliminar espacios en blanco del principio de la cadena\n",
        "s_lstripped = s.lstrip()\n",
        "print(s_lstripped)"
      ]
    },
    {
      "cell_type": "markdown",
      "metadata": {
        "id": "mrfn67HxevFX"
      },
      "source": [
        "`s.rstrip()`: Este método devuelve una copia de la cadena `s` con todos los espacios en blanco eliminados del final de la cadena."
      ]
    },
    {
      "cell_type": "code",
      "execution_count": 25,
      "metadata": {
        "colab": {
          "base_uri": "https://localhost:8080/"
        },
        "id": "XuLVEJRhevav",
        "outputId": "c677a2e3-a2c2-4369-fbe9-a9dd9f03edf8"
      },
      "outputs": [
        {
          "name": "stdout",
          "output_type": "stream",
          "text": [
            "  Hello, world!\n"
          ]
        }
      ],
      "source": [
        "# Eliminar espacios en blanco del final de la cadena\n",
        "s_rstripped = s.rstrip()\n",
        "print(s_rstripped)"
      ]
    },
    {
      "cell_type": "markdown",
      "metadata": {
        "id": "r3f1ELF8ijDo"
      },
      "source": [
        "## Transformando Texto\n",
        "\n",
        "En Python, las cadenas son objetos que tienen una variedad de métodos que se pueden utilizar para transformar y manipular el texto. En esta ocasión, nos enfocaremos en los métodos que permiten transformar el texto.\n"
      ]
    },
    {
      "cell_type": "markdown",
      "metadata": {
        "id": "STShk1pIraro"
      },
      "source": [
        "`s.replace(oldsub, newsub)`: Este método devuelve una copia de la cadena `s` con todas las ocurrencias de la subcadena `oldsub` reemplazadas por la subcadena `newsub`. Por ejemplo:"
      ]
    },
    {
      "cell_type": "code",
      "execution_count": 26,
      "metadata": {
        "colab": {
          "base_uri": "https://localhost:8080/",
          "height": 35
        },
        "id": "pKxcNPGVijb4",
        "outputId": "ea7eccd2-7ce7-4145-d955-68b2e42ea38e"
      },
      "outputs": [
        {
          "data": {
            "application/vnd.google.colaboratory.intrinsic+json": {
              "type": "string"
            },
            "text/plain": [
              "'La casa es roja y la puerta es azul'"
            ]
          },
          "execution_count": 26,
          "metadata": {},
          "output_type": "execute_result"
        }
      ],
      "source": [
        "s = \"La casa es roja y la puerta es verde\"\n",
        "s.replace(\"verde\", \"azul\")\n",
        "# Devuelve \"La casa es roja y la puerta es azul\""
      ]
    },
    {
      "cell_type": "markdown",
      "metadata": {
        "id": "3J3NT3ONrxmP"
      },
      "source": [
        "`s.upper()`: Este método devuelve una copia de la cadena s en mayúsculas. Por ejemplo:"
      ]
    },
    {
      "cell_type": "code",
      "execution_count": 27,
      "metadata": {
        "colab": {
          "base_uri": "https://localhost:8080/",
          "height": 35
        },
        "id": "hWO-YPTSrw5I",
        "outputId": "61686542-d0dc-436d-80ed-b0a9676779cf"
      },
      "outputs": [
        {
          "data": {
            "application/vnd.google.colaboratory.intrinsic+json": {
              "type": "string"
            },
            "text/plain": [
              "'LA CASA ES ROJA Y LA PUERTA ES VERDE'"
            ]
          },
          "execution_count": 27,
          "metadata": {},
          "output_type": "execute_result"
        }
      ],
      "source": [
        "s = \"La casa es roja y la puerta es verde\"\n",
        "s.upper()"
      ]
    },
    {
      "cell_type": "markdown",
      "metadata": {
        "id": "-1vI0ItlsNhY"
      },
      "source": [
        "s.lower(): Este método devuelve una copia de la cadena s en minúsculas. Por ejemplo:\n",
        "\n"
      ]
    },
    {
      "cell_type": "code",
      "execution_count": 28,
      "metadata": {
        "colab": {
          "base_uri": "https://localhost:8080/",
          "height": 35
        },
        "id": "SpWG2up2sN-o",
        "outputId": "a8bdb203-2c4f-4eaf-e105-44a18d35c199"
      },
      "outputs": [
        {
          "data": {
            "application/vnd.google.colaboratory.intrinsic+json": {
              "type": "string"
            },
            "text/plain": [
              "'la casa es roja y la puerta es verde'"
            ]
          },
          "execution_count": 28,
          "metadata": {},
          "output_type": "execute_result"
        }
      ],
      "source": [
        "s = \"La casa es roja y la puerta es verde\"\n",
        "s.lower()"
      ]
    },
    {
      "cell_type": "markdown",
      "metadata": {
        "id": "MtMFLBdbsOUA"
      },
      "source": [
        "`s.capitalize()`: Este método devuelve una copia de la cadena `s` con la primera letra en mayúscula y todas las demás en minúscula. Por ejemplo:"
      ]
    },
    {
      "cell_type": "code",
      "execution_count": 29,
      "metadata": {
        "colab": {
          "base_uri": "https://localhost:8080/",
          "height": 35
        },
        "id": "i8sQ6749sOlw",
        "outputId": "b2143bb8-9f34-4664-968e-bb6ee9058560"
      },
      "outputs": [
        {
          "data": {
            "application/vnd.google.colaboratory.intrinsic+json": {
              "type": "string"
            },
            "text/plain": [
              "'La casa es roja y la puerta es verde'"
            ]
          },
          "execution_count": 29,
          "metadata": {},
          "output_type": "execute_result"
        }
      ],
      "source": [
        "s = \"la casa es roja y la puerta es verde\"\n",
        "s.capitalize()"
      ]
    },
    {
      "cell_type": "markdown",
      "metadata": {
        "id": "EHNU-5aksPD3"
      },
      "source": [
        "`s.title()`: Este método devuelve una copia de la cadena `s` con la primera letra de cada palabra en mayúscula y todas las demás en minúscula. Por ejemplo:\n",
        "\n"
      ]
    },
    {
      "cell_type": "code",
      "execution_count": 30,
      "metadata": {
        "colab": {
          "base_uri": "https://localhost:8080/",
          "height": 35
        },
        "id": "yb6ysq1ysPWo",
        "outputId": "d1685ac5-53fb-459c-cc31-2c26f64bcbef"
      },
      "outputs": [
        {
          "data": {
            "application/vnd.google.colaboratory.intrinsic+json": {
              "type": "string"
            },
            "text/plain": [
              "'La Casa Es Roja Y La Puerta Es Verde'"
            ]
          },
          "execution_count": 30,
          "metadata": {},
          "output_type": "execute_result"
        }
      ],
      "source": [
        "s = \"la casa es roja y la puerta es verde\"\n",
        "s.title()"
      ]
    },
    {
      "cell_type": "markdown",
      "metadata": {
        "id": "8z1NeFGEtoo4"
      },
      "source": [
        "## Composición de las Cadenas"
      ]
    },
    {
      "cell_type": "markdown",
      "metadata": {
        "id": "Z6tZSKdkvJxo"
      },
      "source": [
        "`isalnum()` Devuelve True si la cadena contiene solo caracteres alfanuméricos (es decir, dígitos y letras)."
      ]
    },
    {
      "cell_type": "code",
      "execution_count": 31,
      "metadata": {
        "colab": {
          "base_uri": "https://localhost:8080/"
        },
        "id": "ueXCQcjCtpqg",
        "outputId": "baf52894-ee75-4558-8d0f-c046688c6906"
      },
      "outputs": [
        {
          "name": "stdout",
          "output_type": "stream",
          "text": [
            "True\n"
          ]
        }
      ],
      "source": [
        "s = \"abc123\"\n",
        "print(s.isalnum())"
      ]
    },
    {
      "cell_type": "code",
      "execution_count": 32,
      "metadata": {
        "colab": {
          "base_uri": "https://localhost:8080/"
        },
        "id": "c9cf66rowuTa",
        "outputId": "bea64fae-2287-404c-c8ce-7f84b542419d"
      },
      "outputs": [
        {
          "name": "stdout",
          "output_type": "stream",
          "text": [
            "False\n"
          ]
        }
      ],
      "source": [
        "s = \"abc$123\"\n",
        "print(s.isalnum())"
      ]
    },
    {
      "cell_type": "markdown",
      "metadata": {
        "id": "lIngsp2RvKMI"
      },
      "source": [
        "`isalpha()` Devuelve True si la cadena contiene solo caracteres alfabéticos (es decir, letras)."
      ]
    },
    {
      "cell_type": "code",
      "execution_count": 33,
      "metadata": {
        "colab": {
          "base_uri": "https://localhost:8080/"
        },
        "id": "s0B9Wls_vKjH",
        "outputId": "b19f069e-6ab3-4f7a-a54c-e12e71099bab"
      },
      "outputs": [
        {
          "name": "stdout",
          "output_type": "stream",
          "text": [
            "True\n"
          ]
        }
      ],
      "source": [
        "s = \"abc\"\n",
        "print(s.isalpha())"
      ]
    },
    {
      "cell_type": "code",
      "execution_count": 34,
      "metadata": {
        "colab": {
          "base_uri": "https://localhost:8080/"
        },
        "id": "ZMB5F0uhw-wo",
        "outputId": "b09786f1-7862-4545-c39f-16370ab1e742"
      },
      "outputs": [
        {
          "name": "stdout",
          "output_type": "stream",
          "text": [
            "False\n"
          ]
        }
      ],
      "source": [
        "s = \"abc123\"\n",
        "print(s.isalpha())"
      ]
    },
    {
      "cell_type": "markdown",
      "metadata": {
        "id": "724SfVbfvLBa"
      },
      "source": [
        "`isdecimal()` Devuelve True si la cadena contiene solo caracteres de números enteros decimales."
      ]
    },
    {
      "cell_type": "code",
      "execution_count": 35,
      "metadata": {
        "colab": {
          "base_uri": "https://localhost:8080/"
        },
        "id": "Mjms53wIw_JP",
        "outputId": "6f1a66f6-39d2-469d-abd5-0915452abe36"
      },
      "outputs": [
        {
          "name": "stdout",
          "output_type": "stream",
          "text": [
            "True\n"
          ]
        }
      ],
      "source": [
        "s = \"123\"\n",
        "print(s.isdecimal())"
      ]
    },
    {
      "cell_type": "code",
      "execution_count": 36,
      "metadata": {
        "colab": {
          "base_uri": "https://localhost:8080/"
        },
        "id": "zocnAYTAvLVg",
        "outputId": "67cd5d57-ca2d-45ef-ddef-adc2115a6615"
      },
      "outputs": [
        {
          "name": "stdout",
          "output_type": "stream",
          "text": [
            "False\n"
          ]
        }
      ],
      "source": [
        "s = \"123.45\"\n",
        "print(s.isdecimal())"
      ]
    },
    {
      "cell_type": "markdown",
      "metadata": {
        "id": "g7xn182GvLqY"
      },
      "source": [
        "`isdigit()` Devuelve True si la cadena contiene solo dígitos (por ejemplo, '0', '1', '2')."
      ]
    },
    {
      "cell_type": "code",
      "execution_count": 37,
      "metadata": {
        "colab": {
          "base_uri": "https://localhost:8080/"
        },
        "id": "37VAbOaUw_gH",
        "outputId": "97609edf-4bf3-495c-85aa-5fbc956a2d9d"
      },
      "outputs": [
        {
          "name": "stdout",
          "output_type": "stream",
          "text": [
            "True\n"
          ]
        }
      ],
      "source": [
        "s = \"123\"\n",
        "print(s.isdigit())"
      ]
    },
    {
      "cell_type": "code",
      "execution_count": 38,
      "metadata": {
        "colab": {
          "base_uri": "https://localhost:8080/"
        },
        "id": "7wJsoLNcvMH4",
        "outputId": "43d4f581-950a-45c4-f95b-f3eb4c490f4e"
      },
      "outputs": [
        {
          "name": "stdout",
          "output_type": "stream",
          "text": [
            "False\n"
          ]
        }
      ],
      "source": [
        "s = \"123abc\"\n",
        "print(s.isdigit())"
      ]
    },
    {
      "cell_type": "markdown",
      "metadata": {
        "id": "AfNLqNX-vMk_"
      },
      "source": [
        "`isidentifier()` Devuelve True si la cadena representa un identificador válido."
      ]
    },
    {
      "cell_type": "code",
      "execution_count": 39,
      "metadata": {
        "colab": {
          "base_uri": "https://localhost:8080/"
        },
        "id": "zdkRQqu_w_7o",
        "outputId": "fb6eddf3-4103-495b-f4aa-843d198127ae"
      },
      "outputs": [
        {
          "name": "stdout",
          "output_type": "stream",
          "text": [
            "True\n"
          ]
        }
      ],
      "source": [
        "s = \"my_var\"\n",
        "print(s.isidentifier())"
      ]
    },
    {
      "cell_type": "code",
      "execution_count": 40,
      "metadata": {
        "colab": {
          "base_uri": "https://localhost:8080/"
        },
        "id": "FAHcXtN_vNKI",
        "outputId": "d1abcf83-0aa2-45cb-b55a-d14148962e55"
      },
      "outputs": [
        {
          "name": "stdout",
          "output_type": "stream",
          "text": [
            "False\n"
          ]
        }
      ],
      "source": [
        "s = \"1var\"\n",
        "print(s.isidentifier())"
      ]
    },
    {
      "cell_type": "markdown",
      "metadata": {
        "id": "gipoMX4lvNn4"
      },
      "source": [
        "`isnumeric()` Devuelve True si los caracteres en la cadena representan un valor numérico sin un signo más (+) o menos (-) o un punto (.)."
      ]
    },
    {
      "cell_type": "code",
      "execution_count": 41,
      "metadata": {
        "colab": {
          "base_uri": "https://localhost:8080/"
        },
        "id": "PJfmIl6zxAXo",
        "outputId": "37fbef79-8a98-4fd8-fed8-0812a4a53f33"
      },
      "outputs": [
        {
          "name": "stdout",
          "output_type": "stream",
          "text": [
            "True\n"
          ]
        }
      ],
      "source": [
        "s = \"123\"\n",
        "print(s.isnumeric())"
      ]
    },
    {
      "cell_type": "code",
      "execution_count": 42,
      "metadata": {
        "colab": {
          "base_uri": "https://localhost:8080/"
        },
        "id": "CG-y-C1RvN3o",
        "outputId": "0e48716d-fbd0-44bf-a66e-6bc113e47666"
      },
      "outputs": [
        {
          "name": "stdout",
          "output_type": "stream",
          "text": [
            "False\n"
          ]
        }
      ],
      "source": [
        "s = \"123.45\"\n",
        "print(s.isnumeric())"
      ]
    },
    {
      "cell_type": "markdown",
      "metadata": {
        "id": "9DHafJIevOTQ"
      },
      "source": [
        "`isspace()` Devuelve True si la cadena contiene solo caracteres de espacio en blanco."
      ]
    },
    {
      "cell_type": "code",
      "execution_count": 43,
      "metadata": {
        "colab": {
          "base_uri": "https://localhost:8080/"
        },
        "id": "xavYg0N0xAvY",
        "outputId": "26e624b2-beba-4c22-9cb6-62694d66c0fd"
      },
      "outputs": [
        {
          "name": "stdout",
          "output_type": "stream",
          "text": [
            "True\n"
          ]
        }
      ],
      "source": [
        "s = \"   \"\n",
        "print(s.isspace())"
      ]
    },
    {
      "cell_type": "code",
      "execution_count": 44,
      "metadata": {
        "colab": {
          "base_uri": "https://localhost:8080/"
        },
        "id": "uDXDCZaOwKNv",
        "outputId": "89e29abe-38b5-4c8b-9250-0c84b9f18a83"
      },
      "outputs": [
        {
          "name": "stdout",
          "output_type": "stream",
          "text": [
            "False\n"
          ]
        }
      ],
      "source": [
        "s = \"  abc  \"\n",
        "print(s.isspace())"
      ]
    },
    {
      "cell_type": "markdown",
      "metadata": {
        "id": "Xvb3mY7HwKsp"
      },
      "source": [
        "`istitle()` Devuelve True si el primer carácter de cada palabra es el único carácter en mayúscula en ella.\n",
        "\n"
      ]
    },
    {
      "cell_type": "code",
      "execution_count": 45,
      "metadata": {
        "colab": {
          "base_uri": "https://localhost:8080/"
        },
        "id": "a6EJxOs4xBPY",
        "outputId": "312c9958-c03d-4e35-fabe-32c54379de56"
      },
      "outputs": [
        {
          "name": "stdout",
          "output_type": "stream",
          "text": [
            "True\n"
          ]
        }
      ],
      "source": [
        "s = \"This Is A Title\"\n",
        "print(s.istitle())"
      ]
    },
    {
      "cell_type": "code",
      "execution_count": 46,
      "metadata": {
        "colab": {
          "base_uri": "https://localhost:8080/"
        },
        "id": "9b2CIBHbwLBH",
        "outputId": "dcb5813c-ea3b-4c88-d418-efc107d79635"
      },
      "outputs": [
        {
          "name": "stdout",
          "output_type": "stream",
          "text": [
            "False\n"
          ]
        }
      ],
      "source": [
        "s = \"This is Not a Title\"\n",
        "print(s.istitle())"
      ]
    },
    {
      "cell_type": "markdown",
      "metadata": {
        "id": "_2ooPKB0wTKv"
      },
      "source": [
        "`isupper()` Devuelve True si todos los caracteres alfabéticos en la cadena son caracteres en mayúsculas.\n",
        "\n"
      ]
    },
    {
      "cell_type": "code",
      "execution_count": 47,
      "metadata": {
        "colab": {
          "base_uri": "https://localhost:8080/"
        },
        "id": "nsFKmd0hxBlJ",
        "outputId": "6e890745-a92f-4db9-bcac-ce511334114b"
      },
      "outputs": [
        {
          "name": "stdout",
          "output_type": "stream",
          "text": [
            "True\n"
          ]
        }
      ],
      "source": [
        "s = \"HELLO\"\n",
        "print(s.isupper())"
      ]
    },
    {
      "cell_type": "code",
      "execution_count": 48,
      "metadata": {
        "colab": {
          "base_uri": "https://localhost:8080/"
        },
        "id": "VaB54hazwTcg",
        "outputId": "2434d70f-2e30-4047-e3b4-d67178c803fc"
      },
      "outputs": [
        {
          "name": "stdout",
          "output_type": "stream",
          "text": [
            "False\n"
          ]
        }
      ],
      "source": [
        "s = \"Hello\"\n",
        "print(s.isupper()) "
      ]
    },
    {
      "cell_type": "markdown",
      "metadata": {
        "id": "a_hgCi9U03nH"
      },
      "source": [
        "## Spliting\n",
        "\n",
        "En Python, podemos dividir una cadena en partes más pequeñas utilizando el método `.split()`. Este método devuelve una lista de las partes de la cadena que se han dividido en función del separador que se haya proporcionado. Aquí hay algunos ejemplos:"
      ]
    },
    {
      "cell_type": "code",
      "execution_count": 49,
      "metadata": {
        "id": "cAqZhLLE37MY"
      },
      "outputs": [],
      "source": [
        "# Primero, definamos una cadena:\n",
        "s = \"Venkata, Ranjit, Pankaj, Ali, Karthika\""
      ]
    },
    {
      "cell_type": "markdown",
      "metadata": {
        "id": "d5INDCKc4EUP"
      },
      "source": [
        "Luego, podemos usar `.split()` para dividir la cadena en una lista de nombres separados por comas:"
      ]
    },
    {
      "cell_type": "code",
      "execution_count": 50,
      "metadata": {
        "colab": {
          "base_uri": "https://localhost:8080/"
        },
        "id": "X1diz_bX4I7v",
        "outputId": "a7459cb2-e753-4815-d797-729f0844c9e1"
      },
      "outputs": [
        {
          "name": "stdout",
          "output_type": "stream",
          "text": [
            "['Venkata', ' Ranjit', ' Pankaj', ' Ali', ' Karthika']\n"
          ]
        }
      ],
      "source": [
        "names = s.split(',')\n",
        "print(names)"
      ]
    },
    {
      "cell_type": "markdown",
      "metadata": {
        "id": "Re7j2j_P4XGX"
      },
      "source": [
        "Observe que los nombres tienen espacios en blanco antes de ellos. Esto se debe a que la coma y el espacio después de ella se consideran el separador, por lo que cada nombre en la lista incluye el espacio después de la coma. Podemos eliminar los espacios en blanco utilizando el método `.strip().`"
      ]
    },
    {
      "cell_type": "markdown",
      "metadata": {
        "id": "KnDVCskc4eNQ"
      },
      "source": [
        "También podemos especificar un número máximo de divisiones que deseamos hacer, usando el segundo argumento del método `.split().` Por ejemplo, si solo queremos dividir la cadena tres veces, podemos hacer lo siguiente:"
      ]
    },
    {
      "cell_type": "code",
      "execution_count": 51,
      "metadata": {
        "colab": {
          "base_uri": "https://localhost:8080/"
        },
        "id": "njmaR5hN4kr4",
        "outputId": "3ab5341a-a12e-49cf-f570-58e4c765dfe2"
      },
      "outputs": [
        {
          "name": "stdout",
          "output_type": "stream",
          "text": [
            "['Venkata', ' Ranjit', ' Pankaj', ' Ali, Karthika']\n"
          ]
        }
      ],
      "source": [
        "names = s.split(',', 3)\n",
        "print(names)"
      ]
    },
    {
      "cell_type": "markdown",
      "metadata": {
        "id": "Y3fD_kiF4men"
      },
      "source": [
        "Observe que solo se han dividido los primeros tres nombres, y el último nombre está incluido como una sola cadena."
      ]
    },
    {
      "cell_type": "markdown",
      "metadata": {
        "id": "QSsbdQrl4wpX"
      },
      "source": [
        "Además, si no se especifica un separador, se utiliza cualquier cantidad de espacios en blanco como separador:"
      ]
    },
    {
      "cell_type": "code",
      "execution_count": 52,
      "metadata": {
        "colab": {
          "base_uri": "https://localhost:8080/"
        },
        "id": "XsWvIPhS42DI",
        "outputId": "a7f242c7-f231-4644-d124-e24e6798e3c2"
      },
      "outputs": [
        {
          "name": "stdout",
          "output_type": "stream",
          "text": [
            "['Venkata', 'Ranjit', 'Pankaj', 'Ali', 'Karthika']\n"
          ]
        }
      ],
      "source": [
        "s2 = \"Venkata Ranjit    Pankaj     Ali Karthika\"\n",
        "names = s2.split()\n",
        "print(names)"
      ]
    },
    {
      "cell_type": "markdown",
      "metadata": {
        "id": "D0l-zzjkemcy"
      },
      "source": [
        "## Joining\n",
        "\n",
        "El método `join` se utiliza para unir una lista de cadenas en una sola cadena, usando un separador determinado. En Python, este método se llama en el separador, y la lista de cadenas a unir se pasa como argumento. \\\n",
        "Por ejemplo, si tenemos una lista de nombres como `names = ['Venkata', 'Ranjit', 'Pankaj', 'Ali', 'Karthika']`, podemos unirlos en una cadena separada por comas con el siguiente código:"
      ]
    },
    {
      "cell_type": "code",
      "execution_count": 53,
      "metadata": {
        "id": "Ynv64qc5nz8K"
      },
      "outputs": [],
      "source": [
        "# Crear una lista de cadenas\n",
        "frutas = ['apple', 'banana', 'orange', 'kiwi']"
      ]
    },
    {
      "cell_type": "code",
      "execution_count": 54,
      "metadata": {
        "colab": {
          "base_uri": "https://localhost:8080/"
        },
        "id": "Sv46BwlLmHBK",
        "outputId": "0eef0709-aedc-4754-cb0f-03d6b0a8f0b9"
      },
      "outputs": [
        {
          "name": "stdout",
          "output_type": "stream",
          "text": [
            "apple,banana,orange,kiwi\n"
          ]
        }
      ],
      "source": [
        "s = ','.join(frutas)\n",
        "print(s)"
      ]
    },
    {
      "cell_type": "markdown",
      "metadata": {
        "id": "X445k76ImKzI"
      },
      "source": [
        "También podemos unir una lista de cadenas de una función, como se muestra en el siguiente ejemplo:"
      ]
    },
    {
      "cell_type": "code",
      "execution_count": 55,
      "metadata": {
        "id": "URCIGtb4mjHh"
      },
      "outputs": [],
      "source": [
        "def get_fruits():\n",
        "  return ['apple', 'banana', 'orange', 'kiwi']"
      ]
    },
    {
      "cell_type": "code",
      "execution_count": 56,
      "metadata": {
        "colab": {
          "base_uri": "https://localhost:8080/"
        },
        "id": "S1QIWO3ymMDR",
        "outputId": "57650e97-fce6-4718-e40f-7c8d949b21c6"
      },
      "outputs": [
        {
          "name": "stdout",
          "output_type": "stream",
          "text": [
            "apple,banana,orange,kiwi\n"
          ]
        }
      ],
      "source": [
        "fruits = get_fruits()\n",
        "fruits_string = ','.join(fruits)\n",
        "print(fruits_string)"
      ]
    },
    {
      "cell_type": "markdown",
      "metadata": {
        "id": "T1glX9tvveEq"
      },
      "source": [
        "## Formating\n",
        "\n",
        "El formateo de cadenas en Python es una técnica utilizada para construir una cadena de texto a partir de una plantilla predefinida, que contiene marcadores de posición para los valores que serán reemplazados posteriormente. El método más utilizado para el formateo de cadenas es el método `format()`.\n",
        "\n",
        "para las info: [documentacion format](https://docs.python.org/3/library/string.html#format-specification-mini-language)"
      ]
    },
    {
      "cell_type": "markdown",
      "metadata": {
        "id": "GR-B-Z2wv1qy"
      },
      "source": [
        "En la plantilla, los marcadores de posición se indican mediante llaves `{}`. Estos marcadores pueden ser numerados, lo que significa que hacen referencia a un argumento específico pasado al método `format()`, o pueden tener un nombre que se refiere a una clave específica en un diccionario de argumentos."
      ]
    },
    {
      "cell_type": "code",
      "execution_count": 57,
      "metadata": {
        "colab": {
          "base_uri": "https://localhost:8080/"
        },
        "id": "1oLW7fm9w1wB",
        "outputId": "1a84506a-1254-4a79-e38f-6c4516572806"
      },
      "outputs": [
        {
          "name": "stdout",
          "output_type": "stream",
          "text": [
            "Mi nombre es Juan y tengo 30 años.\n"
          ]
        }
      ],
      "source": [
        "# Ejemplo 1: Uso básico de .format()\n",
        "name = \"Juan\"\n",
        "age = 30\n",
        "print(\"Mi nombre es {} y tengo {} años.\".format(name, age))"
      ]
    },
    {
      "cell_type": "markdown",
      "metadata": {
        "id": "a_8Z_5EMv76S"
      },
      "source": [
        "El método `format()` reemplaza los marcadores de posición en la plantilla con los valores correspondientes proporcionados como argumentos al método. Los argumentos se pueden pasar en el orden en que se encuentran en la plantilla, o se pueden nombrar explícitamente para permitir un mayor control sobre el formato resultante."
      ]
    },
    {
      "cell_type": "code",
      "execution_count": 58,
      "metadata": {
        "colab": {
          "base_uri": "https://localhost:8080/"
        },
        "id": "FA7NrRfPw-Vy",
        "outputId": "e190c053-3c4a-4c33-926c-263526b40045"
      },
      "outputs": [
        {
          "name": "stdout",
          "output_type": "stream",
          "text": [
            "Tengo 30 años y mi nombre es Juan.\n"
          ]
        }
      ],
      "source": [
        "# Ejemplo 2: Cambio del orden de los argumentos\n",
        "print(\"Tengo {1} años y mi nombre es {0}.\".format(name, age))"
      ]
    },
    {
      "cell_type": "code",
      "execution_count": 59,
      "metadata": {
        "colab": {
          "base_uri": "https://localhost:8080/"
        },
        "id": "N2OGE2lxx35D",
        "outputId": "928ed3c5-44c3-428f-9c3f-b9d5fad6c3f3"
      },
      "outputs": [
        {
          "name": "stdout",
          "output_type": "stream",
          "text": [
            "Mi nombre es Juan y tengo 30 años.\n"
          ]
        }
      ],
      "source": [
        "# Ejemplo 3: Uso de nombres de argumentos\n",
        "print(\"Mi nombre es {nombre} y tengo {edad} años.\".format(nombre=name, edad=age))"
      ]
    },
    {
      "cell_type": "code",
      "execution_count": 60,
      "metadata": {
        "colab": {
          "base_uri": "https://localhost:8080/"
        },
        "id": "MXFw1zinx_2b",
        "outputId": "9e48070f-2294-45c5-9ee2-c7f2d26d1211"
      },
      "outputs": [
        {
          "name": "stdout",
          "output_type": "stream",
          "text": [
            "El valor de pi es aproximadamente 3.14.\n"
          ]
        }
      ],
      "source": [
        "# Ejemplo 4: Uso de especificadores de formato\n",
        "pi = 3.14159\n",
        "print(\"El valor de pi es aproximadamente {:.2f}.\".format(pi))"
      ]
    },
    {
      "cell_type": "markdown",
      "metadata": {
        "id": "kn4nndf0v9oS"
      },
      "source": [
        "Además de la técnica de formateo de cadenas con `format()`, Python también ofrece otros métodos para justificar cadenas `ljust()`, `rjust()` y para rellenar con ceros `zfill()`. Estos métodos permiten ajustar el ancho de las cadenas de salida y formatearlas de manera uniforme."
      ]
    },
    {
      "cell_type": "code",
      "execution_count": 61,
      "metadata": {
        "colab": {
          "base_uri": "https://localhost:8080/"
        },
        "id": "o6k4R_vtytKC",
        "outputId": "979da884-7075-47e7-e8db-28abc5be3aea"
      },
      "outputs": [
        {
          "name": "stdout",
          "output_type": "stream",
          "text": [
            "Hola------\n",
            "------Hola\n"
          ]
        }
      ],
      "source": [
        "# Ejemplo 5: Uso de ljust() y rjust()\n",
        "text = \"Hola\"\n",
        "print(text.ljust(10, \"-\"))\n",
        "print(text.rjust(10, \"-\"))"
      ]
    },
    {
      "cell_type": "code",
      "execution_count": 62,
      "metadata": {
        "colab": {
          "base_uri": "https://localhost:8080/"
        },
        "id": "7FYGC2Niy0Xa",
        "outputId": "2682a816-53bc-43d0-faf1-eac7bb0b8cb7"
      },
      "outputs": [
        {
          "name": "stdout",
          "output_type": "stream",
          "text": [
            "00042\n"
          ]
        }
      ],
      "source": [
        "# Ejemplo 6: Uso de zfill()\n",
        "number = \"42\"\n",
        "print(number.zfill(5))"
      ]
    },
    {
      "cell_type": "code",
      "execution_count": 67,
      "metadata": {
        "colab": {
          "base_uri": "https://localhost:8080/"
        },
        "id": "i7fh37xwc_pL",
        "outputId": "c3cbd48c-727f-46bd-adbc-1969e82f784d"
      },
      "outputs": [
        {
          "name": "stdout",
          "output_type": "stream",
          "text": [
            "The square root of 2 is 1.41\n"
          ]
        }
      ],
      "source": [
        "# Ejemplo 7: Uso de operaciones matematicas\n",
        "import math\n",
        "x = 2\n",
        "message = f\"The square root of {x} is {math.sqrt(x):.2f}\"\n",
        "print(message)"
      ]
    },
    {
      "cell_type": "markdown",
      "metadata": {
        "id": "nmSk3cTmzQlh"
      },
      "source": [
        "## Tipos de Presentacion de format\n",
        "\n",
        "Los \"Format Mini-Language Presentation Types\" es una parte de la sintaxis de los strings de formato en Python que permite especificar el tipo de dato que se está formateando. Algunos tipos son obvios, como las cadenas de texto y los enteros, pero otros tipos requieren una especificación adicional.\n",
        "\n"
      ]
    },
    {
      "cell_type": "markdown",
      "metadata": {},
      "source": [
        "### Los tipos de presentación de cadenas disponibles son:\n",
        "\n",
        "| Tipo   | Significado                                                      |\n",
        "|--------|------------------------------------------------------------------|\n",
        "| `'s'`  | Formato de cadena. Este es el tipo predeterminado para cadenas y se puede omitir. |\n",
        "| Ninguno| Lo mismo que `'s'`.                                              |\n"
      ]
    },
    {
      "cell_type": "markdown",
      "metadata": {
        "id": "kzC1R5Xs210i"
      },
      "source": [
        "Estos tipos de presentación son opcionales y no son necesarios en la mayoría de los casos. Sin embargo, pueden ser útiles en situaciones en las que se desea especificar explícitamente el tipo de dato que se está formateando."
      ]
    },
    {
      "cell_type": "markdown",
      "metadata": {},
      "source": [
        "### Los tipos de presentación de enteros disponibles son:\n",
        "\n",
        "| Tipo   | Significado                                                                 |\n",
        "|--------|-----------------------------------------------------------------------------|\n",
        "| `'b'`  | Formato binario. Muestra el número en base 2.                               |\n",
        "| `'c'`  | Caracter. Convierte el número entero al carácter Unicode correspondiente antes de imprimir. |\n",
        "| `'d'`  | Entero decimal. Muestra el número en base 10.                               |\n",
        "| `'o'`  | Formato octal. Muestra el número en base 8.                                 |\n",
        "| `'x'`  | Formato hexadecimal. Da salida al número en base 16, usando letras minúsculas para los dígitos arriba de 9. |\n",
        "| `'X'`  | Formato hexadecimal. Da salida al número en base 16, usando letras mayúsculas para los dígitos arriba de 9. En caso de que `'#'` se especifique, el prefijo también `'0x'` estará en mayúsculas: `'0X'`. |\n",
        "| `'n'`  | Número. Esto es lo mismo que `'d'`, excepto que usa la configuración regional actual para insertar los caracteres de separación de números apropiados. |\n",
        "| Ninguno| Lo mismo que `'d'`.                                                        |\n"
      ]
    },
    {
      "cell_type": "code",
      "execution_count": 63,
      "metadata": {
        "colab": {
          "base_uri": "https://localhost:8080/"
        },
        "id": "ZGzILlTH2985",
        "outputId": "9064aba9-92e6-4c77-cfd3-7955eab1d63f"
      },
      "outputs": [
        {
          "name": "stdout",
          "output_type": "stream",
          "text": [
            "El número es: 42\n"
          ]
        }
      ],
      "source": [
        "# Enteros\n",
        "x = 42\n",
        "print(f\"El número es: {x:d}\")"
      ]
    },
    {
      "cell_type": "code",
      "execution_count": 64,
      "metadata": {
        "colab": {
          "base_uri": "https://localhost:8080/"
        },
        "id": "9cnuVOHF3OdR",
        "outputId": "d057a5e9-e5a9-4ae2-c4bb-024fa8d08fae"
      },
      "outputs": [
        {
          "name": "stdout",
          "output_type": "stream",
          "text": [
            "La cadena es: hola mundo\n"
          ]
        }
      ],
      "source": [
        "# Cadenas de texto\n",
        "s = \"hola mundo\"\n",
        "print(f\"La cadena es: {s:s}\")"
      ]
    },
    {
      "cell_type": "code",
      "execution_count": 65,
      "metadata": {
        "colab": {
          "base_uri": "https://localhost:8080/"
        },
        "id": "hu1lV9-J3OTx",
        "outputId": "a64a19c8-5e7f-475d-9500-73db1c3343a4"
      },
      "outputs": [
        {
          "name": "stdout",
          "output_type": "stream",
          "text": [
            "El número en notación científica es: 1.234560e+02\n"
          ]
        }
      ],
      "source": [
        "# Notación científica\n",
        "f = 123.456\n",
        "print(f\"El número en notación científica es: {f:e}\")"
      ]
    },
    {
      "cell_type": "code",
      "execution_count": 66,
      "metadata": {
        "colab": {
          "base_uri": "https://localhost:8080/"
        },
        "id": "7EcVR-Qo3OJh",
        "outputId": "c61b0480-3415-40b3-bf5a-299e9c7576d2"
      },
      "outputs": [
        {
          "name": "stdout",
          "output_type": "stream",
          "text": [
            "El número en notación de punto fijo es: 123.46\n"
          ]
        }
      ],
      "source": [
        "# Notación de punto fijo\n",
        "g = 123.456\n",
        "print(f\"El número en notación de punto fijo es: {g:.2f}\")"
      ]
    },
    {
      "cell_type": "markdown",
      "metadata": {
        "id": "1F2IR7ridyAU"
      },
      "source": [
        "### Number Formating\n",
        "La sección de formato numérico permite dar formato a los números dentro de las cadenas. Aquí hay algunos ejemplos:"
      ]
    },
    {
      "cell_type": "markdown",
      "metadata": {
        "id": "5Q5AXF-Nd9_z"
      },
      "source": [
        "Para agregar un signo positivo (+) delante de números positivos, use el signo de más (+) después de los dos puntos (:) y antes de la letra de presentación de tipo, como se muestra en el siguiente ejemplo:"
      ]
    },
    {
      "cell_type": "code",
      "execution_count": 68,
      "metadata": {
        "colab": {
          "base_uri": "https://localhost:8080/",
          "height": 35
        },
        "id": "NEuUzl0DeE0U",
        "outputId": "17918e74-9ef6-4367-9c5a-c6f98d6ff4e5"
      },
      "outputs": [
        {
          "data": {
            "application/vnd.google.colaboratory.intrinsic+json": {
              "type": "string"
            },
            "text/plain": [
              "'[       +27]'"
            ]
          },
          "execution_count": 68,
          "metadata": {},
          "output_type": "execute_result"
        }
      ],
      "source": [
        "f'[{27:+10d}]'"
      ]
    },
    {
      "cell_type": "markdown",
      "metadata": {
        "id": "YWb-OhNVeyd8"
      },
      "source": [
        "Si desea agregar un espacio en blanco delante de los números positivos, pero solo mostrar los números negativos sin el espacio en blanco, puede usar un espacio en blanco después de los dos puntos (:) y antes de la letra de presentación de tipo, como se muestra en el siguiente ejemplo:"
      ]
    },
    {
      "cell_type": "code",
      "execution_count": 70,
      "metadata": {
        "colab": {
          "base_uri": "https://localhost:8080/"
        },
        "id": "Ni0b3mUdeyv8",
        "outputId": "f35b27dd-6ee1-4d9e-ac2d-4c39d3199cb7"
      },
      "outputs": [
        {
          "name": "stdout",
          "output_type": "stream",
          "text": [
            " 27\n",
            "-27\n"
          ]
        }
      ],
      "source": [
        "print(f'{27: d}\\n{-27: d}')"
      ]
    },
    {
      "cell_type": "markdown",
      "metadata": {
        "id": "5dU3O9_6ezOL"
      },
      "source": [
        "Si desea separar los números con comas en función de su valor posicional, puede usar la coma (,) después del número de ancho de campo (si se usa) y antes de la letra de presentación de tipo, como se muestra en el siguiente ejemplo:"
      ]
    },
    {
      "cell_type": "code",
      "execution_count": 72,
      "metadata": {
        "colab": {
          "base_uri": "https://localhost:8080/",
          "height": 35
        },
        "id": "1iWPKhlOezhz",
        "outputId": "cc1f433a-9c11-4413-e792-59225be07cec"
      },
      "outputs": [
        {
          "data": {
            "application/vnd.google.colaboratory.intrinsic+json": {
              "type": "string"
            },
            "text/plain": [
              "'12,345,678'"
            ]
          },
          "execution_count": 72,
          "metadata": {},
          "output_type": "execute_result"
        }
      ],
      "source": [
        "f'{12345678:,d}'"
      ]
    },
    {
      "cell_type": "markdown",
      "metadata": {
        "id": "doyKu_wzozkO"
      },
      "source": [
        "## Expresiones Regulares\n",
        "\n",
        "Las expresiones regulares, también conocidas como regex, son una sintaxis utilizada en Python y otros lenguajes de programación para buscar patrones en cadenas de texto. Pueden ser muy útiles para encontrar y manipular texto de manera eficiente."
      ]
    },
    {
      "cell_type": "markdown",
      "metadata": {
        "id": "4B4r56W9pfCc"
      },
      "source": [
        "En Python, podemos utilizar el módulo re para trabajar con expresiones regulares. Para empezar, necesitamos importar el módulo:"
      ]
    },
    {
      "cell_type": "code",
      "execution_count": 73,
      "metadata": {
        "id": "pMnlsa4Yph5G"
      },
      "outputs": [],
      "source": [
        "import re"
      ]
    },
    {
      "cell_type": "markdown",
      "metadata": {
        "id": "yTFXEiWppnX8"
      },
      "source": [
        "Una expresión regular se compone de caracteres especiales y literales que especifican un patrón a buscar en una cadena de texto. Por ejemplo, si queremos encontrar todas las ocurrencias de la palabra \"python\" en una cadena de texto, podemos hacer lo siguiente:"
      ]
    },
    {
      "cell_type": "code",
      "execution_count": 79,
      "metadata": {
        "colab": {
          "base_uri": "https://localhost:8080/"
        },
        "id": "vuQaKBBTpvYF",
        "outputId": "c127782b-00a6-4d2f-d9fb-224bdf2a10e1"
      },
      "outputs": [
        {
          "name": "stdout",
          "output_type": "stream",
          "text": [
            "['python']\n"
          ]
        }
      ],
      "source": [
        "texto = \"Python es un lenguaje de programación muy popular. Hay muchas razones para aprender python.\"\n",
        "resultado = re.findall(\"python\", texto)\n",
        "print(resultado)"
      ]
    },
    {
      "cell_type": "markdown",
      "metadata": {
        "id": "4LYeovktqXxz"
      },
      "source": [
        "Esto nos dará como resultado una lista de todas las ocurrencias de la palabra \"python\" en el texto. \\\n",
        "\n",
        "Sin embargo, las expresiones regulares pueden ser mucho más poderosas que esto. Por ejemplo, si queremos encontrar todas las ocurrencias de cualquier palabra que comience con la letra \"p\", podemos utilizar el siguiente patrón:"
      ]
    },
    {
      "cell_type": "code",
      "execution_count": 82,
      "metadata": {
        "colab": {
          "base_uri": "https://localhost:8080/"
        },
        "id": "_sC6UzGMqfm2",
        "outputId": "2425bd77-8085-43ee-a16b-f402ad9c859a"
      },
      "outputs": [
        {
          "name": "stdout",
          "output_type": "stream",
          "text": [
            "['programación', 'popular', 'para', 'prender', 'python']\n"
          ]
        }
      ],
      "source": [
        "texto = \"Python es un lenguaje de programación muy popular. Hay muchas razones para aprender python.\"\n",
        "resultado = re.findall(\"p\\w+\", texto)\n",
        "print(resultado)"
      ]
    },
    {
      "cell_type": "markdown",
      "metadata": {
        "id": "gwYJ9gkJqpgk"
      },
      "source": [
        "En este patrón, `\\w` representa cualquier carácter alfanumérico, y el signo `+` indica que deben haber uno o más caracteres que sigan a la \"p\". Esto nos dará como resultado una lista de todas las palabras que comienzan con \"p\"."
      ]
    },
    {
      "cell_type": "markdown",
      "metadata": {
        "id": "CiAlG3Pfq-Q8"
      },
      "source": [
        "Las expresiones regulares también pueden ser útiles para validar entradas de usuario, como correos electrónicos o números de teléfono. Por ejemplo, si queremos verificar si una cadena de texto es un correo electrónico válido, podemos hacer lo siguiente:"
      ]
    },
    {
      "cell_type": "code",
      "execution_count": 110,
      "metadata": {
        "colab": {
          "base_uri": "https://localhost:8080/"
        },
        "id": "BHs21tOkrAWk",
        "outputId": "c2347b5b-de8c-4f7d-9202-176a42d5fa77"
      },
      "outputs": [
        {
          "name": "stdout",
          "output_type": "stream",
          "text": [
            "El correo es válido\n"
          ]
        }
      ],
      "source": [
        "correo = \"ejemplo@dominio.com\"\n",
        "patron = \"\\w+@\\w+\\.\\w+\"\n",
        "if re.match(patron, correo):\n",
        "  print(\"El correo es válido\")\n",
        "else:\n",
        "  print(\"El correo no es válido\")"
      ]
    },
    {
      "cell_type": "markdown",
      "metadata": {
        "id": "GWKocCo2rH0E"
      },
      "source": [
        "En este caso, el patrón `\\w+@\\w+\\.\\w+` especifica que debe haber una o más letras o números antes de la arroba, seguidos por una o más letras o números después de la arroba, y luego un punto y una o más letras o números después del punto."
      ]
    },
    {
      "cell_type": "markdown",
      "metadata": {
        "id": "yHAEOcd-rZ8r"
      },
      "source": [
        "## Metacharacters \n",
        "Metacharacters en Python son caracteres especiales que se utilizan en expresiones regulares para indicar acciones como repetir, agrupar, negar, etc. Aquí hay una explicación de cada uno de los metacaracteres comunes:"
      ]
    },
    {
      "cell_type": "markdown",
      "metadata": {
        "id": "OA3oIFHFroLE"
      },
      "source": [
        "`.`: representa cualquier carácter excepto nueva línea (`\\n`)."
      ]
    },
    {
      "cell_type": "code",
      "execution_count": 85,
      "metadata": {
        "colab": {
          "base_uri": "https://localhost:8080/"
        },
        "id": "lVagPa7lrphr",
        "outputId": "7b695016-6afe-4a90-9bce-32cf30b87daf"
      },
      "outputs": [
        {
          "name": "stdout",
          "output_type": "stream",
          "text": [
            "['cat', 'bat', 'mat', 'hat']\n"
          ]
        }
      ],
      "source": [
        "import re\n",
        "text = \"cat, bat, mat, hat, bad\"\n",
        "pattern = \".at\"\n",
        "matches = re.findall(pattern, text)\n",
        "print(matches)"
      ]
    },
    {
      "cell_type": "markdown",
      "metadata": {
        "id": "ABsLuRU-rp2m"
      },
      "source": [
        "`^`: representa el inicio de una cadena."
      ]
    },
    {
      "cell_type": "code",
      "execution_count": 86,
      "metadata": {
        "colab": {
          "base_uri": "https://localhost:8080/"
        },
        "id": "Nrh750purqfz",
        "outputId": "bf8c876b-d4e5-4b78-9547-2e85fb62ec16"
      },
      "outputs": [
        {
          "name": "stdout",
          "output_type": "stream",
          "text": [
            "['apple']\n"
          ]
        }
      ],
      "source": [
        "import re\n",
        "text = \"apple, banana, orange\"\n",
        "pattern = \"^apple\"\n",
        "matches = re.findall(pattern, text)\n",
        "print(matches)"
      ]
    },
    {
      "cell_type": "markdown",
      "metadata": {
        "id": "bQIqBXyIrrCk"
      },
      "source": [
        "`$`: representa el final de una cadena."
      ]
    },
    {
      "cell_type": "code",
      "execution_count": 87,
      "metadata": {
        "colab": {
          "base_uri": "https://localhost:8080/"
        },
        "id": "6WdWoRxgrrTz",
        "outputId": "1ec984dc-7211-48be-b3c5-75f92dc7a495"
      },
      "outputs": [
        {
          "name": "stdout",
          "output_type": "stream",
          "text": [
            "['orange']\n"
          ]
        }
      ],
      "source": [
        "import re\n",
        "text = \"apple, banana, orange\"\n",
        "pattern = \"orange$\"\n",
        "matches = re.findall(pattern, text)\n",
        "print(matches)"
      ]
    },
    {
      "cell_type": "markdown",
      "metadata": {
        "id": "Cwhiz3-xrrpc"
      },
      "source": [
        "`[]`: define un conjunto de caracteres a buscar."
      ]
    },
    {
      "cell_type": "code",
      "execution_count": 89,
      "metadata": {
        "colab": {
          "base_uri": "https://localhost:8080/"
        },
        "id": "QuSiWX6OrsDe",
        "outputId": "df6e1f7a-f184-4e58-aed1-61f58467c419"
      },
      "outputs": [
        {
          "name": "stdout",
          "output_type": "stream",
          "text": [
            "['bat', 'mat', 'hat']\n"
          ]
        }
      ],
      "source": [
        "import re\n",
        "text = \"cat, bat, bad, mat, hat\"\n",
        "pattern = \"[bmh]at\"\n",
        "matches = re.findall(pattern, text)\n",
        "print(matches) # ['bat', 'mat', 'hat']"
      ]
    },
    {
      "cell_type": "markdown",
      "metadata": {
        "id": "GZEt6Xyjs1Kr"
      },
      "source": [
        "`*`: coincide con el elemento anterior cero o más veces."
      ]
    },
    {
      "cell_type": "code",
      "execution_count": 90,
      "metadata": {
        "colab": {
          "base_uri": "https://localhost:8080/"
        },
        "id": "MTKNZQ0Ns1es",
        "outputId": "ec01fddc-b5a5-4e21-931a-d922859724d7"
      },
      "outputs": [
        {
          "name": "stdout",
          "output_type": "stream",
          "text": [
            "['', '', '', 'ccc', '', '', '', '', '', '', '', '', '', '']\n"
          ]
        }
      ],
      "source": [
        "import re\n",
        "text = \"abbcccddddeeeee\"\n",
        "pattern = \"c*\"\n",
        "matches = re.findall(pattern, text)\n",
        "print(matches)"
      ]
    },
    {
      "cell_type": "markdown",
      "metadata": {
        "id": "ddk2eRODs17c"
      },
      "source": [
        "`+`: coincide con el elemento anterior una o más veces."
      ]
    },
    {
      "cell_type": "code",
      "execution_count": 91,
      "metadata": {
        "colab": {
          "base_uri": "https://localhost:8080/"
        },
        "id": "uAoWNM-6s2M8",
        "outputId": "78dd253a-030b-49e0-f5f5-7bdb280316bf"
      },
      "outputs": [
        {
          "name": "stdout",
          "output_type": "stream",
          "text": [
            "['ccc']\n"
          ]
        }
      ],
      "source": [
        "import re\n",
        "text = \"abbcccddddeeeee\"\n",
        "pattern = \"c+\"\n",
        "matches = re.findall(pattern, text)\n",
        "print(matches)"
      ]
    },
    {
      "cell_type": "markdown",
      "metadata": {
        "id": "aOFHZEISs2jT"
      },
      "source": [
        "`?`: coincide con el elemento anterior cero o una vez."
      ]
    },
    {
      "cell_type": "code",
      "execution_count": 92,
      "metadata": {
        "colab": {
          "base_uri": "https://localhost:8080/"
        },
        "id": "P2u9QCvIs20G",
        "outputId": "603634f3-3f5b-4382-e14e-970adcd0c082"
      },
      "outputs": [
        {
          "name": "stdout",
          "output_type": "stream",
          "text": [
            "['colour', 'color']\n"
          ]
        }
      ],
      "source": [
        "import re\n",
        "text = \"colour, color\"\n",
        "pattern = \"colou?r\"\n",
        "matches = re.findall(pattern, text)\n",
        "print(matches)"
      ]
    },
    {
      "cell_type": "markdown",
      "metadata": {
        "id": "EbOTzHyrtded"
      },
      "source": [
        "`{m,n}`: coincide con el elemento anterior al menos `m` y como máximo `n` veces."
      ]
    },
    {
      "cell_type": "code",
      "execution_count": 93,
      "metadata": {
        "colab": {
          "base_uri": "https://localhost:8080/"
        },
        "id": "MZU_TnHBtdxD",
        "outputId": "b308227e-ebd2-439c-9c98-fd18b8a967c4"
      },
      "outputs": [
        {
          "name": "stdout",
          "output_type": "stream",
          "text": [
            "['ccc']\n"
          ]
        }
      ],
      "source": [
        "import re\n",
        "text = \"abbcccddddeeeee\"\n",
        "pattern = \"c{2,4}\"\n",
        "matches = re.findall(pattern, text)\n",
        "print(matches)"
      ]
    },
    {
      "cell_type": "markdown",
      "metadata": {
        "id": "Gfos-dgQt81F"
      },
      "source": [
        "## Clases de Caracteres Predefinidas\n",
        "\n",
        "Las clases de caracteres predefinidas son útiles para hacer coincidir diferentes tipos de caracteres en una cadena. Aquí hay una breve explicación de cada una de ellas con algunos ejemplos en Python"
      ]
    },
    {
      "cell_type": "markdown",
      "metadata": {
        "id": "PUzTo86buR4U"
      },
      "source": [
        "`\\d`: coincidirá con cualquier dígito (0-9)."
      ]
    },
    {
      "cell_type": "code",
      "execution_count": 96,
      "metadata": {
        "colab": {
          "base_uri": "https://localhost:8080/"
        },
        "id": "pw0fAEXruSNs",
        "outputId": "a2c4df9f-7417-4935-c384-1a3950559268"
      },
      "outputs": [
        {
          "name": "stdout",
          "output_type": "stream",
          "text": [
            "42\n"
          ]
        }
      ],
      "source": [
        "import re\n",
        "string = \"La respuesta es 42.\"\n",
        "match = re.search(r'\\d+', string)\n",
        "print(match.group())"
      ]
    },
    {
      "cell_type": "markdown",
      "metadata": {
        "id": "1A6-1QEnuSoM"
      },
      "source": [
        "`\\D`: coincidirá con cualquier carácter que no sea un dígito."
      ]
    },
    {
      "cell_type": "code",
      "execution_count": 99,
      "metadata": {
        "colab": {
          "base_uri": "https://localhost:8080/"
        },
        "id": "Jbn9Nz8MuS3u",
        "outputId": "b46f4c67-888d-4986-bb5f-8bd5bab5500e"
      },
      "outputs": [
        {
          "name": "stdout",
          "output_type": "stream",
          "text": [
            "La respuesta es \n"
          ]
        }
      ],
      "source": [
        "import re\n",
        "string = \"La respuesta es 42.\"\n",
        "match = re.search(r'\\D+', string)\n",
        "print(match.group())"
      ]
    },
    {
      "cell_type": "markdown",
      "metadata": {
        "id": "8xybTgIDuTG8"
      },
      "source": [
        "`\\s`: coincidirá con cualquier carácter de espacio en blanco, como espacios, tabulaciones o saltos de línea."
      ]
    },
    {
      "cell_type": "code",
      "execution_count": 100,
      "metadata": {
        "colab": {
          "base_uri": "https://localhost:8080/"
        },
        "id": "043qEZksuTkk",
        "outputId": "23749844-b62c-4891-96bf-176817728d91"
      },
      "outputs": [
        {
          "name": "stdout",
          "output_type": "stream",
          "text": [
            "[' ', '\\t', ' ', '\\n']\n"
          ]
        }
      ],
      "source": [
        "import re\n",
        "string = \"Hola \\t mundo\\n!\"\n",
        "match = re.findall(r'\\s', string)\n",
        "print(match)"
      ]
    },
    {
      "cell_type": "markdown",
      "metadata": {
        "id": "-CAJNsSnuTy2"
      },
      "source": [
        "`\\S`: coincidirá con cualquier carácter que no sea un espacio en blanco."
      ]
    },
    {
      "cell_type": "code",
      "execution_count": 101,
      "metadata": {
        "colab": {
          "base_uri": "https://localhost:8080/"
        },
        "id": "Xj9FvHuruUGc",
        "outputId": "ef5cc284-e174-4bd8-dc69-f854f3462481"
      },
      "outputs": [
        {
          "name": "stdout",
          "output_type": "stream",
          "text": [
            "['H', 'o', 'l', 'a', 'm', 'u', 'n', 'd', 'o', '!']\n"
          ]
        }
      ],
      "source": [
        "import re\n",
        "string = \"Hola \\t mundo\\n!\"\n",
        "match = re.findall(r'\\S', string)\n",
        "print(match)"
      ]
    },
    {
      "cell_type": "markdown",
      "metadata": {
        "id": "EJC4woObxDVT"
      },
      "source": [
        "`\\w`: coincidirá con cualquier carácter de palabra, es decir, cualquier letra, número o guión bajo."
      ]
    },
    {
      "cell_type": "code",
      "execution_count": 102,
      "metadata": {
        "colab": {
          "base_uri": "https://localhost:8080/"
        },
        "id": "x_BinaWgxD6r",
        "outputId": "4732e69a-db99-4f76-af1e-a3e07f95dfd1"
      },
      "outputs": [
        {
          "name": "stdout",
          "output_type": "stream",
          "text": [
            "['El', 'correo', 'electrónico', 'es', 'info', 'example', 'com']\n"
          ]
        }
      ],
      "source": [
        "import re\n",
        "string = \"El correo electrónico es info@example.com\"\n",
        "match = re.findall(r'\\w+', string)\n",
        "print(match)"
      ]
    },
    {
      "cell_type": "markdown",
      "metadata": {
        "id": "YGFZhe8kxELk"
      },
      "source": [
        "`\\W`: coincidirá con cualquier carácter que no sea un carácter de palabra"
      ]
    },
    {
      "cell_type": "code",
      "execution_count": 103,
      "metadata": {
        "colab": {
          "base_uri": "https://localhost:8080/"
        },
        "id": "W1pO_cUNxEds",
        "outputId": "2e50c342-5a05-4cd5-a833-f7b51485c8ab"
      },
      "outputs": [
        {
          "name": "stdout",
          "output_type": "stream",
          "text": [
            "[' ', ' ', ' ', ' ', '@', '.']\n"
          ]
        }
      ],
      "source": [
        "import re\n",
        "string = \"El correo electrónico es info@example.com\"\n",
        "match = re.findall(r'\\W+', string)\n",
        "print(match)"
      ]
    },
    {
      "cell_type": "markdown",
      "metadata": {
        "id": "iYJUKkQXxE0T"
      },
      "source": [
        "## métodos/atributos\n",
        "métodos/atributos en Python para trabajar con expresiones regulares:"
      ]
    },
    {
      "cell_type": "markdown",
      "metadata": {
        "id": "_K9Tku_Ayi5M"
      },
      "source": [
        "`match()`: Este método comprueba si la expresión regular coincide con el inicio de una cadena. Devuelve un objeto de tipo 'match' si hay una coincidencia, o 'None' en caso contrario. Por ejemplo:"
      ]
    },
    {
      "cell_type": "code",
      "execution_count": 104,
      "metadata": {
        "colab": {
          "base_uri": "https://localhost:8080/"
        },
        "id": "o8MmVu_OxFSr",
        "outputId": "24b857a2-5399-47dd-8898-a33cf999bb4d"
      },
      "outputs": [
        {
          "name": "stdout",
          "output_type": "stream",
          "text": [
            "Coincidencia encontrada: hola\n"
          ]
        }
      ],
      "source": [
        "import re\n",
        "string = 'hola mundo'\n",
        "pattern = r'hola'\n",
        "# Comprobar si la expresión regular coincide con el inicio de la cadena\n",
        "match_object = re.match(pattern, string)\n",
        "if match_object:\n",
        "  print(\"Coincidencia encontrada:\", match_object.group())\n",
        "else:\n",
        "  print(\"No se encontró coincidencia\")"
      ]
    },
    {
      "cell_type": "markdown",
      "metadata": {
        "id": "K4LhlvrzyjXT"
      },
      "source": [
        "`search()`: Este método busca la primera coincidencia de la expresión regular en la cadena. Devuelve un objeto de tipo 'match' si hay una coincidencia, o 'None' en caso contrario. Por ejemplo:"
      ]
    },
    {
      "cell_type": "code",
      "execution_count": null,
      "metadata": {
        "id": "kUL6bvDVyjuM"
      },
      "outputs": [],
      "source": [
        "import re\n",
        "string = 'hola mundo'\n",
        "pattern = r'mundo'\n",
        "# Buscar la primera coincidencia de la expresión regular en la cadena\n",
        "match_object = re.search(pattern, string)\n",
        "if match_object:\n",
        "  print(\"Coincidencia encontrada:\", match_object.group())\n",
        "else:\n",
        "  print(\"No se encontró coincidencia\")"
      ]
    },
    {
      "cell_type": "markdown",
      "metadata": {
        "id": "3jPNYnlYykHM"
      },
      "source": [
        "`findall()`: Este método busca todas las coincidencias de la expresión regular en la cadena y las devuelve como una lista de cadenas. Por ejemplo:"
      ]
    },
    {
      "cell_type": "code",
      "execution_count": 105,
      "metadata": {
        "colab": {
          "base_uri": "https://localhost:8080/"
        },
        "id": "nkshA6KqykV0",
        "outputId": "4f1fc75b-46bc-4303-e1c6-fc528b45d301"
      },
      "outputs": [
        {
          "name": "stdout",
          "output_type": "stream",
          "text": [
            "['123', '456']\n"
          ]
        }
      ],
      "source": [
        "import re\n",
        "string = 'hola 123 mundo 456'\n",
        "pattern = r'\\d+'\n",
        "# Buscar todas las coincidencias de la expresión regular en la cadena\n",
        "matches = re.findall(pattern, string)\n",
        "print(matches)"
      ]
    },
    {
      "cell_type": "markdown",
      "metadata": {
        "id": "ujF_J4-hykr0"
      },
      "source": [
        "`finditer()`: Este método busca todas las coincidencias de la expresión regular en la cadena y las devuelve como un iterador de objetos 'match'. Por ejemplo:"
      ]
    },
    {
      "cell_type": "code",
      "execution_count": 106,
      "metadata": {
        "colab": {
          "base_uri": "https://localhost:8080/"
        },
        "id": "RNagvNmxylEF",
        "outputId": "699199eb-1158-40c5-f05b-293c11c857ad"
      },
      "outputs": [
        {
          "name": "stdout",
          "output_type": "stream",
          "text": [
            "123\n",
            "456\n"
          ]
        }
      ],
      "source": [
        "import re\n",
        "string = 'hola 123 mundo 456'\n",
        "pattern = r'\\d+'\n",
        "# Buscar todas las coincidencias de la expresión regular en la cadena\n",
        "matches_iterator = re.finditer(pattern, string)\n",
        "\n",
        "for match_object in matches_iterator:\n",
        "  print(match_object.group())"
      ]
    },
    {
      "cell_type": "markdown",
      "metadata": {
        "id": "J-RU2lp_z6HL"
      },
      "source": [
        "## Sustitución\n",
        "\n",
        "La sustitución es un proceso que nos permite reemplazar cadenas que coinciden con un patrón de expresiones regulares con otra cadena deseada. En Python, podemos hacer esto usando la función `sub` del módulo `re`.\n",
        "\n",
        "Veamos algunos ejemplos para entender mejor la sustitución:"
      ]
    },
    {
      "cell_type": "code",
      "execution_count": 107,
      "metadata": {
        "colab": {
          "base_uri": "https://localhost:8080/"
        },
        "id": "xmDvE3aQ0GHe",
        "outputId": "09007f9c-570d-4fff-cf2f-86146edb5ae4"
      },
      "outputs": [
        {
          "name": "stdout",
          "output_type": "stream",
          "text": [
            "La fecha actual es 02/03/2023\n",
            "La fecha actual es 2023-03-02\n"
          ]
        }
      ],
      "source": [
        "import re\n",
        "# Definir una cadena\n",
        "s = 'La fecha actual es 02/03/2023'\n",
        "\n",
        "# Sustituir el formato de la fecha\n",
        "s_nueva = re.sub(r'(\\d+)/(\\d+)/(\\d+)', r'\\3-\\2-\\1', s)\n",
        "\n",
        "# Imprimir la cadena original y la cadena con la sustitución\n",
        "print(s)\n",
        "print(s_nueva)"
      ]
    },
    {
      "cell_type": "markdown",
      "metadata": {
        "id": "0ZsnSlV40QF0"
      },
      "source": [
        "En este ejemplo, hemos definido una cadena `s` que contiene una fecha en formato \"mes/día/año\". Queremos cambiar este formato a \"año-mes-día\". Usando `re.sub`, hemos creado un patrón de expresión regular que busca cualquier cadena que coincida con el formato de fecha y lo hemos reemplazado por la cadena que queremos (`r'\\3-\\2-\\1'`)."
      ]
    },
    {
      "cell_type": "markdown",
      "metadata": {
        "id": "Vo-Veaes0W7M"
      },
      "source": [
        "En la cadena de sustitución `r'\\3-\\2-\\1'`, estamos usando los metacaracteres `\\1`, `\\2` y `\\3`, que se refieren a los tres grupos de captura en nuestro patrón de expresión regular. El grupo de captura se define usando paréntesis en el patrón. En este caso, hemos definido tres grupos de captura: uno para el mes, otro para el día y otro para el año."
      ]
    },
    {
      "cell_type": "markdown",
      "metadata": {
        "id": "SSc7XZL70b61"
      },
      "source": [
        "Otro ejemplo de sustitución es usar una función para generar la cadena de reemplazo:"
      ]
    },
    {
      "cell_type": "code",
      "execution_count": 108,
      "metadata": {
        "colab": {
          "base_uri": "https://localhost:8080/"
        },
        "id": "4e9I3B510dys",
        "outputId": "d0ce496c-5040-40bf-eca9-7e18e0218ac2"
      },
      "outputs": [
        {
          "name": "stdout",
          "output_type": "stream",
          "text": [
            "La fecha actual es 02/03/2023\n",
            "La fecha actual es 2023-02-03\n"
          ]
        }
      ],
      "source": [
        "import re\n",
        "\n",
        "# Definir una cadena\n",
        "s = 'La fecha actual es 02/03/2023'\n",
        "\n",
        "# Función de sustitución\n",
        "def cambiar_fecha(match):\n",
        "  mes = int(match.group(1))\n",
        "  dia = int(match.group(2))\n",
        "  anio = int(match.group(3))\n",
        "  return f'{anio}-{mes:02d}-{dia:02d}'\n",
        "\n",
        "# Sustituir el formato de la fecha\n",
        "s_nueva = re.sub(r'(\\d+)/(\\d+)/(\\d+)', cambiar_fecha, s)\n",
        "\n",
        "# Imprimir la cadena original y la cadena con la sustitución\n",
        "print(s)\n",
        "print(s_nueva)"
      ]
    },
    {
      "cell_type": "markdown",
      "metadata": {
        "id": "ZeNPCBhE0p0k"
      },
      "source": [
        "En este ejemplo, hemos definido una función `cambiar_fecha` que toma un objeto de coincidencia como argumento y devuelve la cadena de reemplazo deseada. La función extrae el mes, día y año de la coincidencia y luego devuelve una cadena formateada en el formato \"año-mes-día\". Luego, usamos esta función como el segundo argumento en la llamada a `re.sub`. La función `re.sub` llamará a nuestra función de sustitución para cada coincidencia encontrada en la cadena y usará la cadena que devuelve para reemplazar la coincidencia en la cadena original."
      ]
    },
    {
      "cell_type": "markdown",
      "metadata": {
        "id": "mTp1LaKfEbQA"
      },
      "source": [
        "## Conclusión\n",
        " \n",
        "En resumen, en este chat hemos aprendido que Python es un lenguaje poderoso para trabajar con strings. Hemos visto diferentes métodos para manipular y transformar texto, así como para buscar y contar subcadenas. También hemos aprendido cómo verificar la composición de los strings y cómo eliminar caracteres no deseados. Estos conocimientos son esenciales para cualquier programador, y dominarlos nos permitirá trabajar de manera eficiente y efectiva con texto en nuestros proyectos. En definitiva, este chat ha sido una introducción útil para aquellos que quieran mejorar su manejo de strings en Python.\n",
        "\n"
      ]
    }
  ],
  "metadata": {
    "colab": {
      "provenance": []
    },
    "kernelspec": {
      "display_name": "Python 3",
      "name": "python3"
    },
    "language_info": {
      "name": "python"
    }
  },
  "nbformat": 4,
  "nbformat_minor": 0
}
