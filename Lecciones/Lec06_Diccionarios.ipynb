{
  "cells": [
    {
      "cell_type": "markdown",
      "metadata": {},
      "source": [
        "<a href=\"https://colab.research.google.com/github/JuanFranco-hub/Python-Tutorial-for-ML/blob/main/Lecciones/Lec06_Diccionarios.ipynb\" target=\"_parent\"><img src=\"https://colab.research.google.com/assets/colab-badge.svg\" alt=\"Open In Colab\"/></a> "
      ]
    },
    {
      "cell_type": "markdown",
      "metadata": {
        "id": "n8LThv1qOT_4"
      },
      "source": [
        "# ***TUTORIAL: DICCIONARIO EN PYTHON***\n",
        "\n",
        "Los diccionarios son estructuras que nos permiten almacenar datos. A diferencia de las secuencias, funciona con pares clave-valor. Esto significa que los valores estan asociados a claves únicas. Los diccionarios son colecciones ordenadas que permiten cualquier clase de valor.\n",
        "\n",
        "La importancia los diccionarios reside en la capacidad de organizar y acceder a los datos almacenados de forma eficiente y sencilla. Esto permite versalitidad al momento de desarrollar proyectos.\n"
      ]
    },
    {
      "cell_type": "markdown",
      "metadata": {
        "id": "nbT013WxYSDv"
      },
      "source": [
        "-----\n",
        "## Como crear un diccionario\n",
        "\n",
        "1. Se declara con un nombre y con corchetes curvos. Cada clave puede ser cualquier tipo de dato de python. Después de la clave se coloca \":\" y se coloca el valor. Los valores estan separados por comas"
      ]
    },
    {
      "cell_type": "code",
      "execution_count": null,
      "metadata": {
        "id": "gVnG0vC9Sxod"
      },
      "outputs": [],
      "source": [
        "diccionario = {\"clave1\": 1, \"clave2\": 2, \"clave3\": 3}"
      ]
    },
    {
      "cell_type": "markdown",
      "metadata": {
        "id": "e4yShuW8aIIn"
      },
      "source": [
        "2. Convertir puedes convertir una tupla o diferentes secuencias un Diccionario utilizando 'dict'. Esta palabra clave trasforma las diferentes asignaciones en pares clave-valor."
      ]
    },
    {
      "cell_type": "code",
      "execution_count": null,
      "metadata": {
        "colab": {
          "base_uri": "https://localhost:8080/"
        },
        "id": "CRL82GJ6eHNp",
        "outputId": "5e99c7cb-59a9-449a-ac59-7d52f867b7fb"
      },
      "outputs": [
        {
          "name": "stdout",
          "output_type": "stream",
          "text": [
            "Alice\n",
            "False\n"
          ]
        }
      ],
      "source": [
        "estudiante = dict([\n",
        "    (\"nombre\", \"Alice\"),\n",
        "    (\"graduado\", False),\n",
        "    (\"Casado\", False),\n",
        "    (\"Edad\", 23),\n",
        "    (\"hobbies\", [\"natacion\", \"Gym\", \"Boxing\"])\n",
        "])\n",
        "print(estudiante[\"nombre\"])\n",
        "print(estudiante[\"Casado\"])"
      ]
    },
    {
      "cell_type": "markdown",
      "metadata": {
        "id": "k80EyDvodBEJ"
      },
      "source": [
        "3. Trasnformar elementos asignados en Diccionarios. Siempre y cuando esten separados por comas, secuencias de varios tiempos y variables pueden transformarse en un diccionario."
      ]
    },
    {
      "cell_type": "code",
      "execution_count": null,
      "metadata": {
        "colab": {
          "base_uri": "https://localhost:8080/"
        },
        "id": "FAhfiwHbhVbQ",
        "outputId": "5949e07c-ba68-4bfd-e68e-8fc248097e0d"
      },
      "outputs": [
        {
          "name": "stdout",
          "output_type": "stream",
          "text": [
            "Alice\n",
            "False\n"
          ]
        }
      ],
      "source": [
        "estudiante = dict(\n",
        "    nombre = \"Alice\",\n",
        "    graduado = False,\n",
        "    Edad = 23,\n",
        "    hobbies = [\"natacion\", \"Gym\", \"Boxing\"])\n",
        "\n",
        "print(estudiante[\"nombre\"])\n",
        "print(estudiante[\"graduado\"])"
      ]
    },
    {
      "cell_type": "markdown",
      "metadata": {
        "id": "SdBYQE-qiLti"
      },
      "source": [
        "4. Es posible crear un diccionario vacio y posteriormente agregar elementos a el."
      ]
    },
    {
      "cell_type": "code",
      "execution_count": null,
      "metadata": {
        "colab": {
          "base_uri": "https://localhost:8080/"
        },
        "id": "jq3B3eNHieFp",
        "outputId": "0cab249c-015f-4a3c-983a-c07badbf220c"
      },
      "outputs": [
        {
          "name": "stdout",
          "output_type": "stream",
          "text": [
            "Alice\n",
            "False\n"
          ]
        }
      ],
      "source": [
        "diccionario = {}\n",
        "diccionario[\"nombre\"] =\"Alice\"\n",
        "diccionario[\"graduado\"] = False\n",
        "diccionario[\"casado\"] = False\n",
        "\n",
        "print(estudiante[\"nombre\"])\n",
        "print(estudiante[\"graduado\"])"
      ]
    },
    {
      "cell_type": "markdown",
      "metadata": {
        "id": "12EUScYMTUiX"
      },
      "source": [
        "-----\n",
        "## Propiedades de un diccionario y funciones CRUD\n",
        "### Mutables (UPDATE)\n",
        "\n",
        "Es posible cambiar el valor de un elemento del diccionario despues de ser creado.\n",
        "\n",
        "### Heterogeneos\n",
        "Permiten multiples tipos de datos.\n",
        "\n",
        "- Cadena\n",
        "- Entero\n",
        "- flotante\n",
        "- Booleano\n",
        "- Tupla\n",
        "- Función\n",
        "- Objeto\n",
        "\n",
        "### Ordenados\n",
        "\n",
        "Despues de ser cambiado un valor, mantiene su orden.\n",
        "\n",
        "### Indexables\n",
        "\n",
        "Las claves funcionan como indices que permiten acceder de forma ordenada a los valores."
      ]
    },
    {
      "cell_type": "code",
      "execution_count": null,
      "metadata": {
        "colab": {
          "base_uri": "https://localhost:8080/"
        },
        "id": "hSDWfOtATaXU",
        "outputId": "42f7ed03-9c38-4b99-ef7b-1b8154dd88d9"
      },
      "outputs": [
        {
          "name": "stdout",
          "output_type": "stream",
          "text": [
            "{'clave1': 1, 'clave2': 2, 'clave3': 3}\n",
            "{'clave1': 1, 'clave2': 8, 'clave3': 3}\n"
          ]
        }
      ],
      "source": [
        "diccionario = {\"clave1\": 1, \"clave2\": 2, \"clave3\": 3} #Las \"Claves son indices\"\n",
        "print(diccionario)\n",
        "diccionario[\"clave2\"] = 8 # Son mutables, se puede cambiar valores\n",
        "print(diccionario) # Ordenados, mantienen el orden en que se creo"
      ]
    },
    {
      "cell_type": "markdown",
      "metadata": {
        "id": "dCF3DnNXTpiS"
      },
      "source": [
        "### No tiene claves duplicadas\n",
        "Las Claves son unicas, por lo que solo se refieren al valor que tienen asignado. Esto permite mantener el orden del diccionario y evita errores. En caso de que se declaren 2 claves con el mismo nombre y diferentes valores, la clave se relacionara solamente al ultimo valor."
      ]
    },
    {
      "cell_type": "code",
      "execution_count": null,
      "metadata": {
        "colab": {
          "base_uri": "https://localhost:8080/"
        },
        "id": "iK1miO92VLDo",
        "outputId": "ec026950-443b-4eb4-a495-4fad5b41ad1c"
      },
      "outputs": [
        {
          "name": "stdout",
          "output_type": "stream",
          "text": [
            "5\n"
          ]
        }
      ],
      "source": [
        "diccionario = {\"clave1\": 0, \"clave1\": 2,  \"clave1\": 5}\n",
        "print(diccionario[\"clave1\"])"
      ]
    },
    {
      "cell_type": "markdown",
      "metadata": {
        "id": "_vKAXBjmjVnc"
      },
      "source": [
        "## Leer un diccionario\n",
        "\n",
        "Para **Leer** un diccionario completo solo es necesario colocarlo como el argumento de una funcion 'print'. Al leer un valor individual es necesario colocar en corchetes cuadrados la clave \"[]\"\n"
      ]
    },
    {
      "cell_type": "code",
      "execution_count": null,
      "metadata": {
        "colab": {
          "base_uri": "https://localhost:8080/"
        },
        "id": "8C39Vcm_jufp",
        "outputId": "782ea094-dbf5-43d3-c890-dc7a28031b03"
      },
      "outputs": [
        {
          "name": "stdout",
          "output_type": "stream",
          "text": [
            "{'clave1': 0, 'clave2': 2, 'clave3': 5}\n",
            "0\n"
          ]
        }
      ],
      "source": [
        "diccionario = {\"clave1\": 0, \"clave2\": 2,  \"clave3\": 5}\n",
        "print(diccionario)\n",
        "print(diccionario[\"clave1\"])"
      ]
    },
    {
      "cell_type": "markdown",
      "metadata": {
        "id": "tRhAmo0skK6a"
      },
      "source": [
        "### Borrar clave en un diccionario.\n",
        "\n",
        "Para borrar una clase de un diccionario puedes usar la funcion 'pop()'o la palabra clave 'del'."
      ]
    },
    {
      "cell_type": "code",
      "execution_count": null,
      "metadata": {
        "colab": {
          "base_uri": "https://localhost:8080/"
        },
        "id": "qPolnDQ9lSz9",
        "outputId": "02b763b7-3e66-4856-cb90-9d2eca979870"
      },
      "outputs": [
        {
          "name": "stdout",
          "output_type": "stream",
          "text": [
            "{'clave2': 2, 'clave3': 5}\n"
          ]
        }
      ],
      "source": [
        "diccionario = {\"clave1\": 0, \"clave2\": 2,  \"clave3\": 5}\n",
        "diccionario.pop(\"clave1\")\n",
        "print(diccionario)"
      ]
    },
    {
      "cell_type": "code",
      "execution_count": null,
      "metadata": {
        "colab": {
          "base_uri": "https://localhost:8080/"
        },
        "id": "FtizKytkle4M",
        "outputId": "c9066255-bd89-47cf-f902-d2f8dad83915"
      },
      "outputs": [
        {
          "name": "stdout",
          "output_type": "stream",
          "text": [
            "{'clave2': 2, 'clave3': 5}\n"
          ]
        }
      ],
      "source": [
        "diccionario = {\"clave1\": 0, \"clave2\": 2,  \"clave3\": 5}\n",
        "del diccionario[\"clave1\"]\n",
        "print(diccionario)"
      ]
    },
    {
      "cell_type": "markdown",
      "metadata": {
        "id": "MNqcyp37-8bz"
      },
      "source": [
        "-----\n",
        "# Metodos en diccionarios\n",
        "\n",
        "Los métodos en los diccionarios funcionan de la siguiente manera.\n",
        "\n",
        "#### Get()\n",
        "Busca un elemento a partir de su clave, si no, devuelve un valor por defecto.\n",
        "\n"
      ]
    },
    {
      "cell_type": "code",
      "execution_count": null,
      "metadata": {
        "colab": {
          "base_uri": "https://localhost:8080/"
        },
        "id": "nNAcfqzP_hqJ",
        "outputId": "4004b8bc-aaf4-4ab3-e39e-fb653416756c"
      },
      "outputs": [
        {
          "name": "stdout",
          "output_type": "stream",
          "text": [
            "0\n"
          ]
        }
      ],
      "source": [
        "diccionario = {\"clave1\": 0, \"clave2\": 2,  \"clave3\": 5}\n",
        "A=diccionario.get(\"clave1\")\n",
        "print(A)"
      ]
    },
    {
      "cell_type": "markdown",
      "metadata": {
        "id": "Xqv0Q2f1_yOY"
      },
      "source": [
        "#### keys()\n",
        "Genera una lista de las claves de los registros del diccionario.\n",
        "\n"
      ]
    },
    {
      "cell_type": "code",
      "execution_count": null,
      "metadata": {
        "colab": {
          "base_uri": "https://localhost:8080/"
        },
        "id": "Xe6EqG2aAFaO",
        "outputId": "01a7831c-4fcb-450a-f026-ecf73f9d1250"
      },
      "outputs": [
        {
          "name": "stdout",
          "output_type": "stream",
          "text": [
            "dict_keys(['clave1', 'clave2', 'clave3'])\n"
          ]
        }
      ],
      "source": [
        "diccionario = {\"clave1\": 0, \"clave2\": 2,  \"clave3\": 5}\n",
        "A=diccionario.keys()\n",
        "print(A)"
      ]
    },
    {
      "cell_type": "markdown",
      "metadata": {
        "id": "v7EcCkLxAUJf"
      },
      "source": [
        "#### values()\n",
        "Genera una lisa de los valores de los registros del diccionario.\n"
      ]
    },
    {
      "cell_type": "code",
      "execution_count": null,
      "metadata": {
        "colab": {
          "base_uri": "https://localhost:8080/"
        },
        "id": "yGIGIMqzAeI5",
        "outputId": "058faaf7-8307-4573-cace-3c2e326b2c97"
      },
      "outputs": [
        {
          "name": "stdout",
          "output_type": "stream",
          "text": [
            "dict_values([0, 2, 5])\n"
          ]
        }
      ],
      "source": [
        "diccionario = {\"clave1\": 0, \"clave2\": 2,  \"clave3\": 5}\n",
        "A=diccionario.values()\n",
        "print(A)"
      ]
    },
    {
      "cell_type": "markdown",
      "metadata": {
        "id": "DcIkDc_AAowV"
      },
      "source": [
        "#### items()\n",
        "\n",
        "Genera una lista en clave-valor de los registros del diccionario."
      ]
    },
    {
      "cell_type": "code",
      "execution_count": null,
      "metadata": {
        "colab": {
          "base_uri": "https://localhost:8080/"
        },
        "id": "Y5283areA1r1",
        "outputId": "d7aae618-1c96-4955-c753-ff31e004d1b6"
      },
      "outputs": [
        {
          "name": "stdout",
          "output_type": "stream",
          "text": [
            "dict_items([('clave1', 0), ('clave2', 2), ('clave3', 5)])\n"
          ]
        }
      ],
      "source": [
        "diccionario = {\"clave1\": 0, \"clave2\": 2,  \"clave3\": 5}\n",
        "A=diccionario.items()\n",
        "print(A)"
      ]
    },
    {
      "cell_type": "markdown",
      "metadata": {
        "id": "M1rmsWirA-YF"
      },
      "source": [
        "#### pop()\n",
        "Elimina la clave de un registro\n",
        "\n"
      ]
    },
    {
      "cell_type": "code",
      "execution_count": null,
      "metadata": {
        "colab": {
          "base_uri": "https://localhost:8080/"
        },
        "id": "GU0_u3HEBZwx",
        "outputId": "1c045614-d492-4470-baae-2a6cca36d70a"
      },
      "outputs": [
        {
          "name": "stdout",
          "output_type": "stream",
          "text": [
            "{'clave2': 2, 'clave3': 5}\n"
          ]
        }
      ],
      "source": [
        "diccionario = {\"clave1\": 0, \"clave2\": 2,  \"clave3\": 5}\n",
        "diccionario.pop(\"clave1\")\n",
        "print(diccionario)"
      ]
    },
    {
      "cell_type": "markdown",
      "metadata": {
        "id": "_3GlRg-DB6lS"
      },
      "source": [
        "#### clear()\n",
        "\n",
        "Borra todos los registros del diccionario."
      ]
    },
    {
      "cell_type": "code",
      "execution_count": null,
      "metadata": {
        "colab": {
          "base_uri": "https://localhost:8080/"
        },
        "id": "WSc75npQCDUC",
        "outputId": "3774cb86-ce99-4900-caa3-7c3db6c27645"
      },
      "outputs": [
        {
          "name": "stdout",
          "output_type": "stream",
          "text": [
            "{}\n"
          ]
        }
      ],
      "source": [
        "diccionario = {\"clave1\": 0, \"clave2\": 2,  \"clave3\": 5}\n",
        "diccionario.clear()\n",
        "print(diccionario)"
      ]
    },
    {
      "cell_type": "markdown",
      "metadata": {
        "id": "WS57xgsrCJ_Z"
      },
      "source": [
        "## Iteración y slicing\n",
        "\n",
        "Las iteraciones permiten recorrer los registros del diccionario. Es posible recorrer en base a las claves, los valores o ambos.\n",
        "\n",
        "1. ***En base a claves***\n"
      ]
    },
    {
      "cell_type": "code",
      "execution_count": null,
      "metadata": {
        "colab": {
          "base_uri": "https://localhost:8080/"
        },
        "id": "HkUYbmgeTLnM",
        "outputId": "f0367931-f9c2-47b6-cc69-b9115f6e60b2"
      },
      "outputs": [
        {
          "name": "stdout",
          "output_type": "stream",
          "text": [
            "a\n",
            "b\n",
            "c\n"
          ]
        }
      ],
      "source": [
        "mi_diccionario = {\"a\": 1, \"b\": 2, \"c\": 3}\n",
        "for clave in mi_diccionario.keys():\n",
        "    print(clave)"
      ]
    },
    {
      "cell_type": "markdown",
      "metadata": {
        "id": "GxmMCEVvTH_M"
      },
      "source": [
        "2. ***En Base a Valores***"
      ]
    },
    {
      "cell_type": "code",
      "execution_count": null,
      "metadata": {
        "colab": {
          "base_uri": "https://localhost:8080/"
        },
        "id": "DZtdtfYYTTac",
        "outputId": "339ad677-815c-45f7-f19b-d089aeb992d9"
      },
      "outputs": [
        {
          "name": "stdout",
          "output_type": "stream",
          "text": [
            "1\n",
            "2\n",
            "3\n"
          ]
        }
      ],
      "source": [
        "mi_diccionario = {\"a\": 1, \"b\": 2, \"c\": 3}\n",
        "for valor in mi_diccionario.values():\n",
        "    print(valor)"
      ]
    },
    {
      "cell_type": "markdown",
      "metadata": {
        "id": "jlHlrcQfTTvk"
      },
      "source": [
        "3. ***En base a claves y valores a la vez***"
      ]
    },
    {
      "cell_type": "code",
      "execution_count": null,
      "metadata": {
        "colab": {
          "base_uri": "https://localhost:8080/"
        },
        "id": "gKZfPlbyTZJN",
        "outputId": "e3c6d055-88d7-4b88-dfc7-9c641982690c"
      },
      "outputs": [
        {
          "name": "stdout",
          "output_type": "stream",
          "text": [
            "Clave: a, Valor: 1\n",
            "Clave: b, Valor: 2\n",
            "Clave: c, Valor: 3\n"
          ]
        }
      ],
      "source": [
        "mi_diccionario = {\"a\": 1, \"b\": 2, \"c\": 3}\n",
        "for clave, valor in mi_diccionario.items():\n",
        "    print(f\"Clave: {clave}, Valor: {valor}\")"
      ]
    },
    {
      "cell_type": "markdown",
      "metadata": {
        "id": "KCZdbXpgTukc"
      },
      "source": [
        "El ***slicing*** permite extraer partes específicas de un diccionario. Como las claves tienen nombres específicos, es un poco complicado en comparación con las secuencias, pero es posible.\n",
        "\n",
        "1. Creando un Subconjunto con las partes que se requieren y crear un nuevo diccionario con el."
      ]
    },
    {
      "cell_type": "code",
      "execution_count": null,
      "metadata": {
        "colab": {
          "base_uri": "https://localhost:8080/"
        },
        "id": "tLHZvYqMUmTW",
        "outputId": "143cdb56-a996-4f3b-9aa7-3b395c1af653"
      },
      "outputs": [
        {
          "name": "stdout",
          "output_type": "stream",
          "text": [
            "{'a': 1, 'c': 3}\n"
          ]
        }
      ],
      "source": [
        "Diccionario = {\"a\": 1, \"b\": 2, \"c\": 3, \"d\": 4}\n",
        "Subconjunto = [\"a\", \"c\"]\n",
        "Nuevo_Diccionario = {Sub: Diccionario[Sub] for Sub in Subconjunto}\n",
        "print(Nuevo_Diccionario)"
      ]
    },
    {
      "cell_type": "markdown",
      "metadata": {
        "id": "x2_IgmO3vz1B"
      },
      "source": [
        "2. Convertir el diccionario en tuplas, para realizar el slicing y crear un nuevo diccionario con estas partes."
      ]
    },
    {
      "cell_type": "code",
      "execution_count": null,
      "metadata": {
        "colab": {
          "base_uri": "https://localhost:8080/"
        },
        "id": "xkwGviZLw6AB",
        "outputId": "3a809847-f19b-469c-ce3a-ac8be2558049"
      },
      "outputs": [
        {
          "name": "stdout",
          "output_type": "stream",
          "text": [
            "{'b': 2, 'c': 3}\n"
          ]
        }
      ],
      "source": [
        "Diccionario = {\"a\": 1, \"b\": 2, \"c\": 3, \"d\": 4}\n",
        "Duplas = list(Diccionario.items())[1:3] # Obtener los registros entre 1 y 3\n",
        "Nuevo_Diccionario = dict(Duplas)\n",
        "print(Nuevo_Diccionario)"
      ]
    },
    {
      "cell_type": "markdown",
      "metadata": {
        "id": "2H0spDuyyaUz"
      },
      "source": [
        "## Conclusión"
      ]
    },
    {
      "cell_type": "markdown",
      "metadata": {
        "id": "-T6ymGYiyjq6"
      },
      "source": [
        "Los diccionarios nos permiten almacenar registros de forma sumamente eficiente. las diferentes funcionalidades que ofrece nos permite tener flexibilidad al momento de usar elementos con claves.\n",
        "\n",
        "Suerte!!"
      ]
    }
  ],
  "metadata": {
    "colab": {
      "provenance": []
    },
    "kernelspec": {
      "display_name": "Python 3",
      "name": "python3"
    },
    "language_info": {
      "name": "python"
    }
  },
  "nbformat": 4,
  "nbformat_minor": 0
}
