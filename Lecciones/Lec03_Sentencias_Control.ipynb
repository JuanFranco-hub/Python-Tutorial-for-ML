{
  "nbformat": 4,
  "nbformat_minor": 0,
  "metadata": {
    "colab": {
      "provenance": []
    },
    "kernelspec": {
      "name": "python3",
      "display_name": "Python 3"
    },
    "language_info": {
      "name": "python"
    }
  },
  "cells": [
    {
      "cell_type": "markdown",
      "source": [
        "# **Estructuras de Control y Ciclos**\n"
      ],
      "metadata": {
        "id": "0BlFaQIf-9s9"
      }
    },
    {
      "cell_type": "markdown",
      "source": [
        "\n",
        "## 1. **Operadores de comparación**\n",
        "Los operadores de comparación se utilizan para comparar dos o más valores. El resultado de estos operadores siempre es True o False.\n",
        "\n",
        "| OPERADOR | DESCRIPCIÓN | EJEMPLO |\n",
        "|--------------|--------------|--------------|\n",
        "| ==   | Determina si dos valores son iguales. Nota que el operador relacional utiliza dos signos de igual.   | 1 == 2 es Falso   |\n",
        "| !=    |  Determina si dos valores no son iguales.    | 1 != 2 es Verdadero    |\n",
        "|  >   | Verifica que el valor del operando izquierdo sea mayor que el valor del operando derecho.   | 1 > 2 es Falso    |\n",
        "|  <   | Verifica que el valor del operando izquierdo sea menor que el valor del operando derecho.    | 1 < 2 es Verdadero    |\n",
        "| >=   | Verifica que el valor del operando izquierdo sea mayor o igual al valor del operando derecho.    | 1 >= 2 es Falso    |\n",
        "| <=   | Verifica que el valor del operando izquierdo sea menor o igual al valor del operando derecho.    | 1 <= 2 es Verdadero    |\n",
        "\n",
        "\n"
      ],
      "metadata": {
        "id": "jeggtlrooUCO"
      }
    },
    {
      "cell_type": "markdown",
      "source": [
        "* Ejemplo de variable tipo 'bool'"
      ],
      "metadata": {
        "id": "mR7Q58lPsz19"
      }
    },
    {
      "cell_type": "markdown",
      "source": [
        "## 2. Operadores Booleanos\n",
        "Python tiene un tipo de variable llamado **bool**. Tiene dos posibles valores: Verdadero (*True*) y Falso (*False*).\n",
        "\n",
        ">En lugar de colocar Verdadero (*True*) o Falso (*False*) directamente en nuestro código, generalmente obtenemos valores booleanos de operadores booleanos. Estos son operadores que responden preguntas de sí o no."
      ],
      "metadata": {
        "id": "Z7GKfqQt_AiD"
      }
    },
    {
      "cell_type": "code",
      "source": [
        "x = True\n",
        "print(x)\n",
        "print(type(x))"
      ],
      "metadata": {
        "id": "AP0YoSsNsElm",
        "colab": {
          "base_uri": "https://localhost:8080/"
        },
        "outputId": "49374aae-5955-4f73-e9e3-5ce21cec0b2d"
      },
      "execution_count": 13,
      "outputs": [
        {
          "output_type": "stream",
          "name": "stdout",
          "text": [
            "True\n",
            "<class 'bool'>\n"
          ]
        }
      ]
    },
    {
      "cell_type": "markdown",
      "source": [
        "* Ejemplo con comparadores y booleanos"
      ],
      "metadata": {
        "id": "VymbIB2Fs_vh"
      }
    },
    {
      "cell_type": "code",
      "source": [
        "def can_run_for_president(age):\n",
        "    \"\"\"Can someone of the given age run for president in the US?\"\"\"\n",
        "    # The US Constitution says you must be at least 35 years old\n",
        "    return age >= 35\n",
        "\n",
        "print(\"Can a 19-year-old run for president?\", can_run_for_president(19))\n",
        "print(\"Can a 45-year-old run for president?\", can_run_for_president(45))"
      ],
      "metadata": {
        "id": "I1btEsSMsFX2",
        "colab": {
          "base_uri": "https://localhost:8080/"
        },
        "outputId": "8352db83-fca9-49f8-fb55-3de5c530299d"
      },
      "execution_count": 12,
      "outputs": [
        {
          "output_type": "stream",
          "name": "stdout",
          "text": [
            "Can a 19-year-old run for president? False\n",
            "Can a 45-year-old run for president? True\n"
          ]
        }
      ]
    },
    {
      "cell_type": "code",
      "source": [
        "3.0 == 3"
      ],
      "metadata": {
        "id": "2-ZoohwCsIdT",
        "colab": {
          "base_uri": "https://localhost:8080/"
        },
        "outputId": "9af1cb0c-e4be-4382-9744-4059d5b30eb4"
      },
      "execution_count": 8,
      "outputs": [
        {
          "output_type": "execute_result",
          "data": {
            "text/plain": [
              "True"
            ]
          },
          "metadata": {},
          "execution_count": 8
        }
      ]
    },
    {
      "cell_type": "code",
      "source": [
        "'3' == 3"
      ],
      "metadata": {
        "id": "KMyGLC4AsNN3",
        "colab": {
          "base_uri": "https://localhost:8080/"
        },
        "outputId": "f1564087-7513-43e1-810b-81ca087f7add"
      },
      "execution_count": 9,
      "outputs": [
        {
          "output_type": "execute_result",
          "data": {
            "text/plain": [
              "False"
            ]
          },
          "metadata": {},
          "execution_count": 9
        }
      ]
    },
    {
      "cell_type": "code",
      "source": [
        "def is_odd(n):\n",
        "    return (n % 2) == 1\n",
        "\n",
        "print(\"Is 100 odd?\", is_odd(100))\n",
        "print(\"Is -1 odd?\", is_odd(-1))"
      ],
      "metadata": {
        "id": "RhE09p6ysPVn",
        "colab": {
          "base_uri": "https://localhost:8080/"
        },
        "outputId": "fadd7b3d-2147-4ac1-a05e-ceb1f504409e"
      },
      "execution_count": 10,
      "outputs": [
        {
          "output_type": "stream",
          "name": "stdout",
          "text": [
            "Is 100 odd? False\n",
            "Is -1 odd? True\n"
          ]
        }
      ]
    },
    {
      "cell_type": "markdown",
      "source": [
        "Puedes combinar valores booleanos usando los conceptos estándar de ***and*** (y), ***or*** (o) y ***not*** (no)."
      ],
      "metadata": {
        "id": "LqX-dgYjsfw0"
      }
    },
    {
      "cell_type": "code",
      "source": [
        "def can_run_for_president(age, is_natural_born_citizen):\n",
        "    \"\"\"Can someone of the given age and citizenship status run for president in the US?\"\"\"\n",
        "    # The US Constitution says you must be a natural born citizen *and* at least 35 years old\n",
        "    return is_natural_born_citizen and (age >= 35)\n",
        "\n",
        "print(can_run_for_president(19, True))\n",
        "print(can_run_for_president(55, False))\n",
        "print(can_run_for_president(55, True))"
      ],
      "metadata": {
        "id": "xN9cItwSsuOT",
        "colab": {
          "base_uri": "https://localhost:8080/"
        },
        "outputId": "0d3eb8d7-a04a-48a5-81e5-302c20e36713"
      },
      "execution_count": 11,
      "outputs": [
        {
          "output_type": "stream",
          "name": "stdout",
          "text": [
            "False\n",
            "False\n",
            "True\n"
          ]
        }
      ]
    },
    {
      "cell_type": "markdown",
      "source": [
        "## 3. Condicionales\n",
        "Gracias a las estructuras de control, podemos cambiar el flujo de ejecución de un programa, haciendo que ciertos bloques de código se ejecuten si y solo si se dan unas condiciones particulares.\n",
        "\n",
        "**Las condiciones son las palabras claves: *if*, *elif* y *else*.**\n",
        "\n",
        "### 3.1 Uso del if\n",
        "La condicional \"if\" permite ejecutar cierto bloque de código solamente si una condición especificada es evaluada como verdadera (*True*).\n",
        "\n",
        "\n"
      ],
      "metadata": {
        "id": "nqFrCkgisu1v"
      }
    },
    {
      "cell_type": "code",
      "source": [
        "a = 4\n",
        "b = 2\n",
        "if b != 0:\n",
        "    print(a/b)"
      ],
      "metadata": {
        "id": "p0vSPXav0xd6"
      },
      "execution_count": null,
      "outputs": []
    },
    {
      "cell_type": "markdown",
      "source": [
        ">En el código anterior se usa un if. Con el operador != se comprueba que el número b sea distinto de cero, y si lo es, se ejecuta el código que está identado. Por lo tanto un if tiene dos partes:\n",
        "\n",
        "* **La condición que se tiene que cumplir para que el bloque de código se ejecute**, en nuestro caso b!=0.\n",
        "* El bloque de código que se ejecutará si se cumple la condición anterior.\n",
        "\n",
        "> La sentencia if debe ir terminada por ***:*** y el bloque de código a ejecutar debe estar identado.\n",
        "\n",
        ">El bloque de código puede también contener más de una línea, es decir puede contener más de una instrucción.\n"
      ],
      "metadata": {
        "id": "Iis6F__g0yUq"
      }
    },
    {
      "cell_type": "code",
      "source": [
        "if b != 0:\n",
        "  c = a/b\n",
        "  d = c + 1\n",
        "  print(d)"
      ],
      "metadata": {
        "id": "-DxCSTz01vOD",
        "colab": {
          "base_uri": "https://localhost:8080/"
        },
        "outputId": "87fd5523-d732-41b9-bacf-d1243ae8083a"
      },
      "execution_count": 15,
      "outputs": [
        {
          "output_type": "stream",
          "name": "stdout",
          "text": [
            "1.375\n"
          ]
        }
      ]
    },
    {
      "cell_type": "markdown",
      "source": [
        "Lo que vaya después del **if** y esté identado, será parte del bloque de código que se ejecutará si la condición se cumple. Por lo tanto el segundo print( ) “Fuera if” será ejecutado siempre, ya que está fuera del bloque **if**."
      ],
      "metadata": {
        "id": "ByV3sGoG1v43"
      }
    },
    {
      "cell_type": "code",
      "source": [
        "if b != 0:\n",
        "  c = a/b\n",
        "  print(\"Dentro if\")\n",
        "print(\"Fuera if\")"
      ],
      "metadata": {
        "id": "bsGXf1ME1_Uq",
        "colab": {
          "base_uri": "https://localhost:8080/"
        },
        "outputId": "2324b42e-6fa0-4b55-b714-14bdc14fa9c7"
      },
      "execution_count": 16,
      "outputs": [
        {
          "output_type": "stream",
          "name": "stdout",
          "text": [
            "Dentro if\n",
            "Fuera if\n"
          ]
        }
      ]
    },
    {
      "cell_type": "markdown",
      "source": [
        "Otros operadores que se pueden implementar son los comparadores."
      ],
      "metadata": {
        "id": "U3Z21F3P2Dc1"
      }
    },
    {
      "cell_type": "code",
      "source": [
        "if b > 0:\n",
        "  print(a/b)"
      ],
      "metadata": {
        "id": "WvJ7k5sQ2hcK",
        "colab": {
          "base_uri": "https://localhost:8080/"
        },
        "outputId": "c8a2490d-ee5c-4ccf-dda9-73ae736389fa"
      },
      "execution_count": 17,
      "outputs": [
        {
          "output_type": "stream",
          "name": "stdout",
          "text": [
            "0.375\n"
          ]
        }
      ]
    },
    {
      "cell_type": "markdown",
      "source": [
        "Se puede también combinar varias condiciones entre el *if* y los *:*"
      ],
      "metadata": {
        "id": "RrxX75SK2xfj"
      }
    },
    {
      "cell_type": "code",
      "source": [
        "a = 10\n",
        "if a > 5 and a < 15:\n",
        "  print(\"Mayor que 5 y menos que 15\")"
      ],
      "metadata": {
        "id": "M5-7O7Ee24Vl",
        "colab": {
          "base_uri": "https://localhost:8080/"
        },
        "outputId": "51841155-c69a-4f35-f519-c161f6e3e08c"
      },
      "execution_count": 18,
      "outputs": [
        {
          "output_type": "stream",
          "name": "stdout",
          "text": [
            "Mayor que 5 y menos que 15\n"
          ]
        }
      ]
    },
    {
      "cell_type": "markdown",
      "source": [
        "En Python no puede haber un bloque if vacío."
      ],
      "metadata": {
        "id": "g4IUAbMI27vq"
      }
    },
    {
      "cell_type": "code",
      "source": [
        "if a > 5:"
      ],
      "metadata": {
        "id": "MqTy1jv43Bo1",
        "colab": {
          "base_uri": "https://localhost:8080/",
          "height": 106
        },
        "outputId": "bc9d0120-b57b-45d4-ef6b-55b3deeacd6d"
      },
      "execution_count": 19,
      "outputs": [
        {
          "output_type": "error",
          "ename": "SyntaxError",
          "evalue": "incomplete input (<ipython-input-19-79de72eb778b>, line 1)",
          "traceback": [
            "\u001b[0;36m  File \u001b[0;32m\"<ipython-input-19-79de72eb778b>\"\u001b[0;36m, line \u001b[0;32m1\u001b[0m\n\u001b[0;31m    if a > 5:\u001b[0m\n\u001b[0m             ^\u001b[0m\n\u001b[0;31mSyntaxError\u001b[0m\u001b[0;31m:\u001b[0m incomplete input\n"
          ]
        }
      ]
    },
    {
      "cell_type": "markdown",
      "source": [
        "Si tenemos un *if* sin contenido, para implementar en un futuro, es necesario hacer uso de pass para evitar el error."
      ],
      "metadata": {
        "id": "12aiZpcn3D99"
      }
    },
    {
      "cell_type": "code",
      "source": [
        "if a > 5:\n",
        "  pass"
      ],
      "metadata": {
        "id": "9O3NO3PK3h60"
      },
      "execution_count": 20,
      "outputs": []
    },
    {
      "cell_type": "markdown",
      "source": [
        "### 3.2 Uso de else y elif\n",
        "\n",
        "Es posible que no solo queramos hacer algo si una determinada condición se cumple, sino que además queramos hacer algo de lo contrario. Es aquí donde entra *else*. La parte del *if* se comporta igual, con la diferencia que si esa condición no se cumple, se ejecutará el código presente dentro del *else*. Se entra o en uno o en otro bloque de código, pero nunca se ejecutarán los dos bloques.\n"
      ],
      "metadata": {
        "id": "1jDFoCdS3yYR"
      }
    },
    {
      "cell_type": "code",
      "source": [
        "x = 5\n",
        "if x == 5:\n",
        "  print(\"Es 5\")\n",
        "else:\n",
        "  print(\"No es 5\")"
      ],
      "metadata": {
        "id": "iM1-sU-07W6y",
        "colab": {
          "base_uri": "https://localhost:8080/"
        },
        "outputId": "cd204900-55ff-4dc3-a1cf-2a0877e596ca"
      },
      "execution_count": 21,
      "outputs": [
        {
          "output_type": "stream",
          "name": "stdout",
          "text": [
            "Es 5\n"
          ]
        }
      ]
    },
    {
      "cell_type": "markdown",
      "source": [
        "En muchos casos, podemos tener varias condiciones diferentes y para cada una queremos un código distinto. Es aquí donde entra en juego el *elif*."
      ],
      "metadata": {
        "id": "p0J8m7B-7Xyr"
      }
    },
    {
      "cell_type": "code",
      "source": [
        "x = 5\n",
        "if x == 5:\n",
        "  print(\"Es 5\")\n",
        "elif x == 6:\n",
        "  print(\"Es 6\")\n",
        "elif x == 7:\n",
        "  print(\"Es 7\")"
      ],
      "metadata": {
        "id": "I5tWHuJ57mHw",
        "colab": {
          "base_uri": "https://localhost:8080/"
        },
        "outputId": "758c0974-3b75-4d28-9602-37265e762440"
      },
      "execution_count": 22,
      "outputs": [
        {
          "output_type": "stream",
          "name": "stdout",
          "text": [
            "Es 5\n"
          ]
        }
      ]
    },
    {
      "cell_type": "markdown",
      "source": [
        "Se puede usar también de manera conjunta todo, el if con el elif y un else al final. Es muy importante notar que if y else solamente puede haber uno, mientras que elif puede haber varios."
      ],
      "metadata": {
        "id": "HFdGp4C_7oSa"
      }
    },
    {
      "cell_type": "code",
      "source": [
        "x = 5\n",
        "if x == 5:\n",
        "  print(\"Es 5\")\n",
        "elif x == 6:\n",
        "  print(\"Es 6\")\n",
        "elif x == 7:\n",
        "  print(\"Es 7\")\n",
        "else:\n",
        "  print(\"Es otro\")"
      ],
      "metadata": {
        "id": "PgcGCMI_7vFw",
        "colab": {
          "base_uri": "https://localhost:8080/"
        },
        "outputId": "54edded7-ea31-4f1b-d903-ac8b14377aec"
      },
      "execution_count": 23,
      "outputs": [
        {
          "output_type": "stream",
          "name": "stdout",
          "text": [
            "Es 5\n"
          ]
        }
      ]
    },
    {
      "cell_type": "markdown",
      "source": [
        "## 4. Bucles\n",
        " En Python se dispone de dos estructuras cíclicas:\n",
        "\n",
        "### 4.1  Bucle while\n",
        " Este bucle, se encarga de ejecutar una misma acción “mientras que” una determinada condición se cumpla.\n"
      ],
      "metadata": {
        "id": "5nnnOSMq7z3W"
      }
    },
    {
      "cell_type": "code",
      "source": [
        "# Inicialización de la variable de control\n",
        "contador = 0\n",
        "\n",
        "# Ciclo while con condición y bloque de código indentado correctamente\n",
        "while contador < 5:\n",
        "  print(\"El contador es:\", contador)\n",
        "  contador += 1  # Incremento del contador\n",
        "\n",
        "# Mensaje después del ciclo\n",
        "print(\"Fin del ciclo while\")"
      ],
      "metadata": {
        "id": "wk5Fdfei9-9G",
        "colab": {
          "base_uri": "https://localhost:8080/"
        },
        "outputId": "0ff71c07-9a15-40f5-bf83-72ac778da356"
      },
      "execution_count": 24,
      "outputs": [
        {
          "output_type": "stream",
          "name": "stdout",
          "text": [
            "El contador es: 0\n",
            "El contador es: 1\n",
            "El contador es: 2\n",
            "El contador es: 3\n",
            "El contador es: 4\n",
            "Fin del ciclo while\n"
          ]
        }
      ]
    },
    {
      "cell_type": "markdown",
      "source": [
        "### 4.2 Bucle for\n",
        " El bucle for, en Python, es aquel que nos permitirá iterar sobre una variable compleja, del tipo lista o tupla."
      ],
      "metadata": {
        "id": "htXsrwbp-DjD"
      }
    },
    {
      "cell_type": "code",
      "source": [
        "# Lista de números\n",
        "numeros = [1, 2, 3, 4, 5]\n",
        "\n",
        "# Ciclo for para iterar sobre la lista e imprimir los números\n",
        "for numero in numeros:\n",
        "  print(\"Número:\", numero)\n",
        "\n",
        "# Mensaje después del ciclo\n",
        "print(\"Fin del ciclo for\")"
      ],
      "metadata": {
        "id": "mo4f2f9f-ES9"
      },
      "execution_count": null,
      "outputs": []
    },
    {
      "cell_type": "markdown",
      "source": [
        "## 5. Break y Continue\n",
        "Usar bucles for y bucles while en Python le permite automatizar y repetir tareas eficientemente.\n",
        "Cuando un factor externo incide en la forma en como se ejecuta el programa, es posible cerrar un bucle por completo, omita parte de un bucle antes de continuar o ignore ese factor externo. Puede hacer estas acciones con las instrucciones: ***break***, ***continue*** y ***pass***.\n",
        "\n",
        "### 5.1  Instrucción Break\n",
        "Proporciona la oportunidad de cerrar un bucle cuando se activa una condición externa. Debe poner la instrucción break dentro del bloque de código bajo la instrucción de su bucle, generalmente después de una instrucción if condicional."
      ],
      "metadata": {
        "id": "jt2J0R_M-ONO"
      }
    },
    {
      "cell_type": "code",
      "source": [
        "number = 0\n",
        "\n",
        "for number in range(10):\n",
        "  if number == 5:\n",
        "    break    # break here\n",
        "\n",
        "  print('Number is ' + str(number))\n",
        "\n",
        "print('Out of loop')"
      ],
      "metadata": {
        "id": "m0y0Bw4W_dy6",
        "colab": {
          "base_uri": "https://localhost:8080/"
        },
        "outputId": "3805ef24-5120-49fe-c2fd-50cc37d99af0"
      },
      "execution_count": 25,
      "outputs": [
        {
          "output_type": "stream",
          "name": "stdout",
          "text": [
            "Number is 0\n",
            "Number is 1\n",
            "Number is 2\n",
            "Number is 3\n",
            "Number is 4\n",
            "Out of loop\n"
          ]
        }
      ]
    },
    {
      "cell_type": "markdown",
      "source": [
        "La variable **number** se inicia en **0**. Una instrucción **for** construye el bucle siempre que la *variable number sea inferior a 10*.\n",
        "\n",
        "En el bucle **for**, existe una instrucción **if** que presenta la condición de que si la variable number es equivalente al entero 5, entonces el bucle se romperá.\n",
        "\n",
        "En el bucle también existe una instrucción **print()** que se ejecutará con cada iteración del bucle **for** hasta que se rompa el bucle, ya que está después de la instrucción **break**.\n",
        "\n",
        "Para saber cuándo estamos fuera del bucle, hemos incluido una instrucción **print()** final fuera del bucle **for**."
      ],
      "metadata": {
        "id": "aMzvoa4N_gsv"
      }
    },
    {
      "cell_type": "markdown",
      "source": [
        "### 5.2 Instrucción Continue\n",
        "Da la opción de omitir la parte de un bucle en la que se activa una condición externa, pero continuar para completar el resto del bucle. La iteración actual del bucle se interrumpirá, pero el programa volverá a la parte superior del bucle.\n",
        "\n",
        "La instrucción continue se encuentra dentro del bloque de código abajo de la instrucción del bucle, generalmente después de una instrucción if condicional."
      ],
      "metadata": {
        "id": "poRLJMiiAJ80"
      }
    },
    {
      "cell_type": "code",
      "source": [
        "number = 0\n",
        "\n",
        "for number in range(10):\n",
        "  if number == 5:\n",
        "    continue    # continue here\n",
        "\n",
        "  print('Number is ' + str(number))\n",
        "\n",
        "print('Out of loop')\n"
      ],
      "metadata": {
        "id": "Vela_0lHAhRv",
        "colab": {
          "base_uri": "https://localhost:8080/"
        },
        "outputId": "58666954-be49-468f-cc67-07e0b0998d5e"
      },
      "execution_count": 26,
      "outputs": [
        {
          "output_type": "stream",
          "name": "stdout",
          "text": [
            "Number is 0\n",
            "Number is 1\n",
            "Number is 2\n",
            "Number is 3\n",
            "Number is 4\n",
            "Number is 6\n",
            "Number is 7\n",
            "Number is 8\n",
            "Number is 9\n",
            "Out of loop\n"
          ]
        }
      ]
    },
    {
      "cell_type": "markdown",
      "source": [
        "* Nuestro código continuará a pesar de la interrupción cuando la variable number se evalúe como equivalente a 5.\n",
        "*  Number is 5 nunca aparece en el resultado, pero el bucle continúa después de ese punto para imprimir líneas para los números 6 a 10 antes de cerrarse.\n",
        "* Puede usar la instrucción continue para evitar código condicional profundamente anidado o para optimizar un bucle eliminando los casos frecuentes que desee rechazar."
      ],
      "metadata": {
        "id": "NQMdXSXmAmKx"
      }
    },
    {
      "cell_type": "markdown",
      "source": [
        "## 5.3 Instrucción Pass\n",
        "Cuando se activa una condición externa, la instrucción pass permite manejar la condición sin que el bucle se vea afectado de ninguna manera; todo el código continuará leyéndose.\n",
        "\n",
        "La instrucción pass se encuentra dentro del bloque de código abajo de la instrucción del bucle, normalmente después de una instrucción if condicional.\n",
        "\n"
      ],
      "metadata": {
        "id": "YARUay4KBACN"
      }
    },
    {
      "cell_type": "code",
      "source": [
        "number = 0\n",
        "\n",
        "for i in range(5):\n",
        "    if i == 3:\n",
        "        pass\n",
        "    else:\n",
        "        print(i)\n"
      ],
      "metadata": {
        "id": "qUExPVvQBZoW",
        "colab": {
          "base_uri": "https://localhost:8080/"
        },
        "outputId": "b01c112c-fa25-4a0c-b33c-fc13ca9ef716"
      },
      "execution_count": 33,
      "outputs": [
        {
          "output_type": "stream",
          "name": "stdout",
          "text": [
            "0\n",
            "1\n",
            "2\n",
            "4\n"
          ]
        }
      ]
    },
    {
      "cell_type": "markdown",
      "source": [
        "* La instrucción pass que se produce después de la instrucción condicional if le indica al programa que continúe ejecutando el bucle e ignore el hecho de que la variable number se evalúa como equivalente a 5 durante una de sus iteraciones.\n",
        "* Al usar la instrucción pass en este programa, observamos que el programa se ejecuta exactamente como lo haría si no hubiera instrucción condicional en el programa. La instrucción pass le indica al programa que ignore esa condición y continúe ejecutando el programa como de costumbre."
      ],
      "metadata": {
        "id": "VbPTnJXIBdIm"
      }
    },
    {
      "cell_type": "markdown",
      "source": [
        "## 6. Estilos de Bucles\n",
        "### 6.1 Iterando sobre elementos de una lista con for\n",
        "\n",
        ">Recorremos una lista de elementos uno a uno e hicimos algo con cada uno de ellos.\n",
        "\n",
        "***La sintaxis más común para esto es utilizar un bucle for junto con la función len () para obtener la longitud de la lista. Luego, utilizamos el operador de rango para obtener un rango de índices, que luego utilizamos para acceder a cada elemento de la lista.***\n",
        "\n"
      ],
      "metadata": {
        "id": "sS1AArU6BofV"
      }
    },
    {
      "cell_type": "code",
      "source": [
        "lista = ['Manzana', 'Pera', 'Plátano', 'Fresa']\n",
        "\n",
        "for i in range(len(lista)):\n",
        "  print(lista[i])"
      ],
      "metadata": {
        "id": "fTPzI1yZCtcc",
        "colab": {
          "base_uri": "https://localhost:8080/"
        },
        "outputId": "6036de17-fd8c-49c7-97a3-fbc919c1c8ad"
      },
      "execution_count": 35,
      "outputs": [
        {
          "output_type": "stream",
          "name": "stdout",
          "text": [
            "Manzana\n",
            "Pera\n",
            "Plátano\n",
            "Fresa\n"
          ]
        }
      ]
    },
    {
      "cell_type": "markdown",
      "source": [
        "Segunda forma de hacerse es utilizando el bucle for directamente sobre la lista. Este enfoque es más limpio y directo y generalmente se considera la forma “más pythonica” de iterar sobre una lista de elementos.\n",
        "\n"
      ],
      "metadata": {
        "id": "E7p1yjG6CuCm"
      }
    },
    {
      "cell_type": "code",
      "source": [
        "lista = ['Manzana', 'Pera', 'Plátano', 'Fresa']\n",
        "\n",
        "for elemento in lista:\n",
        "  print(elemento)"
      ],
      "metadata": {
        "id": "UH9S0CD-C2YU",
        "colab": {
          "base_uri": "https://localhost:8080/"
        },
        "outputId": "dbbacbe9-2175-47fc-ef4f-38466d421a28"
      },
      "execution_count": 36,
      "outputs": [
        {
          "output_type": "stream",
          "name": "stdout",
          "text": [
            "Manzana\n",
            "Pera\n",
            "Plátano\n",
            "Fresa\n"
          ]
        }
      ]
    },
    {
      "cell_type": "markdown",
      "source": [
        "Al iterar sobre una lista de esta manera, **no tenemos acceso a los índices de los elementos de la lista**.\n",
        "\n",
        ">Podemos utilizar la función enumerate() para obtener tanto el índice como el valor del elemento en cada iteración."
      ],
      "metadata": {
        "id": "GJhTwelVC-oI"
      }
    },
    {
      "cell_type": "code",
      "source": [
        "lista = ['Manzana', 'Pera', 'Plátano', 'Fresa']\n",
        "\n",
        "for i, elemento in enumerate(lista):\n",
        "  print(i, elemento)"
      ],
      "metadata": {
        "id": "MD2Q-UGyDMAE",
        "colab": {
          "base_uri": "https://localhost:8080/"
        },
        "outputId": "5df5923b-5945-4f19-ccb9-5126721096c6"
      },
      "execution_count": 37,
      "outputs": [
        {
          "output_type": "stream",
          "name": "stdout",
          "text": [
            "0 Manzana\n",
            "1 Pera\n",
            "2 Plátano\n",
            "3 Fresa\n"
          ]
        }
      ]
    },
    {
      "cell_type": "markdown",
      "source": [
        "### 6.2 Bucles Anidados\n",
        "El bucle anidado es un bucle que se encuentra en el bloque de instrucciones de otro bloque.\n",
        "\n",
        "* Al bucle que se encuentra dentro del otro se le puede denominar bucle interior o bucle interno.\n",
        "\n",
        "* El otro bucle sería el bucle exterior o bucle externo.\n",
        "\n",
        "* Los bucles pueden tener cualquier nivel de anidamiento (un bucle dentro de otro bucle dentro de un tercero, etc.).\n",
        "\n",
        "* Aunque en Python no es necesario, se recomienda que los nombres de las variables de control de los bucles anidados no coincidan, para evitar ambigüedades.\n",
        "\n",
        "#### 6.2.1 Bucles anidados (variables independientes)\n",
        "\n",
        "Se dice que las variables de los bucles son independientes cuando los valores que toma la variable de control del bucle interno no dependen del valor de la variable de control del bucle externo. Por ejemplo:"
      ],
      "metadata": {
        "id": "RTSPuwvnDkCZ"
      }
    },
    {
      "cell_type": "code",
      "source": [
        "for i in [0, 1, 2]:\n",
        "  for j in [0, 1]:\n",
        "    print(f\"i vale {i} y j vale {j}\")"
      ],
      "metadata": {
        "id": "aqWggY4XEkiC",
        "colab": {
          "base_uri": "https://localhost:8080/"
        },
        "outputId": "2d44a347-3ac3-4645-ecb6-7e74decff749"
      },
      "execution_count": 38,
      "outputs": [
        {
          "output_type": "stream",
          "name": "stdout",
          "text": [
            "i vale 0 y j vale 0\n",
            "i vale 0 y j vale 1\n",
            "i vale 1 y j vale 0\n",
            "i vale 1 y j vale 1\n",
            "i vale 2 y j vale 0\n",
            "i vale 2 y j vale 1\n"
          ]
        }
      ]
    },
    {
      "cell_type": "markdown",
      "source": [
        "#### 6.2.2 Bucles anidados (variables dependientes)\n",
        "Se dice que las variables de los bucles son dependientes cuando los valores que toma la variable de control del bucle interno dependen del valor de la variable de control del bucle externo. Por ejemplo:"
      ],
      "metadata": {
        "id": "9cvbZnMZEngb"
      }
    },
    {
      "cell_type": "code",
      "source": [
        "for i in [1, 2, 3]:\n",
        "    for j in range(i):\n",
        "        print(f\"i vale {i} y j vale {j}\")"
      ],
      "metadata": {
        "id": "OzUwIO9PE09t",
        "colab": {
          "base_uri": "https://localhost:8080/"
        },
        "outputId": "46d0a924-8e17-4234-9079-ce066d0e35d5"
      },
      "execution_count": 39,
      "outputs": [
        {
          "output_type": "stream",
          "name": "stdout",
          "text": [
            "i vale 1 y j vale 0\n",
            "i vale 2 y j vale 0\n",
            "i vale 2 y j vale 1\n",
            "i vale 3 y j vale 0\n",
            "i vale 3 y j vale 1\n",
            "i vale 3 y j vale 2\n"
          ]
        }
      ]
    },
    {
      "cell_type": "markdown",
      "source": [
        "## 7. Métodos de Asignación\n",
        "Son formas concisas y legibles de realizar operaciones aritméticas y asignaciones en Python. Son especialmente útiles cuando deseas operar sobre el valor actual de una variable y asignar el resultado nuevamente a la misma variable.\n",
        "#### 7.1 Incremento: Aumenta el valor de una variable en una cantidad específica."
      ],
      "metadata": {
        "id": "oCpYFEOeFUhA"
      }
    },
    {
      "cell_type": "code",
      "source": [
        "x = 5\n",
        "x += 3\n",
        "print(x)"
      ],
      "metadata": {
        "id": "JyhknF7yO92t",
        "colab": {
          "base_uri": "https://localhost:8080/"
        },
        "outputId": "50cea43f-1a94-4d21-f786-4be8ce28395c"
      },
      "execution_count": 40,
      "outputs": [
        {
          "output_type": "stream",
          "name": "stdout",
          "text": [
            "8\n"
          ]
        }
      ]
    },
    {
      "cell_type": "markdown",
      "source": [
        "#### 7.2 Decremento: Disminuye el valor de una variable en una cantidad específica."
      ],
      "metadata": {
        "id": "sooBaSu1PAlv"
      }
    },
    {
      "cell_type": "code",
      "source": [
        "y = 10\n",
        "y -= 2\n",
        "print(y)"
      ],
      "metadata": {
        "id": "gM59Gv3cPEGv",
        "colab": {
          "base_uri": "https://localhost:8080/"
        },
        "outputId": "51e3c39c-b9df-4887-af6d-46a840cc8e8e"
      },
      "execution_count": 5,
      "outputs": [
        {
          "output_type": "stream",
          "name": "stdout",
          "text": [
            "8\n"
          ]
        }
      ]
    },
    {
      "cell_type": "markdown",
      "source": [
        "#### 7.3 Multiplicación: Multiplica el valor de una variable por una cantidad específica."
      ],
      "metadata": {
        "id": "XQpYlGbSPGZ5"
      }
    },
    {
      "cell_type": "code",
      "source": [
        "z = 3\n",
        "z *= 4\n",
        "print(z)"
      ],
      "metadata": {
        "id": "GKYfhx9UPLZe",
        "colab": {
          "base_uri": "https://localhost:8080/"
        },
        "outputId": "71dde998-c32a-4053-b071-e4f97c3aa391"
      },
      "execution_count": 4,
      "outputs": [
        {
          "output_type": "stream",
          "name": "stdout",
          "text": [
            "12\n"
          ]
        }
      ]
    },
    {
      "cell_type": "markdown",
      "source": [
        "#### 7.4 División: Divide el valor de una variable por una cantidad específica."
      ],
      "metadata": {
        "id": "7yuOFB0KPNcD"
      }
    },
    {
      "cell_type": "code",
      "source": [
        "w = 20\n",
        "w /= 5\n",
        "print(w)"
      ],
      "metadata": {
        "id": "9Od5qFKJPSCI",
        "colab": {
          "base_uri": "https://localhost:8080/"
        },
        "outputId": "57a6826b-1a47-4232-b174-6b355d2adc6d"
      },
      "execution_count": 3,
      "outputs": [
        {
          "output_type": "stream",
          "name": "stdout",
          "text": [
            "4.0\n"
          ]
        }
      ]
    },
    {
      "cell_type": "markdown",
      "source": [
        "#### 7.5 Módulo: Calcula el resto de la división del valor de una variable por una cantidad específica."
      ],
      "metadata": {
        "id": "I7CDLFjUPUA2"
      }
    },
    {
      "cell_type": "code",
      "source": [
        "a = 13\n",
        "a %= 5\n",
        "print(a)"
      ],
      "metadata": {
        "id": "zG1nh6PyPZME",
        "colab": {
          "base_uri": "https://localhost:8080/"
        },
        "outputId": "a03b807b-31da-47eb-b2a1-dad5876cea3a"
      },
      "execution_count": 2,
      "outputs": [
        {
          "output_type": "stream",
          "name": "stdout",
          "text": [
            "3\n"
          ]
        }
      ]
    },
    {
      "cell_type": "markdown",
      "source": [
        "#### 7.6 Potencia: Eleva el valor de una variable a una potencia específica."
      ],
      "metadata": {
        "id": "HgGA37YvPbDm"
      }
    },
    {
      "cell_type": "code",
      "source": [
        "b = 2\n",
        "b **= 3\n",
        "print(b)"
      ],
      "metadata": {
        "id": "kMFuYLpWPgTj",
        "colab": {
          "base_uri": "https://localhost:8080/"
        },
        "outputId": "2a0f07e7-0271-4285-ca26-7f85ea9b5bb8"
      },
      "execution_count": 1,
      "outputs": [
        {
          "output_type": "stream",
          "name": "stdout",
          "text": [
            "8\n"
          ]
        }
      ]
    }
  ]
}