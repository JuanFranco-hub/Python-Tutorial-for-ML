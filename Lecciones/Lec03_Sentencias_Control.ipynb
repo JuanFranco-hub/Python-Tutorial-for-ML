{
  "cells": [
    {
      "cell_type": "markdown",
      "metadata": {},
      "source": [
        "<a href=\"https://github.com/JuanFranco-hub/Python-Tutorial-for-ML/blob/main/Lecciones/Lec03_Sentencias_Control.ipynb\" target=\"_parent\"><img src=\"https://colab.research.google.com/assets/colab-badge.svg\" alt=\"Open In Colab\"/></a> "
      ]
    },
    {
      "cell_type": "markdown",
      "metadata": {
        "id": "0BlFaQIf-9s9"
      },
      "source": [
        "# **Estructuras de Control y Ciclos**\n"
      ]
    },
    {
      "cell_type": "markdown",
      "metadata": {
        "id": "jeggtlrooUCO"
      },
      "source": [
        "\n",
        "## 1. **Operadores de comparación**\n",
        "Los operadores de comparación se utilizan para comparar dos o más valores. El resultado de estos operadores siempre es True o False.\n",
        "\n",
        "| OPERADOR | DESCRIPCIÓN | EJEMPLO |\n",
        "|--------------|--------------|--------------|\n",
        "| ==   | Determina si dos valores son iguales. Nota que el operador relacional utiliza dos signos de igual.   | 1 == 2 es Falso   |\n",
        "| !=    |  Determina si dos valores no son iguales.    | 1 != 2 es Verdadero    |\n",
        "|  >   | Verifica que el valor del operando izquierdo sea mayor que el valor del operando derecho.   | 1 > 2 es Falso    |\n",
        "|  <   | Verifica que el valor del operando izquierdo sea menor que el valor del operando derecho.    | 1 < 2 es Verdadero    |\n",
        "| >=   | Verifica que el valor del operando izquierdo sea mayor o igual al valor del operando derecho.    | 1 >= 2 es Falso    |\n",
        "| <=   | Verifica que el valor del operando izquierdo sea menor o igual al valor del operando derecho.    | 1 <= 2 es Verdadero    |\n",
        "\n",
        "\n"
      ]
    },
    {
      "cell_type": "markdown",
      "metadata": {
        "id": "mR7Q58lPsz19"
      },
      "source": [
        "* Ejemplo de variable tipo 'bool'"
      ]
    },
    {
      "cell_type": "markdown",
      "metadata": {
        "id": "Z7GKfqQt_AiD"
      },
      "source": [
        "## 2. Operadores Booleanos\n",
        "Python tiene un tipo de variable llamado **bool**. Tiene dos posibles valores: Verdadero (*True*) y Falso (*False*).\n",
        "\n",
        ">En lugar de colocar Verdadero (*True*) o Falso (*False*) directamente en nuestro código, generalmente obtenemos valores booleanos de operadores booleanos. Estos son operadores que responden preguntas de sí o no."
      ]
    },
    {
      "cell_type": "code",
      "execution_count": 13,
      "metadata": {
        "colab": {
          "base_uri": "https://localhost:8080/"
        },
        "id": "AP0YoSsNsElm",
        "outputId": "49374aae-5955-4f73-e9e3-5ce21cec0b2d"
      },
      "outputs": [
        {
          "name": "stdout",
          "output_type": "stream",
          "text": [
            "True\n",
            "<class 'bool'>\n"
          ]
        }
      ],
      "source": [
        "x = True\n",
        "print(x)\n",
        "print(type(x))"
      ]
    },
    {
      "cell_type": "markdown",
      "metadata": {
        "id": "VymbIB2Fs_vh"
      },
      "source": [
        "* Ejemplo con comparadores y booleanos"
      ]
    },
    {
      "cell_type": "code",
      "execution_count": 12,
      "metadata": {
        "colab": {
          "base_uri": "https://localhost:8080/"
        },
        "id": "I1btEsSMsFX2",
        "outputId": "8352db83-fca9-49f8-fb55-3de5c530299d"
      },
      "outputs": [
        {
          "name": "stdout",
          "output_type": "stream",
          "text": [
            "Can a 19-year-old run for president? False\n",
            "Can a 45-year-old run for president? True\n"
          ]
        }
      ],
      "source": [
        "def can_run_for_president(age):\n",
        "    \"\"\"Can someone of the given age run for president in the US?\"\"\"\n",
        "    # The US Constitution says you must be at least 35 years old\n",
        "    return age >= 35\n",
        "\n",
        "print(\"Can a 19-year-old run for president?\", can_run_for_president(19))\n",
        "print(\"Can a 45-year-old run for president?\", can_run_for_president(45))"
      ]
    },
    {
      "cell_type": "code",
      "execution_count": 8,
      "metadata": {
        "colab": {
          "base_uri": "https://localhost:8080/"
        },
        "id": "2-ZoohwCsIdT",
        "outputId": "9af1cb0c-e4be-4382-9744-4059d5b30eb4"
      },
      "outputs": [
        {
          "data": {
            "text/plain": [
              "True"
            ]
          },
          "execution_count": 8,
          "metadata": {},
          "output_type": "execute_result"
        }
      ],
      "source": [
        "3.0 == 3"
      ]
    },
    {
      "cell_type": "code",
      "execution_count": 9,
      "metadata": {
        "colab": {
          "base_uri": "https://localhost:8080/"
        },
        "id": "KMyGLC4AsNN3",
        "outputId": "f1564087-7513-43e1-810b-81ca087f7add"
      },
      "outputs": [
        {
          "data": {
            "text/plain": [
              "False"
            ]
          },
          "execution_count": 9,
          "metadata": {},
          "output_type": "execute_result"
        }
      ],
      "source": [
        "'3' == 3"
      ]
    },
    {
      "cell_type": "code",
      "execution_count": 10,
      "metadata": {
        "colab": {
          "base_uri": "https://localhost:8080/"
        },
        "id": "RhE09p6ysPVn",
        "outputId": "fadd7b3d-2147-4ac1-a05e-ceb1f504409e"
      },
      "outputs": [
        {
          "name": "stdout",
          "output_type": "stream",
          "text": [
            "Is 100 odd? False\n",
            "Is -1 odd? True\n"
          ]
        }
      ],
      "source": [
        "def is_odd(n):\n",
        "    return (n % 2) == 1\n",
        "\n",
        "print(\"Is 100 odd?\", is_odd(100))\n",
        "print(\"Is -1 odd?\", is_odd(-1))"
      ]
    },
    {
      "cell_type": "markdown",
      "metadata": {
        "id": "LqX-dgYjsfw0"
      },
      "source": [
        "Puedes combinar valores booleanos usando los conceptos estándar de ***and*** (y), ***or*** (o) y ***not*** (no)."
      ]
    },
    {
      "cell_type": "code",
      "execution_count": 11,
      "metadata": {
        "colab": {
          "base_uri": "https://localhost:8080/"
        },
        "id": "xN9cItwSsuOT",
        "outputId": "0d3eb8d7-a04a-48a5-81e5-302c20e36713"
      },
      "outputs": [
        {
          "name": "stdout",
          "output_type": "stream",
          "text": [
            "False\n",
            "False\n",
            "True\n"
          ]
        }
      ],
      "source": [
        "def can_run_for_president(age, is_natural_born_citizen):\n",
        "    \"\"\"Can someone of the given age and citizenship status run for president in the US?\"\"\"\n",
        "    # The US Constitution says you must be a natural born citizen *and* at least 35 years old\n",
        "    return is_natural_born_citizen and (age >= 35)\n",
        "\n",
        "print(can_run_for_president(19, True))\n",
        "print(can_run_for_president(55, False))\n",
        "print(can_run_for_president(55, True))"
      ]
    },
    {
      "cell_type": "markdown",
      "metadata": {
        "id": "nqFrCkgisu1v"
      },
      "source": [
        "## 3. Condicionales\n",
        "Gracias a las estructuras de control, podemos cambiar el flujo de ejecución de un programa, haciendo que ciertos bloques de código se ejecuten si y solo si se dan unas condiciones particulares.\n",
        "\n",
        "**Las condiciones son las palabras claves: *if*, *elif* y *else*.**\n",
        "\n",
        "### 3.1 Uso del if\n",
        "La condicional \"if\" permite ejecutar cierto bloque de código solamente si una condición especificada es evaluada como verdadera (*True*).\n",
        "\n",
        "\n"
      ]
    },
    {
      "cell_type": "code",
      "execution_count": null,
      "metadata": {
        "id": "p0vSPXav0xd6"
      },
      "outputs": [],
      "source": [
        "a = 4\n",
        "b = 2\n",
        "if b != 0:\n",
        "    print(a/b)"
      ]
    },
    {
      "cell_type": "markdown",
      "metadata": {
        "id": "Iis6F__g0yUq"
      },
      "source": [
        ">En el código anterior se usa un if. Con el operador != se comprueba que el número b sea distinto de cero, y si lo es, se ejecuta el código que está identado. Por lo tanto un if tiene dos partes:\n",
        "\n",
        "* **La condición que se tiene que cumplir para que el bloque de código se ejecute**, en nuestro caso b!=0.\n",
        "* El bloque de código que se ejecutará si se cumple la condición anterior.\n",
        "\n",
        "> La sentencia if debe ir terminada por ***:*** y el bloque de código a ejecutar debe estar identado.\n",
        "\n",
        ">El bloque de código puede también contener más de una línea, es decir puede contener más de una instrucción.\n"
      ]
    },
    {
      "cell_type": "code",
      "execution_count": 15,
      "metadata": {
        "colab": {
          "base_uri": "https://localhost:8080/"
        },
        "id": "-DxCSTz01vOD",
        "outputId": "87fd5523-d732-41b9-bacf-d1243ae8083a"
      },
      "outputs": [
        {
          "name": "stdout",
          "output_type": "stream",
          "text": [
            "1.375\n"
          ]
        }
      ],
      "source": [
        "if b != 0:\n",
        "  c = a/b\n",
        "  d = c + 1\n",
        "  print(d)"
      ]
    },
    {
      "cell_type": "markdown",
      "metadata": {
        "id": "ByV3sGoG1v43"
      },
      "source": [
        "Lo que vaya después del **if** y esté identado, será parte del bloque de código que se ejecutará si la condición se cumple. Por lo tanto el segundo print( ) “Fuera if” será ejecutado siempre, ya que está fuera del bloque **if**."
      ]
    },
    {
      "cell_type": "code",
      "execution_count": 16,
      "metadata": {
        "colab": {
          "base_uri": "https://localhost:8080/"
        },
        "id": "bsGXf1ME1_Uq",
        "outputId": "2324b42e-6fa0-4b55-b714-14bdc14fa9c7"
      },
      "outputs": [
        {
          "name": "stdout",
          "output_type": "stream",
          "text": [
            "Dentro if\n",
            "Fuera if\n"
          ]
        }
      ],
      "source": [
        "if b != 0:\n",
        "  c = a/b\n",
        "  print(\"Dentro if\")\n",
        "print(\"Fuera if\")"
      ]
    },
    {
      "cell_type": "markdown",
      "metadata": {
        "id": "U3Z21F3P2Dc1"
      },
      "source": [
        "Otros operadores que se pueden implementar son los comparadores."
      ]
    },
    {
      "cell_type": "code",
      "execution_count": 17,
      "metadata": {
        "colab": {
          "base_uri": "https://localhost:8080/"
        },
        "id": "WvJ7k5sQ2hcK",
        "outputId": "c8a2490d-ee5c-4ccf-dda9-73ae736389fa"
      },
      "outputs": [
        {
          "name": "stdout",
          "output_type": "stream",
          "text": [
            "0.375\n"
          ]
        }
      ],
      "source": [
        "if b > 0:\n",
        "  print(a/b)"
      ]
    },
    {
      "cell_type": "markdown",
      "metadata": {
        "id": "RrxX75SK2xfj"
      },
      "source": [
        "Se puede también combinar varias condiciones entre el *if* y los *:*"
      ]
    },
    {
      "cell_type": "code",
      "execution_count": 18,
      "metadata": {
        "colab": {
          "base_uri": "https://localhost:8080/"
        },
        "id": "M5-7O7Ee24Vl",
        "outputId": "51841155-c69a-4f35-f519-c161f6e3e08c"
      },
      "outputs": [
        {
          "name": "stdout",
          "output_type": "stream",
          "text": [
            "Mayor que 5 y menos que 15\n"
          ]
        }
      ],
      "source": [
        "a = 10\n",
        "if a > 5 and a < 15:\n",
        "  print(\"Mayor que 5 y menos que 15\")"
      ]
    },
    {
      "cell_type": "markdown",
      "metadata": {
        "id": "g4IUAbMI27vq"
      },
      "source": [
        "En Python no puede haber un bloque if vacío."
      ]
    },
    {
      "cell_type": "code",
      "execution_count": 19,
      "metadata": {
        "colab": {
          "base_uri": "https://localhost:8080/",
          "height": 106
        },
        "id": "MqTy1jv43Bo1",
        "outputId": "bc9d0120-b57b-45d4-ef6b-55b3deeacd6d"
      },
      "outputs": [
        {
          "ename": "SyntaxError",
          "evalue": "incomplete input (<ipython-input-19-79de72eb778b>, line 1)",
          "output_type": "error",
          "traceback": [
            "\u001b[0;36m  File \u001b[0;32m\"<ipython-input-19-79de72eb778b>\"\u001b[0;36m, line \u001b[0;32m1\u001b[0m\n\u001b[0;31m    if a > 5:\u001b[0m\n\u001b[0m             ^\u001b[0m\n\u001b[0;31mSyntaxError\u001b[0m\u001b[0;31m:\u001b[0m incomplete input\n"
          ]
        }
      ],
      "source": [
        "if a > 5:"
      ]
    },
    {
      "cell_type": "markdown",
      "metadata": {
        "id": "12aiZpcn3D99"
      },
      "source": [
        "Si tenemos un *if* sin contenido, para implementar en un futuro, es necesario hacer uso de pass para evitar el error."
      ]
    },
    {
      "cell_type": "code",
      "execution_count": 20,
      "metadata": {
        "id": "9O3NO3PK3h60"
      },
      "outputs": [],
      "source": [
        "if a > 5:\n",
        "  pass"
      ]
    },
    {
      "cell_type": "markdown",
      "metadata": {
        "id": "1jDFoCdS3yYR"
      },
      "source": [
        "### 3.2 Uso de else y elif\n",
        "\n",
        "Es posible que no solo queramos hacer algo si una determinada condición se cumple, sino que además queramos hacer algo de lo contrario. Es aquí donde entra *else*. La parte del *if* se comporta igual, con la diferencia que si esa condición no se cumple, se ejecutará el código presente dentro del *else*. Se entra o en uno o en otro bloque de código, pero nunca se ejecutarán los dos bloques.\n"
      ]
    },
    {
      "cell_type": "code",
      "execution_count": 21,
      "metadata": {
        "colab": {
          "base_uri": "https://localhost:8080/"
        },
        "id": "iM1-sU-07W6y",
        "outputId": "cd204900-55ff-4dc3-a1cf-2a0877e596ca"
      },
      "outputs": [
        {
          "name": "stdout",
          "output_type": "stream",
          "text": [
            "Es 5\n"
          ]
        }
      ],
      "source": [
        "x = 5\n",
        "if x == 5:\n",
        "  print(\"Es 5\")\n",
        "else:\n",
        "  print(\"No es 5\")"
      ]
    },
    {
      "cell_type": "markdown",
      "metadata": {
        "id": "p0J8m7B-7Xyr"
      },
      "source": [
        "En muchos casos, podemos tener varias condiciones diferentes y para cada una queremos un código distinto. Es aquí donde entra en juego el *elif*."
      ]
    },
    {
      "cell_type": "code",
      "execution_count": 22,
      "metadata": {
        "colab": {
          "base_uri": "https://localhost:8080/"
        },
        "id": "I5tWHuJ57mHw",
        "outputId": "758c0974-3b75-4d28-9602-37265e762440"
      },
      "outputs": [
        {
          "name": "stdout",
          "output_type": "stream",
          "text": [
            "Es 5\n"
          ]
        }
      ],
      "source": [
        "x = 5\n",
        "if x == 5:\n",
        "  print(\"Es 5\")\n",
        "elif x == 6:\n",
        "  print(\"Es 6\")\n",
        "elif x == 7:\n",
        "  print(\"Es 7\")"
      ]
    },
    {
      "cell_type": "markdown",
      "metadata": {
        "id": "HFdGp4C_7oSa"
      },
      "source": [
        "Se puede usar también de manera conjunta todo, el if con el elif y un else al final. Es muy importante notar que if y else solamente puede haber uno, mientras que elif puede haber varios."
      ]
    },
    {
      "cell_type": "code",
      "execution_count": 23,
      "metadata": {
        "colab": {
          "base_uri": "https://localhost:8080/"
        },
        "id": "PgcGCMI_7vFw",
        "outputId": "54edded7-ea31-4f1b-d903-ac8b14377aec"
      },
      "outputs": [
        {
          "name": "stdout",
          "output_type": "stream",
          "text": [
            "Es 5\n"
          ]
        }
      ],
      "source": [
        "x = 5\n",
        "if x == 5:\n",
        "  print(\"Es 5\")\n",
        "elif x == 6:\n",
        "  print(\"Es 6\")\n",
        "elif x == 7:\n",
        "  print(\"Es 7\")\n",
        "else:\n",
        "  print(\"Es otro\")"
      ]
    },
    {
      "cell_type": "markdown",
      "metadata": {
        "id": "5nnnOSMq7z3W"
      },
      "source": [
        "## 4. Bucles\n",
        " En Python se dispone de dos estructuras cíclicas:\n",
        "\n",
        "### 4.1  Bucle while\n",
        " Este bucle, se encarga de ejecutar una misma acción “mientras que” una determinada condición se cumpla.\n"
      ]
    },
    {
      "cell_type": "code",
      "execution_count": 24,
      "metadata": {
        "colab": {
          "base_uri": "https://localhost:8080/"
        },
        "id": "wk5Fdfei9-9G",
        "outputId": "0ff71c07-9a15-40f5-bf83-72ac778da356"
      },
      "outputs": [
        {
          "name": "stdout",
          "output_type": "stream",
          "text": [
            "El contador es: 0\n",
            "El contador es: 1\n",
            "El contador es: 2\n",
            "El contador es: 3\n",
            "El contador es: 4\n",
            "Fin del ciclo while\n"
          ]
        }
      ],
      "source": [
        "# Inicialización de la variable de control\n",
        "contador = 0\n",
        "\n",
        "# Ciclo while con condición y bloque de código indentado correctamente\n",
        "while contador < 5:\n",
        "  print(\"El contador es:\", contador)\n",
        "  contador += 1  # Incremento del contador\n",
        "\n",
        "# Mensaje después del ciclo\n",
        "print(\"Fin del ciclo while\")"
      ]
    },
    {
      "cell_type": "markdown",
      "metadata": {
        "id": "htXsrwbp-DjD"
      },
      "source": [
        "### 4.2 Bucle for\n",
        " El bucle for, en Python, es aquel que nos permitirá iterar sobre una variable compleja, del tipo lista o tupla."
      ]
    },
    {
      "cell_type": "code",
      "execution_count": null,
      "metadata": {
        "id": "mo4f2f9f-ES9"
      },
      "outputs": [],
      "source": [
        "# Lista de números\n",
        "numeros = [1, 2, 3, 4, 5]\n",
        "\n",
        "# Ciclo for para iterar sobre la lista e imprimir los números\n",
        "for numero in numeros:\n",
        "  print(\"Número:\", numero)\n",
        "\n",
        "# Mensaje después del ciclo\n",
        "print(\"Fin del ciclo for\")"
      ]
    },
    {
      "cell_type": "markdown",
      "metadata": {
        "id": "jt2J0R_M-ONO"
      },
      "source": [
        "## 5. Break y Continue\n",
        "Usar bucles for y bucles while en Python le permite automatizar y repetir tareas eficientemente.\n",
        "Cuando un factor externo incide en la forma en como se ejecuta el programa, es posible cerrar un bucle por completo, omita parte de un bucle antes de continuar o ignore ese factor externo. Puede hacer estas acciones con las instrucciones: ***break***, ***continue*** y ***pass***.\n",
        "\n",
        "### 5.1  Instrucción Break\n",
        "Proporciona la oportunidad de cerrar un bucle cuando se activa una condición externa. Debe poner la instrucción break dentro del bloque de código bajo la instrucción de su bucle, generalmente después de una instrucción if condicional."
      ]
    },
    {
      "cell_type": "code",
      "execution_count": 25,
      "metadata": {
        "colab": {
          "base_uri": "https://localhost:8080/"
        },
        "id": "m0y0Bw4W_dy6",
        "outputId": "3805ef24-5120-49fe-c2fd-50cc37d99af0"
      },
      "outputs": [
        {
          "name": "stdout",
          "output_type": "stream",
          "text": [
            "Number is 0\n",
            "Number is 1\n",
            "Number is 2\n",
            "Number is 3\n",
            "Number is 4\n",
            "Out of loop\n"
          ]
        }
      ],
      "source": [
        "number = 0\n",
        "\n",
        "for number in range(10):\n",
        "  if number == 5:\n",
        "    break    # break here\n",
        "\n",
        "  print('Number is ' + str(number))\n",
        "\n",
        "print('Out of loop')"
      ]
    },
    {
      "cell_type": "markdown",
      "metadata": {
        "id": "aMzvoa4N_gsv"
      },
      "source": [
        "La variable **number** se inicia en **0**. Una instrucción **for** construye el bucle siempre que la *variable number sea inferior a 10*.\n",
        "\n",
        "En el bucle **for**, existe una instrucción **if** que presenta la condición de que si la variable number es equivalente al entero 5, entonces el bucle se romperá.\n",
        "\n",
        "En el bucle también existe una instrucción **print()** que se ejecutará con cada iteración del bucle **for** hasta que se rompa el bucle, ya que está después de la instrucción **break**.\n",
        "\n",
        "Para saber cuándo estamos fuera del bucle, hemos incluido una instrucción **print()** final fuera del bucle **for**."
      ]
    },
    {
      "cell_type": "markdown",
      "metadata": {
        "id": "poRLJMiiAJ80"
      },
      "source": [
        "### 5.2 Instrucción Continue\n",
        "Da la opción de omitir la parte de un bucle en la que se activa una condición externa, pero continuar para completar el resto del bucle. La iteración actual del bucle se interrumpirá, pero el programa volverá a la parte superior del bucle.\n",
        "\n",
        "La instrucción continue se encuentra dentro del bloque de código abajo de la instrucción del bucle, generalmente después de una instrucción if condicional."
      ]
    },
    {
      "cell_type": "code",
      "execution_count": 26,
      "metadata": {
        "colab": {
          "base_uri": "https://localhost:8080/"
        },
        "id": "Vela_0lHAhRv",
        "outputId": "58666954-be49-468f-cc67-07e0b0998d5e"
      },
      "outputs": [
        {
          "name": "stdout",
          "output_type": "stream",
          "text": [
            "Number is 0\n",
            "Number is 1\n",
            "Number is 2\n",
            "Number is 3\n",
            "Number is 4\n",
            "Number is 6\n",
            "Number is 7\n",
            "Number is 8\n",
            "Number is 9\n",
            "Out of loop\n"
          ]
        }
      ],
      "source": [
        "number = 0\n",
        "\n",
        "for number in range(10):\n",
        "  if number == 5:\n",
        "    continue    # continue here\n",
        "\n",
        "  print('Number is ' + str(number))\n",
        "\n",
        "print('Out of loop')\n"
      ]
    },
    {
      "cell_type": "markdown",
      "metadata": {
        "id": "NQMdXSXmAmKx"
      },
      "source": [
        "* Nuestro código continuará a pesar de la interrupción cuando la variable number se evalúe como equivalente a 5.\n",
        "*  Number is 5 nunca aparece en el resultado, pero el bucle continúa después de ese punto para imprimir líneas para los números 6 a 10 antes de cerrarse.\n",
        "* Puede usar la instrucción continue para evitar código condicional profundamente anidado o para optimizar un bucle eliminando los casos frecuentes que desee rechazar."
      ]
    },
    {
      "cell_type": "markdown",
      "metadata": {
        "id": "YARUay4KBACN"
      },
      "source": [
        "## 5.3 Instrucción Pass\n",
        "Cuando se activa una condición externa, la instrucción pass permite manejar la condición sin que el bucle se vea afectado de ninguna manera; todo el código continuará leyéndose.\n",
        "\n",
        "La instrucción pass se encuentra dentro del bloque de código abajo de la instrucción del bucle, normalmente después de una instrucción if condicional.\n",
        "\n"
      ]
    },
    {
      "cell_type": "code",
      "execution_count": 33,
      "metadata": {
        "colab": {
          "base_uri": "https://localhost:8080/"
        },
        "id": "qUExPVvQBZoW",
        "outputId": "b01c112c-fa25-4a0c-b33c-fc13ca9ef716"
      },
      "outputs": [
        {
          "name": "stdout",
          "output_type": "stream",
          "text": [
            "0\n",
            "1\n",
            "2\n",
            "4\n"
          ]
        }
      ],
      "source": [
        "number = 0\n",
        "\n",
        "for i in range(5):\n",
        "    if i == 3:\n",
        "        pass\n",
        "    else:\n",
        "        print(i)\n"
      ]
    },
    {
      "cell_type": "markdown",
      "metadata": {
        "id": "VbPTnJXIBdIm"
      },
      "source": [
        "* La instrucción pass que se produce después de la instrucción condicional if le indica al programa que continúe ejecutando el bucle e ignore el hecho de que la variable number se evalúa como equivalente a 5 durante una de sus iteraciones.\n",
        "* Al usar la instrucción pass en este programa, observamos que el programa se ejecuta exactamente como lo haría si no hubiera instrucción condicional en el programa. La instrucción pass le indica al programa que ignore esa condición y continúe ejecutando el programa como de costumbre."
      ]
    },
    {
      "cell_type": "markdown",
      "metadata": {
        "id": "sS1AArU6BofV"
      },
      "source": [
        "## 6. Estilos de Bucles\n",
        "### 6.1 Iterando sobre elementos de una lista con for\n",
        "\n",
        ">Recorremos una lista de elementos uno a uno e hicimos algo con cada uno de ellos.\n",
        "\n",
        "***La sintaxis más común para esto es utilizar un bucle for junto con la función len () para obtener la longitud de la lista. Luego, utilizamos el operador de rango para obtener un rango de índices, que luego utilizamos para acceder a cada elemento de la lista.***\n",
        "\n"
      ]
    },
    {
      "cell_type": "code",
      "execution_count": 35,
      "metadata": {
        "colab": {
          "base_uri": "https://localhost:8080/"
        },
        "id": "fTPzI1yZCtcc",
        "outputId": "6036de17-fd8c-49c7-97a3-fbc919c1c8ad"
      },
      "outputs": [
        {
          "name": "stdout",
          "output_type": "stream",
          "text": [
            "Manzana\n",
            "Pera\n",
            "Plátano\n",
            "Fresa\n"
          ]
        }
      ],
      "source": [
        "lista = ['Manzana', 'Pera', 'Plátano', 'Fresa']\n",
        "\n",
        "for i in range(len(lista)):\n",
        "  print(lista[i])"
      ]
    },
    {
      "cell_type": "markdown",
      "metadata": {
        "id": "E7p1yjG6CuCm"
      },
      "source": [
        "Segunda forma de hacerse es utilizando el bucle for directamente sobre la lista. Este enfoque es más limpio y directo y generalmente se considera la forma “más pythonica” de iterar sobre una lista de elementos.\n",
        "\n"
      ]
    },
    {
      "cell_type": "code",
      "execution_count": 36,
      "metadata": {
        "colab": {
          "base_uri": "https://localhost:8080/"
        },
        "id": "UH9S0CD-C2YU",
        "outputId": "dbbacbe9-2175-47fc-ef4f-38466d421a28"
      },
      "outputs": [
        {
          "name": "stdout",
          "output_type": "stream",
          "text": [
            "Manzana\n",
            "Pera\n",
            "Plátano\n",
            "Fresa\n"
          ]
        }
      ],
      "source": [
        "lista = ['Manzana', 'Pera', 'Plátano', 'Fresa']\n",
        "\n",
        "for elemento in lista:\n",
        "  print(elemento)"
      ]
    },
    {
      "cell_type": "markdown",
      "metadata": {
        "id": "GJhTwelVC-oI"
      },
      "source": [
        "Al iterar sobre una lista de esta manera, **no tenemos acceso a los índices de los elementos de la lista**.\n",
        "\n",
        ">Podemos utilizar la función enumerate() para obtener tanto el índice como el valor del elemento en cada iteración."
      ]
    },
    {
      "cell_type": "code",
      "execution_count": 37,
      "metadata": {
        "colab": {
          "base_uri": "https://localhost:8080/"
        },
        "id": "MD2Q-UGyDMAE",
        "outputId": "5df5923b-5945-4f19-ccb9-5126721096c6"
      },
      "outputs": [
        {
          "name": "stdout",
          "output_type": "stream",
          "text": [
            "0 Manzana\n",
            "1 Pera\n",
            "2 Plátano\n",
            "3 Fresa\n"
          ]
        }
      ],
      "source": [
        "lista = ['Manzana', 'Pera', 'Plátano', 'Fresa']\n",
        "\n",
        "for i, elemento in enumerate(lista):\n",
        "  print(i, elemento)"
      ]
    },
    {
      "cell_type": "markdown",
      "metadata": {
        "id": "RTSPuwvnDkCZ"
      },
      "source": [
        "### 6.2 Bucles Anidados\n",
        "El bucle anidado es un bucle que se encuentra en el bloque de instrucciones de otro bloque.\n",
        "\n",
        "* Al bucle que se encuentra dentro del otro se le puede denominar bucle interior o bucle interno.\n",
        "\n",
        "* El otro bucle sería el bucle exterior o bucle externo.\n",
        "\n",
        "* Los bucles pueden tener cualquier nivel de anidamiento (un bucle dentro de otro bucle dentro de un tercero, etc.).\n",
        "\n",
        "* Aunque en Python no es necesario, se recomienda que los nombres de las variables de control de los bucles anidados no coincidan, para evitar ambigüedades.\n",
        "\n",
        "#### 6.2.1 Bucles anidados (variables independientes)\n",
        "\n",
        "Se dice que las variables de los bucles son independientes cuando los valores que toma la variable de control del bucle interno no dependen del valor de la variable de control del bucle externo. Por ejemplo:"
      ]
    },
    {
      "cell_type": "code",
      "execution_count": 38,
      "metadata": {
        "colab": {
          "base_uri": "https://localhost:8080/"
        },
        "id": "aqWggY4XEkiC",
        "outputId": "2d44a347-3ac3-4645-ecb6-7e74decff749"
      },
      "outputs": [
        {
          "name": "stdout",
          "output_type": "stream",
          "text": [
            "i vale 0 y j vale 0\n",
            "i vale 0 y j vale 1\n",
            "i vale 1 y j vale 0\n",
            "i vale 1 y j vale 1\n",
            "i vale 2 y j vale 0\n",
            "i vale 2 y j vale 1\n"
          ]
        }
      ],
      "source": [
        "for i in [0, 1, 2]:\n",
        "  for j in [0, 1]:\n",
        "    print(f\"i vale {i} y j vale {j}\")"
      ]
    },
    {
      "cell_type": "markdown",
      "metadata": {
        "id": "9cvbZnMZEngb"
      },
      "source": [
        "#### 6.2.2 Bucles anidados (variables dependientes)\n",
        "Se dice que las variables de los bucles son dependientes cuando los valores que toma la variable de control del bucle interno dependen del valor de la variable de control del bucle externo. Por ejemplo:"
      ]
    },
    {
      "cell_type": "code",
      "execution_count": 39,
      "metadata": {
        "colab": {
          "base_uri": "https://localhost:8080/"
        },
        "id": "OzUwIO9PE09t",
        "outputId": "46d0a924-8e17-4234-9079-ce066d0e35d5"
      },
      "outputs": [
        {
          "name": "stdout",
          "output_type": "stream",
          "text": [
            "i vale 1 y j vale 0\n",
            "i vale 2 y j vale 0\n",
            "i vale 2 y j vale 1\n",
            "i vale 3 y j vale 0\n",
            "i vale 3 y j vale 1\n",
            "i vale 3 y j vale 2\n"
          ]
        }
      ],
      "source": [
        "for i in [1, 2, 3]:\n",
        "    for j in range(i):\n",
        "        print(f\"i vale {i} y j vale {j}\")"
      ]
    },
    {
      "cell_type": "markdown",
      "metadata": {
        "id": "oCpYFEOeFUhA"
      },
      "source": [
        "## 7. Métodos de Asignación\n",
        "Son formas concisas y legibles de realizar operaciones aritméticas y asignaciones en Python. Son especialmente útiles cuando deseas operar sobre el valor actual de una variable y asignar el resultado nuevamente a la misma variable.\n",
        "#### 7.1 Incremento: Aumenta el valor de una variable en una cantidad específica."
      ]
    },
    {
      "cell_type": "code",
      "execution_count": 40,
      "metadata": {
        "colab": {
          "base_uri": "https://localhost:8080/"
        },
        "id": "JyhknF7yO92t",
        "outputId": "50cea43f-1a94-4d21-f786-4be8ce28395c"
      },
      "outputs": [
        {
          "name": "stdout",
          "output_type": "stream",
          "text": [
            "8\n"
          ]
        }
      ],
      "source": [
        "x = 5\n",
        "x += 3\n",
        "print(x)"
      ]
    },
    {
      "cell_type": "markdown",
      "metadata": {
        "id": "sooBaSu1PAlv"
      },
      "source": [
        "#### 7.2 Decremento: Disminuye el valor de una variable en una cantidad específica."
      ]
    },
    {
      "cell_type": "code",
      "execution_count": 5,
      "metadata": {
        "colab": {
          "base_uri": "https://localhost:8080/"
        },
        "id": "gM59Gv3cPEGv",
        "outputId": "51e3c39c-b9df-4887-af6d-46a840cc8e8e"
      },
      "outputs": [
        {
          "name": "stdout",
          "output_type": "stream",
          "text": [
            "8\n"
          ]
        }
      ],
      "source": [
        "y = 10\n",
        "y -= 2\n",
        "print(y)"
      ]
    },
    {
      "cell_type": "markdown",
      "metadata": {
        "id": "XQpYlGbSPGZ5"
      },
      "source": [
        "#### 7.3 Multiplicación: Multiplica el valor de una variable por una cantidad específica."
      ]
    },
    {
      "cell_type": "code",
      "execution_count": 4,
      "metadata": {
        "colab": {
          "base_uri": "https://localhost:8080/"
        },
        "id": "GKYfhx9UPLZe",
        "outputId": "71dde998-c32a-4053-b071-e4f97c3aa391"
      },
      "outputs": [
        {
          "name": "stdout",
          "output_type": "stream",
          "text": [
            "12\n"
          ]
        }
      ],
      "source": [
        "z = 3\n",
        "z *= 4\n",
        "print(z)"
      ]
    },
    {
      "cell_type": "markdown",
      "metadata": {
        "id": "7yuOFB0KPNcD"
      },
      "source": [
        "#### 7.4 División: Divide el valor de una variable por una cantidad específica."
      ]
    },
    {
      "cell_type": "code",
      "execution_count": 3,
      "metadata": {
        "colab": {
          "base_uri": "https://localhost:8080/"
        },
        "id": "9Od5qFKJPSCI",
        "outputId": "57a6826b-1a47-4232-b174-6b355d2adc6d"
      },
      "outputs": [
        {
          "name": "stdout",
          "output_type": "stream",
          "text": [
            "4.0\n"
          ]
        }
      ],
      "source": [
        "w = 20\n",
        "w /= 5\n",
        "print(w)"
      ]
    },
    {
      "cell_type": "markdown",
      "metadata": {
        "id": "I7CDLFjUPUA2"
      },
      "source": [
        "#### 7.5 Módulo: Calcula el resto de la división del valor de una variable por una cantidad específica."
      ]
    },
    {
      "cell_type": "code",
      "execution_count": 2,
      "metadata": {
        "colab": {
          "base_uri": "https://localhost:8080/"
        },
        "id": "zG1nh6PyPZME",
        "outputId": "a03b807b-31da-47eb-b2a1-dad5876cea3a"
      },
      "outputs": [
        {
          "name": "stdout",
          "output_type": "stream",
          "text": [
            "3\n"
          ]
        }
      ],
      "source": [
        "a = 13\n",
        "a %= 5\n",
        "print(a)"
      ]
    },
    {
      "cell_type": "markdown",
      "metadata": {
        "id": "HgGA37YvPbDm"
      },
      "source": [
        "#### 7.6 Potencia: Eleva el valor de una variable a una potencia específica."
      ]
    },
    {
      "cell_type": "code",
      "execution_count": 1,
      "metadata": {
        "colab": {
          "base_uri": "https://localhost:8080/"
        },
        "id": "kMFuYLpWPgTj",
        "outputId": "2a0f07e7-0271-4285-ca26-7f85ea9b5bb8"
      },
      "outputs": [
        {
          "name": "stdout",
          "output_type": "stream",
          "text": [
            "8\n"
          ]
        }
      ],
      "source": [
        "b = 2\n",
        "b **= 3\n",
        "print(b)"
      ]
    }
  ],
  "metadata": {
    "colab": {
      "provenance": []
    },
    "kernelspec": {
      "display_name": "Python 3",
      "name": "python3"
    },
    "language_info": {
      "name": "python"
    }
  },
  "nbformat": 4,
  "nbformat_minor": 0
}
