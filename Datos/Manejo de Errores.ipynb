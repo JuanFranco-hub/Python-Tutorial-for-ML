{
  "cells": [
    {
      "cell_type": "markdown",
      "metadata": {
        "id": "wBbe_zZfRmL5"
      },
      "source": [
        "# Problemas Manipulacion de Errores"
      ]
    },
    {
      "cell_type": "markdown",
      "metadata": {
        "id": "FVAMURBtSf3X"
      },
      "source": [
        "## Problema \\#1: Medidor de Combustible\n",
        "\n",
        "Los medidores de combustible indican, a menudo con fracciones, cuánto combustible queda en el tanque. Por ejemplo, 1/4 indica que el tanque está al 25% lleno, 1/2 indica que está al 50% lleno, y 3/4 indica que está al 75% lleno.\n",
        "\n",
        "En un archivo llamado `fuel.py`, implementa un programa que solicite al usuario una fracción, formateada como X/Y, donde X e Y son enteros, y luego muestre, como un porcentaje redondeado al entero más cercano, cuánto combustible queda en el tanque. Si queda el 1% o menos, muestra \"E\" para indicar que el tanque está esencialmente vacío. Si queda el 99% o más, muestra \"F\" para indicar que el tanque está esencialmente lleno.\n",
        "\n",
        "Si X o Y no es un entero, X es mayor que Y, o Y es 0, solicita al usuario que ingrese nuevamente. Asegúrate de capturar cualquier excepción como `ValueError` o `ZeroDivisionError`."
      ]
    },
    {
      "cell_type": "code",
      "execution_count": null,
      "metadata": {
        "id": "ZihDwqkXRKdM"
      },
      "outputs": [],
      "source": [
        "# Solución Problema 1\n"
      ]
    },
    {
      "cell_type": "markdown",
      "metadata": {
        "id": "D96vZZrJSkqV"
      },
      "source": [
        "## Problema #2: Taquería de Felipe\n",
        "\n",
        "Uno de los lugares más populares para comer en Harvard Square es la Taquería de Felipe, que ofrece un menú de platos principales, según el diccionario a continuación, donde el valor de cada clave es un precio en dólares:\n",
        "\n",
        "```python\n",
        "{\n",
        "    \"Baja Taco\": 4.25,\n",
        "    \"Burrito\": 7.50,\n",
        "    \"Bowl\": 8.50,\n",
        "    \"Nachos\": 11.00,\n",
        "    \"Quesadilla\": 8.50,\n",
        "    \"Super Burrito\": 8.50,\n",
        "    \"Super Quesadilla\": 9.50,\n",
        "    \"Taco\": 3.00,\n",
        "    \"Tortilla Salad\": 8.00\n",
        "}\n",
        "```\n",
        "Implementa un codigo que permita a un usuario hacer un pedido, solicitándole artículos, uno por línea, hasta que el usuario introduzca control-d (una forma común de terminar la entrada a un programa). Después de cada artículo introducido, muestra el costo total de todos los artículos introducidos hasta el momento, precedido por un signo de dólar (`$`) y formateado a dos decimales. Trata la entrada del usuario de manera insensible a mayúsculas. Ignora cualquier entrada que no sea un artículo del menú."
      ]
    },
    {
      "cell_type": "code",
      "execution_count": null,
      "metadata": {
        "id": "fT5MyVdJSnEY"
      },
      "outputs": [],
      "source": [
        "# Solución Problema 2\n"
      ]
    },
    {
      "cell_type": "markdown",
      "metadata": {
        "id": "GTznz4N1SsT-"
      },
      "source": [
        "## Problema \\#3: Lista de la Compra\n",
        "Supongamos que tienes la costumbre de hacer una lista de artículos que necesitas de la tienda de comestibles.\n",
        "\n",
        "Implementa un programa que solicite al usuario artículos, uno por línea, hasta que el usuario introduzca una cadena vacia. Luego, muestra la lista de la compra del usuario en mayúsculas, ordenada alfabéticamente por artículo, anteponiendo cada línea con el número de veces que el usuario introdujo ese artículo. No es necesario pluralizar los artículos. Trata la entrada del usuario insensiblemente a mayúsculas."
      ]
    },
    {
      "cell_type": "code",
      "execution_count": null,
      "metadata": {
        "id": "oDhvtIvDSude"
      },
      "outputs": [],
      "source": [
        "# Solución Problema 3\n"
      ]
    },
    {
      "cell_type": "markdown",
      "metadata": {
        "id": "1kPhmhytSvPP"
      },
      "source": [
        "## Problema \\#4: Desfasado\n",
        "\n",
        "En Estados Unidos, las fechas suelen formatearse en orden [mes-día-año](https://en.wikipedia.org/wiki/Date_and_time_notation_in_the_United_States) (MM/DD/YYYY), también conocido como orden [medio-final](https://en.wikipedia.org/wiki/Endianness#Middle-endian), lo cual es discutiblemente un mal diseño. Las fechas en ese formato no se pueden ordenar fácilmente porque el año de la fecha viene al final en lugar de al principio. Intenta ordenar, por ejemplo, `2/2/1800`, `3/3/1900`, y `1/1/2000` cronológicamente en cualquier programa (por ejemplo, una hoja de cálculo). Las fechas en ese formato también son ambiguas. Harvard fue [fundada](https://www.harvard.edu/about/history/) el 8 de septiembre de 1636, pero 9/8/1636 también podría interpretarse como el 9 de agosto de 1636.\n",
        "\n",
        "Afortunadamente, las computadoras tienden a usar [ISO 8601](https://en.wikipedia.org/wiki/ISO_8601), una norma internacional que prescribe que las fechas deben formatearse en orden año-mes-día (YYYY-MM-DD), sin importar el país, formateando los años con cuatro dígitos, los meses con dos dígitos, y los días con dos dígitos, \"rellenando\" cada uno con ceros según sea necesario.\n",
        "\n",
        "Implementa un codigo que solicite al usuario una fecha, [Anno Domini](https://en.wikipedia.org/wiki/Anno_Domini), en orden mes-día-año, formateada como `9/8/1636` o` September 8, 1636`, donde el mes en este último formato podría ser cualquiera de los valores de la `lista` a continuación:\n",
        "\n",
        "```python\n",
        "[\n",
        "    \"January\",\n",
        "    \"February\",\n",
        "    \"March\",\n",
        "    \"April\",\n",
        "    \"May\",\n",
        "    \"June\",\n",
        "    \"July\",\n",
        "    \"August\",\n",
        "    \"September\",\n",
        "    \"October\",\n",
        "    \"November\",\n",
        "    \"December\"\n",
        "]\n",
        "```\n",
        "Luego, muestra esa misma fecha en formato `YYYY-MM-DD`. Si la entrada del usuario no es una fecha válida en cualquiera de los formatos, solicita al usuario que ingrese nuevamente. Asume que cada mes tiene no más de 31 días; no es necesario validar si un mes tiene 28, 29, 30 o 31 días."
      ]
    },
    {
      "cell_type": "code",
      "execution_count": null,
      "metadata": {
        "id": "QrVQUbV-Szyv"
      },
      "outputs": [],
      "source": [
        "# Solución Problema 4\n"
      ]
    }
  ],
  "metadata": {
    "colab": {
      "provenance": []
    },
    "kernelspec": {
      "display_name": "Python 3",
      "name": "python3"
    },
    "language_info": {
      "name": "python"
    }
  },
  "nbformat": 4,
  "nbformat_minor": 0
}
